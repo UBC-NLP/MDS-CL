{
 "cells": [
  {
   "cell_type": "markdown",
   "metadata": {},
   "source": [
    "## Homework 1 - Machine Translation - MDS Computational Linguistics\n",
    "\n",
    "### Assignment Topics\n",
    "- Phrase Based Machine Translation\n",
    "- Multilingual Word Embeddings\n",
    "- MT datasets\n",
    "\n",
    "### Software Requirements\n",
    "- Python (>=3.6)\n",
    "- PyTorch (>=1.2.0) \n",
    "- Jupyter (latest)\n",
    "\n",
    "- GIZA++ Needs:\n",
    "    - Perl\n",
    "    - OSX/Linux (recommended) or a Cygwin Terminal\n",
    "    \n",
    "If you are installing GIZA++ on Cygwin, make sure you have Perl, make, and GCC/G++ installed when you install Cygwin (default installation does not include these)\n",
    "\n",
    "### Submission Info.\n",
    "- Due Date: February 29, 2020, 18:00:00 (Vancouver time)\n",
    "\n"
   ]
  },
  {
   "cell_type": "markdown",
   "metadata": {},
   "source": [
    "## Tidy Submission\n",
    "\n",
    "rubric={mechanics:1}\n",
    "\n",
    "To get the marks for tidy submission:\n",
    "- Submit the assignment by filling in this jupyter notebook with your answers embedded\n",
    "- Be sure to follow the [general lab instructions](https://ubc-mds.github.io/resources_pages/general_lab_instructions)"
   ]
  },
  {
   "cell_type": "markdown",
   "metadata": {},
   "source": [
    "## Exercise 1: GIZA++ Warm Up\n",
    "\n",
    "For the following \"warm up\" questions, check that you are understanding GIZA++'s outputs.\n",
    "\n",
    "### 1.1 Interpretting GIZA++ results\n",
    "rubric={reasoning:2}\n"
   ]
  },
  {
   "cell_type": "markdown",
   "metadata": {},
   "source": [
    "For these three sentences, which one does GIZA++ handle \"best\"? Explain how you should measure \"best\" with GIZA++\n",
    "\n",
    "###### A. Sentence pair (28) source length 7 target length 8 alignment score : 1.13908e-07\n",
    "- It is the case of Alexander Nikitin . =\n",
    "- NULL ({ }) Es ({ 1 2 }) el ({ 3 }) caso ({ 4 }) de ({ 5 }) Alexander ({ 6 }) Nikitin ({ 7 }) . ({ 8 }) \n",
    "\n",
    "###### B. Sentence pair (122) source length 6 target length 7 alignment score : 7.36437e-21\n",
    "- You did not call me either . =\n",
    "- NULL ({ }) Tampoco ({ 3 }) me ({ 5 }) ha ({ 2 }) nombrado ({ 4 6 }) usted ({ 1 }) . ({ 7 }) \n",
    "\n",
    "###### C. Sentence pair (115) source length 4 target length 7 alignment score : 8.73259e-12\n",
    "- There is no room for amendments . =\n",
    "- NULL ({ 2 5 }) No ({ 1 }) caben ({ 3 4 }) modificaciones ({ 6 }) . ({ 7 }) \n"
   ]
  },
  {
   "cell_type": "markdown",
   "metadata": {},
   "source": [
    "**Put Your Answer Here**\n",
    "\n",
    "The answer is A. All the sentence pairs have roughly the same length but the sentence pair A has the highest alignment score."
   ]
  },
  {
   "cell_type": "markdown",
   "metadata": {},
   "source": [
    "### 1.2 GIZA++ vocab \n",
    "rubric={reasoning:1}\n",
    "\n",
    "What do the two numbers represent in this sample GIZA++ vocab entry? (see europarl-es-en/giza_output/en-es.trn.trg.vcb from the tutorial)\n",
    "\n",
    "```\n",
    "45 producido 391\n",
    "```\n"
   ]
  },
  {
   "cell_type": "markdown",
   "metadata": {},
   "source": [
    "**Put Your Answer Here**\n",
    "\n",
    "The word 'producido' has a unique (sequence) id of 45 and the word occurs 391 times in the corpus for the target language."
   ]
  },
  {
   "cell_type": "markdown",
   "metadata": {},
   "source": [
    "### 1.3a GIZA++ Translation Tables\n",
    "rubric={reasoning:1}\n",
    "\n",
    "Below is a (partial) GIZA++ translation table for one of the words in the corpus. What is the word index of the target language most likely be the translation of source language? [Note this should look bad on GitHub but fine in a jupyter notebook]\n",
    "\n",
    "*Hint:You should understand what the three numbers of each row represent.* \n"
   ]
  },
  {
   "cell_type": "raw",
   "metadata": {},
   "source": [
    "6 5 0.344281\n",
    "6 6 0.0051642\n",
    "6 70 0.360418\n",
    "6 164 2.0722e-07\n",
    "6 242 0.00264185\n",
    "6 269 1.49345e-05\n",
    "6 350 1.24741e-07\n",
    "6 408 0.00296726\n",
    "6 422 0.00269407\n",
    "6 433 9.45562e-05\n",
    "6 450 0.00538036\n",
    "6 452 0.00269633\n",
    "6 492 0.00272651\n",
    "6 516 9.83587e-06\n",
    "6 613 0.0026897\n",
    "6 747 0.00478991\n",
    "6 762 0.0162501"
   ]
  },
  {
   "cell_type": "markdown",
   "metadata": {},
   "source": [
    "**Put Your Answer Here**\n",
    "\n",
    "The best alignment for the source word with index 6 is the target word with index 70 as this combination has the highest alignment score."
   ]
  },
  {
   "cell_type": "markdown",
   "metadata": {},
   "source": [
    "### 1.3b GIZA++ Translation Tables\n",
    "rubric={reasoning:1}\n",
    "\n",
    "In the above translation table, is the vocab index (6) coming from the source vocab or target vocab?"
   ]
  },
  {
   "cell_type": "markdown",
   "metadata": {},
   "source": [
    "**Put Your Answer Here**\n",
    "\n",
    "The vocab index (6) is coming from the source vocab."
   ]
  },
  {
   "cell_type": "markdown",
   "metadata": {},
   "source": [
    "## Exercise 2: Build a French-English/English-French Dictionary \n",
    "**(May work together as group of 2 for 2.1 of this exercise)**\n",
    "Using GIZA++ we would like you to build a French-English/English-French dictionary. Because of the installation requirements for GIZA++ it may be beneficial to **partner with someone** to generate the GIZA++ files, otherwise try doing this alone to understand the process of getting GIZA++ to run.\n",
    "\n",
    "First, Download the En/Fr parallel corpus here: http://www.statmt.org/europarl/ and follow the procedure in the tutorial to create the aligned output from GIZA++.  Decrease the size of the file to 200,000 sentences to speed up the training time using the following command (where filename and newfilename are your original and truncated corpus respectively):\n",
    "\n"
   ]
  },
  {
   "cell_type": "raw",
   "metadata": {},
   "source": [
    "head -200000 filename > newfile_name"
   ]
  },
  {
   "cell_type": "markdown",
   "metadata": {},
   "source": [
    "### 2.1 Check your output (Partner OK)\n",
    "rubric={accuracy:5}\n",
    "\n",
    "Were you able to get it to align appropriately? Copy the first three alignments out of your *.VA3.final file  \n",
    "\n",
    "Please indicate who your partner was for getting GIZA++ to run as well.\n",
    "\n",
    "[Make sure both partners have copies of all the output files in order to do the remainder of the exercise.]"
   ]
  },
  {
   "cell_type": "raw",
   "metadata": {},
   "source": [
    "#Partner name:\n",
    "\n",
    "#Paste output here:\n",
    "\n",
    "Commands to be executed: (assuming europarl-v7.fr-en.tok.en and europarl-v7.fr-en.tok.fr are truncated to first 200K sentences and put in a new directory './europarl-fr-en')\n",
    "\n",
    "Step 3.2 Tokenize each of the language pairs separately with moses by running:\n",
    "./mosesdecoder/scripts/tokenizer/tokenizer.perl -l en < ./europarl-fr-en/europarl-v7.fr-en.en > ./europarl-fr-en/europarl-v7.fr-en.tok.en\n",
    "\n",
    "./mosesdecoder/scripts/tokenizer/tokenizer.perl -l fr < ./europarl-fr-en/europarl-v7.fr-en.fr > ./europarl-fr-en/europarl-v7.fr-en.tok.fr\n",
    "\n",
    "Step 4.1 To create the vocabulary file (.vcb) and sentence file (.snt) run:\n",
    "./giza-pp/GIZA++-v2/plain2snt.out ./europarl-fr-en/europarl-v7.fr-en.tok.fr ./europarl-fr-en/europarl-v7.fr-en.tok.en\n",
    "\n",
    "Step 4.2 Create the concurrence (.cooc) file by running the following command.\n",
    "./giza-pp/GIZA++-v2/snt2cooc.out ./europarl-fr-en/europarl-v7.fr-en.tok.fr.vcb ./europarl-fr-en/europarl-v7.fr-en.tok.en.vcb ./europarl-fr-en/europarl-v7.fr-en.tok.fr_europarl-v7.fr-en.tok.en.snt > ./europarl-fr-en/corp.cooc\n",
    "\n",
    "Step 4.3 IBM Model 4 and 5 use word classes to model distortion - a concept to model how word order changes across languages. Then run mkcls which is a program to automatically infer word classes from a corpus using a maximum likelihood criterion:\n",
    "./giza-pp/mkcls-v2/mkcls -p./europarl-fr-en/europarl-v7.fr-en.tok.fr -V./europarl-fr-en/tokenized_fr.vcb.classes\n",
    "\n",
    "Step 5 Running Giza++\n",
    "mkdir ./europarl-fr-en/giza_output/\n",
    "./giza-pp/GIZA++-v2/GIZA++ -S ./europarl-fr-en/europarl-v7.fr-en.tok.fr.vcb -T ./europarl-fr-en/europarl-v7.fr-en.tok.en.vcb -C ./europarl-fr-en/europarl-v7.fr-en.tok.fr_europarl-v7.fr-en.tok.en.snt -o en-fr -CoocurrenceFile ./europarl-fr-en/corp.cooc -outputpath ./europarl-fr-en/giza_output/\n",
    "\n",
    "This step took 95 mins on my MAC (2.7 GHz Intel Core i5 8GB RAM).\n",
    "\n",
    "head -9 europarl-fr-en/giza_output/en-fr.VA3.final\n",
    "\n",
    "# Sentence pair (1) source length 4 target length 4 alignment score : 0.000541501\n",
    "Resumption of the session\n",
    "NULL ({ }) Reprise ({ 1 }) de ({ 2 }) la ({ 3 }) session ({ 4 })\n",
    "# Sentence pair (2) source length 34 target length 40 alignment score : 7.78352e-71\n",
    "I declare resumed the session of the European Parliament adjourned on Friday 17 December 1999 , and I would like once again to wish you a happy new year in the hope that you enjoyed a pleasant festive period .\n",
    "NULL ({ 7 16 23 26 31 36 }) Je ({ 1 }) déclare ({ 2 }) reprise ({ 3 }) la ({ 4 }) session ({ 5 }) du ({ 6 }) Parlement ({ 9 }) européen ({ 8 }) qui ({ }) avait ({ }) été ({ }) interrompue ({ 10 }) le ({ }) vendredi ({ 11 12 }) 17 ({ 13 }) décembre ({ 14 }) dernier ({ 15 }) et ({ 17 }) je ({ 18 }) vous ({ 19 20 25 }) renouvelle ({ 21 22 27 28 29 35 37 38 39 }) tous ({ }) mes ({ }) vux ({ 24 }) en ({ 30 }) espérant ({ 32 }) que ({ 33 }) vous ({ 34 }) avez ({ }) passé ({ }) de ({ }) bonnes ({ }) vacances ({ }) . ({ 40 })\n",
    "# Sentence pair (3) source length 46 target length 37 alignment score : 2.31829e-70\n",
    "Although , as you will have seen , the dreaded &apos; millennium bug &apos; failed to materialise , still the people in a number of countries suffered a series of natural disasters that truly were dreadful .\n",
    "NULL ({ 2 3 5 14 16 18 22 28 }) Comme ({ 1 }) vous ({ 4 }) avez ({ 6 }) pu ({ }) le ({ }) constater ({ 7 }) , ({ 8 }) le ({ 9 }) grand ({ }) &quot; ({ 11 }) bogue ({ 10 12 13 15 17 19 27 29 }) de ({ }) l&apos; ({ }) an ({ }) 2000 ({ }) &quot; ({ }) ne ({ }) s&apos; ({ }) est ({ }) pas ({ }) produit ({ }) . ({ }) En ({ }) revanche ({ }) , ({ }) les ({ 20 }) citoyens ({ 21 }) d&apos; ({ }) un ({ 23 }) certain ({ }) nombre ({ 24 }) de ({ 25 }) nos ({ }) pays ({ 26 }) ont ({ }) été ({ }) victimes ({ }) de ({ 30 }) catastrophes ({ 32 }) naturelles ({ 31 }) qui ({ 33 }) ont ({ }) vraiment ({ 34 }) été ({ 35 }) terribles ({ 36 }) . ({ 37 })\n"
   ]
  },
  {
   "cell_type": "markdown",
   "metadata": {},
   "source": [
    "### 2.2 Build a dictionary\n",
    "rubric={quality:15}\n",
    "\n",
    "Using the output files from 2.1, create a program to build a bilingual French-English/English-French dictionary, the dictionary should be a function that takes in a word and a language argument and returns the most likely word based on the GIZA++ alignment. Comment your code.\n",
    "\n",
    "*Hint: You need to use source and target vocabularies and translation table.*\n"
   ]
  },
  {
   "cell_type": "markdown",
   "metadata": {},
   "source": [
    "#### EXAMPLE SOLUTION 1: (~B) \n",
    "\n",
    "This straightforward solution is well documented, and handles the case when you don't have a vocab item in the corpus, however, it could potentially be improved by saving the entries from the dictionary so that it would not need to be rerun. Another issue, is that because it is only creating the dictionary from the French to English output from GIZA++, you run into a subtle error as follows: Since the translation table gives the highest probability target word for each source word, we can use this to build the FR to EN portion of the Dictionary, but when we go to build the EN to FR portion, if you are unlucky you may end up getting extremely rare French words that have poor alignment with everything being selected as the potential best choice for an English word, this is because we don't actually know the proper conditional probabilities for these cases. The most straightforward way around this is unfortunately to actually calculate the probabilities using GIZA++ a second time (in the other direction) [You could use Bayes rule or some other fancy probability trick to do this as well]."
   ]
  },
  {
   "cell_type": "code",
   "execution_count": 38,
   "metadata": {},
   "outputs": [],
   "source": [
    "GIZA_OUTPUT_DIR = \"europarl-fr-en/giza_output\"\n",
    "def myDictionary(keyword, language):\n",
    "# your code goes here\n",
    "    '''\n",
    "    read source vocab\n",
    "    '''\n",
    "    src_word2id, src_id2word = {'NULL': '0'}, {'0': 'NULL'}\n",
    "    for line in open(GIZA_OUTPUT_DIR + \"/en-fr.trn.src.vcb\"):\n",
    "        token_id, token_str, _ = line.strip().split()\n",
    "        src_id2word[token_id] = token_str\n",
    "        src_word2id[token_str] = token_id\n",
    "        \n",
    "    '''\n",
    "    read target vocab\n",
    "    '''\n",
    "    targ_word2id, targ_id2word = {}, {}\n",
    "    for line in open(GIZA_OUTPUT_DIR + \"/en-fr.trn.trg.vcb\"):\n",
    "        token_id, token_str, _ = line.strip().split()\n",
    "        targ_id2word[token_id] = token_str\n",
    "        targ_word2id[token_str] = token_id\n",
    "        \n",
    "    '''\n",
    "    identify the best alignment for 'keyword'\n",
    "    '''\n",
    "    alignment_word, alignment_score = None, None\n",
    "    for line in open(GIZA_OUTPUT_DIR + \"/en-fr.t3.final\"):\n",
    "        src_token_id, targ_token_id, cur_score = line.strip().split()\n",
    "        # convert score to float\n",
    "        cur_score = float(cur_score)\n",
    "        if language == \"french\":\n",
    "            if keyword not in src_word2id:\n",
    "                return None\n",
    "            keyword_id = src_word2id[keyword]\n",
    "            if src_token_id == keyword_id and (alignment_word == None or alignment_score < cur_score):\n",
    "                alignment_word = targ_id2word[targ_token_id]\n",
    "                alignment_score = cur_score\n",
    "        elif language == \"english\":\n",
    "            if keyword not in targ_word2id:\n",
    "                return None\n",
    "            keyword_id = targ_word2id[keyword]\n",
    "            if targ_token_id == keyword_id and (alignment_word == None or alignment_score < cur_score):\n",
    "                alignment_word = src_id2word[src_token_id]\n",
    "                alignment_score = cur_score\n",
    "    \n",
    "    return alignment_word"
   ]
  },
  {
   "cell_type": "markdown",
   "metadata": {},
   "source": [
    "Demonstrate your function by testing the following words: "
   ]
  },
  {
   "cell_type": "code",
   "execution_count": 39,
   "metadata": {},
   "outputs": [
    {
     "name": "stdout",
     "output_type": "stream",
     "text": [
      "you\n",
      "procès-verbal\n",
      "None\n"
     ]
    }
   ],
   "source": [
    "print(myDictionary(\"vous\",language=\"french\"))\n",
    "print(myDictionary(\"Minutes\",language=\"english\"))\n",
    "print(myDictionary(\"awesome\",language=\"french\"))"
   ]
  },
  {
   "cell_type": "markdown",
   "metadata": {},
   "source": [
    "#### EXAMPLE SOLUTION 2: (~A) \n",
    "\n",
    "Modifying the first solution to deal with both directions correctly and saving the data structure will be a robust solution to the problem. Note this isn't the only way to do this, but just an example of what you could have done."
   ]
  },
  {
   "cell_type": "code",
   "execution_count": 60,
   "metadata": {},
   "outputs": [],
   "source": [
    "#going to use defaultdict to set a default value in the dictionary\n",
    "from collections import defaultdict \n",
    "\n",
    "class BilingualDictionary():\n",
    "    ##BUILD THE DICTIONARY FROM SOURCE FILES\n",
    "    def __init__(self, lang1_vocab_path, lang2_vocab_path, lang1_tr_path, lang2_tr_path, lang1, lang2):\n",
    "        '''\n",
    "        map to indexes for language to make lookup easy\n",
    "        '''\n",
    "        self.languages = {lang1.lower():0, lang2.lower():1}\n",
    "        self.dictionaries = []\n",
    "        \n",
    "        '''\n",
    "        create the actual dictionaries and store them in our array\n",
    "        if it's not in the dictionary indicate thus rather than throwing a key error\n",
    "        '''\n",
    "        for lang in range(len(self.languages)):\n",
    "            self.dictionaries.append(defaultdict(lambda: \"ERROR: Word not found in dictionary\"))\n",
    "        \n",
    "        '''\n",
    "        note: no self. because we don't need to save this past initialization\n",
    "        these will be lists of each of the mappings\n",
    "        '''\n",
    "        word2idlist = []\n",
    "        id2wordlist = []\n",
    "        \n",
    "        '''\n",
    "        build id maps\n",
    "        '''\n",
    "        for path in [lang1_vocab_path, lang2_vocab_path]:\n",
    "            word2id  = defaultdict(lambda: None)\n",
    "            id2word  = defaultdict(lambda: None)\n",
    "            with open(path,\"r\", encoding=\"utf-8\" ) as fp:\n",
    "                for line in fp:\n",
    "                    token_id, token_str, _ = line.strip().split()\n",
    "                    id2word[token_id] = token_str\n",
    "                    word2id[token_str] = token_id\n",
    "            word2idlist.append(word2id)\n",
    "            id2wordlist.append(id2word)\n",
    "        \n",
    "        '''\n",
    "        pick the best word from the translation tables\n",
    "        '''\n",
    "        for i, path in enumerate([lang1_tr_path, lang2_tr_path]):\n",
    "            #keep track of best alignments per word\n",
    "            alignments_scores = defaultdict(float)\n",
    "            with open(path, \"r\", encoding=\"utf-8\",) as fp:\n",
    "                for line in fp:\n",
    "                    src_token_id, targ_token_id, cur_score = line.strip().split()\n",
    "                    # convert score to float\n",
    "                    cur_score = float(cur_score)\n",
    "                    \n",
    "                    #check if it's better than our current match\n",
    "                    if cur_score > alignments_scores[src_token_id]:\n",
    "                        alignments_scores[src_token_id] = cur_score\n",
    "                        \n",
    "                        #replace our dictionary match. \n",
    "                        src_word = id2wordlist[i][src_token_id]\n",
    "                        trg_word = id2wordlist[(i+1)%2][targ_token_id]\n",
    "                        self.dictionaries[i][src_word] = trg_word\n",
    "\n",
    "\n",
    "    def lookup(self, word, language):\n",
    "        if language.lower() not in self.languages.keys():\n",
    "            print(\"Language not supported\")\n",
    "        return self.dictionaries[self.languages[language.lower()]][word]\n",
    "        \n",
    "        "
   ]
  },
  {
   "cell_type": "code",
   "execution_count": 61,
   "metadata": {},
   "outputs": [
    {
     "name": "stdout",
     "output_type": "stream",
     "text": [
      "you\n",
      "procès-verbal\n",
      "ERROR: Word not found in dictionary\n"
     ]
    }
   ],
   "source": [
    "#example \n",
    "import os\n",
    "from pathlib import Path\n",
    "\n",
    "path = Path(os.getcwd()) / \"giza_output\"\n",
    "\n",
    "lang1_vocab_path = path / \"fr-en.trn.src.vcb\"\n",
    "lang2_vocab_path = path / \"fr-en.trn.trg.vcb\"\n",
    "lang1_tr_path = path / \"fr-en.t3.final\"\n",
    "lang2_tr_path = path /\"en-fr.t3.final\"\n",
    "    \n",
    "fr_en_dict = BilingualDictionary(lang1_vocab_path, lang2_vocab_path, lang1_tr_path, lang2_tr_path, \"French\", \"English\")\n",
    "\n",
    "print(fr_en_dict.lookup(\"vous\",\"french\"))\n",
    "print(fr_en_dict.lookup(\"Minutes\",\"english\"))\n",
    "print(fr_en_dict.lookup(\"awesome\",\"french\"))\n"
   ]
  },
  {
   "cell_type": "markdown",
   "metadata": {},
   "source": [
    "## Exercise 3: Neural Language Alignment\n",
    "\n",
    "We compare GIZA++'s alignment with MUSE to see how purely statistical models compare with neural models.\n",
    "\n",
    "First get the English and French aligned word embeddings from https://github.com/facebookresearch/MUSE\n",
    "\n",
    "Next some libraries for graphings things."
   ]
  },
  {
   "cell_type": "code",
   "execution_count": null,
   "metadata": {},
   "outputs": [],
   "source": [
    "import io\n",
    "import numpy as np\n",
    "from sklearn.decomposition import PCA\n",
    "import matplotlib.pyplot as plt"
   ]
  },
  {
   "cell_type": "markdown",
   "metadata": {},
   "source": [
    "### 3.1 Cosine Similarity\n",
    "rubric{accuracy:2}\n",
    "\n",
    "Cosine similarity is used fairly frequently in NLP.\n",
    "\n",
    "$similarity = cos(\\theta) = \\frac{A \\cdot B}{||A|| ||B||} = \\frac{\\sum_{i=1}^{d} A_iB_i}{\\sqrt{\\sum_{i=1}^{d} A^2_i}\\sqrt{\\sum_{i=1}^{d} B^2_i}}$\n",
    "\n",
    "Using the following two tensors (of a dim=3 embedding) show **by hand** how you would calculate the cosine similarity between these two vectors.\n",
    "\n",
    "A = [ 0.1010, -1.1388, -0.7991]\n",
    "\n",
    "B = [ 0.5083, -0.2255,  1.9037]\n"
   ]
  },
  {
   "cell_type": "markdown",
   "metadata": {},
   "source": [
    "**Write Answer Here** (alternatively take a picture of your work)\n",
    "\n",
    "$cos(A,B) = \\frac{[0.1010 -1.1388 -0.7991]^T [0.5083 -0.2255 1.9037]}{||[0.1010 -1.1388 -0.7991]|| \\quad ||[0.5083 -0.2255 1.9037]||} $\n",
    "$ = \\frac{-1.2131}{1.395 \\quad 1.983}$\n",
    "$ = -0.4385 $"
   ]
  },
  {
   "cell_type": "markdown",
   "metadata": {},
   "source": [
    "### 3.2 Plotting Aligned Embeddings\n",
    "rubric{accuracy:2}\n",
    "\n",
    "For the following set of words: \"excessively\", \"Minutes\", \"citizens\", \"standards\", and \"disaster\" create a 2D diagram showing the words in vector space alongside their French closest 'equivalents'."
   ]
  },
  {
   "cell_type": "code",
   "execution_count": 43,
   "metadata": {},
   "outputs": [
    {
     "name": "stdout",
     "output_type": "stream",
     "text": [
      "(200000, 300)\n",
      "(200000, 300)\n",
      "translated words...\n",
      "['excessivement', 'citoyens', 'normes', 'catastrophe']\n"
     ]
    },
    {
     "data": {
      "image/png": "[encoded data removed]",
      "text/plain": [
       "<matplotlib.figure.Figure at 0x12605c5c0>"
      ]
     },
     "metadata": {},
     "output_type": "display_data"
    }
   ],
   "source": [
    "# your code goes here\n",
    "\n",
    "import io\n",
    "import numpy as np\n",
    "from sklearn.decomposition import PCA\n",
    "import matplotlib.pyplot as plt\n",
    "from sklearn.metrics.pairwise import cosine_similarity\n",
    "\n",
    "# Function that loads a word vector file into memory and returns word embeddings, identifier to word and word to identifier mapping\n",
    "def load_vec(emb_path, nmax=50000):\n",
    "    vectors = []\n",
    "    word2id = {}\n",
    "    with io.open(emb_path, 'r', encoding='utf-8', newline='\\n', errors='ignore') as f:\n",
    "        next(f)\n",
    "        for i, line in enumerate(f):\n",
    "            word, vect = line.rstrip().split(' ', 1)\n",
    "            vect = np.fromstring(vect, sep=' ')\n",
    "            assert word not in word2id, 'word found twice'\n",
    "            vectors.append(vect)\n",
    "            word2id[word] = len(word2id)\n",
    "            if len(word2id) == nmax:\n",
    "                break\n",
    "    id2word = {v: k for k, v in word2id.items()}\n",
    "    embeddings = np.vstack(vectors)\n",
    "    return embeddings, id2word, word2id\n",
    "\n",
    "# Function to get the nn nearest neighbors of given word\n",
    "def get_nn(word, src_emb, src_id2word, tgt_emb, tgt_id2word, K=5):\n",
    "    # create to map word to index\n",
    "    word2id = {v: k for k, v in src_id2word.items()}\n",
    "    # get the word embedding of give word \n",
    "    if word not in word2id:\n",
    "        return None\n",
    "    word_emb = src_emb[word2id[word]]\n",
    "    # get all similarity scores between given word and all the tokens in target vocabulary. \n",
    "    scores = np.squeeze(cosine_similarity(tgt_emb, word_emb.reshape(1, -1)),axis=1)\n",
    "    # get indices of the n nearest neighbors\n",
    "    k_best = scores.argsort()[-K:][::-1]\n",
    "    # convert the indices to actual tokens\n",
    "    closest_words = []\n",
    "    for i, idx in enumerate(k_best):\n",
    "        closest_words.append(tgt_id2word[idx])\n",
    "    return closest_words\n",
    "\n",
    "\n",
    "# Function that plots select words in two langugages\n",
    "def plot_similar_word(src_words, src_word2id, src_emb, tgt_words, tgt_word2id, tgt_emb, pca):\n",
    "\n",
    "    Y = []\n",
    "    word_labels = []\n",
    "    for sw in src_words:\n",
    "        Y.append(src_emb[src_word2id[sw]])\n",
    "        word_labels.append(sw)\n",
    "    for tw in tgt_words:\n",
    "        Y.append(tgt_emb[tgt_word2id[tw]])\n",
    "        word_labels.append(tw)\n",
    "\n",
    "    # find tsne coords for 2 dimensions\n",
    "    Y = pca.transform(Y)\n",
    "    x_coords = Y[:, 0]\n",
    "    y_coords = Y[:, 1]\n",
    "\n",
    "    # display scatter plot\n",
    "    plt.figure(figsize=(10, 8), dpi=80)\n",
    "    plt.scatter(x_coords, y_coords, marker='x')\n",
    "\n",
    "    for k, (label, x, y) in enumerate(zip(word_labels, x_coords, y_coords)):\n",
    "        color = 'blue' if k < len(src_words) else 'red'  # src words in blue / tgt words in red\n",
    "        plt.annotate(label, xy=(x, y), xytext=(0, 0), textcoords='offset points', fontsize=19,\n",
    "                     color=color, weight='bold')\n",
    "\n",
    "    plt.xlim(x_coords.min() - 0.2, x_coords.max() + 0.2)\n",
    "    plt.ylim(y_coords.min() - 0.2, y_coords.max() + 0.2)\n",
    "    plt.title('Visualization of the multilingual word embedding space')\n",
    "\n",
    "    plt.show()\n",
    "\n",
    "# constants\n",
    "en_path = './muse/wiki.multi.en.vec'\n",
    "fr_path = './muse/wiki.multi.fr.vec'\n",
    "nmax = 250000  # maximum number of word embeddings to load\n",
    "interesting_words = [\"excessively\", \"Minutes\", \"citizens\", \"standards\", \"disaster\"]\n",
    "\n",
    "# load english and french word embeddings\n",
    "en_embeddings, en_id2word, en_word2id = load_vec(en_path, nmax)\n",
    "fr_embeddings, fr_id2word, fr_word2id = load_vec(fr_path, nmax)\n",
    "\n",
    "# print their shapes\n",
    "print(en_embeddings.shape)\n",
    "print(fr_embeddings.shape)\n",
    "\n",
    "# identify the french closest 'equivalents' (most similar word for each interesting english word)\n",
    "en_words, fr_words = [], []\n",
    "for english_word in interesting_words:\n",
    "    french_word = get_nn(english_word, src_embeddings, src_id2word, tgt_embeddings, tgt_id2word, K=1)\n",
    "    if french_word:\n",
    "      en_words.append(english_word)\n",
    "      fr_words.append(french_word[0])\n",
    "print(\"translated words...\")\n",
    "print(fr_words)\n",
    "\n",
    "# perform PCA\n",
    "pca = PCA(n_components=2, whiten=True)\n",
    "pca.fit(np.vstack([en_embeddings, fr_embeddings]))\n",
    "\n",
    "# plot the original and translated words\n",
    "plot_similar_word(en_words, en_word2id, en_embeddings, fr_words, fr_word2id, fr_embeddings, pca)\n"
   ]
  },
  {
   "cell_type": "markdown",
   "metadata": {},
   "source": [
    "### 3.3 Comparing MUSE to GIZA++\n",
    "rubric{reasoning:2}\n",
    "\n",
    "Based on the words that you have identified, how do the MUSE pre-trained embeddings compare with the GIZA++ mappings? Which method do you think works better in practice? What might be some drawbacks of this comparison?\n",
    "\n",
    "\n",
    "*Hint:You can perform a case-study to compare the alignment dictionary.*\n"
   ]
  },
  {
   "cell_type": "code",
   "execution_count": 33,
   "metadata": {},
   "outputs": [
    {
     "name": "stdout",
     "output_type": "stream",
     "text": [
      "original words (in English)...\n",
      "['excessively', 'minutes', 'citizens', 'standards', 'disaster']\n",
      "MUSE translations (in French)...\n",
      "['excessivement', 'minutes', 'citoyens', 'normes', 'catastrophe']\n",
      "GIZA++ translations (in French)...\n",
      "['pléthoriques', 'minutes', 'citoyens', 'normes', 'désastre']\n"
     ]
    }
   ],
   "source": [
    "# Answer Goes Here\n",
    "print('original words (in English)...')\n",
    "print(interesting_words)\n",
    "\n",
    "print('MUSE translations (in French)...')\n",
    "print(fr_words)\n",
    "\n",
    "print('GIZA++ translations (in French)...')\n",
    "print([myDictionary(word, language=\"english\") for word in interesting_words])"
   ]
  },
  {
   "cell_type": "markdown",
   "metadata": {},
   "source": [
    "Based on the qualitative inspection of these five words, the translations produced by MUSE and GIZA++ seems to be roughly similar and good. \n",
    "MUSe pre-trained embeddings seems to be case insensitive and hence couldn't translate the word \"Minutes\""
   ]
  },
  {
   "cell_type": "markdown",
   "metadata": {},
   "source": [
    "## Exercise 4: MUSE from scratch (OPTIONAL)\n",
    "\n",
    "We sort of cheated in Exercise 3 with using the pre-aligned embeddings, unfortunately these are trained on Wikipedia, and thus not a great comparison to the Europarl corpus dictionary we've made with GIZA++. We've marked this exercise as optional due to some finicky requirements for running MUSE, but we strongly suggest you try it due to how powerful it can be.\n",
    "\n",
    "Requirements:\n",
    "\n",
    "- OSX/Linux\n",
    "- https://github.com/facebookresearch/faiss (Optional but recommended)\n",
    "- CUDA capable GPU (Strongly recommended)\n",
    "\n",
    "### 4.1 Create Fastext word embeddings for Europarl (Optional)\n",
    "rubric={accuracy:5}\n",
    "\n",
    "FasText is similar to Word2Vec, but has some slight improvements (e.g. it can capture orthographic information). You can get it:\n",
    "https://github.com/facebookresearch/fastText and then follow the instructions to train an embedding model for the English and French Europarl corpuses you downloaded earlier for 2.1.\n",
    "\n",
    "Copy your training procedure below as well as give example outputs for the closest words to \"Minutes\", \"minutes\", and \"vote\" for English and \"vous\", \"intervienne\", and \"accord\" for French."
   ]
  },
  {
   "cell_type": "markdown",
   "metadata": {},
   "source": [
    "#your training code goes here!\n",
    "\n",
    "fasttext skipgram -input europarl-fr-en/europarl-v7.fr-en.tok.en -output MUSE/en\n",
    "fasttext skipgram -input europarl-fr-en/europarl-v7.fr-en.tok.fr -output MUSE/fr"
   ]
  },
  {
   "cell_type": "code",
   "execution_count": 37,
   "metadata": {},
   "outputs": [
    {
     "name": "stdout",
     "output_type": "stream",
     "text": [
      "in English\n",
      "most similar word to Minutes is minutes\n",
      "most similar word to minutes is minute\n",
      "most similar word to vote is voter\n",
      "in French\n",
      "most similar word to vous is direz\n",
      "most similar word to intervienne is teams\n",
      "most similar word to accord is Accord\n"
     ]
    }
   ],
   "source": [
    "#Give example outputs for the suggested words: \"Minutes\", \"minutes\", and \"vote\" for English and \"vous\", \"intervienne\", and \"accord\" for French.\n",
    "\n",
    "# load english and french word embeddings\n",
    "MUSE_PATH = \"MUSE\"\n",
    "en_embeddings, en_id2word, en_word2id = load_vec(MUSE_PATH + \"/en.vec\", nmax)\n",
    "fr_embeddings, fr_id2word, fr_word2id = load_vec(MUSE_PATH + \"/fr.vec\", nmax)\n",
    "\n",
    "# get most similar word for some interesting English words\n",
    "print('in English')\n",
    "print('most similar word to Minutes is %s'%get_nn('Minutes', en_embeddings, en_id2word, en_embeddings, en_id2word, K=2)[1])\n",
    "print('most similar word to minutes is %s'%get_nn('minutes', en_embeddings, en_id2word, en_embeddings, en_id2word, K=2)[1])\n",
    "print('most similar word to vote is %s'%get_nn('vote', en_embeddings, en_id2word, en_embeddings, en_id2word, K=2)[1])\n",
    "\n",
    "# get most similar word for some interesting French words\n",
    "print('in French')\n",
    "print('most similar word to vous is %s'%get_nn('vous', fr_embeddings, fr_id2word, fr_embeddings, fr_id2word, K=2)[1])\n",
    "print('most similar word to intervienne is %s'%get_nn('intervienne', fr_embeddings, fr_id2word, fr_embeddings, en_id2word, K=2)[1])\n",
    "print('most similar word to accord is %s'%get_nn('accord', fr_embeddings, fr_id2word, fr_embeddings, fr_id2word, K=2)[1])\n"
   ]
  },
  {
   "cell_type": "markdown",
   "metadata": {},
   "source": [
    "### 4.2 Use MUSE to align the word embeddings (Optional)\n",
    "rubric={accuracy:5}\n",
    "\n",
    "Using MUSE's unsupervised functionality, align the two language embedding spaces and find the closest French words that match the English words \"disaster\", \"vote\", and \"excessively\"\n"
   ]
  },
  {
   "cell_type": "markdown",
   "metadata": {},
   "source": [
    "Put your output here from the similarity check for the words.\n",
    "\n",
    "python unsupervised.py --src_lang fr --tgt_lang en --src_emb fr.vec --tgt_emb en.vec --n_refinement 5 --emb_dim 100 --dis_most_frequent 0\n"
   ]
  },
  {
   "cell_type": "code",
   "execution_count": 44,
   "metadata": {},
   "outputs": [
    {
     "name": "stdout",
     "output_type": "stream",
     "text": [
      "most similar word to disaster in French is catastrophe\n",
      "most similar word to vote in French is vote\n",
      "most similar word to excessively in French is excessivement\n"
     ]
    }
   ],
   "source": [
    "MUSE_PATH = \"MUSE\"\n",
    "en_embeddings, en_id2word, en_word2id = load_vec(MUSE_PATH + \"/vectors-en.txt\", nmax)\n",
    "fr_embeddings, fr_id2word, fr_word2id = load_vec(MUSE_PATH + \"/vectors-fr.txt\", nmax)\n",
    "\n",
    "print('most similar word to disaster in French is %s'%get_nn('disaster', en_embeddings, en_id2word, fr_embeddings, fr_id2word, K=1)[0])\n",
    "print('most similar word to vote in French is %s'%get_nn('vote', en_embeddings, en_id2word, fr_embeddings, fr_id2word, K=1)[0])\n",
    "print('most similar word to excessively in French is %s'%get_nn('excessively', en_embeddings, en_id2word, fr_embeddings, fr_id2word, K=1)[0])\n"
   ]
  },
  {
   "cell_type": "markdown",
   "metadata": {},
   "source": [
    "\n",
    "### 4.3 Compare MUSE with GIZA++ (Optional)\n",
    "rubric{reasoning:5}\n",
    "\n",
    "Based on the aligned dictionaries you've made, qualitatively does there seem to be much difference between GIZA++ and MUSE? Which one appears to work better? Write a brief (2-3 sentence) comparison of both the process to make the two dictionaries and the ultimate quality of the final dictionaries."
   ]
  },
  {
   "cell_type": "markdown",
   "metadata": {},
   "source": [
    "**Answer Here**\n",
    "\n",
    "Generally MUSE might be a bit easier to run (if you have a GPU + Linux env.), due to how problematic the GIZA++ installation can be. In terms of quality of the targets, they seem pretty competitive with GIZA++ when aligned on the same genre of writing.\n",
    "\n",
    "One major difference however, is MUSE doesn't need to be trained on a parallel corpus! Which would allow you to take two different corpuses with similar genres of writing and potentially align them without having any domain knowledge about either of them (theoretically), this could be a huge advantage if you don't have such a parallel corpus available."
   ]
  },
  {
   "cell_type": "markdown",
   "metadata": {},
   "source": [
    "## Exercise 5: Conceptual Questions\n",
    "\n",
    "### 5.1 Data Sets\n",
    "rubric{reasoning:3}\n",
    "\n",
    "Aligned corpuses are vital when it comes to creating a Machine Translation model. We used Europarl for this assignment, but you should think about your language needs if you are planning on working on projects dealing with non-European languages or other genres of text. Find two datasets that you might be interested in using for this unit. \n",
    "\n",
    "One should be from the [Linguistics Data Consortium](https://catalog.ldc.upenn.edu/search) of which UBC is a member. To access the datasets that UBC has available please use [Abacus](https://resources.library.ubc.ca/page.php?details=abacus&id=1114)  (Recommended that you search on the LDC website, which has a better metadata search engine for the datasets, make sure you find something that has a parallel translation, and then locate the dataset on Abacus by searching for the title of it. Note UBC has many, but not all of the sets)\n",
    "\n",
    "A second source should be a free source available online:  (e.g. https://lionbridge.ai/datasets/25-best-parallel-text-datasets-for-machine-translation-training/ or something else)\n",
    "\n",
    "For these two corpuses please identify:\n",
    "\n",
    "- What language pair(s) are covered by the corpus\n",
    "- Size of the corpus\n",
    "- \"Style\" of text covered (is it formal text? news writing? email? informal social media posts?)"
   ]
  },
  {
   "cell_type": "raw",
   "metadata": {},
   "source": [
    "Examples:\n",
    "LDC corpus:\n",
    "BOLT Chinese-English Word Alignment and Tagging -- SMS/Chat Training\n",
    "Languages: Chinese English\n",
    "Size: ~400k words\n",
    "Style: SMS/Chat\n",
    "\n",
    "\n",
    "Internet source: https://www.kaggle.com/team-ai/japaneseenglish-bilingual-corpus\n",
    "Kaggle Japanese English pairs from the Kyoto Wikipedia page\n",
    "Languages: Japanese English\n",
    "Size: ~500 sentences\n",
    "Style: Wikipedia (semi-profesional)\n",
    "\n"
   ]
  }
 ],
 "metadata": {
  "kernelspec": {
   "display_name": "Python 3",
   "language": "python",
   "name": "python3"
  },
  "language_info": {
   "codemirror_mode": {
    "name": "ipython",
    "version": 3
   },
   "file_extension": ".py",
   "mimetype": "text/x-python",
   "name": "python",
   "nbconvert_exporter": "python",
   "pygments_lexer": "ipython3",
   "version": "3.6.9"
  }
 },
 "nbformat": 4,
 "nbformat_minor": 2
}
