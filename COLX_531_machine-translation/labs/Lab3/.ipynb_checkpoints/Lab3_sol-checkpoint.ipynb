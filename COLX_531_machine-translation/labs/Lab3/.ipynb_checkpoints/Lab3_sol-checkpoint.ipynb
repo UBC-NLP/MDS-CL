{
 "cells": [
  {
   "cell_type": "markdown",
   "metadata": {
    "colab_type": "text",
    "id": "LkZutwk50Nr-"
   },
   "source": [
    "## Homework 3 - Machine Translation - MDS Computational Linguistics\n",
    "\n",
    "### Assignment Topics\n",
    "- Seq2seq with attention\n",
    "- Evaluation metric\n",
    "\n",
    "\n",
    "### Software Requirements\n",
    "- Python (>=3.6)\n",
    "- PyTorch (>=1.2.0) \n",
    "- Jupyter (latest)\n",
    "\n",
    "### Submission Info.\n",
    "- Due Date: March 14, 2020, 18:00:00 (Vancouver time)"
   ]
  },
  {
   "cell_type": "markdown",
   "metadata": {
    "colab_type": "text",
    "id": "1oK-CTEITGoY"
   },
   "source": [
    "## Load required packages\n"
   ]
  },
  {
   "cell_type": "code",
   "execution_count": 1,
   "metadata": {
    "colab": {
     "base_uri": "https://localhost:8080/",
     "height": 122
    },
    "colab_type": "code",
    "id": "t9cDgntYJeOt",
    "outputId": "e8a23aa2-31d3-4740-dbb9-4c67b2dd5b63"
   },
   "outputs": [
    {
     "name": "stdout",
     "output_type": "stream",
     "text": [
      "Go to this URL in a browser: https://accounts.google.com/o/oauth2/auth?client_id=947318989803-6bn6qk8qdgf4n4g3pfee6491hc0brc4i.apps.googleusercontent.com&redirect_uri=urn%3aietf%3awg%3aoauth%3a2.0%3aoob&response_type=code&scope=email%20https%3a%2f%2fwww.googleapis.com%2fauth%2fdocs.test%20https%3a%2f%2fwww.googleapis.com%2fauth%2fdrive%20https%3a%2f%2fwww.googleapis.com%2fauth%2fdrive.photos.readonly%20https%3a%2f%2fwww.googleapis.com%2fauth%2fpeopleapi.readonly\n",
      "\n",
      "Enter your authorization code:\n",
      "··········\n",
      "Mounted at /content/drive\n"
     ]
    }
   ],
   "source": [
    "from google.colab import drive\n",
    "drive.mount('/content/drive')"
   ]
  },
  {
   "cell_type": "markdown",
   "metadata": {
    "colab_type": "text",
    "id": "4Aq7Jt4fzDOz"
   },
   "source": [
    "### Required libraries"
   ]
  },
  {
   "cell_type": "code",
   "execution_count": 1,
   "metadata": {
    "colab": {},
    "colab_type": "code",
    "id": "R7oLWdxDRzUx"
   },
   "outputs": [],
   "source": [
    "import unicodedata\n",
    "import string\n",
    "import re\n",
    "import random\n",
    "import time\n",
    "import datetime\n",
    "import math\n",
    "\n",
    "import torch\n",
    "import torch.nn as nn\n",
    "from torch.autograd import Variable\n",
    "from torch import optim\n",
    "import torch.nn.functional as F\n",
    "from torch.nn.utils.rnn import pad_packed_sequence, pack_padded_sequence\n",
    "import torchtext\n",
    "from torchtext.datasets import TranslationDataset\n",
    "\n",
    "import spacy\n",
    "import numpy as np"
   ]
  },
  {
   "cell_type": "code",
   "execution_count": 2,
   "metadata": {
    "colab": {},
    "colab_type": "code",
    "id": "7h8EV0DrJDXu"
   },
   "outputs": [],
   "source": [
    "## Set seed of randomization and working device"
   ]
  },
  {
   "cell_type": "code",
   "execution_count": 3,
   "metadata": {
    "colab": {
     "base_uri": "https://localhost:8080/",
     "height": 34
    },
    "colab_type": "code",
    "id": "tshLF-3YGdhW",
    "outputId": "65b20e10-1503-4946-852f-481b032c01de"
   },
   "outputs": [
    {
     "name": "stdout",
     "output_type": "stream",
     "text": [
      "cuda\n"
     ]
    }
   ],
   "source": [
    "manual_seed = 77\n",
    "torch.manual_seed(manual_seed)\n",
    "device = torch.device(\"cuda\" if torch.cuda.is_available() else \"cpu\")\n",
    "print(device)\n",
    "n_gpu = torch.cuda.device_count()\n",
    "if n_gpu > 0:\n",
    "    torch.cuda.manual_seed(manual_seed)"
   ]
  },
  {
   "cell_type": "markdown",
   "metadata": {
    "colab_type": "text",
    "id": "hmeQ64MoJLyk"
   },
   "source": [
    "## Attention! Tidy Submission\n",
    "\n",
    "rubric={mechanics:3}\n",
    "\n",
    "To get the marks for tidy submission:\n",
    "- Submit the assignment by filling in this jupyter notebook with your answers embedded.\n",
    "- Be sure to follow the [general lab instructions](https://ubc-mds.github.io/resources_pages/general_lab_instructions).\n",
    "- You should not use this notebook (i.e., Lab3.ipynb) to train your model on Colab. Colab may change the layout of the jupyter notebook, and then we cannot grade on your notebook, the system will miss your grade!\n",
    "- We provide another jupyter notebook (i.e., `Lab3_exp.ipynb`) for you. You can load `Lab3_exp.ipynb` to Colab and run your experiments in this jupyter notebook. \n",
    "- Please download `Lab3_exp.ipynb` from Colab and include it in your final submission. \n",
    "- Some comments in your code will help us grade. Please use heading, comments, and mardown notations to organize your code. \n",
    "- Please feel free to add cells in `Lab3_exp.ipynb`.\n",
    "- You don't need to submit your checkpoints.\n",
    "- You can reuse any scripts of lab tutorials."
   ]
  },
  {
   "cell_type": "markdown",
   "metadata": {
    "colab_type": "text",
    "id": "kWXGz9s8JP2l"
   },
   "source": [
    "**Dataset**"
   ]
  },
  {
   "cell_type": "markdown",
   "metadata": {
    "colab_type": "text",
    "id": "iZFX5tj9JQ0i"
   },
   "source": [
    "In all the questions of this lab, we continue to use the English-French bilingual corpus of [Multi30k](https://github.com/multi30k/dataset) dataset that we used in lab2 and tutorials. Our task is to `translate text from French language to English language`. All your model should be trained on `train_eng_fre.tsv`, validated on `val_eng_fre.tsv`, and tested on `test_eng_fre.tsv`. "
   ]
  },
  {
   "cell_type": "markdown",
   "metadata": {
    "colab_type": "text",
    "id": "_DFZF3ruJUzo"
   },
   "source": [
    "## Exercise 1: Seq2Seq Variant\n",
    "\n",
    "In last week, we used a **uni-directional LSTM Encoder** to compress the information of a source language into two context representation vectors of a fixed length (i.e., the final hidden and cell states). Then, we use the final hidden and cell states to initialize the hidden and cell states of uni-directional LSTM Decoder. However, the capability of these representations can be limited. They can easily forget the earlier information of a long sequence and co-reference relationships. Before introducing the attention mechanism, we can also use some tricks to solve the issue of context **information bottleneck** problem. \n",
    "\n",
    "In this exercise, please write a script to implement the following tricks in **a single seq2seq model**:\n",
    "1. Use a **bi-directional LSTM** as the **Encoder** to get the context representation of the source sentence. \n",
    "\n",
    "2. Instead of using the final hidden and cell states of the bi-directional encoder to initialize the uni-directional decoder, (A) for $h_0$ use **the mean of all hidden states** and (B) for $c_0$ use the **final cell state** of the bi-directional encoder. \n",
    "\n",
    "Combine 1 & 2 in **a single seq2seq model**.\n",
    "\n",
    "**Instruction:**\n",
    "- Please paste your experiment codes to answer the corresponding question below.\n",
    "- You should train your model with the following hyper-parameters:\n",
    "```\n",
    "INPUT_DIM = 6004\n",
    "OUTPUT_DIM = 6004\n",
    "ENC_EMB_DIM = 256\n",
    "DEC_EMB_DIM = 256\n",
    "N_LAYERS = 1\n",
    "BI_DIRECTION = True\n",
    "ENC_HID_DIM = 512\n",
    "DEC_HID_DIM = XXXXX (you should figure out this hyper-parameter). \n",
    "ENC_DROPOUT = 0.5\n",
    "DEC_DROPOUT = 0.3\n",
    "TEACH_FORCING_RATE = 0.5\n",
    "LEARNING_RT = 0.001\n",
    "MAX_EPOCH = 15\n",
    "optimizer = optim.Adam(model.parameters(),lr=LEARNING_RT)\n",
    "```\n",
    "- You should use `init_weights()` function from this week tutorial to initialize model with normal distribution with `mean=0` and `std=0.01`. \n",
    "- Your seed of randomization should be 77 (i.e., manual_seed = 77). \n",
    "- You should use `nn.CrossEntropyLoss()` loss function and ignore `<pad>` tokens.\n",
    "- You should save the model checkpoint at the end of each epoch. You also need to save your vocabularies.\n",
    "- You should use a different checkpoint directory to avoid overwriting previous models. \n",
    "- Then, you load the best checkpoint and evaluate it on TEST set. \n",
    "- You should keep your vocabularies and best checkpoints. We will use them in Exercise 3 (Error analysis). \n",
    "\n",
    "**Hints:**\n",
    "- Although the encoder is bi-directional LSTM, the decoder must be a uni-directional LSTM.\n",
    "- This exercise is more related to last tutorial (i.e., week 2). \n",
    "- The last hidden state of the LSTM is `h_n` of shape (num_layers * num_directions, batch, hidden_size).\n",
    "- The last cell state of the LSTM is `c_n` of shape (num_layers * num_directions, batch, hidden_size).\n",
    "- All the hidden states from the last LSTM layer is `output` of shape (seq_len, batch, num_directions * hidden_size).\n",
    "- The initialization states (i.e., $s_0$,$c_0$) of Decoder must match the dimension of Decoder. Namely, you should give a appropriate number of `DEC_HID_DIM` via analyzing the relation between tensor shapes. \n",
    "- You can use `print(XXX.shape)` to check the shape of your tensor. If the tensor shape doesn't match the desired shape of tensor, you should reshape it using `.view(), .squeeze(), .unsqueeze() or .permute() function.`."
   ]
  },
  {
   "cell_type": "markdown",
   "metadata": {
    "colab_type": "text",
    "id": "bqkALC9SJXas"
   },
   "source": [
    "**To facilitate your model evaluation, we provide a `inference()` function which calculates BLEU score based on a test corpus (test_eng_fre.tsv).**"
   ]
  },
  {
   "cell_type": "code",
   "execution_count": 4,
   "metadata": {
    "colab": {},
    "colab_type": "code",
    "id": "pkTgym10JdPF"
   },
   "outputs": [],
   "source": [
    "def inference(model, file_name, src_vocab, trg_vocab, attention=False, max_trg_len = 64):\n",
    "    '''\n",
    "    Function for translation inference\n",
    "\n",
    "    Input: \n",
    "    model: translation model;\n",
    "    file_name: the directoy of test file that the first column is target reference, and the second column is source language;\n",
    "    trg_vocab: Target torchtext Field\n",
    "    attention: the model returns attention weights or not.\n",
    "    max_trg_len: the maximal length of translation text (optinal), default = 64\n",
    "\n",
    "    Output:\n",
    "    Corpus BLEU score.\n",
    "    '''\n",
    "    from nltk.translate.bleu_score import corpus_bleu\n",
    "    from nltk.translate.bleu_score import sentence_bleu\n",
    "    from torchtext.data import TabularDataset\n",
    "    from torchtext.data import Iterator\n",
    "\n",
    "    # convert index to text string\n",
    "    def convert_itos(convert_vocab, token_ids):\n",
    "        list_string = []\n",
    "        for i in token_ids:\n",
    "            if i == convert_vocab.vocab.stoi['<eos>']:\n",
    "                break\n",
    "            else:\n",
    "                token = convert_vocab.vocab.itos[i]\n",
    "                list_string.append(token)\n",
    "        return list_string\n",
    "\n",
    "    test = TabularDataset(\n",
    "      path=file_name, # the root directory where the data lies\n",
    "      format='tsv',\n",
    "      skip_header=True, # if your tsv file has a header, make sure to pass this to ensure it doesn't get proceesed as data!\n",
    "      fields=[('TRG', trg_vocab), ('SRC', src_vocab)])\n",
    "\n",
    "    test_iter = Iterator(\n",
    "    dataset = test, # we pass in the datasets we want the iterator to draw data from\n",
    "    sort = False,batch_size=128,\n",
    "    sort_key=None,\n",
    "    shuffle=False,\n",
    "    sort_within_batch=False,\n",
    "    device = device,\n",
    "    train=False\n",
    "    )\n",
    "  \n",
    "    model.eval()\n",
    "    all_trg = []\n",
    "    all_translated_trg = []\n",
    "\n",
    "    TRG_PAD_IDX = trg_vocab.vocab.stoi[trg_vocab.pad_token]\n",
    "\n",
    "    with torch.no_grad():\n",
    "    \n",
    "        for i, batch in enumerate(test_iter):\n",
    "\n",
    "            src = batch.SRC\n",
    "            #src = [src len, batch size]\n",
    "\n",
    "            trg = batch.TRG\n",
    "            #trg = [trg len, batch size]\n",
    "\n",
    "            batch_size = trg.shape[1]\n",
    "\n",
    "            # create a placeholder for traget language with shape of [max_trg_len, batch_size] where all the elements are the index of <pad>. Then send to device\n",
    "            trg_placeholder = torch.Tensor(max_trg_len, batch_size)\n",
    "            trg_placeholder.fill_(TRG_PAD_IDX)\n",
    "            trg_placeholder = trg_placeholder.long().to(device)\n",
    "            if attention == True:\n",
    "                output,_ = model(src, trg_placeholder, 0) #turn off teacher forcing\n",
    "            else:\n",
    "                output = model(src, trg_placeholder, 0) #turn off teacher forcing\n",
    "            # get translation results, we ignor first token <sos> in both translation and target sentences. \n",
    "            # output_translate = [(trg len - 1), batch, output dim] output dim is size of target vocabulary.\n",
    "            output_translate = output[1:]\n",
    "            # store gold target sentences to a list \n",
    "            all_trg.append(trg[1:].cpu())\n",
    "\n",
    "            # Choose top 1 word from decoder's output, we get the probability and index of the word\n",
    "            prob, token_id = output_translate.data.topk(1)\n",
    "            translation_token_id = token_id.squeeze(2).cpu()\n",
    "\n",
    "            # store gold target sentences to a list \n",
    "            all_translated_trg.append(translation_token_id)\n",
    "      \n",
    "    all_gold_text = []\n",
    "    all_translated_text = []\n",
    "    for i in range(len(all_trg)): \n",
    "        cur_gold = all_trg[i]\n",
    "        cur_translation = all_translated_trg[i]\n",
    "        for j in range(cur_gold.shape[1]):\n",
    "            gold_convered_strings = convert_itos(trg_vocab,cur_gold[:,j])\n",
    "            trans_convered_strings = convert_itos(trg_vocab,cur_translation[:,j])\n",
    "\n",
    "            all_gold_text.append(gold_convered_strings)\n",
    "            all_translated_text.append(trans_convered_strings)\n",
    "\n",
    "    corpus_all_gold_text = [[item] for item in all_gold_text]\n",
    "    corpus_bleu_score = corpus_bleu(corpus_all_gold_text, all_translated_text)  \n",
    "    return corpus_bleu_score"
   ]
  },
  {
   "cell_type": "markdown",
   "metadata": {
    "colab_type": "text",
    "id": "SC6WA4ZcJxao"
   },
   "source": [
    "`inference()` function will take five variables `model, file_name, trg_vocab,attention, and max_trg_len` as inputs and return a corpus cumulative BLEU-4 score. Here is a use case."
   ]
  },
  {
   "cell_type": "code",
   "execution_count": null,
   "metadata": {
    "colab": {},
    "colab_type": "code",
    "id": "279rwqFNKC0n"
   },
   "outputs": [],
   "source": [
    "# use case\n",
    "print(inference(model_best, \"./drive/My Drive/Colab Notebooks/eng-fre/test_eng_fre.tsv\", SRC, TRG, True, 64))"
   ]
  },
  {
   "cell_type": "markdown",
   "metadata": {
    "colab_type": "text",
    "id": "-CAFa492KEcx"
   },
   "source": [
    "### Load dataset"
   ]
  },
  {
   "cell_type": "code",
   "execution_count": 7,
   "metadata": {
    "colab": {
     "base_uri": "https://localhost:8080/",
     "height": 952
    },
    "colab_type": "code",
    "id": "BdFGgNbdR7XJ",
    "outputId": "1d1a1eea-98ad-4af0-fdfa-db9928ab128b"
   },
   "outputs": [
    {
     "name": "stdout",
     "output_type": "stream",
     "text": [
      "Requirement already satisfied: en_core_web_sm==2.2.5 from https://github.com/explosion/spacy-models/releases/download/en_core_web_sm-2.2.5/en_core_web_sm-2.2.5.tar.gz#egg=en_core_web_sm==2.2.5 in /usr/local/lib/python3.6/dist-packages (2.2.5)\n",
      "Requirement already satisfied: spacy>=2.2.2 in /usr/local/lib/python3.6/dist-packages (from en_core_web_sm==2.2.5) (2.2.4)\n",
      "Requirement already satisfied: catalogue<1.1.0,>=0.0.7 in /usr/local/lib/python3.6/dist-packages (from spacy>=2.2.2->en_core_web_sm==2.2.5) (1.0.0)\n",
      "Requirement already satisfied: requests<3.0.0,>=2.13.0 in /usr/local/lib/python3.6/dist-packages (from spacy>=2.2.2->en_core_web_sm==2.2.5) (2.21.0)\n",
      "Requirement already satisfied: blis<0.5.0,>=0.4.0 in /usr/local/lib/python3.6/dist-packages (from spacy>=2.2.2->en_core_web_sm==2.2.5) (0.4.1)\n",
      "Requirement already satisfied: thinc==7.4.0 in /usr/local/lib/python3.6/dist-packages (from spacy>=2.2.2->en_core_web_sm==2.2.5) (7.4.0)\n",
      "Requirement already satisfied: murmurhash<1.1.0,>=0.28.0 in /usr/local/lib/python3.6/dist-packages (from spacy>=2.2.2->en_core_web_sm==2.2.5) (1.0.2)\n",
      "Requirement already satisfied: cymem<2.1.0,>=2.0.2 in /usr/local/lib/python3.6/dist-packages (from spacy>=2.2.2->en_core_web_sm==2.2.5) (2.0.3)\n",
      "Requirement already satisfied: numpy>=1.15.0 in /usr/local/lib/python3.6/dist-packages (from spacy>=2.2.2->en_core_web_sm==2.2.5) (1.18.2)\n",
      "Requirement already satisfied: wasabi<1.1.0,>=0.4.0 in /usr/local/lib/python3.6/dist-packages (from spacy>=2.2.2->en_core_web_sm==2.2.5) (0.6.0)\n",
      "Requirement already satisfied: plac<1.2.0,>=0.9.6 in /usr/local/lib/python3.6/dist-packages (from spacy>=2.2.2->en_core_web_sm==2.2.5) (1.1.3)\n",
      "Requirement already satisfied: preshed<3.1.0,>=3.0.2 in /usr/local/lib/python3.6/dist-packages (from spacy>=2.2.2->en_core_web_sm==2.2.5) (3.0.2)\n",
      "Requirement already satisfied: srsly<1.1.0,>=1.0.2 in /usr/local/lib/python3.6/dist-packages (from spacy>=2.2.2->en_core_web_sm==2.2.5) (1.0.2)\n",
      "Requirement already satisfied: setuptools in /usr/local/lib/python3.6/dist-packages (from spacy>=2.2.2->en_core_web_sm==2.2.5) (46.0.0)\n",
      "Requirement already satisfied: tqdm<5.0.0,>=4.38.0 in /usr/local/lib/python3.6/dist-packages (from spacy>=2.2.2->en_core_web_sm==2.2.5) (4.38.0)\n",
      "Requirement already satisfied: importlib-metadata>=0.20; python_version < \"3.8\" in /usr/local/lib/python3.6/dist-packages (from catalogue<1.1.0,>=0.0.7->spacy>=2.2.2->en_core_web_sm==2.2.5) (1.5.0)\n",
      "Requirement already satisfied: urllib3<1.25,>=1.21.1 in /usr/local/lib/python3.6/dist-packages (from requests<3.0.0,>=2.13.0->spacy>=2.2.2->en_core_web_sm==2.2.5) (1.24.3)\n",
      "Requirement already satisfied: idna<2.9,>=2.5 in /usr/local/lib/python3.6/dist-packages (from requests<3.0.0,>=2.13.0->spacy>=2.2.2->en_core_web_sm==2.2.5) (2.8)\n",
      "Requirement already satisfied: certifi>=2017.4.17 in /usr/local/lib/python3.6/dist-packages (from requests<3.0.0,>=2.13.0->spacy>=2.2.2->en_core_web_sm==2.2.5) (2019.11.28)\n",
      "Requirement already satisfied: chardet<3.1.0,>=3.0.2 in /usr/local/lib/python3.6/dist-packages (from requests<3.0.0,>=2.13.0->spacy>=2.2.2->en_core_web_sm==2.2.5) (3.0.4)\n",
      "Requirement already satisfied: zipp>=0.5 in /usr/local/lib/python3.6/dist-packages (from importlib-metadata>=0.20; python_version < \"3.8\"->catalogue<1.1.0,>=0.0.7->spacy>=2.2.2->en_core_web_sm==2.2.5) (3.1.0)\n",
      "\u001b[38;5;2m✔ Download and installation successful\u001b[0m\n",
      "You can now load the model via spacy.load('en_core_web_sm')\n",
      "Collecting fr_core_news_sm==2.2.5\n",
      "\u001b[?25l  Downloading https://github.com/explosion/spacy-models/releases/download/fr_core_news_sm-2.2.5/fr_core_news_sm-2.2.5.tar.gz (14.7MB)\n",
      "\u001b[K     |████████████████████████████████| 14.7MB 96.1MB/s \n",
      "\u001b[?25hRequirement already satisfied: spacy>=2.2.2 in /usr/local/lib/python3.6/dist-packages (from fr_core_news_sm==2.2.5) (2.2.4)\n",
      "Requirement already satisfied: blis<0.5.0,>=0.4.0 in /usr/local/lib/python3.6/dist-packages (from spacy>=2.2.2->fr_core_news_sm==2.2.5) (0.4.1)\n",
      "Requirement already satisfied: numpy>=1.15.0 in /usr/local/lib/python3.6/dist-packages (from spacy>=2.2.2->fr_core_news_sm==2.2.5) (1.18.2)\n",
      "Requirement already satisfied: catalogue<1.1.0,>=0.0.7 in /usr/local/lib/python3.6/dist-packages (from spacy>=2.2.2->fr_core_news_sm==2.2.5) (1.0.0)\n",
      "Requirement already satisfied: setuptools in /usr/local/lib/python3.6/dist-packages (from spacy>=2.2.2->fr_core_news_sm==2.2.5) (46.0.0)\n",
      "Requirement already satisfied: wasabi<1.1.0,>=0.4.0 in /usr/local/lib/python3.6/dist-packages (from spacy>=2.2.2->fr_core_news_sm==2.2.5) (0.6.0)\n",
      "Requirement already satisfied: tqdm<5.0.0,>=4.38.0 in /usr/local/lib/python3.6/dist-packages (from spacy>=2.2.2->fr_core_news_sm==2.2.5) (4.38.0)\n",
      "Requirement already satisfied: cymem<2.1.0,>=2.0.2 in /usr/local/lib/python3.6/dist-packages (from spacy>=2.2.2->fr_core_news_sm==2.2.5) (2.0.3)\n",
      "Requirement already satisfied: requests<3.0.0,>=2.13.0 in /usr/local/lib/python3.6/dist-packages (from spacy>=2.2.2->fr_core_news_sm==2.2.5) (2.21.0)\n",
      "Requirement already satisfied: thinc==7.4.0 in /usr/local/lib/python3.6/dist-packages (from spacy>=2.2.2->fr_core_news_sm==2.2.5) (7.4.0)\n",
      "Requirement already satisfied: srsly<1.1.0,>=1.0.2 in /usr/local/lib/python3.6/dist-packages (from spacy>=2.2.2->fr_core_news_sm==2.2.5) (1.0.2)\n",
      "Requirement already satisfied: preshed<3.1.0,>=3.0.2 in /usr/local/lib/python3.6/dist-packages (from spacy>=2.2.2->fr_core_news_sm==2.2.5) (3.0.2)\n",
      "Requirement already satisfied: murmurhash<1.1.0,>=0.28.0 in /usr/local/lib/python3.6/dist-packages (from spacy>=2.2.2->fr_core_news_sm==2.2.5) (1.0.2)\n",
      "Requirement already satisfied: plac<1.2.0,>=0.9.6 in /usr/local/lib/python3.6/dist-packages (from spacy>=2.2.2->fr_core_news_sm==2.2.5) (1.1.3)\n",
      "Requirement already satisfied: importlib-metadata>=0.20; python_version < \"3.8\" in /usr/local/lib/python3.6/dist-packages (from catalogue<1.1.0,>=0.0.7->spacy>=2.2.2->fr_core_news_sm==2.2.5) (1.5.0)\n",
      "Requirement already satisfied: chardet<3.1.0,>=3.0.2 in /usr/local/lib/python3.6/dist-packages (from requests<3.0.0,>=2.13.0->spacy>=2.2.2->fr_core_news_sm==2.2.5) (3.0.4)\n",
      "Requirement already satisfied: certifi>=2017.4.17 in /usr/local/lib/python3.6/dist-packages (from requests<3.0.0,>=2.13.0->spacy>=2.2.2->fr_core_news_sm==2.2.5) (2019.11.28)\n",
      "Requirement already satisfied: urllib3<1.25,>=1.21.1 in /usr/local/lib/python3.6/dist-packages (from requests<3.0.0,>=2.13.0->spacy>=2.2.2->fr_core_news_sm==2.2.5) (1.24.3)\n",
      "Requirement already satisfied: idna<2.9,>=2.5 in /usr/local/lib/python3.6/dist-packages (from requests<3.0.0,>=2.13.0->spacy>=2.2.2->fr_core_news_sm==2.2.5) (2.8)\n",
      "Requirement already satisfied: zipp>=0.5 in /usr/local/lib/python3.6/dist-packages (from importlib-metadata>=0.20; python_version < \"3.8\"->catalogue<1.1.0,>=0.0.7->spacy>=2.2.2->fr_core_news_sm==2.2.5) (3.1.0)\n",
      "Building wheels for collected packages: fr-core-news-sm\n",
      "  Building wheel for fr-core-news-sm (setup.py) ... \u001b[?25l\u001b[?25hdone\n",
      "  Created wheel for fr-core-news-sm: filename=fr_core_news_sm-2.2.5-cp36-none-any.whl size=14727027 sha256=cec04933c67cd2bd0c96b9cba6e326171642888a5c621af402919cabb7fb2f7c\n",
      "  Stored in directory: /tmp/pip-ephem-wheel-cache-xl0gkjsb/wheels/46/1b/e6/29b020e3f9420a24c3f463343afe5136aaaf955dbc9e46dfc5\n",
      "Successfully built fr-core-news-sm\n",
      "Installing collected packages: fr-core-news-sm\n",
      "Successfully installed fr-core-news-sm-2.2.5\n",
      "\u001b[38;5;2m✔ Download and installation successful\u001b[0m\n",
      "You can now load the model via spacy.load('fr_core_news_sm')\n"
     ]
    }
   ],
   "source": [
    "!python -m spacy download en_core_web_sm\n",
    "!python -m spacy download fr_core_news_sm"
   ]
  },
  {
   "cell_type": "code",
   "execution_count": 5,
   "metadata": {
    "colab": {},
    "colab_type": "code",
    "id": "iObo7XbCR9Jp"
   },
   "outputs": [],
   "source": [
    "import fr_core_news_sm\n",
    "import en_core_web_sm\n",
    "\n",
    "spacy_fr = fr_core_news_sm.load()\n",
    "spacy_en = en_core_web_sm.load()\n"
   ]
  },
  {
   "cell_type": "code",
   "execution_count": 6,
   "metadata": {
    "colab": {},
    "colab_type": "code",
    "id": "Fm1t67sqR-wb"
   },
   "outputs": [],
   "source": [
    "def tokenize_fr(text):\n",
    "    \"\"\"\n",
    "    Tokenizes French text from a string into a list of strings (tokens)\n",
    "    \"\"\"\n",
    "    return [tok.text for tok in spacy_fr.tokenizer(text)]\n",
    "\n",
    "def tokenize_en(text):\n",
    "    \"\"\"\n",
    "    Tokenizes English text from a string into a list of strings (tokens)\n",
    "    \"\"\"\n",
    "    return [tok.text for tok in spacy_en.tokenizer(text)]"
   ]
  },
  {
   "cell_type": "code",
   "execution_count": 7,
   "metadata": {
    "colab": {},
    "colab_type": "code",
    "id": "_jRAEDqLSBgO"
   },
   "outputs": [],
   "source": [
    "SRC = torchtext.data.Field(tokenize = tokenize_fr, \n",
    "            init_token = '<sos>', \n",
    "            eos_token = '<eos>', \n",
    "            lower = True)\n",
    "TRG = torchtext.data.Field(tokenize = tokenize_en, \n",
    "            init_token = '<sos>', \n",
    "            eos_token = '<eos>', \n",
    "            lower = True)"
   ]
  },
  {
   "cell_type": "code",
   "execution_count": 8,
   "metadata": {
    "colab": {},
    "colab_type": "code",
    "id": "WlGJ0oI5SC78"
   },
   "outputs": [],
   "source": [
    "train, val, test = torchtext.data.TabularDataset.splits(\n",
    "    path='./eng-fre/', train='train_eng_fre.tsv',validation='val_eng_fre.tsv', test='test_eng_fre.tsv', \n",
    "    format='tsv', skip_header=True, fields=[('TRG', TRG), ('SRC', SRC)])"
   ]
  },
  {
   "cell_type": "code",
   "execution_count": 9,
   "metadata": {
    "colab": {
     "base_uri": "https://localhost:8080/",
     "height": 68
    },
    "colab_type": "code",
    "id": "GwEwSf2tSEQ-",
    "outputId": "778e9531-822c-442a-ef77-d1eb81c9c4e7"
   },
   "outputs": [
    {
     "name": "stdout",
     "output_type": "stream",
     "text": [
      "Number of training examples: 29000\n",
      "Number of validation examples: 1014\n",
      "Number of testing examples: 1000\n"
     ]
    }
   ],
   "source": [
    "print(f\"Number of training examples: {len(train.examples)}\")\n",
    "print(f\"Number of validation examples: {len(val.examples)}\")\n",
    "print(f\"Number of testing examples: {len(test.examples)}\")"
   ]
  },
  {
   "cell_type": "code",
   "execution_count": 10,
   "metadata": {
    "colab": {
     "base_uri": "https://localhost:8080/",
     "height": 34
    },
    "colab_type": "code",
    "id": "9pEhwU5QSFth",
    "outputId": "ce788637-42fd-445b-dfa7-1109a7bb0ad4"
   },
   "outputs": [
    {
     "name": "stdout",
     "output_type": "stream",
     "text": [
      "{'TRG': ['two', 'young', ',', 'white', 'males', 'are', 'outside', 'near', 'many', 'bushes', '.'], 'SRC': ['deux', 'jeunes', 'hommes', 'blancs', 'sont', 'dehors', 'près', 'de', 'buissons', '.']}\n"
     ]
    }
   ],
   "source": [
    "\n",
    "print(vars(train.examples[0]))"
   ]
  },
  {
   "cell_type": "code",
   "execution_count": 11,
   "metadata": {
    "colab": {
     "base_uri": "https://localhost:8080/",
     "height": 34
    },
    "colab_type": "code",
    "id": "hUZ-3ccnSHUL",
    "outputId": "aa0c7fdd-5f50-408b-bc4c-229dc701501f"
   },
   "outputs": [
    {
     "name": "stdout",
     "output_type": "stream",
     "text": [
      "{'TRG': ['an', 'older', ',', 'overweight', 'man', 'flips', 'a', 'pancake', 'while', 'making', 'breakfast', '.'], 'SRC': ['un', 'homme', 'âgé', 'en', 'surpoids', 'fait', 'sauter', 'une', 'crêpe', 'en', 'préparant', 'le', 'petit', 'déjeuner', '.']}\n"
     ]
    }
   ],
   "source": [
    "print(vars(val.examples[100]))"
   ]
  },
  {
   "cell_type": "code",
   "execution_count": 12,
   "metadata": {
    "colab": {},
    "colab_type": "code",
    "id": "9wmQA1LkSIiM"
   },
   "outputs": [],
   "source": [
    "TRG.build_vocab(train, max_size = 6000) #<--------------\n",
    "SRC.build_vocab(train, max_size = 6000) #<--------------"
   ]
  },
  {
   "cell_type": "code",
   "execution_count": 13,
   "metadata": {
    "colab": {
     "base_uri": "https://localhost:8080/",
     "height": 51
    },
    "colab_type": "code",
    "id": "52jaZ1XtSmDH",
    "outputId": "6365033e-2ff2-48fa-acdf-1d56a522135a"
   },
   "outputs": [
    {
     "name": "stdout",
     "output_type": "stream",
     "text": [
      "Unique tokens in source (fr) vocabulary: 6004\n",
      "Unique tokens in target (en) vocabulary: 6004\n"
     ]
    }
   ],
   "source": [
    "print(f\"Unique tokens in source (fr) vocabulary: {len(SRC.vocab)}\")\n",
    "print(f\"Unique tokens in target (en) vocabulary: {len(TRG.vocab)}\")"
   ]
  },
  {
   "cell_type": "code",
   "execution_count": 14,
   "metadata": {
    "colab": {},
    "colab_type": "code",
    "id": "0JwhFrNyS0OB"
   },
   "outputs": [],
   "source": [
    "train_iter, val_iter, test_iter = torchtext.data.BucketIterator.splits(\n",
    "    (train, val, test), # we pass in the datasets we want the iterator to draw data from\n",
    "    batch_sizes=(16, 256, 256),device = device,\n",
    "    sort_key=lambda x: len(x.SRC), # the BucketIterator needs to be told what function it should use to group the data.\n",
    "    sort_within_batch=True)"
   ]
  },
  {
   "cell_type": "markdown",
   "metadata": {
    "colab_type": "text",
    "id": "Ss9kRF08e8wA"
   },
   "source": [
    "## Functions of fully training process\n",
    "If we test our code successfully. We will start the fully training loop as follows:"
   ]
  },
  {
   "cell_type": "code",
   "execution_count": 15,
   "metadata": {
    "colab": {},
    "colab_type": "code",
    "id": "CSdedl1-W4Uv"
   },
   "outputs": [],
   "source": [
    "def train(model, iterator, optimizer, criterion, clip):\n",
    "    manual_seed = 77\n",
    "    torch.manual_seed(manual_seed)\n",
    "    if n_gpu > 0:\n",
    "        torch.cuda.manual_seed(manual_seed)\n",
    "    \n",
    "    model.train()\n",
    "    \n",
    "    epoch_loss = 0\n",
    "    \n",
    "    for i, batch in enumerate(iterator):\n",
    "        \n",
    "        src = batch.SRC\n",
    "        trg = batch.TRG\n",
    "        \n",
    "        optimizer.zero_grad()\n",
    "        \n",
    "        output = model(src, trg)\n",
    "        \n",
    "        #trg = [trg len, batch size]\n",
    "        #output = [trg len, batch size, output dim]\n",
    "        \n",
    "        output_dim = output.shape[-1]\n",
    "        \n",
    "        output = output[1:].view(-1, output_dim)\n",
    "        trg = trg[1:].view(-1)\n",
    "        \n",
    "        # loss function works only 2d logits, 1d targets\n",
    "        # so flatten the trg, output tensors. Ignore the <sos> token\n",
    "        # trg shape shape should be [(sequence_len - 1) * batch_size]\n",
    "        # output shape should be [(sequence_len - 1) * batch_size, output_dim]\n",
    "        \n",
    "        loss = criterion(output, trg)\n",
    "        \n",
    "        loss.backward()\n",
    "        \n",
    "        torch.nn.utils.clip_grad_norm_(model.parameters(), clip)\n",
    "        \n",
    "        optimizer.step()\n",
    "        \n",
    "        epoch_loss += loss.item()\n",
    "\n",
    "    bleu = inference(model, \"./eng-fre/train_eng_fre.tsv\", SRC, TRG, False, 64) \n",
    "    return epoch_loss / len(iterator), bleu"
   ]
  },
  {
   "cell_type": "code",
   "execution_count": 16,
   "metadata": {
    "colab": {},
    "colab_type": "code",
    "id": "hUbwIKpCe656"
   },
   "outputs": [],
   "source": [
    "def evaluate(model, iterator, criterion):\n",
    "    \n",
    "    model.eval()\n",
    "    \n",
    "    epoch_loss = 0\n",
    "    \n",
    "    with torch.no_grad():\n",
    "    \n",
    "        for i, batch in enumerate(iterator):\n",
    "\n",
    "            src = batch.SRC\n",
    "            trg = batch.TRG\n",
    "\n",
    "            output = model(src, trg, 0) #turn off teacher forcing\n",
    "\n",
    "            #trg = [trg len, batch size]\n",
    "            #output = [trg len, batch size, output dim]\n",
    "\n",
    "            output_dim = output.shape[-1]\n",
    "            \n",
    "            output = output[1:].view(-1, output_dim)\n",
    "            trg = trg[1:].view(-1)\n",
    "\n",
    "            #trg = [(trg len - 1) * batch size]\n",
    "            #output = [(trg len - 1) * batch size, output dim]\n",
    "\n",
    "            loss = criterion(output, trg)\n",
    "\n",
    "            epoch_loss += loss.item()\n",
    "    bleu = inference(model, \"./eng-fre/val_eng_fre.tsv\", SRC, TRG, False, 64)\n",
    "    return epoch_loss / len(iterator), bleu"
   ]
  },
  {
   "cell_type": "code",
   "execution_count": 17,
   "metadata": {
    "colab": {},
    "colab_type": "code",
    "id": "Fkv8iCn1Vsm7"
   },
   "outputs": [],
   "source": [
    "def init_weights(m):\n",
    "    manual_seed = 77\n",
    "    torch.manual_seed(manual_seed)\n",
    "    if n_gpu > 0:\n",
    "        torch.cuda.manual_seed(manual_seed)\n",
    "    for name, param in m.named_parameters():\n",
    "        if 'weight' in name:\n",
    "            nn.init.normal_(param.data, mean=0, std=0.01)\n",
    "        else:\n",
    "            nn.init.constant_(param.data, 0)"
   ]
  },
  {
   "cell_type": "code",
   "execution_count": 18,
   "metadata": {
    "colab": {},
    "colab_type": "code",
    "id": "PWJOFuf4e_Q1"
   },
   "outputs": [],
   "source": [
    "def epoch_time(start_time, end_time):\n",
    "    elapsed_time = end_time - start_time\n",
    "    elapsed_mins = int(elapsed_time / 60)\n",
    "    elapsed_secs = int(elapsed_time - (elapsed_mins * 60))\n",
    "    return elapsed_mins, elapsed_secs"
   ]
  },
  {
   "cell_type": "markdown",
   "metadata": {
    "colab_type": "text",
    "id": "7D6IkXuiTDOo"
   },
   "source": [
    "## Start your works here."
   ]
  },
  {
   "cell_type": "markdown",
   "metadata": {
    "colab_type": "text",
    "id": "u7yevrg8Tjd6"
   },
   "source": [
    "`class Encoder(nn.Module):`"
   ]
  },
  {
   "cell_type": "code",
   "execution_count": 19,
   "metadata": {
    "colab": {},
    "colab_type": "code",
    "id": "PayD6nnLS-zi"
   },
   "outputs": [],
   "source": [
    "class Encoder(nn.Module):\n",
    "    def __init__(self, input_dim, emb_dim, enc_hid_dim,n_layers, dropout):\n",
    "        super().__init__()\n",
    "\n",
    "        self.emb_dim = emb_dim\n",
    "        self.enc_hid_dim = enc_hid_dim\n",
    "        self.dropout = dropout\n",
    "        self.n_layers = n_layers\n",
    "\n",
    "        self.embedding = nn.Embedding(input_dim, emb_dim)\n",
    "        self.lstm = nn.LSTM(emb_dim, enc_hid_dim, n_layers, dropout=dropout, bidirectional=True)\n",
    "        self.dropout = nn.Dropout(dropout)\n",
    "        \n",
    "    def forward(self, src):\n",
    "        \n",
    "        #src = [src len, batch size]\n",
    "        \n",
    "        embedded = self.dropout(self.embedding(src))\n",
    "        \n",
    "        #embedded = [src len, batch size, emb dim]\n",
    "        \n",
    "        outputs, (hidden, cell) = self.lstm(embedded)\n",
    "       \n",
    "        # outputs are always from the top hidden layer, if bidirectional outputs are concatenated.\n",
    "        # outputs shape [sequence_length, batch_size, hidden_dim * num_directions]\n",
    "        # hidden is of shape [num_layers * num_directions, batch_size, hidden_size]\n",
    "        # cell is of shape [num_layers * num_directions, batch_size, hidden_size]\n",
    "        \n",
    "        return outputs, hidden, cell #<--------------"
   ]
  },
  {
   "cell_type": "markdown",
   "metadata": {
    "colab_type": "text",
    "id": "3w45C-RYTnTT"
   },
   "source": [
    "`class Decoder(nn.Module):`"
   ]
  },
  {
   "cell_type": "code",
   "execution_count": 20,
   "metadata": {
    "colab": {},
    "colab_type": "code",
    "id": "vpPMP55aTXjb"
   },
   "outputs": [],
   "source": [
    "class Decoder(nn.Module):\n",
    "    def __init__(self, output_dim, emb_dim, dec_hid_dim, n_layers, dropout):\n",
    "        super().__init__()\n",
    "\n",
    "        self.emb_dim = emb_dim\n",
    "        self.output_dim = output_dim\n",
    "        self.dec_hid_dim = dec_hid_dim\n",
    "        self.n_layers = n_layers\n",
    "        self.dropout = dropout\n",
    "\n",
    "        self.embedding = nn.Embedding(output_dim, emb_dim)\n",
    "        self.lstm = nn.LSTM(emb_dim, dec_hid_dim, n_layers, dropout=dropout)\n",
    "        self.fc_out = nn.Linear(dec_hid_dim, output_dim)\n",
    "        self.dropout = nn.Dropout(dropout)\n",
    "        \n",
    "    def forward(self, input, hidden, cell):\n",
    "             \n",
    "        # input is of shape [batch_size]\n",
    "        # hidden is of shape [n_layer * num_directions, batch_size, hidden_size]\n",
    "        # cell is of shape [n_layer * num_directions, batch_size, hidden_size]\n",
    "        \n",
    "        input = input.unsqueeze(0)\n",
    "        \n",
    "        # input shape is [1, batch_size]. reshape is needed rnn expects a rank 3 tensors as input.\n",
    "        # so reshaping to [1, batch_size] means a batch of batch_size each containing 1 index.\n",
    "        \n",
    "        embedded = self.dropout(self.embedding(input))\n",
    "        \n",
    "        #embedded = [1, batch size, emb dim]    \n",
    "        output, (hidden, cell) = self.lstm(embedded, (hidden, cell))\n",
    "        \n",
    "        # output shape is [sequence_len, batch_size, hidden_dim * num_directions]\n",
    "        # hidden shape is [num_layers * num_directions, batch_size, hidden_dim]\n",
    "        # cell shape is [num_layers * num_directions, batch_size, hidden_dim]\n",
    "\n",
    "        # sequence_len and num_directions will always be 1 in the decoder.\n",
    "        # output shape is [1, batch_size, hidden_dim]\n",
    "        # hidden shape is [num_layers, batch_size, hidden_dim]\n",
    "        # cell shape is [num_layers, batch_size, hidden_dim]\n",
    "        \n",
    "        prediction = self.fc_out(hidden.squeeze(0)) # linear expects as rank 2 tensor as input\n",
    "        # predicted shape is [batch_size, output_dim]\n",
    "        \n",
    "        return prediction, hidden, cell"
   ]
  },
  {
   "cell_type": "markdown",
   "metadata": {
    "colab_type": "text",
    "id": "P5sxsPv3TqU8"
   },
   "source": [
    "`class Seq2Seq(nn.Module):`"
   ]
  },
  {
   "cell_type": "code",
   "execution_count": 21,
   "metadata": {
    "colab": {},
    "colab_type": "code",
    "id": "bIZCHNK1Tf46"
   },
   "outputs": [],
   "source": [
    "class Seq2Seq(nn.Module):\n",
    "    ''' This class contains the implementation of complete sequence to sequence network.\n",
    "    It uses to encoder to produce the context vectors.\n",
    "    It uses the decoder to produce the predicted target sentence.\n",
    "    Args:\n",
    "        encoder: A Encoder class instance.\n",
    "        decoder: A Decoder class instance.\n",
    "    '''\n",
    "    def __init__(self, encoder, decoder, device):\n",
    "        super().__init__()\n",
    "        self.encoder = encoder\n",
    "        self.decoder = decoder\n",
    "        self.device = device\n",
    "\n",
    "    def forward(self, src, trg, teacher_forcing_ratio=0.5):\n",
    "        # src is of shape [sequence_len, batch_size]\n",
    "        # trg is of shape [sequence_len, batch_size]\n",
    "        # if teacher_forcing_ratio is 0.5 we use ground-truth inputs 50% of time and 50% time we use decoder outputs.\n",
    "\n",
    "        batch_size = trg.shape[1]\n",
    "\n",
    "        max_len = trg.shape[0]\n",
    "        trg_vocab_size = self.decoder.output_dim\n",
    "\n",
    "        # to store the outputs of the decoder\n",
    "        outputs = torch.zeros(max_len, batch_size, trg_vocab_size).to(self.device)\n",
    "\n",
    "        # context vector, last hidden and cell state of encoder to initialize the decoder\n",
    "        encoder_outputs, _, cell = self.encoder(src)\n",
    "        # hidden shape is [num_layers * num_directions, batch_size, hidden_dim]\n",
    "        hidden = torch.mean(encoder_outputs, dim=0).unsqueeze(0) #<--------------\n",
    "\n",
    "        decoder_dim = hidden.shape[-2]\n",
    "        # cell is of shape [num_layers * num_directions, batch_size, hidden_size]\n",
    "        cell = torch.cat((cell[0,:,:],cell[1,:,:]),dim=-1).unsqueeze(0) #<--------------\n",
    "        \n",
    "        # first input to the decoder is the <sos> tokens\n",
    "        input = trg[0, :]\n",
    "\n",
    "        for t in range(1, max_len):\n",
    "            output, hidden, cell = self.decoder(input, hidden, cell)\n",
    "            outputs[t] = output\n",
    "            use_teacher_force = random.random() < teacher_forcing_ratio\n",
    "            top1 = output.max(1)[1]\n",
    "            input = (trg[t] if use_teacher_force else top1)\n",
    "\n",
    "        # outputs is of shape [sequence_len, batch_size, output_dim]\n",
    "        return outputs"
   ]
  },
  {
   "cell_type": "markdown",
   "metadata": {
    "colab_type": "text",
    "id": "c3efGZqfyYU5"
   },
   "source": [
    "## Instantiation"
   ]
  },
  {
   "cell_type": "code",
   "execution_count": 23,
   "metadata": {
    "colab": {
     "base_uri": "https://localhost:8080/",
     "height": 85
    },
    "colab_type": "code",
    "id": "rw9NBrhkTtz1",
    "outputId": "57f0cecf-a54f-4633-cc99-2347620f7c42"
   },
   "outputs": [
    {
     "name": "stderr",
     "output_type": "stream",
     "text": [
      "/home/chiyu94/py3.6/lib/python3.6/site-packages/torch/nn/modules/rnn.py:51: UserWarning: dropout option adds dropout after all but last recurrent layer, so non-zero dropout expects num_layers greater than 1, but got dropout=0.5 and num_layers=1\n",
      "  \"num_layers={}\".format(dropout, num_layers))\n",
      "/home/chiyu94/py3.6/lib/python3.6/site-packages/torch/nn/modules/rnn.py:51: UserWarning: dropout option adds dropout after all but last recurrent layer, so non-zero dropout expects num_layers greater than 1, but got dropout=0.3 and num_layers=1\n",
      "  \"num_layers={}\".format(dropout, num_layers))\n"
     ]
    }
   ],
   "source": [
    "INPUT_DIM = len(SRC.vocab)\n",
    "OUTPUT_DIM = len(TRG.vocab)\n",
    "ENC_EMB_DIM = 256\n",
    "DEC_EMB_DIM = 256\n",
    "ENC_HID_DIM = 512\n",
    "DEC_HID_DIM = 1024 #<--------------\n",
    "ENC_DROPOUT = 0.5\n",
    "DEC_DROPOUT = 0.3\n",
    "N_LAYERS = 1\n",
    "LEARNING_RT = 0.001\n",
    "enc = Encoder(INPUT_DIM, ENC_EMB_DIM, ENC_HID_DIM, N_LAYERS, ENC_DROPOUT)\n",
    "dec = Decoder(OUTPUT_DIM, DEC_EMB_DIM, DEC_HID_DIM, N_LAYERS, DEC_DROPOUT)\n",
    "\n",
    "model = Seq2Seq(enc, dec,device).to(device)"
   ]
  },
  {
   "cell_type": "code",
   "execution_count": 33,
   "metadata": {
    "colab": {},
    "colab_type": "code",
    "id": "KIe8z4CpyGTC"
   },
   "outputs": [],
   "source": [
    "model.apply(init_weights)\n",
    "optimizer = optim.Adam(model.parameters(), lr = LEARNING_RT)"
   ]
  },
  {
   "cell_type": "code",
   "execution_count": 34,
   "metadata": {
    "colab": {
     "base_uri": "https://localhost:8080/",
     "height": 34
    },
    "colab_type": "code",
    "id": "WR0L0HXDWbg8",
    "outputId": "43dc5655-9121-4e83-95c8-a34720b22424"
   },
   "outputs": [
    {
     "name": "stdout",
     "output_type": "stream",
     "text": [
      "<pad> token index:  1\n"
     ]
    }
   ],
   "source": [
    "TRG_PAD_IDX = TRG.vocab.stoi[TRG.pad_token]\n",
    "print('<pad> token index: ',TRG_PAD_IDX)\n",
    "## we will ignor the pad token in true target set\n",
    "criterion = nn.CrossEntropyLoss(ignore_index = TRG_PAD_IDX)"
   ]
  },
  {
   "cell_type": "markdown",
   "metadata": {
    "colab_type": "text",
    "id": "ZrwiDMRUy8Js"
   },
   "source": [
    "## Prototype Test"
   ]
  },
  {
   "cell_type": "code",
   "execution_count": 0,
   "metadata": {
    "colab": {
     "base_uri": "https://localhost:8080/",
     "height": 34
    },
    "colab_type": "code",
    "id": "PYECcogzWhzU",
    "outputId": "7c838bd7-0125-43a6-da65-af97b51587df"
   },
   "outputs": [
    {
     "name": "stdout",
     "output_type": "stream",
     "text": [
      "tensor(0.5438, device='cuda:0', grad_fn=<DivBackward0>)\n"
     ]
    }
   ],
   "source": [
    "clip = 1\n",
    "model.train()\n",
    "\n",
    "for i, batch in enumerate(train_iter):\n",
    "\n",
    "    src = batch.SRC\n",
    "    trg = batch.TRG\n",
    "    optimizer.zero_grad()\n",
    "\n",
    "    output = model(src, trg)\n",
    "    #trg = [trg len, batch size]\n",
    "    #output = [trg len, batch size, output dim]\n",
    "\n",
    "    output_dim = output.shape[-1]\n",
    "\n",
    "    output = output[1:].view(-1, output_dim)\n",
    "    trg = trg[1:].view(-1)\n",
    "\n",
    "    #trg = [(trg len - 1) * batch size]\n",
    "    #output = [(trg len - 1) * batch size, output dim]\n",
    "\n",
    "    loss = criterion(output, trg)\n",
    "\n",
    "    loss.backward()\n",
    "\n",
    "    torch.nn.utils.clip_grad_norm_(model.parameters(), clip)\n",
    "\n",
    "    optimizer.step()\n",
    "\n",
    "    print(loss/src.shape[1])\n",
    "    break"
   ]
  },
  {
   "cell_type": "code",
   "execution_count": 35,
   "metadata": {
    "colab": {},
    "colab_type": "code",
    "id": "BN5c7jG1fyRY"
   },
   "outputs": [],
   "source": [
    "import pickle\n",
    "with open(\"./ckpt_ex1/TRG.Field\",\"wb\")as f:\n",
    "     pickle.dump(TRG,f)\n",
    "\n",
    "with open(\"./ckpt_ex1/SRC.Field\",\"wb\")as f:\n",
    "     pickle.dump(SRC,f)"
   ]
  },
  {
   "cell_type": "markdown",
   "metadata": {
    "colab_type": "text",
    "id": "XM-4OWGvxzMR"
   },
   "source": [
    "## Training"
   ]
  },
  {
   "cell_type": "code",
   "execution_count": 36,
   "metadata": {
    "colab": {
     "base_uri": "https://localhost:8080/",
     "height": 232
    },
    "colab_type": "code",
    "id": "ZxEynmkAfB1T",
    "outputId": "dc0aaf8e-f5e5-4194-d49d-2300826aac71"
   },
   "outputs": [
    {
     "name": "stdout",
     "output_type": "stream",
     "text": [
      "Epoch: 01 | Time: 2m 9s\n",
      "\tTrain Loss: 4.327 | Train PPL:  75.721\n",
      "\t Val. Loss: 4.369 |  Val. PPL:  78.996\n",
      "\t Train BLEU:0.032 |  Val. BLEU:   0.031\n",
      "Epoch: 02 | Time: 2m 6s\n",
      "\tTrain Loss: 3.466 | Train PPL:  32.009\n",
      "\t Val. Loss: 3.911 |  Val. PPL:  49.973\n",
      "\t Train BLEU:0.122 |  Val. BLEU:   0.117\n",
      "Epoch: 03 | Time: 2m 6s\n",
      "\tTrain Loss: 2.977 | Train PPL:  19.625\n",
      "\t Val. Loss: 3.589 |  Val. PPL:  36.211\n",
      "\t Train BLEU:0.170 |  Val. BLEU:   0.152\n",
      "Epoch: 04 | Time: 2m 6s\n",
      "\tTrain Loss: 2.616 | Train PPL:  13.678\n",
      "\t Val. Loss: 3.452 |  Val. PPL:  31.559\n",
      "\t Train BLEU:0.217 |  Val. BLEU:   0.185\n",
      "Epoch: 05 | Time: 2m 6s\n",
      "\tTrain Loss: 2.320 | Train PPL:  10.177\n",
      "\t Val. Loss: 3.393 |  Val. PPL:  29.743\n",
      "\t Train BLEU:0.267 |  Val. BLEU:   0.217\n",
      "Epoch: 06 | Time: 2m 7s\n",
      "\tTrain Loss: 2.063 | Train PPL:   7.870\n",
      "\t Val. Loss: 3.396 |  Val. PPL:  29.843\n",
      "\t Train BLEU:0.321 |  Val. BLEU:   0.231\n",
      "Epoch: 07 | Time: 2m 6s\n",
      "\tTrain Loss: 1.821 | Train PPL:   6.176\n",
      "\t Val. Loss: 3.451 |  Val. PPL:  31.540\n",
      "\t Train BLEU:0.366 |  Val. BLEU:   0.239\n",
      "Epoch: 08 | Time: 2m 6s\n",
      "\tTrain Loss: 1.619 | Train PPL:   5.050\n",
      "\t Val. Loss: 3.512 |  Val. PPL:  33.529\n",
      "\t Train BLEU:0.416 |  Val. BLEU:   0.248\n",
      "Epoch: 09 | Time: 2m 6s\n",
      "\tTrain Loss: 1.432 | Train PPL:   4.189\n",
      "\t Val. Loss: 3.599 |  Val. PPL:  36.562\n",
      "\t Train BLEU:0.466 |  Val. BLEU:   0.253\n",
      "Epoch: 10 | Time: 2m 7s\n",
      "\tTrain Loss: 1.283 | Train PPL:   3.607\n",
      "\t Val. Loss: 3.700 |  Val. PPL:  40.427\n",
      "\t Train BLEU:0.510 |  Val. BLEU:   0.246\n",
      "Epoch: 11 | Time: 2m 7s\n",
      "\tTrain Loss: 1.140 | Train PPL:   3.126\n",
      "\t Val. Loss: 3.763 |  Val. PPL:  43.075\n",
      "\t Train BLEU:0.547 |  Val. BLEU:   0.243\n",
      "Epoch: 12 | Time: 2m 6s\n",
      "\tTrain Loss: 1.036 | Train PPL:   2.818\n",
      "\t Val. Loss: 3.798 |  Val. PPL:  44.631\n",
      "\t Train BLEU:0.590 |  Val. BLEU:   0.250\n",
      "Epoch: 13 | Time: 2m 7s\n",
      "\tTrain Loss: 0.931 | Train PPL:   2.537\n",
      "\t Val. Loss: 3.890 |  Val. PPL:  48.896\n",
      "\t Train BLEU:0.624 |  Val. BLEU:   0.250\n",
      "Epoch: 14 | Time: 2m 6s\n",
      "\tTrain Loss: 0.846 | Train PPL:   2.331\n",
      "\t Val. Loss: 4.007 |  Val. PPL:  54.995\n",
      "\t Train BLEU:0.645 |  Val. BLEU:   0.244\n",
      "Epoch: 15 | Time: 2m 7s\n",
      "\tTrain Loss: 0.776 | Train PPL:   2.173\n",
      "\t Val. Loss: 4.085 |  Val. PPL:  59.454\n",
      "\t Train BLEU:0.680 |  Val. BLEU:   0.247\n"
     ]
    }
   ],
   "source": [
    "N_EPOCHS = 15\n",
    "CLIP = 1\n",
    "\n",
    "best_valid_loss = float('inf')\n",
    "\n",
    "for epoch in range(N_EPOCHS):\n",
    "    \n",
    "    start_time = time.time()\n",
    "    \n",
    "    train_loss,bleu_train = train(model, train_iter, optimizer, criterion, CLIP)\n",
    "    valid_loss,bleu_val = evaluate(model, val_iter, criterion)\n",
    "    \n",
    "    end_time = time.time()\n",
    "    \n",
    "    epoch_mins, epoch_secs = epoch_time(start_time, end_time)\n",
    "    \n",
    "    # Create checkpoint at end of each epoch\n",
    "    state_dict_model = model.state_dict() \n",
    "    state = {\n",
    "        'epoch': epoch,\n",
    "        'state_dict': state_dict_model,\n",
    "        'optimizer': optimizer.state_dict()\n",
    "        }\n",
    "\n",
    "    torch.save(state, \"./ckpt_ex1/seq2seq_\"+str(epoch+1)+\".pt\")\n",
    "\n",
    "    print(f'Epoch: {epoch+1:02} | Time: {epoch_mins}m {epoch_secs}s')\n",
    "    print(f'\\tTrain Loss: {train_loss:.3f} | Train PPL: {math.exp(train_loss):7.3f}')\n",
    "    print(f'\\t Val. Loss: {valid_loss:.3f} |  Val. PPL: {math.exp(valid_loss):7.3f}')\n",
    "    print(f'\\t Train BLEU:{bleu_train:.3f} |  Val. BLEU: {bleu_val:7.3f}')"
   ]
  },
  {
   "cell_type": "code",
   "execution_count": 68,
   "metadata": {},
   "outputs": [],
   "source": [
    "with open(\"./ckpt_ex1/TRG.Field\",\"rb\") as f:\n",
    "     TRG_ex1_aved = pickle.load(f)\n",
    "\n",
    "with open(\"./ckpt_ex1/SRC.Field\",\"rb\") as f:\n",
    "     SRC_ex1_saved = pickle.load(f)"
   ]
  },
  {
   "cell_type": "code",
   "execution_count": 25,
   "metadata": {
    "colab": {
     "base_uri": "https://localhost:8080/",
     "height": 85
    },
    "colab_type": "code",
    "id": "9xRyCfVC440b",
    "outputId": "0fe1a842-f944-460d-ddd9-645fed2a9f4f"
   },
   "outputs": [],
   "source": [
    "enc = Encoder(INPUT_DIM, ENC_EMB_DIM, ENC_HID_DIM, N_LAYERS, ENC_DROPOUT)\n",
    "dec = Decoder(OUTPUT_DIM, DEC_EMB_DIM, DEC_HID_DIM, N_LAYERS, DEC_DROPOUT)\n",
    "\n",
    "model_ex1_best = Seq2Seq(enc, dec, device)\n",
    "\n",
    "model_ex1_best.load_state_dict(torch.load('./ckpt_ex1/seq2seq_9.pt')['state_dict'])\n",
    "model_ex1_best = model_ex1_best.to(device)"
   ]
  },
  {
   "cell_type": "code",
   "execution_count": 54,
   "metadata": {
    "colab": {
     "base_uri": "https://localhost:8080/",
     "height": 34
    },
    "colab_type": "code",
    "id": "Rm9kVH3V4Bzm",
    "outputId": "971a29f7-962e-4ef6-ac78-e2002ebc6c60"
   },
   "outputs": [
    {
     "data": {
      "text/plain": [
       "0.2655384705729738"
      ]
     },
     "execution_count": 54,
     "metadata": {},
     "output_type": "execute_result"
    }
   ],
   "source": [
    "inference(model_ex1_best, \"./eng-fre/test_eng_fre.tsv\", SRC_ex1_saved, TRG_ex1_aved, False, 64)"
   ]
  },
  {
   "cell_type": "markdown",
   "metadata": {
    "colab_type": "text",
    "id": "jy8jqg1AKcNe"
   },
   "source": [
    "### 1.0 Please paste your full training log here. Which epoch is the best?\n",
    "rubric={accuracy:2}\n",
    "Your log should look like this:\n",
    "```\n",
    "Epoch: 01 | Time: 1m 25s\n",
    "\tTrain Loss: 4.293 | Train PPL:  73.188\n",
    "\t Val. Loss: 4.263 |  Val. PPL:  71.012 \n",
    "   ............\n",
    "```"
   ]
  },
  {
   "cell_type": "markdown",
   "metadata": {
    "colab_type": "text",
    "id": "bAsq8SKOKhvi"
   },
   "source": [
    "**Your answer:**\n",
    "**My best model is trained with 9 epochs.**   (Your best model may get at different epochs. The best model should be the model which obtained best BLEU score on validation set.) "
   ]
  },
  {
   "cell_type": "markdown",
   "metadata": {
    "colab_type": "text",
    "id": "XwOaIdmHKyaV"
   },
   "source": [
    "```\n",
    "Epoch: 01 | Time: 2m 9s\n",
    "\tTrain Loss: 4.327 | Train PPL:  75.721\n",
    "\t Val. Loss: 4.369 |  Val. PPL:  78.996\n",
    "\t Train BLEU:0.032 |  Val. BLEU:   0.031\n",
    "Epoch: 02 | Time: 2m 6s\n",
    "\tTrain Loss: 3.466 | Train PPL:  32.009\n",
    "\t Val. Loss: 3.911 |  Val. PPL:  49.973\n",
    "\t Train BLEU:0.122 |  Val. BLEU:   0.117\n",
    "Epoch: 03 | Time: 2m 6s\n",
    "\tTrain Loss: 2.977 | Train PPL:  19.625\n",
    "\t Val. Loss: 3.589 |  Val. PPL:  36.211\n",
    "\t Train BLEU:0.170 |  Val. BLEU:   0.152\n",
    "Epoch: 04 | Time: 2m 6s\n",
    "\tTrain Loss: 2.616 | Train PPL:  13.678\n",
    "\t Val. Loss: 3.452 |  Val. PPL:  31.559\n",
    "\t Train BLEU:0.217 |  Val. BLEU:   0.185\n",
    "Epoch: 05 | Time: 2m 6s\n",
    "\tTrain Loss: 2.320 | Train PPL:  10.177\n",
    "\t Val. Loss: 3.393 |  Val. PPL:  29.743\n",
    "\t Train BLEU:0.267 |  Val. BLEU:   0.217\n",
    "Epoch: 06 | Time: 2m 7s\n",
    "\tTrain Loss: 2.063 | Train PPL:   7.870\n",
    "\t Val. Loss: 3.396 |  Val. PPL:  29.843\n",
    "\t Train BLEU:0.321 |  Val. BLEU:   0.231\n",
    "Epoch: 07 | Time: 2m 6s\n",
    "\tTrain Loss: 1.821 | Train PPL:   6.176\n",
    "\t Val. Loss: 3.451 |  Val. PPL:  31.540\n",
    "\t Train BLEU:0.366 |  Val. BLEU:   0.239\n",
    "Epoch: 08 | Time: 2m 6s\n",
    "\tTrain Loss: 1.619 | Train PPL:   5.050\n",
    "\t Val. Loss: 3.512 |  Val. PPL:  33.529\n",
    "\t Train BLEU:0.416 |  Val. BLEU:   0.248\n",
    "Epoch: 09 | Time: 2m 6s\n",
    "\tTrain Loss: 1.432 | Train PPL:   4.189\n",
    "\t Val. Loss: 3.599 |  Val. PPL:  36.562\n",
    "\t Train BLEU:0.466 |  Val. BLEU:   0.253\n",
    "Epoch: 10 | Time: 2m 7s\n",
    "\tTrain Loss: 1.283 | Train PPL:   3.607\n",
    "\t Val. Loss: 3.700 |  Val. PPL:  40.427\n",
    "\t Train BLEU:0.510 |  Val. BLEU:   0.246\n",
    "Epoch: 11 | Time: 2m 7s\n",
    "\tTrain Loss: 1.140 | Train PPL:   3.126\n",
    "\t Val. Loss: 3.763 |  Val. PPL:  43.075\n",
    "\t Train BLEU:0.547 |  Val. BLEU:   0.243\n",
    "Epoch: 12 | Time: 2m 6s\n",
    "\tTrain Loss: 1.036 | Train PPL:   2.818\n",
    "\t Val. Loss: 3.798 |  Val. PPL:  44.631\n",
    "\t Train BLEU:0.590 |  Val. BLEU:   0.250\n",
    "Epoch: 13 | Time: 2m 7s\n",
    "\tTrain Loss: 0.931 | Train PPL:   2.537\n",
    "\t Val. Loss: 3.890 |  Val. PPL:  48.896\n",
    "\t Train BLEU:0.624 |  Val. BLEU:   0.250\n",
    "Epoch: 14 | Time: 2m 6s\n",
    "\tTrain Loss: 0.846 | Train PPL:   2.331\n",
    "\t Val. Loss: 4.007 |  Val. PPL:  54.995\n",
    "\t Train BLEU:0.645 |  Val. BLEU:   0.244\n",
    "Epoch: 15 | Time: 2m 7s\n",
    "\tTrain Loss: 0.776 | Train PPL:   2.173\n",
    "\t Val. Loss: 4.085 |  Val. PPL:  59.454\n",
    "\t Train BLEU:0.680 |  Val. BLEU:   0.247\n",
    "```"
   ]
  },
  {
   "cell_type": "markdown",
   "metadata": {
    "colab_type": "text",
    "id": "5cjlNIeALW4g"
   },
   "source": [
    "### 1.1 Please report the cumulative BLEU-4 score on test set (i.e., `test_eng_fre.tsv`) via corpus_bleu() function.\n",
    "rubric={accuracy:2}\n",
    "\n",
    "Hint: You can use `inference()` function. "
   ]
  },
  {
   "cell_type": "markdown",
   "metadata": {
    "colab_type": "text",
    "id": "2Gy0xzi8LYEA"
   },
   "source": [
    "**Your answer goes here**\n",
    "\n",
    "**My best model obtains 0.27 cumulative BLEU-4 score.**"
   ]
  },
  {
   "cell_type": "markdown",
   "metadata": {
    "colab_type": "text",
    "id": "IUKeK6YTL1os"
   },
   "source": [
    "### Please paste your code for the corresponding questions."
   ]
  },
  {
   "cell_type": "markdown",
   "metadata": {
    "colab_type": "text",
    "id": "OfKi9skwL2iG"
   },
   "source": [
    "### 1.2 Pleae revise the following code to build the appropriate vocabularies:  (the torchtext Field with add four more special tokens: \\<pad\\>,\\<unk\\>,\\<sos\\>,\\<eos\\>.)\n",
    "rubric={accuracy:2}"
   ]
  },
  {
   "cell_type": "code",
   "execution_count": 0,
   "metadata": {
    "colab": {},
    "colab_type": "code",
    "id": "r93Ig8RYMYpB"
   },
   "outputs": [],
   "source": [
    "TRG.build_vocab(train, max_size = 6000) #<--------------\n",
    "SRC.build_vocab(train, max_size = 6000) #<--------------"
   ]
  },
  {
   "cell_type": "markdown",
   "metadata": {
    "colab_type": "text",
    "id": "76sCGlKSL3Lw"
   },
   "source": [
    "### 1.3 You may need to revise `class Encoder`. Please show your code for `class Encoder`: (You average hidden states and concatenate cell states either in Encoder class or Seq2Seq class.) \n",
    "rubric={accuracy:2, efficiency:2}"
   ]
  },
  {
   "cell_type": "code",
   "execution_count": 31,
   "metadata": {
    "colab": {},
    "colab_type": "code",
    "id": "wcn_Ykf6NsMj"
   },
   "outputs": [],
   "source": [
    "class Encoder(nn.Module):\n",
    "    def __init__(self, input_dim, emb_dim, enc_hid_dim,n_layers, dropout):\n",
    "        super().__init__()\n",
    "\n",
    "        self.emb_dim = emb_dim\n",
    "        self.enc_hid_dim = enc_hid_dim\n",
    "        self.dropout = dropout\n",
    "        self.n_layers = n_layers\n",
    "\n",
    "        self.embedding = nn.Embedding(input_dim, emb_dim)\n",
    "        self.lstm = nn.LSTM(emb_dim, enc_hid_dim, n_layers, dropout=dropout, bidirectional=True)\n",
    "        self.dropout = nn.Dropout(dropout)\n",
    "        \n",
    "    def forward(self, src):\n",
    "        \n",
    "        #src = [src len, batch size]\n",
    "        \n",
    "        embedded = self.dropout(self.embedding(src))\n",
    "        \n",
    "        #embedded = [src len, batch size, emb dim]\n",
    "        \n",
    "        outputs, (hidden, cell) = self.lstm(embedded)\n",
    "       \n",
    "        # outputs are always from the top hidden layer, if bidirectional outputs are concatenated.\n",
    "        # outputs shape [sequence_length, batch_size, hidden_dim * num_directions]\n",
    "        # hidden is of shape [num_layers * num_directions, batch_size, hidden_size]\n",
    "        # cell is of shape [num_layers * num_directions, batch_size, hidden_size]\n",
    "        \n",
    "        return outputs, hidden, cell #<--------------"
   ]
  },
  {
   "cell_type": "markdown",
   "metadata": {
    "colab_type": "text",
    "id": "r9ioVF4uL3Ot"
   },
   "source": [
    "### 1.4  You may need to revise `class Decoder`. Please show your code for `class Decoder`:\n",
    "rubric={accuracy:2, efficiency:2}"
   ]
  },
  {
   "cell_type": "code",
   "execution_count": 0,
   "metadata": {
    "colab": {},
    "colab_type": "code",
    "id": "ApQz7yqDObQw"
   },
   "outputs": [],
   "source": [
    "class Decoder(nn.Module):\n",
    "    def __init__(self, output_dim, emb_dim, dec_hid_dim, n_layers, dropout):\n",
    "        super().__init__()\n",
    "\n",
    "        self.emb_dim = emb_dim\n",
    "        self.output_dim = output_dim\n",
    "        self.dec_hid_dim = dec_hid_dim\n",
    "        self.n_layers = n_layers\n",
    "        self.dropout = dropout\n",
    "\n",
    "        self.embedding = nn.Embedding(output_dim, emb_dim)\n",
    "        self.lstm = nn.LSTM(emb_dim, dec_hid_dim, n_layers, dropout=dropout)\n",
    "        self.fc_out = nn.Linear(dec_hid_dim, output_dim)\n",
    "        self.dropout = nn.Dropout(dropout)\n",
    "        \n",
    "    def forward(self, input, hidden, cell):\n",
    "             \n",
    "        # input is of shape [batch_size]\n",
    "        # hidden is of shape [n_layer * num_directions, batch_size, hidden_size]\n",
    "        # cell is of shape [n_layer * num_directions, batch_size, hidden_size]\n",
    "        \n",
    "        input = input.unsqueeze(0)\n",
    "        \n",
    "        # input shape is [1, batch_size]. reshape is needed rnn expects a rank 3 tensors as input.\n",
    "        # so reshaping to [1, batch_size] means a batch of batch_size each containing 1 index.\n",
    "        \n",
    "        embedded = self.dropout(self.embedding(input))\n",
    "        \n",
    "        #embedded = [1, batch size, emb dim]    \n",
    "        output, (hidden, cell) = self.lstm(embedded, (hidden, cell))\n",
    "        \n",
    "        # output shape is [sequence_len, batch_size, hidden_dim * num_directions]\n",
    "        # hidden shape is [num_layers * num_directions, batch_size, hidden_dim]\n",
    "        # cell shape is [num_layers * num_directions, batch_size, hidden_dim]\n",
    "\n",
    "        # sequence_len and num_directions will always be 1 in the decoder.\n",
    "        # output shape is [1, batch_size, hidden_dim]\n",
    "        # hidden shape is [num_layers, batch_size, hidden_dim]\n",
    "        # cell shape is [num_layers, batch_size, hidden_dim]\n",
    "        \n",
    "        prediction = self.fc_out(hidden.squeeze(0)) # linear expects as rank 2 tensor as input\n",
    "        # predicted shape is [batch_size, output_dim]\n",
    "        \n",
    "        return prediction, hidden, cell"
   ]
  },
  {
   "cell_type": "markdown",
   "metadata": {
    "colab_type": "text",
    "id": "J2tavMgYL3R8"
   },
   "source": [
    "### 1.5 You may need to revise `class Seq2Seq`. Please show your code for `class Seq2Seq`:\n",
    "rubric={accuracy:2, efficiency:2}"
   ]
  },
  {
   "cell_type": "code",
   "execution_count": 0,
   "metadata": {
    "colab": {},
    "colab_type": "code",
    "id": "g1nbZVgQOpbK"
   },
   "outputs": [],
   "source": [
    "class Seq2Seq(nn.Module):\n",
    "    ''' This class contains the implementation of complete sequence to sequence network.\n",
    "    It uses to encoder to produce the context vectors.\n",
    "    It uses the decoder to produce the predicted target sentence.\n",
    "    Args:\n",
    "        encoder: A Encoder class instance.\n",
    "        decoder: A Decoder class instance.\n",
    "    '''\n",
    "    def __init__(self, encoder, decoder, device):\n",
    "        super().__init__()\n",
    "        self.encoder = encoder\n",
    "        self.decoder = decoder\n",
    "        self.device = device\n",
    "\n",
    "    def forward(self, src, trg, teacher_forcing_ratio=0.5):\n",
    "        # src is of shape [sequence_len, batch_size]\n",
    "        # trg is of shape [sequence_len, batch_size]\n",
    "        # if teacher_forcing_ratio is 0.5 we use ground-truth inputs 50% of time and 50% time we use decoder outputs.\n",
    "\n",
    "        batch_size = trg.shape[1]\n",
    "\n",
    "        max_len = trg.shape[0]\n",
    "        trg_vocab_size = self.decoder.output_dim\n",
    "\n",
    "        # to store the outputs of the decoder\n",
    "        outputs = torch.zeros(max_len, batch_size, trg_vocab_size).to(self.device)\n",
    "\n",
    "        # context vector, last hidden and cell state of encoder to initialize the decoder\n",
    "        encoder_outputs, _, cell = self.encoder(src)\n",
    "\n",
    "        # hidden shape is [num_layers * num_directions, batch_size, hidden_dim]\n",
    "        hidden = torch.mean(encoder_outputs, dim=0).unsqueeze(0) #<--------------\n",
    "\n",
    "        decoder_dim = hidden.shape[-2]\n",
    "\n",
    "        # cell is of shape [num_layers * num_directions, batch_size, hidden_size], our decoder only has 1 layer and 1 direction. \n",
    "        # But our Encoder has two directions. So we need concatenate two directional representations from Encoder. \n",
    "        cell = torch.cat((cell[0],cell[1]),dim=-1).unsqueeze(0) #<-------------- \n",
    "        \n",
    "        # first input to the decoder is the <sos> tokens\n",
    "        input = trg[0, :]\n",
    "\n",
    "        for t in range(1, max_len):\n",
    "            output, hidden, cell = self.decoder(input, hidden, cell)\n",
    "            outputs[t] = output\n",
    "            use_teacher_force = random.random() < teacher_forcing_ratio\n",
    "            top1 = output.max(1)[1]\n",
    "            input = (trg[t] if use_teacher_force else top1)\n",
    "\n",
    "        # outputs is of shape [sequence_len, batch_size, output_dim]\n",
    "        return outputs"
   ]
  },
  {
   "cell_type": "markdown",
   "metadata": {
    "colab_type": "text",
    "id": "krRhOOJAOp0C"
   },
   "source": [
    "### 1.6 You may need to revise the code of instantiating classes. Please show your code for instantiation:\n",
    "rubric={accuracy:2}"
   ]
  },
  {
   "cell_type": "code",
   "execution_count": 0,
   "metadata": {
    "colab": {},
    "colab_type": "code",
    "id": "zZhtXYyxPkpA"
   },
   "outputs": [],
   "source": [
    "INPUT_DIM = len(SRC.vocab)\n",
    "OUTPUT_DIM = len(TRG.vocab)\n",
    "ENC_EMB_DIM = 256\n",
    "DEC_EMB_DIM = 256\n",
    "ENC_HID_DIM = 512\n",
    "DEC_HID_DIM = 1024 #<--------------\n",
    "ENC_DROPOUT = 0.5\n",
    "DEC_DROPOUT = 0.3\n",
    "N_LAYERS = 1\n",
    "LEARNING_RT = 0.001\n",
    "enc = Encoder(INPUT_DIM, ENC_EMB_DIM, ENC_HID_DIM, N_LAYERS, ENC_DROPOUT)\n",
    "dec = Decoder(OUTPUT_DIM, DEC_EMB_DIM, DEC_HID_DIM, N_LAYERS, DEC_DROPOUT)\n",
    "\n",
    "model = Seq2Seq(enc, dec,device).to(device)"
   ]
  },
  {
   "cell_type": "markdown",
   "metadata": {
    "colab_type": "text",
    "id": "peV1u1ecOp-D"
   },
   "source": []
  },
  {
   "cell_type": "markdown",
   "metadata": {
    "colab_type": "text",
    "id": "NABzJDRLgyKd"
   },
   "source": [
    "## Exercise 2: Seq2Seq with varient of attention mechanism"
   ]
  },
  {
   "cell_type": "markdown",
   "metadata": {
    "colab_type": "text",
    "id": "MOW88jqoSRby"
   },
   "source": [
    "Attention mechanisms boost the performance of deep learning models in machine translation and classification tasks, helping models select informative context to form the context representation. They also provide meaningful interpretation of the behavior of black-box deep learning models. In the tutorial of this week, we implemented the **concatenative/additive attention** which was initially proposed by [Bahdanau et al. (2015)](https://arxiv.org/pdf/1409.0473.pdf) to help memorize long source sentences in neural machine translation model. Additive attention computes the attention score in the following way, $e_{ij} = v_a tanh (W_a [s_{i-1};h_j;]) \\in \\mathcal{R}$ where $W_a \\in \\mathcal{R}^{h\\times 2h}$ and $v_a \\in \\mathcal{R}^{1\\times h}$.\n",
    "\n",
    "In the followup work, [Luong et al. (2015)](https://arxiv.org/pdf/1508.04025.pdf) examines two type of attention-based models (i.e., **global attetnion and local attention**) with effective classes of attention alignment functions (e.g., concat product, dot product, and general product). Generally, **a global approach** always attends to all source tokens, and **a local approach** only looks at a subset of source tokens at a time. [Luong et al. (2015)](https://arxiv.org/pdf/1508.04025.pdf) report the performances of models under different settings. The results show the model that is trained with **global attention with dot product alignment function** is better than MLP model that is trained with **global attention and concat product alignment function**. We briefly studied **global attention and concat product alignment function** as **Dot-Product/Multiplicative** attention in the tutorial.     \n",
    "\n",
    "In this exercise, you need to write code to implement **global attention with dot product alignment function** (**Dot-Product/Multiplicative**) from [Luong et al. (2015)](https://arxiv.org/pdf/1508.04025.pdf) to solve our translation task. \n",
    "\n",
    "Hint:\n",
    "- This exercise is more related to the tutorial of this week (i.e., week 3)."
   ]
  },
  {
   "cell_type": "markdown",
   "metadata": {
    "colab_type": "text",
    "id": "1up4vdjiSUIk"
   },
   "source": [
    "### 2.1 Warm Up\n",
    "rubric={accuracy:8}\n",
    "\n",
    "As a quick warm-up, take a minute to review **the code from the tutorial of this week** and identify the code to answer corresponding. You can copy and paste the code from the tutorial into the box below. You don't need to write any of your code in this section. "
   ]
  },
  {
   "cell_type": "markdown",
   "metadata": {
    "colab_type": "text",
    "id": "FFaDESeISWEW"
   },
   "source": [
    "Bahdanau et al., use **global attention** with one alignment function, the **concatenative/additive attention**. This will take in the previous hidden state of the decoder, $s_{t-1} \\in \\mathcal{R}^h$, and all of the stacked hidden states from the encoder, $H \\in \\mathcal{R}^{T\\times h}$. First, we calculate the *energy* between the previous decoder hidden state (i.e., $s_{t-1}$) and the encoder hidden states (i.e., $H$)."
   ]
  },
  {
   "cell_type": "markdown",
   "metadata": {
    "colab_type": "text",
    "id": "OT4D9OCKSYFy"
   },
   "source": [
    "The first thing we do is `repeat` the previous decoder hidden state $T-1$ times to obtain a matrix, $S_{t-1} \\in \\mathcal{R}^{T \\times h}$.\n",
    "\n",
    "**Please paste the line(s) that perform this `repeat` operation:**"
   ]
  },
  {
   "cell_type": "code",
   "execution_count": 0,
   "metadata": {
    "colab": {},
    "colab_type": "code",
    "id": "sKRlu-CuTRjg"
   },
   "outputs": [],
   "source": [
    "#repeat encoder hidden state src_len-1 times\n",
    "hidden = hidden.unsqueeze(1).repeat(1, src_len, 1)"
   ]
  },
  {
   "cell_type": "markdown",
   "metadata": {
    "colab_type": "text",
    "id": "qECOgojMSaTB"
   },
   "source": [
    "We then calculate the energy, $E_t$, between them by concatenating them together and passing them through a linear layer (`W_a`) and a $\\tanh$ activation function. \n",
    "\n",
    "$$E_t = \\tanh(W_a([S_{t-1}; H]^T))$$\n",
    "\n",
    "where $E_t$ is a **[decoder_hidden_dim, src_len]** tensor.\n",
    "\n",
    "**Please paste the line(s) that calculate $E_t$:**"
   ]
  },
  {
   "cell_type": "code",
   "execution_count": 0,
   "metadata": {
    "colab": {},
    "colab_type": "code",
    "id": "dlRxRUbxTWY0"
   },
   "outputs": [],
   "source": [
    "# attention scoring function - part 1 - tanh(W_a[s;h])\n",
    "energy = torch.tanh(self.W_a(torch.cat((hidden, encoder_outputs), dim = 2))) \n",
    "\n",
    "#energy = [batch size, src len, dec hid dim]\n",
    "\n",
    "energy = energy.permute(0, 2, 1)\n",
    "\n",
    "#energy = [batch size, dec hid dim, src len]"
   ]
  },
  {
   "cell_type": "markdown",
   "metadata": {
    "colab_type": "text",
    "id": "XKDZVpqHT6IR"
   },
   "source": [
    " Then, we want convert $E_t$ to be a vector of **[src_len]** size for **each example** in the batch as the attention should be over the length of the source sentence. This is achieved by multiplying the `energy` by a **[1, decoder_hidden_dim]** tensor, $v_a$.\n",
    "\n",
    "$$\\hat{a}_t = v_a E_t$$\n",
    "\n",
    "**Please paste the line(s) that calculate $\\hat{a}_t$ in a batch:**"
   ]
  },
  {
   "cell_type": "code",
   "execution_count": 0,
   "metadata": {
    "colab": {},
    "colab_type": "code",
    "id": "6rWmdLSpUKQq"
   },
   "outputs": [],
   "source": [
    "#v = [dec hid dim]\n",
    "\n",
    "v = self.v_a.repeat(batch_size, 1).unsqueeze(1)\n",
    "\n",
    "#v = [batch size, 1, dec hid dim]\n",
    "\n",
    "# attention scoring function - part 2 - v_a(tanh(W_a[s;h]))\n",
    "attention = torch.bmm(v, energy).squeeze(1)\n",
    "\n",
    "#attention= [batch size, src len]"
   ]
  },
  {
   "cell_type": "markdown",
   "metadata": {
    "colab_type": "text",
    "id": "12t31SkeULvm"
   },
   "source": [
    "Finally, we ensure the attention vector fits the constraints of having all elements between 0 and 1 and the vector summing to 1 by passing it through a $\\text{softmax}$ layer.\n",
    "\n",
    "$$a_t = \\text{softmax}(\\hat{a_t})$$\n",
    "\n",
    "**Please paste the line(s) that calculate $a_t$ and return it to Decoder:**"
   ]
  },
  {
   "cell_type": "code",
   "execution_count": 0,
   "metadata": {
    "colab": {},
    "colab_type": "code",
    "id": "dcMDl8qgUXjR"
   },
   "outputs": [],
   "source": [
    "        # attention scoring function - part 2 - softmax(v_a(tanh(W_a[s;h])))\n",
    "        return F.softmax(attention, dim=1)"
   ]
  },
  {
   "cell_type": "markdown",
   "metadata": {
    "colab_type": "text",
    "id": "MLidk4BdU0-j"
   },
   "source": [
    "### 2.2 Write code to inplement global attention with dot product/multiplicative attention function\n",
    "rubric={mechanics:1}\n",
    "\n",
    "Intead of using the **additive attention** to get attenntion score $a_t$:\n",
    "$$\\alpha_i = softmax(v_a \\tanh(W_a[S_{i-1}; H]^T))$$\n",
    "\n",
    "**We will use the *global attention with dot product alignment function* (Dot-Product/Multiplicative based attention function, that is, $\\alpha_i = softmax([s_{i}^T h_1,\\cdots,s_{i}^T h_t])$ to calculate attention score $\\alpha_i$ and follow the subsequent steps to generate translation token $\\hat{y_{i+1}}$**: \n",
    "1. initialize the `outputs` tensor is created to hold all predictions, $\\hat{Y} = \\{\\hat{y_1} ... \\hat{y_t}\\}$ where t is the maximal length of target language;\n",
    "2. the source sequence, $X = \\{x_1,..., x_t\\}$, is fed into the encoder to receive last hidden state, $h_t$, and last cell state $c^{Encoder}_t$;\n",
    "3. the initial decoder hidden state is set to the $h_t$, and the initial decoder cell state is set to the $c_t$. (i.e., $s_0$ = $h_t$; $c^{Decoder}_0$ = $c^{Encoder}_t$);\n",
    "4. we use a batch of `<sos>` tokens as the first `input` (i.e., $y_1$);\n",
    "5. we then decode within a loop:\n",
    "\n",
    " for i in range(1,t): #t is the maximal length of target language\n",
    "    1. inserting the input token $y_{i}$, previous hidden state, $s_{i-1}$, and previous cell state, $c^{Decoder}_{i-1}$, into the Decoder, we get new hidden and cell states, $s_{i}$ and $c^{Decoder}_{i}$;\n",
    "    2. use **`attention_function()`** to calculate the attention vector, $\\alpha_i$, based on $h_1,\\dots,h_t$ (all encoder hidden states stacked up is $H$) and $s_{i}$;\n",
    "    3. use this attention vector to create a weighted context vector, $c_i$, denoted by `weighted`, which is a weighted sum of the encoder hidden states, $H$, using $\\alpha_i$ as the weights (i.e., $c_i = \\alpha_i^T H$);\n",
    "    4. concatenate the current hidden state $s_i$ with weighted context vector $c_i$, then pass this concatanation through a linear layer, $f_{mid}$, to get a new hidden state $s'_{i}$ that shape is `[batch, decoder hidden dimension]`;\n",
    "    5. pass $s'_{i}$ through the linear layer, $f_{output}$, to make a prediction of the next word in the target sentence, $\\hat{y}_{i+1}$.\n",
    "    6. decide if use **teacher forcing** or not, setting the next input as appropriate.\n",
    "\n",
    "\n",
    "where **`attention_function()`** is based on **dot product attention**:\n",
    "$\\alpha_i = softmax([s_{i}^T h_1,\\cdots,s_{i}^T h_t])$\n",
    "\n",
    "\n",
    "**The pseudo code for computing attention vector:**\n",
    "\n",
    "```\n",
    "class Attention(nn.Module):\n",
    "        INPUT: \n",
    "        current Decoder hidden state (s_{i}), decoder_output: [batch size, dec hid dim]\n",
    "        all hidden state of last layer of Encoder (H), encoder_outputs: [src len, batch size, enc hid dim]\n",
    "        OUTPUT: \n",
    "        attention_vector (\\alpha_i), attention_vector: [batch size, src len]\n",
    "        ------------------------------------------------------------------------------------------\n",
    "        # For-loop version: \n",
    "        attention_vector = Variable(torch.zeros(batch_size, encoder_src_len))\n",
    "\n",
    "        # For every batch, every time step of encoder's hidden state, calculate attention score.\n",
    "        for b in range(batch_size):\n",
    "            for t in range(max_src_len):\n",
    "                # Luong et al. (2015) equation(8) -- dot form content-based attention:\n",
    "                attention_vector[b,t] = decoder_output[b] **dot product** encoder_outputs[t,b]\n",
    "                \n",
    "        ------------------------------------------------------------------------------------------\n",
    "        # Vectorized version:\n",
    "\n",
    "        1. attention_vector =  \n",
    "           (batch_size, seq_len=1, hidden_size) **batch matrix-matrix product** (batch_size, hidden_size, max_src_len) = (batch_size, seq_len=1, max_src_len)\n",
    "           \n",
    "         return attention_vector\n",
    "```\n",
    "\n",
    "Equation 8 from Luong's paper is:\n",
    "<img src=\"attention_images/luong_eqn8.png\\\" title=\"equation 8 from Luong paper\" height=\"550\" width=\"450\"/>"
   ]
  },
  {
   "cell_type": "markdown",
   "metadata": {
    "colab_type": "text",
    "id": "tishmPfQU-70"
   },
   "source": [
    "We should built a new train and evaluate funtions for training attention model."
   ]
  },
  {
   "cell_type": "code",
   "execution_count": 42,
   "metadata": {
    "colab": {},
    "colab_type": "code",
    "id": "Zqw8ImpC73Zt"
   },
   "outputs": [],
   "source": [
    "def train_attn(model, iterator, optimizer, criterion, clip):\n",
    "    \n",
    "    model.train()\n",
    "    \n",
    "    epoch_loss = 0\n",
    "    \n",
    "    for i, batch in enumerate(iterator):\n",
    "        \n",
    "        src = batch.SRC\n",
    "        trg = batch.TRG\n",
    "        \n",
    "        optimizer.zero_grad()\n",
    "        \n",
    "        output,_ = model(src, trg)\n",
    "        \n",
    "        #trg = [trg len, batch size]\n",
    "        #output = [trg len, batch size, output dim]\n",
    "        \n",
    "        output_dim = output.shape[-1]\n",
    "        \n",
    "        output = output[1:].view(-1, output_dim)\n",
    "        trg = trg[1:].view(-1)\n",
    "        \n",
    "        #trg = [(trg len - 1) * batch size]\n",
    "        #output = [(trg len - 1) * batch size, output dim]\n",
    "        \n",
    "        loss = criterion(output, trg)\n",
    "        \n",
    "        loss.backward()\n",
    "        \n",
    "        torch.nn.utils.clip_grad_norm_(model.parameters(), clip)\n",
    "        \n",
    "        optimizer.step()\n",
    "        \n",
    "        epoch_loss += loss.item()\n",
    "    bleu = inference(model, \"./eng-fre/val_eng_fre.tsv\", SRC, TRG, True, 64)    \n",
    "    return epoch_loss / len(iterator), bleu"
   ]
  },
  {
   "cell_type": "code",
   "execution_count": 43,
   "metadata": {
    "colab": {},
    "colab_type": "code",
    "id": "KFVQWDFw8ALw"
   },
   "outputs": [],
   "source": [
    "\n",
    "def evaluate_attn(model, iterator, criterion):\n",
    "    \n",
    "    model.eval()\n",
    "    \n",
    "    epoch_loss = 0\n",
    "    \n",
    "    with torch.no_grad():\n",
    "    \n",
    "        for i, batch in enumerate(iterator):\n",
    "\n",
    "            src = batch.SRC\n",
    "            trg = batch.TRG\n",
    "\n",
    "            output,_ = model(src, trg, 0) #turn off teacher forcing\n",
    "\n",
    "            #trg = [trg len, batch size]\n",
    "            #output = [trg len, batch size, output dim]\n",
    "\n",
    "            output_dim = output.shape[-1]\n",
    "            \n",
    "            output = output[1:].view(-1, output_dim)\n",
    "            trg = trg[1:].view(-1)\n",
    "\n",
    "            #trg = [(trg len - 1) * batch size]\n",
    "            #output = [(trg len - 1) * batch size, output dim]\n",
    "\n",
    "            loss = criterion(output, trg)\n",
    "\n",
    "            epoch_loss += loss.item()\n",
    "        \n",
    "    bleu = inference(model, \"./eng-fre/val_eng_fre.tsv\", SRC, TRG, True, 64)    \n",
    "    return epoch_loss / len(iterator), bleu"
   ]
  },
  {
   "cell_type": "markdown",
   "metadata": {
    "colab_type": "text",
    "id": "fGgxyBiMxgtF"
   },
   "source": [
    "## Start your works here.\n",
    "\n",
    "Full code for training dot-product model. "
   ]
  },
  {
   "cell_type": "markdown",
   "metadata": {
    "colab_type": "text",
    "id": "9eMCWBLAxirl"
   },
   "source": [
    "`class Encoder(nn.Module):`"
   ]
  },
  {
   "cell_type": "code",
   "execution_count": 34,
   "metadata": {
    "colab": {},
    "colab_type": "code",
    "id": "FNKOnMyDhVl0"
   },
   "outputs": [],
   "source": [
    "class Encoder(nn.Module):\n",
    "    def __init__(self, input_dim, emb_dim, enc_hid_dim, n_layers, dropout):\n",
    "        super().__init__()\n",
    "\n",
    "        self.emb_dim = emb_dim\n",
    "        self.enc_hid_dim = enc_hid_dim\n",
    "        self.dropout = dropout\n",
    "        self.n_layers = n_layers\n",
    "\n",
    "        self.embedding = nn.Embedding(input_dim, emb_dim)\n",
    "        self.lstm = nn.LSTM(emb_dim, enc_hid_dim, n_layers, dropout=dropout,bidirectional=True)\n",
    "        self.dropout = nn.Dropout(dropout)\n",
    "        \n",
    "    def forward(self, src):\n",
    "        \n",
    "        #src = [src len, batch size]\n",
    "        \n",
    "        embedded = self.dropout(self.embedding(src))\n",
    "        \n",
    "        #embedded = [src len, batch size, emb dim]\n",
    "        \n",
    "        outputs, (hidden, cell) = self.lstm(embedded)\n",
    "       \n",
    "        # outputs are always from the top hidden layer, if bidirectional outputs are concatenated.\n",
    "        # outputs shape [sequence_length, batch_size, hidden_dim * num_directions]\n",
    "        # hidden is of shape [num_layers * num_directions, batch_size, hidden_size]\n",
    "        # cell is of shape [num_layers * num_directions, batch_size, hidden_size]\n",
    "        \n",
    "        return outputs, (hidden, cell)"
   ]
  },
  {
   "cell_type": "markdown",
   "metadata": {
    "colab_type": "text",
    "id": "fsG5xsC8xkzH"
   },
   "source": [
    "`class Attention(nn.Module):`"
   ]
  },
  {
   "cell_type": "code",
   "execution_count": 35,
   "metadata": {
    "colab": {},
    "colab_type": "code",
    "id": "dViMl_gzirjy"
   },
   "outputs": [],
   "source": [
    "class Attention(nn.Module): #<--------------\n",
    "    def __init__(self):\n",
    "        super().__init__()\n",
    "        # you don't need to initial any parameters ib dot-product attention. \n",
    "        \n",
    "    def forward(self, hidden, encoder_outputs): #<--------------\n",
    "        #hidden = [batch size, dec hid dim]\n",
    "        #encoder_outputs = [src len, batch size, enc hid dim]\n",
    "        attention = torch.bmm(hidden.unsqueeze(1), encoder_outputs.permute(1,2,0)).squeeze(1)#<--------------\n",
    "        # attention = (batch_size, src_len)\n",
    "        return F.softmax(attention, dim=1)"
   ]
  },
  {
   "cell_type": "markdown",
   "metadata": {
    "colab_type": "text",
    "id": "oJaXG0CJxnsn"
   },
   "source": [
    "`class Decoder(nn.Module):`"
   ]
  },
  {
   "cell_type": "code",
   "execution_count": 36,
   "metadata": {
    "colab": {},
    "colab_type": "code",
    "id": "M7Wu-qlbiySd"
   },
   "outputs": [],
   "source": [
    "class Decoder(nn.Module):\n",
    "    def __init__(self, output_dim, emb_dim, enc_hid_dim, dec_hid_dim, n_layers, dropout, attention):\n",
    "        super().__init__()\n",
    "        \n",
    "        self.output_dim = output_dim\n",
    "        self.attention = attention\n",
    "        \n",
    "        self.embedding = nn.Embedding(output_dim, emb_dim)\n",
    "        \n",
    "        self.rnn = nn.LSTM(emb_dim, dec_hid_dim, n_layers, dropout=dropout)\n",
    "        \n",
    "        self.fc_md = nn.Linear(dec_hid_dim*2, dec_hid_dim) #<--------------\n",
    "\n",
    "        self.fc_out = nn.Linear(dec_hid_dim, output_dim)\n",
    "        \n",
    "        self.dropout = nn.Dropout(dropout)\n",
    "        \n",
    "    def forward(self, input, hidden, cell, encoder_outputs):\n",
    "             \n",
    "        #input = [batch size]\n",
    "        #hidden = [batch size, dec hid dim]\n",
    "        #encoder_outputs = [src len, batch size, enc hid dim]\n",
    "        input = input.unsqueeze(0)\n",
    "        \n",
    "        #input = [1, batch size]\n",
    "        \n",
    "        embedded = self.dropout(self.embedding(input))\n",
    "        #embedded = [1, batch size, emb dim]\n",
    "\n",
    "        output, (hidden, cell) = self.rnn(embedded, (hidden.unsqueeze(0),cell)) #<--------------\n",
    "\n",
    "        #output = [seq len, batch size, dec hid dim * n directions]\n",
    "        #hidden = [n layers * n directions, batch size, dec hid dim]\n",
    "        \n",
    "        #seq len, n layers and n directions will always be 1 in this decoder, therefore:\n",
    "        #output = [1, batch size, dec hid dim]\n",
    "        #hidden = [1, batch size, dec hid dim]\n",
    "        #this also means that output == hidden\n",
    "\n",
    "        hidden = hidden.squeeze(0)\n",
    "        attention_weights = self.attention(hidden, encoder_outputs)#<--------------\n",
    "        \n",
    "        #attention_weights = [batch size, src len]\n",
    "        \n",
    "        attention_weights = attention_weights.unsqueeze(1) #<--------------\n",
    "\n",
    "        #a = [batch size, 1, src len]\n",
    "        \n",
    "        encoder_outputs = encoder_outputs.permute(1, 0, 2)\n",
    "        \n",
    "        #encoder_outputs = [batch size, src len, enc hid dim]\n",
    "        \n",
    "        weighted = torch.bmm(attention_weights, encoder_outputs)\n",
    "        weighted = weighted.squeeze(1)\n",
    "        #weighted = [batch size, 1, enc hid dim]\n",
    "        \n",
    "        concate_output = torch.cat((hidden, weighted), dim = -1) #<--------------\n",
    "\n",
    "        concate_output = self.fc_md(concate_output) #<--------------\n",
    "\n",
    "        prediction = self.fc_out(concate_output)\n",
    "        \n",
    "        #prediction = [batch size, output dim]\n",
    "        \n",
    "        return prediction, hidden, cell, attention_weights "
   ]
  },
  {
   "cell_type": "markdown",
   "metadata": {
    "colab_type": "text",
    "id": "dc2aCp6FxqEr"
   },
   "source": [
    "`class Seq2Seq(nn.Module):`"
   ]
  },
  {
   "cell_type": "code",
   "execution_count": 37,
   "metadata": {
    "colab": {},
    "colab_type": "code",
    "id": "UTNnnYOIi0Kh"
   },
   "outputs": [],
   "source": [
    "class Seq2Seq(nn.Module):\n",
    "    def __init__(self, encoder, decoder, device):\n",
    "        super().__init__()\n",
    "        \n",
    "        self.encoder = encoder\n",
    "        self.decoder = decoder\n",
    "        self.device = device\n",
    "        \n",
    "    def forward(self, src, trg, teacher_forcing_ratio = 0.5):\n",
    "        \n",
    "        #src = [src len, batch size]\n",
    "        #trg = [trg len, batch size]\n",
    "        #teacher_forcing_ratio is probability to use teacher forcing\n",
    "        #e.g. if teacher_forcing_ratio is 0.75 we use teacher forcing 75% of the time\n",
    "        batch_size = src.shape[1]\n",
    "        trg_len = trg.shape[0]\n",
    "        trg_vocab_size = self.decoder.output_dim\n",
    "        \n",
    "        #tensor to store decoder outputs\n",
    "        outputs = torch.zeros(trg_len, batch_size, trg_vocab_size).to(self.device)\n",
    "        # save the encoder-decoder attention weights\n",
    "        # all_attention_weights = [batch_size, trg len-1, src len ]\n",
    "        all_attention_weights = torch.zeros(trg.shape[1], trg.shape[0]-1, src.shape[0])\n",
    "        #encoder_outputs is all hidden states of the input sequence, back and forwards\n",
    "        #hidden is the final forward and backward hidden states, passed through a linear layer\n",
    "        encoder_outputs, (hidden, cell) = self.encoder(src) \n",
    "\n",
    "        hidden = torch.cat((hidden[-2,:,:],hidden[-1,:,:]),dim=-1)\n",
    "        cell = torch.cat((cell[-2,:,:],cell[-1,:,:]),dim=-1).unsqueeze(0)\n",
    "        #first input to the decoder is the <sos> tokens\n",
    "        input = trg[0,:]\n",
    "        \n",
    "        for t in range(1, trg_len):\n",
    "            \n",
    "            #insert input token embedding, previous hidden state and all encoder hidden states\n",
    "            #receive output tensor (predictions) and new hidden state\n",
    "            output, hidden, cell, attention_weights = self.decoder(input, hidden, cell, encoder_outputs)\n",
    "            \n",
    "            # all_attention_weights[t-1] = [src len, batch size]\n",
    "            all_attention_weights[:,t-1,:] = attention_weights.squeeze(1)\n",
    "            \n",
    "            #place predictions in a tensor holding predictions for each token\n",
    "            outputs[t] = output\n",
    "            \n",
    "            #decide if we are going to use teacher forcing or not\n",
    "            teacher_force = random.random() < teacher_forcing_ratio\n",
    "            \n",
    "            #get the highest predicted token from our predictions\n",
    "            top1 = output.argmax(1) \n",
    "            \n",
    "            #if teacher forcing, use actual next token as next input\n",
    "            #if not, use predicted token\n",
    "            input = trg[t] if teacher_force else top1\n",
    "\n",
    "        return outputs,all_attention_weights"
   ]
  },
  {
   "cell_type": "markdown",
   "metadata": {
    "colab_type": "text",
    "id": "9rTNUpY_yhyA"
   },
   "source": [
    "## Instantiation"
   ]
  },
  {
   "cell_type": "code",
   "execution_count": 44,
   "metadata": {
    "colab": {
     "base_uri": "https://localhost:8080/",
     "height": 71
    },
    "colab_type": "code",
    "id": "XrjqFOb-j-yg",
    "outputId": "c1718cd6-ca24-4b1b-829a-c9ebee7e8ccb"
   },
   "outputs": [],
   "source": [
    "INPUT_DIM = len(SRC.vocab)\n",
    "OUTPUT_DIM = len(TRG.vocab)\n",
    "ENC_EMB_DIM = 256\n",
    "DEC_EMB_DIM = 256\n",
    "ENC_HID_DIM = 512\n",
    "DEC_HID_DIM = 1024 #<--------------\n",
    "ENC_DROPOUT = 0.5\n",
    "DEC_DROPOUT = 0.5\n",
    "N_LAYERS = 1\n",
    "LEARNING_RT = 0.001\n",
    "\n",
    "attn = Attention()\n",
    "enc = Encoder(INPUT_DIM, ENC_EMB_DIM, ENC_HID_DIM, N_LAYERS, ENC_DROPOUT)\n",
    "dec = Decoder(OUTPUT_DIM, DEC_EMB_DIM, ENC_HID_DIM, DEC_HID_DIM, N_LAYERS, DEC_DROPOUT, attn)\n",
    "\n",
    "model = Seq2Seq(enc, dec, device).to(device)"
   ]
  },
  {
   "cell_type": "code",
   "execution_count": 45,
   "metadata": {
    "colab": {},
    "colab_type": "code",
    "id": "9A3sxRvq-1wf"
   },
   "outputs": [],
   "source": [
    "model.apply(init_weights)\n",
    "optimizer = optim.Adam(model.parameters(), lr = LEARNING_RT)"
   ]
  },
  {
   "cell_type": "code",
   "execution_count": 46,
   "metadata": {
    "colab": {
     "base_uri": "https://localhost:8080/",
     "height": 34
    },
    "colab_type": "code",
    "id": "ABKf5qEd-9Lq",
    "outputId": "5d4cd7b0-06d7-4076-a8f3-5ffb92fa6565"
   },
   "outputs": [
    {
     "name": "stdout",
     "output_type": "stream",
     "text": [
      "<pad> token index:  1\n"
     ]
    }
   ],
   "source": [
    "TRG_PAD_IDX = TRG.vocab.stoi[TRG.pad_token]\n",
    "print('<pad> token index: ',TRG_PAD_IDX)\n",
    "## we will ignor the pad token in true target set\n",
    "criterion = nn.CrossEntropyLoss(ignore_index = TRG_PAD_IDX)"
   ]
  },
  {
   "cell_type": "markdown",
   "metadata": {
    "colab_type": "text",
    "id": "eTyJ-IEeyuUC"
   },
   "source": [
    "## Prototype Test"
   ]
  },
  {
   "cell_type": "code",
   "execution_count": 49,
   "metadata": {},
   "outputs": [],
   "source": [
    "import pickle\n",
    "with open(\"./ckpt_ex2/TRG.Field\",\"wb\")as f:\n",
    "     pickle.dump(TRG,f)\n",
    "\n",
    "with open(\"./ckpt_ex2/SRC.Field\",\"wb\")as f:\n",
    "     pickle.dump(SRC,f)"
   ]
  },
  {
   "cell_type": "code",
   "execution_count": 47,
   "metadata": {
    "colab": {
     "base_uri": "https://localhost:8080/",
     "height": 102
    },
    "colab_type": "code",
    "id": "PA83WKyhkZ8P",
    "outputId": "68332de6-2fa1-4eea-8ed1-b7ac358752cc"
   },
   "outputs": [
    {
     "name": "stdout",
     "output_type": "stream",
     "text": [
      "tensor(0.5438, device='cuda:0', grad_fn=<DivBackward0>)\n"
     ]
    },
    {
     "name": "stderr",
     "output_type": "stream",
     "text": [
      "/home/chiyu94/py3.6/lib/python3.6/site-packages/nltk/translate/bleu_score.py:523: UserWarning: \n",
      "The hypothesis contains 0 counts of 2-gram overlaps.\n",
      "Therefore the BLEU score evaluates to 0, independently of\n",
      "how many N-gram overlaps of lower order it contains.\n",
      "Consider using lower n-gram order or use SmoothingFunction()\n",
      "  warnings.warn(_msg)\n",
      "/home/chiyu94/py3.6/lib/python3.6/site-packages/nltk/translate/bleu_score.py:523: UserWarning: \n",
      "The hypothesis contains 0 counts of 3-gram overlaps.\n",
      "Therefore the BLEU score evaluates to 0, independently of\n",
      "how many N-gram overlaps of lower order it contains.\n",
      "Consider using lower n-gram order or use SmoothingFunction()\n",
      "  warnings.warn(_msg)\n",
      "/home/chiyu94/py3.6/lib/python3.6/site-packages/nltk/translate/bleu_score.py:523: UserWarning: \n",
      "The hypothesis contains 0 counts of 4-gram overlaps.\n",
      "Therefore the BLEU score evaluates to 0, independently of\n",
      "how many N-gram overlaps of lower order it contains.\n",
      "Consider using lower n-gram order or use SmoothingFunction()\n",
      "  warnings.warn(_msg)\n"
     ]
    }
   ],
   "source": [
    "clip = 1\n",
    "model.train()\n",
    "\n",
    "for i, batch in enumerate(train_iter):\n",
    "\n",
    "    src = batch.SRC\n",
    "    trg = batch.TRG\n",
    "    optimizer.zero_grad()\n",
    "    output,_ = model(src, trg)\n",
    "    #trg = [trg len, batch size]\n",
    "    #output = [trg len, batch size, output dim]\n",
    "\n",
    "    output_dim = output.shape[-1]\n",
    "\n",
    "    output = output[1:].view(-1, output_dim)\n",
    "    trg = trg[1:].view(-1)\n",
    "\n",
    "    #trg = [(trg len - 1) * batch size]\n",
    "    #output = [(trg len - 1) * batch size, output dim]\n",
    "\n",
    "    loss = criterion(output, trg)\n",
    "\n",
    "    loss.backward()\n",
    "\n",
    "    torch.nn.utils.clip_grad_norm_(model.parameters(), clip)\n",
    "\n",
    "    optimizer.step()\n",
    "\n",
    "    print(loss/src.shape[1])\n",
    "    bleu = inference(model, \"./eng-fre/val_eng_fre.tsv\", SRC, TRG, True, 64)    \n",
    "    break"
   ]
  },
  {
   "cell_type": "markdown",
   "metadata": {
    "colab_type": "text",
    "id": "Sk9tm0Acykim"
   },
   "source": [
    "## Training"
   ]
  },
  {
   "cell_type": "code",
   "execution_count": 48,
   "metadata": {
    "colab": {
     "base_uri": "https://localhost:8080/",
     "height": 1000
    },
    "colab_type": "code",
    "id": "IxnbE2mxkdDp",
    "outputId": "53d8e3fa-9aab-4b0e-e4d2-b8abb4119831"
   },
   "outputs": [
    {
     "name": "stdout",
     "output_type": "stream",
     "text": [
      "Epoch: 01 | Time: 1m 19s\n",
      "\tTrain Loss: 3.874 | Train PPL:  48.134\n",
      "\t Val. Loss: 3.487 |  Val. PPL:  32.686\n",
      "\t Train BLEU:0.254 |  Val. BLEU:   0.254\n",
      "Epoch: 02 | Time: 1m 18s\n",
      "\tTrain Loss: 2.358 | Train PPL:  10.569\n",
      "\t Val. Loss: 3.070 |  Val. PPL:  21.542\n",
      "\t Train BLEU:0.399 |  Val. BLEU:   0.399\n",
      "Epoch: 03 | Time: 1m 18s\n",
      "\tTrain Loss: 1.876 | Train PPL:   6.524\n",
      "\t Val. Loss: 2.994 |  Val. PPL:  19.970\n",
      "\t Train BLEU:0.445 |  Val. BLEU:   0.445\n",
      "Epoch: 04 | Time: 1m 18s\n",
      "\tTrain Loss: 1.624 | Train PPL:   5.072\n",
      "\t Val. Loss: 2.919 |  Val. PPL:  18.531\n",
      "\t Train BLEU:0.461 |  Val. BLEU:   0.461\n",
      "Epoch: 05 | Time: 1m 18s\n",
      "\tTrain Loss: 1.464 | Train PPL:   4.321\n",
      "\t Val. Loss: 2.919 |  Val. PPL:  18.524\n",
      "\t Train BLEU:0.467 |  Val. BLEU:   0.467\n",
      "Epoch: 06 | Time: 1m 18s\n",
      "\tTrain Loss: 1.337 | Train PPL:   3.807\n",
      "\t Val. Loss: 2.886 |  Val. PPL:  17.917\n",
      "\t Train BLEU:0.470 |  Val. BLEU:   0.470\n",
      "Epoch: 07 | Time: 1m 18s\n",
      "\tTrain Loss: 1.231 | Train PPL:   3.423\n",
      "\t Val. Loss: 3.017 |  Val. PPL:  20.428\n",
      "\t Train BLEU:0.466 |  Val. BLEU:   0.466\n",
      "Epoch: 08 | Time: 1m 18s\n",
      "\tTrain Loss: 1.149 | Train PPL:   3.155\n",
      "\t Val. Loss: 2.970 |  Val. PPL:  19.493\n",
      "\t Train BLEU:0.480 |  Val. BLEU:   0.480\n",
      "Epoch: 09 | Time: 1m 18s\n",
      "\tTrain Loss: 1.068 | Train PPL:   2.911\n",
      "\t Val. Loss: 3.208 |  Val. PPL:  24.733\n",
      "\t Train BLEU:0.472 |  Val. BLEU:   0.472\n",
      "Epoch: 10 | Time: 1m 18s\n",
      "\tTrain Loss: 0.994 | Train PPL:   2.702\n",
      "\t Val. Loss: 3.210 |  Val. PPL:  24.791\n",
      "\t Train BLEU:0.475 |  Val. BLEU:   0.475\n",
      "Epoch: 11 | Time: 1m 18s\n",
      "\tTrain Loss: 0.932 | Train PPL:   2.539\n",
      "\t Val. Loss: 3.236 |  Val. PPL:  25.429\n",
      "\t Train BLEU:0.472 |  Val. BLEU:   0.472\n",
      "Epoch: 12 | Time: 1m 18s\n",
      "\tTrain Loss: 0.873 | Train PPL:   2.394\n",
      "\t Val. Loss: 3.410 |  Val. PPL:  30.262\n",
      "\t Train BLEU:0.461 |  Val. BLEU:   0.461\n",
      "Epoch: 13 | Time: 1m 18s\n",
      "\tTrain Loss: 0.823 | Train PPL:   2.278\n",
      "\t Val. Loss: 3.615 |  Val. PPL:  37.149\n",
      "\t Train BLEU:0.463 |  Val. BLEU:   0.463\n",
      "Epoch: 14 | Time: 1m 18s\n",
      "\tTrain Loss: 0.766 | Train PPL:   2.151\n",
      "\t Val. Loss: 3.452 |  Val. PPL:  31.552\n",
      "\t Train BLEU:0.466 |  Val. BLEU:   0.466\n",
      "Epoch: 15 | Time: 1m 18s\n",
      "\tTrain Loss: 0.731 | Train PPL:   2.076\n",
      "\t Val. Loss: 3.335 |  Val. PPL:  28.077\n",
      "\t Train BLEU:0.460 |  Val. BLEU:   0.460\n"
     ]
    }
   ],
   "source": [
    "N_EPOCHS = 15\n",
    "CLIP = 1\n",
    "\n",
    "best_valid_loss = float('inf')\n",
    "\n",
    "for epoch in range(N_EPOCHS):\n",
    "    \n",
    "    start_time = time.time()\n",
    "    \n",
    "    train_loss, bleu_train = train_attn(model, train_iter, optimizer, criterion, CLIP)\n",
    "    valid_loss, bleu_val = evaluate_attn(model, val_iter, criterion)\n",
    "    \n",
    "    end_time = time.time()\n",
    "    \n",
    "    epoch_mins, epoch_secs = epoch_time(start_time, end_time)\n",
    "    \n",
    "    # Create checkpoint at end of each epoch\n",
    "    state_dict_model = model.state_dict() \n",
    "    state = {\n",
    "        'epoch': epoch,\n",
    "        'state_dict': state_dict_model,\n",
    "        'optimizer': optimizer.state_dict()\n",
    "        }\n",
    "\n",
    "    torch.save(state, \"./ckpt_ex2/seq2seq_\"+str(epoch+1)+\".pt\")\n",
    "\n",
    "    print(f'Epoch: {epoch+1:02} | Time: {epoch_mins}m {epoch_secs}s')\n",
    "    print(f'\\tTrain Loss: {train_loss:.3f} | Train PPL: {math.exp(train_loss):7.3f}')\n",
    "    print(f'\\t Val. Loss: {valid_loss:.3f} |  Val. PPL: {math.exp(valid_loss):7.3f}')\n",
    "    print(f'\\t Train BLEU:{bleu_train:.3f} |  Val. BLEU: {bleu_val:7.3f}')"
   ]
  },
  {
   "cell_type": "code",
   "execution_count": 69,
   "metadata": {},
   "outputs": [],
   "source": [
    "with open(\"./ckpt_ex2/TRG.Field\",\"rb\") as f:\n",
    "     TRG_ex2_aved = pickle.load(f)\n",
    "\n",
    "with open(\"./ckpt_ex2/SRC.Field\",\"rb\") as f:\n",
    "     SRC_ex2_saved = pickle.load(f)"
   ]
  },
  {
   "cell_type": "code",
   "execution_count": 70,
   "metadata": {
    "colab": {
     "base_uri": "https://localhost:8080/",
     "height": 71
    },
    "colab_type": "code",
    "id": "pJTSQHWi7PKn",
    "outputId": "575bf6ae-4a74-44be-a04f-482f75631344"
   },
   "outputs": [
    {
     "name": "stderr",
     "output_type": "stream",
     "text": [
      "/home/chiyu94/py3.6/lib/python3.6/site-packages/torch/nn/modules/rnn.py:51: UserWarning: dropout option adds dropout after all but last recurrent layer, so non-zero dropout expects num_layers greater than 1, but got dropout=0.5 and num_layers=1\n",
      "  \"num_layers={}\".format(dropout, num_layers))\n"
     ]
    }
   ],
   "source": [
    "attn = Attention()\n",
    "enc = Encoder(INPUT_DIM, ENC_EMB_DIM, ENC_HID_DIM, N_LAYERS, ENC_DROPOUT)\n",
    "dec = Decoder(OUTPUT_DIM, DEC_EMB_DIM, ENC_HID_DIM, DEC_HID_DIM, N_LAYERS, DEC_DROPOUT, attn)\n",
    "\n",
    "model_ex2_best = Seq2Seq(enc, dec, device).to(device)\n",
    "\n",
    "model_ex2_best.load_state_dict(torch.load('./ckpt_ex2/seq2seq_8.pt')['state_dict'])\n",
    "model_ex2_best = model_ex2_best.to(device)"
   ]
  },
  {
   "cell_type": "code",
   "execution_count": 59,
   "metadata": {
    "colab": {
     "base_uri": "https://localhost:8080/",
     "height": 34
    },
    "colab_type": "code",
    "id": "e3dXIVk7Ggpt",
    "outputId": "77d74aad-6e78-450e-c8e3-8c0c55533733"
   },
   "outputs": [
    {
     "data": {
      "text/plain": [
       "0.4768248363431581"
      ]
     },
     "execution_count": 59,
     "metadata": {},
     "output_type": "execute_result"
    }
   ],
   "source": [
    "inference(model_ex2_best, \"./eng-fre/test_eng_fre.tsv\", SRC_ex2_saved, TRG_ex2_aved, True, 64)"
   ]
  },
  {
   "cell_type": "markdown",
   "metadata": {
    "colab_type": "text",
    "id": "asht92xQDqzE"
   },
   "source": [
    "### 2.2.1 Please paste your fully training log here. Which epoch is the best?\n",
    "rubric={accuracy:2}\n",
    "You log should look like this:\n",
    "```\n",
    "Epoch: 01 | Time: 1m 25s\n",
    "\tTrain Loss: 4.293 | Train PPL:  73.188\n",
    "\t Val. Loss: 4.263 |  Val. PPL:  71.012 \n",
    "   ............\n",
    "```"
   ]
  },
  {
   "cell_type": "markdown",
   "metadata": {
    "colab_type": "text",
    "id": "EMVxlZP1DrmF"
   },
   "source": [
    "**You answer:**\n",
    "**My best model is trained with 8 epochs.** (Your best model may get at different epochs. The best model should be the model which obtained best BLEU score on validation set.) "
   ]
  },
  {
   "cell_type": "markdown",
   "metadata": {
    "colab_type": "text",
    "id": "cM63lBfREGJ6"
   },
   "source": [
    "```\n",
    "Epoch: 01 | Time: 1m 19s\n",
    "\tTrain Loss: 3.874 | Train PPL:  48.134\n",
    "\t Val. Loss: 3.487 |  Val. PPL:  32.686\n",
    "\t Train BLEU:0.254 |  Val. BLEU:   0.254\n",
    "Epoch: 02 | Time: 1m 18s\n",
    "\tTrain Loss: 2.358 | Train PPL:  10.569\n",
    "\t Val. Loss: 3.070 |  Val. PPL:  21.542\n",
    "\t Train BLEU:0.399 |  Val. BLEU:   0.399\n",
    "Epoch: 03 | Time: 1m 18s\n",
    "\tTrain Loss: 1.876 | Train PPL:   6.524\n",
    "\t Val. Loss: 2.994 |  Val. PPL:  19.970\n",
    "\t Train BLEU:0.445 |  Val. BLEU:   0.445\n",
    "Epoch: 04 | Time: 1m 18s\n",
    "\tTrain Loss: 1.624 | Train PPL:   5.072\n",
    "\t Val. Loss: 2.919 |  Val. PPL:  18.531\n",
    "\t Train BLEU:0.461 |  Val. BLEU:   0.461\n",
    "Epoch: 05 | Time: 1m 18s\n",
    "\tTrain Loss: 1.464 | Train PPL:   4.321\n",
    "\t Val. Loss: 2.919 |  Val. PPL:  18.524\n",
    "\t Train BLEU:0.467 |  Val. BLEU:   0.467\n",
    "Epoch: 06 | Time: 1m 18s\n",
    "\tTrain Loss: 1.337 | Train PPL:   3.807\n",
    "\t Val. Loss: 2.886 |  Val. PPL:  17.917\n",
    "\t Train BLEU:0.470 |  Val. BLEU:   0.470\n",
    "Epoch: 07 | Time: 1m 18s\n",
    "\tTrain Loss: 1.231 | Train PPL:   3.423\n",
    "\t Val. Loss: 3.017 |  Val. PPL:  20.428\n",
    "\t Train BLEU:0.466 |  Val. BLEU:   0.466\n",
    "Epoch: 08 | Time: 1m 18s\n",
    "\tTrain Loss: 1.149 | Train PPL:   3.155\n",
    "\t Val. Loss: 2.970 |  Val. PPL:  19.493\n",
    "\t Train BLEU:0.480 |  Val. BLEU:   0.480\n",
    "Epoch: 09 | Time: 1m 18s\n",
    "\tTrain Loss: 1.068 | Train PPL:   2.911\n",
    "\t Val. Loss: 3.208 |  Val. PPL:  24.733\n",
    "\t Train BLEU:0.472 |  Val. BLEU:   0.472\n",
    "Epoch: 10 | Time: 1m 18s\n",
    "\tTrain Loss: 0.994 | Train PPL:   2.702\n",
    "\t Val. Loss: 3.210 |  Val. PPL:  24.791\n",
    "\t Train BLEU:0.475 |  Val. BLEU:   0.475\n",
    "Epoch: 11 | Time: 1m 18s\n",
    "\tTrain Loss: 0.932 | Train PPL:   2.539\n",
    "\t Val. Loss: 3.236 |  Val. PPL:  25.429\n",
    "\t Train BLEU:0.472 |  Val. BLEU:   0.472\n",
    "Epoch: 12 | Time: 1m 18s\n",
    "\tTrain Loss: 0.873 | Train PPL:   2.394\n",
    "\t Val. Loss: 3.410 |  Val. PPL:  30.262\n",
    "\t Train BLEU:0.461 |  Val. BLEU:   0.461\n",
    "Epoch: 13 | Time: 1m 18s\n",
    "\tTrain Loss: 0.823 | Train PPL:   2.278\n",
    "\t Val. Loss: 3.615 |  Val. PPL:  37.149\n",
    "\t Train BLEU:0.463 |  Val. BLEU:   0.463\n",
    "Epoch: 14 | Time: 1m 18s\n",
    "\tTrain Loss: 0.766 | Train PPL:   2.151\n",
    "\t Val. Loss: 3.452 |  Val. PPL:  31.552\n",
    "\t Train BLEU:0.466 |  Val. BLEU:   0.466\n",
    "Epoch: 15 | Time: 1m 18s\n",
    "\tTrain Loss: 0.731 | Train PPL:   2.076\n",
    "\t Val. Loss: 3.335 |  Val. PPL:  28.077\n",
    "\t Train BLEU:0.460 |  Val. BLEU:   0.460\n",
    "```"
   ]
  },
  {
   "cell_type": "markdown",
   "metadata": {
    "colab_type": "text",
    "id": "WweY1i5ZEMLa"
   },
   "source": [
    "### 2.2.2 Please report the cumulative BLEU-4 score on test set (i.e., `test_eng_fre.tsv`) via the corpus_bleu() function.\n",
    "rubric={accuracy:2}\n",
    "\n",
    "Hint: You can use `inference()` function. "
   ]
  },
  {
   "cell_type": "markdown",
   "metadata": {
    "colab_type": "text",
    "id": "tgjT_zd_EPVg"
   },
   "source": [
    "**Your answer goes here**\n",
    "\n",
    "**My best model obtains 0.48 cumulative BLEU-4 score.**"
   ]
  },
  {
   "cell_type": "markdown",
   "metadata": {
    "colab_type": "text",
    "id": "juP9oWrNEY2i"
   },
   "source": [
    "### Please paste your code for the corresponding questions."
   ]
  },
  {
   "cell_type": "markdown",
   "metadata": {
    "colab_type": "text",
    "id": "C9QnCRvoEa1C"
   },
   "source": [
    "### 2.2.3 You may need to revise `class Encoder`. Pleae show your code for `class Encoder`:\n",
    "rubric={accuracy:2, efficiency:2}"
   ]
  },
  {
   "cell_type": "code",
   "execution_count": 0,
   "metadata": {
    "colab": {},
    "colab_type": "code",
    "id": "NwtPVrRmEbGz"
   },
   "outputs": [],
   "source": [
    "class Encoder(nn.Module):\n",
    "    def __init__(self, input_dim, emb_dim, enc_hid_dim, n_layers, dropout):\n",
    "        super().__init__()\n",
    "\n",
    "        self.emb_dim = emb_dim\n",
    "        self.enc_hid_dim = enc_hid_dim\n",
    "        self.dropout = dropout\n",
    "        self.n_layers = n_layers\n",
    "\n",
    "        self.embedding = nn.Embedding(input_dim, emb_dim)\n",
    "        self.lstm = nn.LSTM(emb_dim, enc_hid_dim, n_layers, dropout=dropout,bidirectional=True)\n",
    "        self.dropout = nn.Dropout(dropout)\n",
    "        \n",
    "    def forward(self, src):\n",
    "        \n",
    "        #src = [src len, batch size]\n",
    "        \n",
    "        embedded = self.dropout(self.embedding(src))\n",
    "        \n",
    "        #embedded = [src len, batch size, emb dim]\n",
    "        \n",
    "        outputs, (hidden, cell) = self.lstm(embedded)\n",
    "       \n",
    "        # outputs are always from the top hidden layer, if bidirectional outputs are concatenated.\n",
    "        # outputs shape [sequence_length, batch_size, hidden_dim * num_directions]\n",
    "        # hidden is of shape [num_layers * num_directions, batch_size, hidden_size]\n",
    "        # cell is of shape [num_layers * num_directions, batch_size, hidden_size]\n",
    "        \n",
    "        return outputs, (hidden, cell)"
   ]
  },
  {
   "cell_type": "markdown",
   "metadata": {
    "colab_type": "text",
    "id": "2S2NxWzzEhpe"
   },
   "source": [
    "### 2.2.4  You may need to revise `class Decoder`. Pleae show your code for `class Decoder`:\n",
    "rubric={accuracy:2, efficiency:2}"
   ]
  },
  {
   "cell_type": "code",
   "execution_count": 0,
   "metadata": {
    "colab": {},
    "colab_type": "code",
    "id": "ps6h3TxZEjU9"
   },
   "outputs": [],
   "source": [
    "class Decoder(nn.Module):\n",
    "    def __init__(self, output_dim, emb_dim, enc_hid_dim, dec_hid_dim, n_layers, dropout, attention):\n",
    "        super().__init__()\n",
    "        \n",
    "        self.output_dim = output_dim\n",
    "        self.attention = attention\n",
    "        \n",
    "        self.embedding = nn.Embedding(output_dim, emb_dim)\n",
    "        \n",
    "        self.rnn = nn.LSTM(emb_dim, dec_hid_dim, n_layers, dropout=dropout)\n",
    "        \n",
    "        self.fc_md = nn.Linear(dec_hid_dim*2, dec_hid_dim) #<--------------\n",
    "\n",
    "        self.fc_out = nn.Linear(dec_hid_dim, output_dim)\n",
    "        \n",
    "        self.dropout = nn.Dropout(dropout)\n",
    "        \n",
    "    def forward(self, input, hidden, cell, encoder_outputs):\n",
    "             \n",
    "        #input = [batch size]\n",
    "        #hidden = [batch size, dec hid dim]\n",
    "        #encoder_outputs = [src len, batch size, enc hid dim]\n",
    "        input = input.unsqueeze(0)\n",
    "        \n",
    "        #input = [1, batch size]\n",
    "        \n",
    "        embedded = self.dropout(self.embedding(input))\n",
    "        #embedded = [1, batch size, emb dim]\n",
    "\n",
    "        output, (hidden, cell) = self.rnn(embedded, (hidden.unsqueeze(0),cell)) #<--------------\n",
    "\n",
    "        #output = [seq len, batch size, dec hid dim * n directions]\n",
    "        #hidden = [n layers * n directions, batch size, dec hid dim]\n",
    "        \n",
    "        #seq len, n layers and n directions will always be 1 in this decoder, therefore:\n",
    "        #output = [1, batch size, dec hid dim]\n",
    "        #hidden = [1, batch size, dec hid dim]\n",
    "        #this also means that output == hidden\n",
    "\n",
    "        hidden = hidden.squeeze(0)\n",
    "        attention_weights = self.attention(hidden, encoder_outputs)#<--------------\n",
    "        \n",
    "        #attention_weights = [batch size, src len]\n",
    "        \n",
    "        attention_weights = attention_weights.unsqueeze(1) #<--------------\n",
    "\n",
    "        #a = [batch size, 1, src len]\n",
    "        \n",
    "        encoder_outputs = encoder_outputs.permute(1, 0, 2)\n",
    "        \n",
    "        #encoder_outputs = [batch size, src len, enc hid dim]\n",
    "        \n",
    "        weighted = torch.bmm(attention_weights, encoder_outputs)\n",
    "        weighted = weighted.squeeze(1)\n",
    "        #weighted = [batch size, 1, enc hid dim]\n",
    "        \n",
    "        concate_output = torch.cat((hidden, weighted), dim = -1) #<--------------\n",
    "\n",
    "        concate_output = self.fc_md(concate_output) #<--------------\n",
    "\n",
    "        prediction = self.fc_out(concate_output)\n",
    "        \n",
    "        #prediction = [batch size, output dim]\n",
    "        \n",
    "        return prediction, hidden, cell, attention_weights "
   ]
  },
  {
   "cell_type": "markdown",
   "metadata": {
    "colab_type": "text",
    "id": "FpmsNlKZI18U"
   },
   "source": [
    "### 2.2.4a  Give your code for the `class Attention`:\n",
    "rubric={accuracy:4, efficiency:2}"
   ]
  },
  {
   "cell_type": "code",
   "execution_count": 0,
   "metadata": {
    "colab": {},
    "colab_type": "code",
    "id": "c2xoEasBI9fL"
   },
   "outputs": [],
   "source": [
    "class Attention(nn.Module): #<--------------\n",
    "    def __init__(self):\n",
    "        super().__init__()\n",
    "        # you don't need to initial any parameters ib dot-product attention. \n",
    "        \n",
    "    def forward(self, hidden, encoder_outputs): #<--------------\n",
    "        #hidden = [batch size, dec hid dim]\n",
    "        #encoder_outputs = [src len, batch size, enc hid dim]\n",
    "        attention = torch.bmm(hidden.unsqueeze(1), encoder_outputs.permute(1,2,0)).squeeze(1)#<--------------\n",
    "        # attention = (batch_size, src_len)\n",
    "        return F.softmax(attention, dim=1)"
   ]
  },
  {
   "cell_type": "markdown",
   "metadata": {
    "colab_type": "text",
    "id": "6Pb3ZfDwI8Mi"
   },
   "source": [
    "### 2.2.5 You may need to revise `class Seq2Seq`. Pleae show your code for `class Seq2Seq`:\n",
    "rubric={accuracy:2, efficiency:2}"
   ]
  },
  {
   "cell_type": "code",
   "execution_count": 0,
   "metadata": {
    "colab": {},
    "colab_type": "code",
    "id": "SkYV7dKFJDXe"
   },
   "outputs": [],
   "source": [
    "class Seq2Seq(nn.Module):\n",
    "    def __init__(self, encoder, decoder, device):\n",
    "        super().__init__()\n",
    "        \n",
    "        self.encoder = encoder\n",
    "        self.decoder = decoder\n",
    "        self.device = device\n",
    "        \n",
    "    def forward(self, src, trg, teacher_forcing_ratio = 0.5):\n",
    "        \n",
    "        #src = [src len, batch size]\n",
    "        #trg = [trg len, batch size]\n",
    "        #teacher_forcing_ratio is probability to use teacher forcing\n",
    "        #e.g. if teacher_forcing_ratio is 0.75 we use teacher forcing 75% of the time\n",
    "        batch_size = src.shape[1]\n",
    "        trg_len = trg.shape[0]\n",
    "        trg_vocab_size = self.decoder.output_dim\n",
    "        \n",
    "        #tensor to store decoder outputs\n",
    "        outputs = torch.zeros(trg_len, batch_size, trg_vocab_size).to(self.device)\n",
    "        # save the encoder-decoder attention weights\n",
    "        # all_attention_weights = [batch_size, trg len-1, src len ]\n",
    "        all_attention_weights = torch.zeros(trg.shape[1], trg.shape[0]-1, src.shape[0])\n",
    "        #encoder_outputs is all hidden states of the input sequence, back and forwards\n",
    "        #hidden is the final forward and backward hidden states, passed through a linear layer\n",
    "        encoder_outputs, (hidden, cell) = self.encoder(src) \n",
    "\n",
    "        hidden = torch.cat((hidden[-2,:,:],hidden[-1,:,:]),dim=-1)\n",
    "        cell = torch.cat((cell[-2,:,:],cell[-1,:,:]),dim=-1).unsqueeze(0)\n",
    "        #first input to the decoder is the <sos> tokens\n",
    "        input = trg[0,:]\n",
    "        \n",
    "        for t in range(1, trg_len):\n",
    "            \n",
    "            #insert input token embedding, previous hidden state and all encoder hidden states\n",
    "            #receive output tensor (predictions) and new hidden state\n",
    "            output, hidden, cell, attention_weights = self.decoder(input, hidden, cell, encoder_outputs)\n",
    "            \n",
    "            # all_attention_weights[t-1] = [src len, batch size]\n",
    "            all_attention_weights[:,t-1,:] = attention_weights.squeeze(1)\n",
    "            \n",
    "            #place predictions in a tensor holding predictions for each token\n",
    "            outputs[t] = output\n",
    "            \n",
    "            #decide if we are going to use teacher forcing or not\n",
    "            teacher_force = random.random() < teacher_forcing_ratio\n",
    "            \n",
    "            #get the highest predicted token from our predictions\n",
    "            top1 = output.argmax(1) \n",
    "            \n",
    "            #if teacher forcing, use actual next token as next input\n",
    "            #if not, use predicted token\n",
    "            input = trg[t] if teacher_force else top1\n",
    "\n",
    "        return outputs,all_attention_weights"
   ]
  },
  {
   "cell_type": "markdown",
   "metadata": {
    "colab_type": "text",
    "id": "F0Mr0CLfJGG-"
   },
   "source": [
    "### 2.2.6 You may need to revise the code of instantiating classes. Pleae show your instantiation code:\n",
    "rubric={accuracy:2}"
   ]
  },
  {
   "cell_type": "code",
   "execution_count": 0,
   "metadata": {
    "colab": {},
    "colab_type": "code",
    "id": "8I_WInP7JHqM"
   },
   "outputs": [],
   "source": [
    "INPUT_DIM = len(SRC.vocab)\n",
    "OUTPUT_DIM = len(TRG.vocab)\n",
    "ENC_EMB_DIM = 256\n",
    "DEC_EMB_DIM = 256\n",
    "ENC_HID_DIM = 512\n",
    "DEC_HID_DIM = 1024 #<--------------\n",
    "ENC_DROPOUT = 0.5\n",
    "DEC_DROPOUT = 0.5\n",
    "N_LAYERS = 1\n",
    "LEARNING_RT = 0.001\n",
    "\n",
    "attn = Attention()\n",
    "enc = Encoder(INPUT_DIM, ENC_EMB_DIM, ENC_HID_DIM, N_LAYERS, ENC_DROPOUT)\n",
    "dec = Decoder(OUTPUT_DIM, DEC_EMB_DIM, ENC_HID_DIM, DEC_HID_DIM, N_LAYERS, DEC_DROPOUT, attn)\n",
    "\n",
    "model = Seq2Seq(enc, dec, device).to(device)"
   ]
  },
  {
   "cell_type": "markdown",
   "metadata": {
    "colab_type": "text",
    "id": "ZsOJjBDqJPBR"
   },
   "source": [
    "### 2.2.7 Please write code to visualize the attention alignment of following sentences using your best model in 2.2 and include your visualization pictures in your Lab3 directory. Your visualization pictures should be named `ex2_sentence_n.png` where $n$ is the index. Please include your code in `Lab3_exp.ipynb`.\n",
    "rubric={accuracy:3}"
   ]
  },
  {
   "cell_type": "code",
   "execution_count": 60,
   "metadata": {
    "colab": {},
    "colab_type": "code",
    "id": "dahNevOHJRp5"
   },
   "outputs": [],
   "source": [
    "sentence_1 = \"Une femme lit un magazine par dessus l'épaule d'une autre femme.\"\n",
    "sentence_2 = \"Un gars torse nu regardant au loin tandis que trois femmes passent devant une foule assise devant un café.\"\n",
    "sentence_3 = \"Two groups of swimmers wade out.\""
   ]
  },
  {
   "cell_type": "markdown",
   "metadata": {
    "colab_type": "text",
    "id": "IHP-b3RLkXah"
   },
   "source": [
    "**Put your translation here**\n",
    "\n",
    "My translation:\n",
    "- sentence_1: a woman is reading a magazine over another woman 's shoulder .\n",
    "- sentence_2: a shirtless guy staring into a distance while three women walk past a crowd sitting outside of a cafe .\n",
    "- sentence_3: two groups of `<unk> <unk>` outside ."
   ]
  },
  {
   "cell_type": "code",
   "execution_count": 61,
   "metadata": {
    "colab": {},
    "colab_type": "code",
    "id": "Ptt2tKPZJV_W"
   },
   "outputs": [],
   "source": [
    "import matplotlib\n",
    "import matplotlib.pyplot as plt\n",
    "def translation_vis(sentence,SRC,TRG,model):\n",
    "  model.eval()\n",
    "  src_token = SRC.preprocess(sentence)\n",
    "  print(\"src_token:\", src_token)\n",
    "  src_tensor = SRC.process([src_token],device=device)\n",
    "  print(\"shape of source language: \", src_tensor.shape)\n",
    "\n",
    "  trg_token = ['<pad>']*64\n",
    "  trg_tensor = TRG.process([trg_token],device=device)\n",
    "  print(\"shape of target language: \", trg_tensor.shape)\n",
    "\n",
    "  output, all_attention_weights = model(src_tensor, trg_tensor,teacher_forcing_ratio = 0.0)\n",
    "  output_dim = output.shape[-1]\n",
    "  # get translation results, we ignore first token <sos> in both translation and target sentences. \n",
    "  # output_translate = [(trg len - 1), batch, output dim] output dim is size of target vocabulary.    \n",
    "  output_translate = output[1:]\n",
    "\n",
    "  source_languege = src_tensor[1:,0].cpu().numpy() ## ***We should also remove the <sos> token in source sentence.***\n",
    "  translation_logit = output_translate[:,0,:].squeeze(1)\n",
    "\n",
    "  # Choose top 1 word from decoder's output, we get the probability and index of the word\n",
    "  prob, token_id = translation_logit.data.topk(1)\n",
    "  token_id = token_id.squeeze(1).cpu().numpy()\n",
    "  \n",
    "  # get source langauge in text\n",
    "  src_langauge = []\n",
    "\n",
    "  for i in source_languege:\n",
    "      if i == SRC.vocab.stoi['<eos>']:\n",
    "          # token = SRC.vocab.itos[i]\n",
    "          # src_langauge.append(token)\n",
    "          break\n",
    "      else:\n",
    "          token = SRC.vocab.itos[i]\n",
    "          src_langauge.append(token)\n",
    "  print(\"Source language:\", src_langauge)\n",
    "\n",
    "  # get machine translation in text\n",
    "  trans_langauge = []\n",
    "  for i in token_id:\n",
    "      if i == TRG.vocab.stoi['<eos>']:\n",
    "          # token = SRC.vocab.itos[i]\n",
    "          # trans_langauge.append(token)\n",
    "          break\n",
    "      else:\n",
    "          token = TRG.vocab.itos[i]\n",
    "          trans_langauge.append(token)\n",
    "  print(\"Our model translation: \", \" \".join(trans_langauge))\n",
    "\n",
    "  all_attention_weights = all_attention_weights[0,:,1:].cpu().detach().numpy()\n",
    "  print(all_attention_weights.shape)\n",
    "  all_attention_weights = np.array(all_attention_weights)[0:len(trans_langauge),0:len(src_langauge)] #<-----\n",
    "  print(all_attention_weights.shape)\n",
    "  ###When we ingor the first <sos> tokens in both traget and source languges (in previous steps), we should also skip all the attention weights that compare with <sos> hidden state in Encoder. \n",
    "  fig, ax = plt.subplots()\n",
    "  im = ax.imshow(all_attention_weights,cmap=plt.cm.Blues)\n",
    "  # plt.colorbar(im)\n",
    "  # We want to show all ticks...\n",
    "  ax.set_xticks(np.arange(len(src_langauge)))\n",
    "  ax.set_yticks(np.arange(len(trans_langauge)))\n",
    "  # ... and label them with the respective list entries\n",
    "  ax.set_xticklabels(src_langauge)\n",
    "  ax.set_yticklabels(trans_langauge)\n",
    "\n",
    "  # Rotate the tick labels and set their alignment.\n",
    "  plt.setp(ax.get_xticklabels(), rotation=45, ha=\"right\",\n",
    "          rotation_mode=\"anchor\")\n",
    "\n",
    "  ax.set_title(\"seq2seq-Dot-product-Attn\")\n",
    "  fig.tight_layout()\n",
    "  plt.show()"
   ]
  },
  {
   "cell_type": "code",
   "execution_count": 62,
   "metadata": {
    "colab": {
     "base_uri": "https://localhost:8080/",
     "height": 436
    },
    "colab_type": "code",
    "id": "SCHVbO6XK6N3",
    "outputId": "d2bf1cc3-954e-44c2-faa9-6bb698ec4ca6"
   },
   "outputs": [
    {
     "name": "stdout",
     "output_type": "stream",
     "text": [
      "src_token: ['une', 'femme', 'lit', 'un', 'magazine', 'par', 'dessus', \"l'\", 'épaule', \"d'\", 'une', 'autre', 'femme', '.']\n",
      "shape of source language:  torch.Size([16, 1])\n",
      "shape of target language:  torch.Size([66, 1])\n",
      "Source language: ['une', 'femme', 'lit', 'un', 'magazine', 'par', 'dessus', \"l'\", 'épaule', \"d'\", 'une', 'autre', 'femme', '.']\n",
      "Our model translation:  a woman reads a magazine over another woman 's shoulder .\n",
      "(65, 15)\n",
      "(11, 14)\n"
     ]
    },
    {
     "data": {
      "image/png": "[encoded data removed]",
      "text/plain": [
       "<Figure size 432x288 with 1 Axes>"
      ]
     },
     "metadata": {
      "needs_background": "light"
     },
     "output_type": "display_data"
    }
   ],
   "source": [
    "translation_vis(sentence_1,SRC,TRG,model_ex2_best)"
   ]
  },
  {
   "cell_type": "code",
   "execution_count": 63,
   "metadata": {
    "colab": {
     "base_uri": "https://localhost:8080/",
     "height": 436
    },
    "colab_type": "code",
    "id": "Bfy82mczLzc7",
    "outputId": "0bf7754b-f12a-4498-d3a7-f275e0547352"
   },
   "outputs": [
    {
     "name": "stdout",
     "output_type": "stream",
     "text": [
      "src_token: ['un', 'gars', 'torse', 'nu', 'regardant', 'au', 'loin', 'tandis', 'que', 'trois', 'femmes', 'passent', 'devant', 'une', 'foule', 'assise', 'devant', 'un', 'café', '.']\n",
      "shape of source language:  torch.Size([22, 1])\n",
      "shape of target language:  torch.Size([66, 1])\n",
      "Source language: ['un', 'gars', 'torse', 'nu', 'regardant', 'au', 'loin', 'tandis', 'que', 'trois', 'femmes', 'passent', 'devant', 'une', 'foule', 'assise', 'devant', 'un', 'café', '.']\n",
      "Our model translation:  a shirtless guy staring into the distance while three women walk past a crowd sitting outside of a cafe .\n",
      "(65, 21)\n",
      "(20, 20)\n"
     ]
    },
    {
     "data": {
      "image/png": "[encoded data removed]",
      "text/plain": [
       "<Figure size 432x288 with 1 Axes>"
      ]
     },
     "metadata": {
      "needs_background": "light"
     },
     "output_type": "display_data"
    }
   ],
   "source": [
    "translation_vis(sentence_2,SRC,TRG,model_ex2_best)"
   ]
  },
  {
   "cell_type": "code",
   "execution_count": 64,
   "metadata": {
    "colab": {
     "base_uri": "https://localhost:8080/",
     "height": 416
    },
    "colab_type": "code",
    "id": "WMLXIiZNaa38",
    "outputId": "4183b386-7cba-4d3d-f496-32b15142b2c2"
   },
   "outputs": [
    {
     "name": "stdout",
     "output_type": "stream",
     "text": [
      "src_token: ['deux', 'groupes', 'de', 'baigneurs', 'barbotent', 'dehors', '.']\n",
      "shape of source language:  torch.Size([9, 1])\n",
      "shape of target language:  torch.Size([66, 1])\n",
      "Source language: ['deux', 'groupes', 'de', '<unk>', '<unk>', 'dehors', '.']\n",
      "Our model translation:  two groups of <unk> <unk> outside .\n",
      "(65, 8)\n",
      "(7, 7)\n"
     ]
    },
    {
     "data": {
      "image/png": "[encoded data removed]",
      "text/plain": [
       "<Figure size 432x288 with 1 Axes>"
      ]
     },
     "metadata": {
      "needs_background": "light"
     },
     "output_type": "display_data"
    }
   ],
   "source": [
    "translation_vis(sentence_3,SRC,TRG,model_ex2_best)"
   ]
  },
  {
   "cell_type": "markdown",
   "metadata": {
    "colab_type": "text",
    "id": "Rv_N97KuK5n8"
   },
   "source": [
    "### 2.2.8 Please write code to visualize the attention alignment of three sentences in 2.2.7 using your best model of `seq2seq+additive attention (this week tutorial)` and include your visualization pictures in your Lab3 directory. Your visualization pictures should be named `tutorial3_sentence_n.png` where $n$ is the index. Please include your code in `Lab3_exp.ipynb`.\n",
    "rubric={accuracy:3}"
   ]
  },
  {
   "cell_type": "markdown",
   "metadata": {
    "colab_type": "text",
    "id": "d28ppAp_nMLQ"
   },
   "source": [
    "**Put your translation here**\n",
    "\n",
    "My translation:\n",
    "- sentence_1: a woman is reading a magazine over another woman 's shoulder .\n",
    "- sentence_2: a shirtless guy staring into a distance while three women walk past a crowd sitting outside of a cafe .\n",
    "- sentence_3: two groups of `<unk> <unk>` outside ."
   ]
  },
  {
   "cell_type": "markdown",
   "metadata": {
    "colab_type": "text",
    "id": "PgBVWBjpb_Ib"
   },
   "source": [
    "### Load best seq2seq+additive attention model and corresponding Fields"
   ]
  },
  {
   "cell_type": "code",
   "execution_count": 0,
   "metadata": {
    "colab": {},
    "colab_type": "code",
    "id": "FvmWs1zMb_uA"
   },
   "outputs": [],
   "source": [
    "class Encoder(nn.Module):\n",
    "    def __init__(self, input_dim, emb_dim, enc_hid_dim, n_layers, dropout):\n",
    "        super().__init__()\n",
    "\n",
    "        self.emb_dim = emb_dim\n",
    "        self.enc_hid_dim = enc_hid_dim\n",
    "        self.dropout = dropout\n",
    "        self.n_layers = n_layers\n",
    "\n",
    "        self.embedding = nn.Embedding(input_dim, emb_dim)\n",
    "        self.lstm = nn.LSTM(emb_dim, enc_hid_dim, n_layers, dropout=dropout)\n",
    "        self.dropout = nn.Dropout(dropout)\n",
    "        \n",
    "    def forward(self, src):\n",
    "        \n",
    "        #src = [src len, batch size]\n",
    "        \n",
    "        embedded = self.dropout(self.embedding(src))\n",
    "        \n",
    "        #embedded = [src len, batch size, emb dim]\n",
    "        \n",
    "        outputs, (hidden, cell) = self.lstm(embedded)\n",
    "       \n",
    "        # outputs are always from the top hidden layer, if bidirectional outputs are concatenated.\n",
    "        # outputs shape [sequence_length, batch_size, hidden_dim * num_directions]\n",
    "        # hidden is of shape [num_layers * num_directions, batch_size, hidden_size]\n",
    "        # cell is of shape [num_layers * num_directions, batch_size, hidden_size]\n",
    "        \n",
    "        return outputs, (hidden.squeeze(0), cell)"
   ]
  },
  {
   "cell_type": "code",
   "execution_count": 0,
   "metadata": {
    "colab": {},
    "colab_type": "code",
    "id": "KLLSLEkbirAz"
   },
   "outputs": [],
   "source": [
    "class Attention(nn.Module):\n",
    "    def __init__(self, enc_hid_dim, dec_hid_dim):\n",
    "        super().__init__()\n",
    "        \n",
    "        self.W_a = nn.Linear(enc_hid_dim + dec_hid_dim, dec_hid_dim)\n",
    "        self.v_a = nn.Parameter(torch.rand(dec_hid_dim)) # same as doing nn.Linear(dec_hid_dim, 1, bias=False)\n",
    "        \n",
    "    def forward(self, hidden, encoder_outputs):\n",
    "        #hidden = [batch size, dec hid dim]\n",
    "        #encoder_outputs = [src len, batch size, enc hid dim]\n",
    "        \n",
    "        batch_size = encoder_outputs.shape[1]\n",
    "        src_len = encoder_outputs.shape[0]\n",
    "        \n",
    "        #repeat encoder hidden state src_len-1 times\n",
    "        hidden = hidden.unsqueeze(1).repeat(1, src_len, 1)\n",
    "        \n",
    "        encoder_outputs = encoder_outputs.permute(1, 0, 2)\n",
    "        \n",
    "        #hidden = [batch size, src len, dec hid dim]\n",
    "        #encoder_outputs = [batch size, src len, enc hid dim]\n",
    "        \n",
    "        # attention scoring function - part 1 - tanh(W_a[s;h])\n",
    "        energy = torch.tanh(self.W_a(torch.cat((hidden, encoder_outputs), dim = 2))) \n",
    "        \n",
    "        #energy = [batch size, src len, dec hid dim]\n",
    "        \n",
    "        energy = energy.permute(0, 2, 1)\n",
    "        \n",
    "        #energy = [batch size, dec hid dim, src len]\n",
    "        \n",
    "        #v = [dec hid dim]\n",
    "        \n",
    "        v = self.v_a.repeat(batch_size, 1).unsqueeze(1)\n",
    "        \n",
    "        #v = [batch size, 1, dec hid dim]\n",
    "        \n",
    "        # attention scoring function - part 2 - v_a(tanh(W_a[s;h]))\n",
    "        attention = torch.bmm(v, energy).squeeze(1)\n",
    "        \n",
    "        #attention= [batch size, src len]\n",
    "\n",
    "        # attention scoring function - part 2 - softmax(v_a(tanh(W_a[s;h])))\n",
    "        return F.softmax(attention, dim=1)"
   ]
  },
  {
   "cell_type": "code",
   "execution_count": 0,
   "metadata": {
    "colab": {},
    "colab_type": "code",
    "id": "q6_jVdFyiuXm"
   },
   "outputs": [],
   "source": [
    "class Decoder(nn.Module):\n",
    "    def __init__(self, output_dim, emb_dim, enc_hid_dim, dec_hid_dim, n_layers, dropout, attention):\n",
    "        super().__init__()\n",
    "        \n",
    "        self.output_dim = output_dim\n",
    "        self.attention = attention\n",
    "        \n",
    "        self.embedding = nn.Embedding(output_dim, emb_dim)\n",
    "        \n",
    "        self.rnn = nn.LSTM(enc_hid_dim + emb_dim, dec_hid_dim, n_layers, dropout=dropout)\n",
    "        \n",
    "        self.fc_out = nn.Linear(enc_hid_dim + dec_hid_dim + emb_dim, output_dim)\n",
    "        \n",
    "        self.dropout = nn.Dropout(dropout)\n",
    "        \n",
    "    def forward(self, input, hidden, cell, encoder_outputs):\n",
    "             \n",
    "        #input = [batch size]\n",
    "        #hidden = [batch size, dec hid dim]\n",
    "        #encoder_outputs = [src len, batch size, enc hid dim]\n",
    "        input = input.unsqueeze(0)\n",
    "        \n",
    "        #input = [1, batch size]\n",
    "        \n",
    "        embedded = self.dropout(self.embedding(input))\n",
    "        \n",
    "        #embedded = [1, batch size, emb dim]\n",
    "        # get the attention probabilities\n",
    "        attention_weights = self.attention(hidden, encoder_outputs)\n",
    "                \n",
    "        #attention_weights = [batch size, src len]\n",
    "        \n",
    "        attention_weights = attention_weights.unsqueeze(1)\n",
    "        \n",
    "        #a = [batch size, 1, src len]\n",
    "        \n",
    "        encoder_outputs = encoder_outputs.permute(1, 0, 2)\n",
    "        \n",
    "        #encoder_outputs = [batch size, src len, enc hid dim]\n",
    "        # perform weighted sum of encoder hidden states to get attention output\n",
    "        weighted = torch.bmm(attention_weights, encoder_outputs)\n",
    "        \n",
    "        #weighted = [batch size, 1, enc hid dim]\n",
    "        \n",
    "        weighted = weighted.permute(1, 0, 2)\n",
    "        \n",
    "        #weighted = [1, batch size, enc hid dim]\n",
    "        # concatenate the attention outputs (or context vectors) with the current decoder input\n",
    "        rnn_input = torch.cat((embedded, weighted), dim = 2)\n",
    "        \n",
    "        #rnn_input = [1, batch size, (enc hid dim) + emb dim]\n",
    "        output, (hidden, cell) = self.rnn(rnn_input, (hidden.unsqueeze(0), cell))\n",
    "        \n",
    "        #output = [seq len, batch size, dec hid dim * n directions]\n",
    "        #hidden = [n layers * n directions, batch size, dec hid dim]\n",
    "        \n",
    "        #seq len, n layers and n directions will always be 1 in this decoder, therefore:\n",
    "        #output = [1, batch size, dec hid dim]\n",
    "        #hidden = [1, batch size, dec hid dim]\n",
    "        #this also means that output == hidden\n",
    "        assert (output == hidden).all()\n",
    "        \n",
    "        embedded = embedded.squeeze(0)\n",
    "        output = output.squeeze(0)\n",
    "        weighted = weighted.squeeze(0)\n",
    "        \n",
    "        # classification over the entire word vocabulary\n",
    "        prediction = self.fc_out(torch.cat((output, weighted, embedded), dim = 1))\n",
    "        \n",
    "        #prediction = [batch size, output dim]\n",
    "        \n",
    "        return prediction, hidden.squeeze(0), cell, attention_weights"
   ]
  },
  {
   "cell_type": "code",
   "execution_count": 0,
   "metadata": {
    "colab": {},
    "colab_type": "code",
    "id": "T2Yhqgciiw-k"
   },
   "outputs": [],
   "source": [
    "class Seq2Seq(nn.Module):\n",
    "    def __init__(self, encoder, decoder, device):\n",
    "        super().__init__()\n",
    "        \n",
    "        self.encoder = encoder\n",
    "        self.decoder = decoder\n",
    "        self.device = device\n",
    "        \n",
    "    def forward(self, src, trg, teacher_forcing_ratio = 0.5):\n",
    "        \n",
    "        #src = [src len, batch size]\n",
    "        #trg = [trg len, batch size]\n",
    "        #teacher_forcing_ratio is probability to use teacher forcing\n",
    "        #e.g. if teacher_forcing_ratio is 0.75 we use teacher forcing 75% of the time\n",
    "        batch_size = src.shape[1]\n",
    "        trg_len = trg.shape[0]\n",
    "        trg_vocab_size = self.decoder.output_dim\n",
    "        \n",
    "        #tensor to store decoder outputs\n",
    "        outputs = torch.zeros(trg_len, batch_size, trg_vocab_size).to(self.device)\n",
    "        # save the encoder-decoder attention weights\n",
    "        # all_attention_weights = [batch_size, trg len-1, src len ]\n",
    "        all_attention_weights = torch.zeros(trg.shape[1], trg.shape[0]-1, src.shape[0])\n",
    "        #encoder_outputs is all hidden states of the input sequence, back and forwards\n",
    "        #hidden is the final forward and backward hidden states, passed through a linear layer\n",
    "        encoder_outputs, (hidden, cell) = self.encoder(src)\n",
    "                \n",
    "        #first input to the decoder is the <sos> tokens\n",
    "        input = trg[0,:]\n",
    "        \n",
    "        for t in range(1, trg_len):\n",
    "            \n",
    "            #insert input token embedding, previous hidden state and all encoder hidden states\n",
    "            #receive output tensor (predictions) and new hidden state\n",
    "            output, hidden, cell, attention_weights = self.decoder(input, hidden, cell, encoder_outputs)\n",
    "            \n",
    "            # all_attention_weights[t-1] = [src len, batch size]\n",
    "            all_attention_weights[:,t-1,:] = attention_weights.squeeze(1)\n",
    "            \n",
    "            #place predictions in a tensor holding predictions for each token\n",
    "            outputs[t] = output\n",
    "            \n",
    "            #decide if we are going to use teacher forcing or not\n",
    "            teacher_force = random.random() < teacher_forcing_ratio\n",
    "            \n",
    "            #get the highest predicted token from our predictions\n",
    "            top1 = output.argmax(1) \n",
    "            \n",
    "            #if teacher forcing, use actual next token as next input\n",
    "            #if not, use predicted token\n",
    "            input = trg[t] if teacher_force else top1\n",
    "\n",
    "        return outputs,all_attention_weights"
   ]
  },
  {
   "cell_type": "code",
   "execution_count": 0,
   "metadata": {
    "colab": {},
    "colab_type": "code",
    "id": "4pZlwWuniryb"
   },
   "outputs": [],
   "source": [
    "import pickle\n",
    "with open(\"./drive/My Drive/Colab Notebooks/ckpt_attention_tutorial/TRG.Field\",\"rb\") as f:\n",
    "     TRG_saved_add = pickle.load(f)\n",
    "\n",
    "with open(\"./drive/My Drive/Colab Notebooks/ckpt_attention_tutorial/SRC.Field\",\"rb\") as f:\n",
    "     SRC_saved_add = pickle.load(f)"
   ]
  },
  {
   "cell_type": "code",
   "execution_count": 0,
   "metadata": {
    "colab": {
     "base_uri": "https://localhost:8080/",
     "height": 71
    },
    "colab_type": "code",
    "id": "KaFv6zmWizJn",
    "outputId": "4e3451bf-e627-4b07-d208-c6860d8a50b5"
   },
   "outputs": [
    {
     "name": "stderr",
     "output_type": "stream",
     "text": [
      "/usr/local/lib/python3.6/dist-packages/torch/nn/modules/rnn.py:50: UserWarning: dropout option adds dropout after all but last recurrent layer, so non-zero dropout expects num_layers greater than 1, but got dropout=0.5 and num_layers=1\n",
      "  \"num_layers={}\".format(dropout, num_layers))\n"
     ]
    }
   ],
   "source": [
    "INPUT_DIM = len(SRC_saved_add.vocab)\n",
    "OUTPUT_DIM = len(TRG_saved_add.vocab)\n",
    "ENC_EMB_DIM = 256\n",
    "DEC_EMB_DIM = 256\n",
    "ENC_HID_DIM = 512\n",
    "DEC_HID_DIM = 512\n",
    "ENC_DROPOUT = 0.5\n",
    "DEC_DROPOUT = 0.5\n",
    "N_LAYERS = 1\n",
    "LEARNING_RT = 0.001\n",
    "\n",
    "attn = Attention(ENC_HID_DIM, DEC_HID_DIM)\n",
    "enc = Encoder(INPUT_DIM, ENC_EMB_DIM, ENC_HID_DIM, N_LAYERS, ENC_DROPOUT)\n",
    "dec = Decoder(OUTPUT_DIM, DEC_EMB_DIM, ENC_HID_DIM, DEC_HID_DIM, N_LAYERS, DEC_DROPOUT, attn)\n",
    "\n",
    "model_add = Seq2Seq(enc, dec, device)\n",
    "model_add.load_state_dict(torch.load('./drive/My Drive/Colab Notebooks/ckpt_attention_tutorial/seq2seq_attn_4.pt')['state_dict'])\n",
    "model_add = model_add.to(device)"
   ]
  },
  {
   "cell_type": "code",
   "execution_count": 0,
   "metadata": {
    "colab": {
     "base_uri": "https://localhost:8080/",
     "height": 416
    },
    "colab_type": "code",
    "id": "txaKCyhnkNwO",
    "outputId": "490bf964-3c1e-4727-d3c6-cd14043d9864"
   },
   "outputs": [
    {
     "name": "stdout",
     "output_type": "stream",
     "text": [
      "src_token: ['une', 'femme', 'lit', 'un', 'magazine', 'par', 'dessus', \"l'\", 'épaule', \"d'\", 'une', 'autre', 'femme', '.']\n",
      "shape of source language:  torch.Size([16, 1])\n",
      "shape of target language:  torch.Size([66, 1])\n",
      "Source language: ['une', 'femme', 'lit', 'un', 'magazine', 'par', 'dessus', \"l'\", 'épaule', \"d'\", 'une', 'autre', 'femme', '.']\n",
      "Our model translation:  a woman reads a magazine by another woman 's shoulder .\n",
      "(65, 15)\n",
      "(11, 14)\n"
     ]
    },
    {
     "data": {
      "image/png": "[encoded data removed]",
      "text/plain": [
       "<Figure size 432x288 with 1 Axes>"
      ]
     },
     "metadata": {
      "tags": []
     },
     "output_type": "display_data"
    }
   ],
   "source": [
    "translation_vis(sentence_1,SRC_saved_add,TRG_saved_add,model_add)"
   ]
  },
  {
   "cell_type": "code",
   "execution_count": 0,
   "metadata": {
    "colab": {
     "base_uri": "https://localhost:8080/",
     "height": 436
    },
    "colab_type": "code",
    "id": "KkXEhhyOm-k1",
    "outputId": "572e4993-df75-4a38-f184-22b7cbcefcf7"
   },
   "outputs": [
    {
     "name": "stdout",
     "output_type": "stream",
     "text": [
      "src_token: ['un', 'gars', 'torse', 'nu', 'regardant', 'au', 'loin', 'tandis', 'que', 'trois', 'femmes', 'passent', 'devant', 'une', 'foule', 'assise', 'devant', 'un', 'café', '.']\n",
      "shape of source language:  torch.Size([22, 1])\n",
      "shape of target language:  torch.Size([66, 1])\n",
      "Source language: ['un', 'gars', 'torse', 'nu', 'regardant', 'au', 'loin', 'tandis', 'que', 'trois', 'femmes', 'passent', 'devant', 'une', 'foule', 'assise', 'devant', 'un', 'café', '.']\n",
      "Our model translation:  a shirtless man looking at the distance while three women walk past a crowd sitting outside of a cafe .\n",
      "(65, 21)\n",
      "(20, 20)\n"
     ]
    },
    {
     "data": {
      "image/png": "[encoded data removed]",
      "text/plain": [
       "<Figure size 432x288 with 1 Axes>"
      ]
     },
     "metadata": {
      "tags": []
     },
     "output_type": "display_data"
    }
   ],
   "source": [
    "translation_vis(sentence_2,SRC_saved_add,TRG_saved_add,model_add)"
   ]
  },
  {
   "cell_type": "code",
   "execution_count": 0,
   "metadata": {
    "colab": {
     "base_uri": "https://localhost:8080/",
     "height": 416
    },
    "colab_type": "code",
    "id": "5mLqdIK3nAXd",
    "outputId": "2b636051-ff6c-4ad6-9ecc-eb6096c3168c"
   },
   "outputs": [
    {
     "name": "stdout",
     "output_type": "stream",
     "text": [
      "src_token: ['deux', 'groupes', 'de', 'baigneurs', 'barbotent', 'dehors', '.']\n",
      "shape of source language:  torch.Size([9, 1])\n",
      "shape of target language:  torch.Size([66, 1])\n",
      "Source language: ['deux', 'groupes', 'de', '<unk>', '<unk>', 'dehors', '.']\n",
      "Our model translation:  two <unk> <unk> <unk> outside .\n",
      "(65, 8)\n",
      "(6, 7)\n"
     ]
    },
    {
     "data": {
      "image/png": "[encoded data removed]",
      "text/plain": [
       "<Figure size 432x288 with 1 Axes>"
      ]
     },
     "metadata": {
      "tags": []
     },
     "output_type": "display_data"
    }
   ],
   "source": [
    "translation_vis(sentence_3,SRC_saved_add,TRG_saved_add,model_add)"
   ]
  },
  {
   "cell_type": "markdown",
   "metadata": {
    "colab_type": "text",
    "id": "9gODH110b9ls"
   },
   "source": [
    "### 2.2.9 Please compare the translation of 2.2.7 and 2.2.8 and provide a error analysis. (OPTIONAL)\n",
    "rubric={reasoning:2}\n",
    "\n",
    "Hints:\n",
    "- try to identify issues with the translation.\n",
    "- If you don’t know the two languages, you can compare against Google translation. \n",
    "- Which model is better? Why?\n",
    "- You answer should be less than 100 words."
   ]
  },
  {
   "cell_type": "markdown",
   "metadata": {},
   "source": [
    "**You answer goes here:**\n",
    "\n",
    "Gold Translation \n",
    "- sentence_1 = \"A woman is reading a magazine over another woman's shoulder.\"\n",
    "- sentence_2 = \"Shirtless guy staring off in the distance while three woman are walking past a crowd sitting outside a cafe.\"\n",
    "- sentence_3 = \"Two groups of swimmers wade out.\"\n",
    "\n",
    "Additive attention model translation:\n",
    "\n",
    "- sentence_1: a woman reads a magazine by another woman 's shoulder .\n",
    "- sentence_2: a shirtless man looking at the distance while three women walk past a crowd sitting outside of a cafe\n",
    "- sentence_3: two <unk> <unk> <unk> outside .\n",
    "\n",
    "Dot-product attention model translation:\n",
    "- sentence_1: a woman is reading a magazine over another woman 's shoulder .\n",
    "- sentence_2: a shirtless guy staring into a distance while three women walk past a crowd sitting outside of a cafe .\n",
    "- sentence_3: two groups of `<unk> <unk>` outside .\n",
    "\n",
    "Both model are unable to deal with `<unk>` tokens because of losing in source language. \n",
    "\n",
    "Based on the visulizations, the dot-product attention give better alignments. Additive attention seems to do worse with differentiating between similar but slightly different words (man vs. guy, looking vs. staring) going for the more generic word instead of the slightly more specific word. Both models need to be post-processed to deal with tokenization issues ('s and casing).\n",
    "\n",
    "Compare with gold translation, both missed some phrases such as `staring off` and `are walking`."
   ]
  },
  {
   "cell_type": "markdown",
   "metadata": {
    "colab_type": "text",
    "id": "h8BSZztucCQc"
   },
   "source": [
    "## Exercise 3 Error analysis"
   ]
  },
  {
   "cell_type": "markdown",
   "metadata": {
    "colab_type": "text",
    "id": "KOqabelvcEyF"
   },
   "source": [
    "Now, we have four seq2seq models: (1) basic seq2seq from week2 tutorial (`seq2seq_tutorial.ipynb`); (2) seq2seq with additive attention from week3 tutorial (`attention_tutorial.ipynb`); (3) seq2seq variant of Exercise 1; (4) seq2seq with dot product attention in Exercise 2. Please use the best models of these four models to answer the following questions. \n",
    "\n",
    "If you had problems creating any of these 4 models, just report your results on the models you were able to make work/develop."
   ]
  },
  {
   "cell_type": "markdown",
   "metadata": {
    "colab_type": "text",
    "id": "RjiTOQJncGlo"
   },
   "source": [
    "### 3.1 Please report the cumulative BLEU-4 score on test set (i.e., `test_eng_fre.tsv`) via the corpus_bleu() function. (Your best model may get at different epochs.)\n",
    "rubric={accuracy:1}\n",
    "\n",
    "Hint: You can use `inference()` function. "
   ]
  },
  {
   "cell_type": "markdown",
   "metadata": {
    "colab_type": "text",
    "id": "SzVprpTdcort"
   },
   "source": [
    "**You answer goes here:**\n",
    "- For model (1), **my best model obtains 0.25 cumulative BLEU-4 score with 7 epoch(s).** \n",
    "- For model (2), **my best model obtains 0.43 cumulative BLEU-4 score with 4 epoch(s).** \n",
    "- For model (3), **my best model obtains 0.27 cumulative BLEU-4 score with 9 epoch(s).** \n",
    "- For model (4), **my best model obtains 0.48 cumulative BLEU-4 score with 9 epoch(s).** "
   ]
  },
  {
   "cell_type": "code",
   "execution_count": 0,
   "metadata": {
    "colab": {
     "base_uri": "https://localhost:8080/",
     "height": 34
    },
    "colab_type": "code",
    "id": "gnGhKmqgrWqk",
    "outputId": "0cc8adea-1a97-4d27-ac3e-e6a0a54923bc"
   },
   "outputs": [
    {
     "name": "stdout",
     "output_type": "stream",
     "text": [
      "0.43020173041366533\n"
     ]
    }
   ],
   "source": [
    "## get BLEU of seq2seq + additive attention\n",
    "print(inference(model_add, \"./drive/My Drive/Colab Notebooks/eng-fre/test_eng_fre.tsv\", SRC_saved_add, TRG_saved_add, True, 64))"
   ]
  },
  {
   "cell_type": "markdown",
   "metadata": {
    "colab_type": "text",
    "id": "8S3ha213cw9Y"
   },
   "source": [
    "### 3.2 Please evaluate any one of four models on on test set (i.e., `test_eng_fre.tsv`) and report its BLEU-1, cumulative BLEU-2, BLEU-3, and BLEU-4 scores via the corpus_bleu() function. (You can any model you have, we use additive attention model as am example here.)\n",
    "rubric={accuracy:2}\n",
    "\n",
    "Hints: \n",
    "- You can use the `inference()` function. But you will need to revise few lines of this function.\n",
    "- You may need to review the BLEU implementation in week 2 tutorial"
   ]
  },
  {
   "cell_type": "markdown",
   "metadata": {
    "colab_type": "text",
    "id": "rLuPvZq-cyE_"
   },
   "source": [
    "**You answer goes here:**\n",
    "- **I evaluate on model (2).** \n",
    "- **This model obtains 0.72 BLEU-1 score** \n",
    "- **This model obtains 0.60 cumulative BLEU-2 score** \n",
    "- **This model obtains 0.51 cumulative BLEU-3 score** \n",
    "- **This model obtains 0.43 cumulative BLEU-4 score** "
   ]
  },
  {
   "cell_type": "markdown",
   "metadata": {
    "colab_type": "text",
    "id": "wLVetkNCz7A1"
   },
   "source": [
    "Revise infererence() function"
   ]
  },
  {
   "cell_type": "code",
   "execution_count": 73,
   "metadata": {
    "colab": {},
    "colab_type": "code",
    "id": "zZ290RBazqnS"
   },
   "outputs": [],
   "source": [
    "def inference_bleun(model, file_name, src_vocab, trg_vocab, attention=False, bleu_n=4, weights=(0.25,0.25,0.25,0.25) ,max_trg_len = 64):\n",
    "    '''\n",
    "    Function for translation inference\n",
    "\n",
    "    Input: \n",
    "    model: translation model;\n",
    "    file_name: the directoy of test file that the first column is target reference, and the second column is source language;\n",
    "    trg_vocab: Target torchtext Field\n",
    "    attention: the model returns attention weights or not.\n",
    "    bleu_n: use n-gram to calculate BLEU score, n from 1 to 4.\n",
    "    weights: weights for calculating the cumulative scores for BLEU-1, BLEU-2, BLEU-3 and BLEU-4.\n",
    "    max_trg_len: the maximal length of translation text (optinal), default = 64\n",
    "\n",
    "    Output:\n",
    "    Corpus BLEU score.\n",
    "    '''\n",
    "    from nltk.translate.bleu_score import corpus_bleu\n",
    "    from nltk.translate.bleu_score import sentence_bleu\n",
    "    from torchtext.data import TabularDataset\n",
    "    from torchtext.data import Iterator\n",
    "\n",
    "    # convert index to text string\n",
    "    def convert_itos(convert_vocab, token_ids):\n",
    "        list_string = []\n",
    "        for i in token_ids:\n",
    "            if i == convert_vocab.vocab.stoi['<eos>']:\n",
    "                break\n",
    "            else:\n",
    "                token = convert_vocab.vocab.itos[i]\n",
    "                list_string.append(token)\n",
    "        return list_string\n",
    "\n",
    "    test = TabularDataset(\n",
    "      path=file_name, # the root directory where the data lies\n",
    "      format='tsv',\n",
    "      skip_header=True, # if your tsv file has a header, make sure to pass this to ensure it doesn't get proceesed as data!\n",
    "      fields=[('TRG', trg_vocab), ('SRC', src_vocab)])\n",
    "\n",
    "    test_iter = Iterator(\n",
    "    dataset = test, # we pass in the datasets we want the iterator to draw data from\n",
    "    sort = False,batch_size=128,\n",
    "    sort_key=None,\n",
    "    shuffle=False,\n",
    "    sort_within_batch=False,\n",
    "    device = device,\n",
    "    train=False\n",
    "    )\n",
    "  \n",
    "    model.eval()\n",
    "    all_trg = []\n",
    "    all_translated_trg = []\n",
    "\n",
    "    TRG_PAD_IDX = trg_vocab.vocab.stoi[trg_vocab.pad_token]\n",
    "\n",
    "    with torch.no_grad():\n",
    "    \n",
    "        for i, batch in enumerate(test_iter):\n",
    "\n",
    "            src = batch.SRC\n",
    "            #src = [src len, batch size]\n",
    "\n",
    "            trg = batch.TRG\n",
    "            #trg = [trg len, batch size]\n",
    "\n",
    "            batch_size = trg.shape[1]\n",
    "\n",
    "            # create a placeholder for traget language with shape of [max_trg_len, batch_size] where all the elements are the index of <pad>. Then send to device\n",
    "            trg_placeholder = torch.Tensor(max_trg_len, batch_size)\n",
    "            trg_placeholder.fill_(TRG_PAD_IDX)\n",
    "            trg_placeholder = trg_placeholder.long().to(device)\n",
    "            if attention == True:\n",
    "                output,_ = model(src, trg_placeholder, 0) #turn off teacher forcing\n",
    "            else:\n",
    "                output = model(src, trg_placeholder, 0) #turn off teacher forcing\n",
    "            # get translation results, we ignor first token <sos> in both translation and target sentences. \n",
    "            # output_translate = [(trg len - 1), batch, output dim] output dim is size of target vocabulary.\n",
    "            output_translate = output[1:]\n",
    "            # store gold target sentences to a list \n",
    "            all_trg.append(trg[1:].cpu())\n",
    "\n",
    "            # Choose top 1 word from decoder's output, we get the probability and index of the word\n",
    "            prob, token_id = output_translate.data.topk(1)\n",
    "            translation_token_id = token_id.squeeze(2).cpu()\n",
    "\n",
    "            # store gold target sentences to a list \n",
    "            all_translated_trg.append(translation_token_id)\n",
    "      \n",
    "    all_gold_text = []\n",
    "    all_translated_text = []\n",
    "    for i in range(len(all_trg)): \n",
    "        cur_gold = all_trg[i]\n",
    "        cur_translation = all_translated_trg[i]\n",
    "        for j in range(cur_gold.shape[1]):\n",
    "            gold_convered_strings = convert_itos(trg_vocab,cur_gold[:,j])\n",
    "            trans_convered_strings = convert_itos(trg_vocab,cur_translation[:,j])\n",
    "\n",
    "            all_gold_text.append(gold_convered_strings)\n",
    "            all_translated_text.append(trans_convered_strings)\n",
    "\n",
    "    corpus_all_gold_text = [[item] for item in all_gold_text]\n",
    "    \n",
    "    corpus_bleu_score = corpus_bleu(corpus_all_gold_text, all_translated_text, weights=weights)\n",
    "    print('Cumulative BLEU-%i: %f' % (bleu_n, corpus_bleu_score))\n",
    "    return "
   ]
  },
  {
   "cell_type": "code",
   "execution_count": 66,
   "metadata": {
    "colab": {
     "base_uri": "https://localhost:8080/",
     "height": 85
    },
    "colab_type": "code",
    "id": "e9ISLnHo2GaX",
    "outputId": "ad925c4e-f7c7-40b2-a6c2-1c5b667e9a01"
   },
   "outputs": [
    {
     "name": "stdout",
     "output_type": "stream",
     "text": [
      "Cumulative BLEU-1: 0.719197\n",
      "Cumulative BLEU-2: 0.600653\n",
      "Cumulative BLEU-3: 0.509357\n",
      "Cumulative BLEU-4: 0.430202\n"
     ]
    }
   ],
   "source": [
    "inference_bleun(model_add, \"./drive/My Drive/Colab Notebooks/eng-fre/test_eng_fre.tsv\", SRC_saved_add, TRG_saved_add, True,1,(1, 0, 0, 0), 64)\n",
    "inference_bleun(model_add, \"./drive/My Drive/Colab Notebooks/eng-fre/test_eng_fre.tsv\", SRC_saved_add, TRG_saved_add, True,2,(0.5, 0.5, 0, 0), 64)\n",
    "inference_bleun(model_add, \"./drive/My Drive/Colab Notebooks/eng-fre/test_eng_fre.tsv\", SRC_saved_add, TRG_saved_add, True,3,(0.33, 0.33, 0.33, 0), 64)\n",
    "inference_bleun(model_add, \"./drive/My Drive/Colab Notebooks/eng-fre/test_eng_fre.tsv\", SRC_saved_add, TRG_saved_add, True,4,(0.25, 0.25, 0.25, 0.25), 64)"
   ]
  },
  {
   "cell_type": "markdown",
   "metadata": {
    "colab_type": "text",
    "id": "FYnAMHtUcyUm"
   },
   "source": [
    "### 3.3 Please explain the results of 3.2 briefly. \n",
    "rubric={reasoning:2}\n",
    "\n",
    "Hints: What is the relationship between BLEU-n scores? Why? "
   ]
  },
  {
   "cell_type": "markdown",
   "metadata": {
    "colab_type": "text",
    "id": "Q-CBhdA4cyXq"
   },
   "source": [
    "**You answer goes here:**\n",
    "\n",
    "BLEU-1> BLEU-2 > BLEU-3 > BLEU-4\n",
    "\n",
    "BLEU measures overlapping windows/sequences between source and target, and is the primary (in many works sole) measure for MT systems. \n",
    "\n",
    "It is more hard to match more windows/sequences exactly. "
   ]
  },
  {
   "cell_type": "markdown",
   "metadata": {
    "colab_type": "text",
    "id": "uNyofiGgc41Z"
   },
   "source": [
    "To analyze the effects of sentence length, we create two subsets of test file: A. `long_test_eng_fre.tsv` which only includes sentence pairs that English reference is longer than 19 tokens; B. `short_test_eng_fre.tsv` which only includes sentence pairs that English reference is shorter than 9 tokens. `long_test_eng_fre.tsv` includes 67 sentence pairs.  `short_test_eng_fre.tsv` includes 85 sentence pairs. "
   ]
  },
  {
   "cell_type": "markdown",
   "metadata": {
    "colab_type": "text",
    "id": "MMsdmE6OdCJP"
   },
   "source": [
    "### 3.4 Please report the cumulative BLEU-4 score on long sentences of test set (i.e., `long_test_eng_fre.tsv`) via the corpus_bleu() function. \n",
    "rubric={accuracy:2}\n",
    "\n",
    "Hint: You can use `inference()` function. "
   ]
  },
  {
   "cell_type": "markdown",
   "metadata": {
    "colab_type": "text",
    "id": "uat6YMNAdEGT"
   },
   "source": [
    "**You answer goes here:**\n",
    "\n",
    "Evaluate on `long_test_eng_fre.tsv`:\n",
    "- For model (1), **my best model obtains 0.15 cumulative BLEU-4.** \n",
    "- For model (2), **my best model obtains 0.34 cumulative BLEU-4.**\n",
    "- For model (3), **my best model obtains 0.16 cumulative BLEU-4.**\n",
    "- For model (4), **my best model obtains 0.41 cumulative BLEU-4.**"
   ]
  },
  {
   "cell_type": "markdown",
   "metadata": {},
   "source": [
    "An example to answer this question:"
   ]
  },
  {
   "cell_type": "code",
   "execution_count": 74,
   "metadata": {
    "colab": {
     "base_uri": "https://localhost:8080/",
     "height": 34
    },
    "colab_type": "code",
    "id": "LsDVCYBH3PlG",
    "outputId": "cd237481-3b03-4f3b-c0e9-9130a0a88cab"
   },
   "outputs": [
    {
     "name": "stdout",
     "output_type": "stream",
     "text": [
      "Cumulative BLEU-4: 0.411064\n"
     ]
    }
   ],
   "source": [
    "inference_bleun(model_ex2_best, \"./eng-fre/long_test_eng_fre.tsv\", SRC_ex2_saved, TRG_ex2_aved, True,4,(0.25, 0.25, 0.25, 0.25), 64)"
   ]
  },
  {
   "cell_type": "markdown",
   "metadata": {
    "colab_type": "text",
    "id": "JYDOgvP5dGFc"
   },
   "source": [
    "### 3.5 Please report the cumulative BLEU-4 score on short sentences of test set (i.e., `short_test_eng_fre.tsv`) via the corpus_bleu() function. \n",
    "rubric={accuracy:2}\n",
    "\n",
    "Hint: You can use `inference()` function. "
   ]
  },
  {
   "cell_type": "markdown",
   "metadata": {
    "colab_type": "text",
    "id": "mMbZHTb4eBae"
   },
   "source": [
    "**You answer goes here:**\n",
    "\n",
    "Evaluate on `short_test_eng_fre.tsv`:\n",
    "- For model (1), **my best model obtains 0.31 cumulative BLEU-4.** \n",
    "- For model (2), **my best model obtains 0.43 cumulative BLEU-4.**\n",
    "- For model (3), **my best model obtains 0.31 cumulative BLEU-4.**\n",
    "- For model (4), **my best model obtains 0.49 cumulative BLEU-4.**"
   ]
  },
  {
   "cell_type": "code",
   "execution_count": 75,
   "metadata": {
    "colab": {
     "base_uri": "https://localhost:8080/",
     "height": 34
    },
    "colab_type": "code",
    "id": "tyegskF23Vtj",
    "outputId": "3d5ad728-0752-4a54-d1d7-c9bb57ad0776"
   },
   "outputs": [
    {
     "name": "stdout",
     "output_type": "stream",
     "text": [
      "Cumulative BLEU-4: 0.486033\n"
     ]
    }
   ],
   "source": [
    "inference_bleun(model_ex2_best, \"./eng-fre/short_test_eng_fre.tsv\", SRC_ex2_saved, TRG_ex2_aved, True,4,(0.25, 0.25, 0.25, 0.25), 64)"
   ]
  },
  {
   "cell_type": "markdown",
   "metadata": {
    "colab_type": "text",
    "id": "SdFnmmkMeDay"
   },
   "source": [
    "### 3.6 Please compare the results of questions of 3.1-3.3. Which model does perform best? What differences between their performance? How does the length of sentence affect performance?\n",
    "rubric={reasoning:4}\n",
    "\n",
    "Hint:\n",
    "- You can review the Section 5 of [Luong et al. (2015)](https://arxiv.org/pdf/1508.04025.pdf) to answer this question.\n",
    "- You answer should be less than 100 words. "
   ]
  },
  {
   "cell_type": "markdown",
   "metadata": {
    "colab_type": "text",
    "id": "GesZfl9neGk2"
   },
   "source": [
    "**Your answer goes here:**\n",
    "\n",
    "The (4) model performs best. \n",
    "The models with Attention perform better than the models without attention. \n",
    "All the models performance do better on `short_test_eng_fre.tsv` than on the `long_test_eng_fre.tsv` set.\n",
    "Without attention mechnism, the model do poorly on `long_test_eng_fre.tsv` set. "
   ]
  },
  {
   "cell_type": "markdown",
   "metadata": {
    "colab_type": "text",
    "id": "Lrpit_pVeIhU"
   },
   "source": [
    "## Exercise 4 Conceptual Questions"
   ]
  },
  {
   "cell_type": "markdown",
   "metadata": {
    "colab_type": "text",
    "id": "rXh3n0Z1eLUr"
   },
   "source": [
    "### 4.1 BLEU\n",
    "rubric={reasoning:2}\n",
    "\n",
    "BLEU is one of the most widely used metrics for NLP, but why can't we just use accuracy to measure the success of translations? Does accuracy make sense in machine translation? \n",
    "\n",
    "Hint: Feel free to do some research to answer this question."
   ]
  },
  {
   "cell_type": "markdown",
   "metadata": {
    "colab_type": "text",
    "id": "K9A80jxVeLYT"
   },
   "source": []
  },
  {
   "cell_type": "markdown",
   "metadata": {
    "colab_type": "text",
    "id": "_gIDH2sWeLcA"
   },
   "source": [
    "**Your answer goes here:**\n",
    "\n",
    "Because of the variety in language, there may be a number of different possible translation that you can make for a given sentence, BLEU allows you to compare a model output to a set of different reference sentences, making it more flexible than straight accuracy, which might not be able to account for the flexibility of language. For instance if we were to only use accuracy we would have to determine the following: Is word order important? In which case do we only look at whether a word is in the reference sentence to count if it is correct? What about sentences where word order is very flexible but phrasal units are bound in a systematic way? Then we would need something where we account for overlapping n-grams to try to capture those phrasal units. If we adjust for all of those things we will eventually wind up with something very similar to BLEU, and fairly distant from a straight accuracy measurement."
   ]
  },
  {
   "cell_type": "markdown",
   "metadata": {
    "colab_type": "text",
    "id": "m9XfaV-1eLfe"
   },
   "source": [
    "### 4.2 Teacher Forcing\n",
    "rubric={reasoning:2}\n",
    "\n",
    "For training seq2seq models we often use Teacher Forcing as part of the training procedure. Identify two advantages of using this approach in training.  \n",
    "\n",
    "Hint: Feel free to do some research to answer this question."
   ]
  },
  {
   "cell_type": "markdown",
   "metadata": {
    "colab_type": "text",
    "id": "Rxdf2i6_eRnw"
   },
   "source": [
    "**Your answer goes here:**\n",
    "\n",
    "Faster overall to train.\n",
    "\n",
    "Without teacher forcing you might run into convergance issues."
   ]
  },
  {
   "cell_type": "markdown",
   "metadata": {
    "colab_type": "text",
    "id": "qOVBlkMNeTLQ"
   },
   "source": [
    "### 4.3 Attention bottleneck\n",
    "rubric={reasoning:1}\n",
    "\n",
    "Learning attention functions automatically require large volumes of data especially for recurrent neural networks. Can you recommend a solution to overcome this problem? Barrett and Bingel investigate an approach to solve this limitation. Take a few minutes to SKIM the abstract and introduction and write a few sentences summarizing takeaways that you can use in practice.\n",
    "\n",
    "Barrett, M., Bingel, J., Hollenstein, N., Rei, M., & Søgaard, A. (2018, October). Sequence classification with human attention. In Proceedings of the 22nd Conference on Computational Natural Language Learning (pp. 302-312)."
   ]
  },
  {
   "cell_type": "markdown",
   "metadata": {
    "colab_type": "text",
    "id": "jbh2gjYheU5L"
   },
   "source": [
    "**Your answer goes here:**\n",
    "\n",
    "Using 'human-attention' can be beneficial to NLP tasks, you could potentially use open eyetracking databases (if they are on a relevant corpus) to derive these weights."
   ]
  },
  {
   "cell_type": "markdown",
   "metadata": {
    "colab_type": "text",
    "id": "tx2pr60zeXG_"
   },
   "source": [
    "### 4.4 Global Attention Mechanisms\n",
    "rubric={reasoning:1}\n",
    "\n",
    "Global attention mechanisms consider all the encoder hidden states when deriving the context vector while local attention mechanisms consider only a subset of the encoder hidden states when deriving the context vector. [Luong et al. 2015](https://arxiv.org/pdf/1508.04025.pdf) proposed **three global attention mechanisms**. In the tutorial, we looked at (terminologies are borrowed from Luongs's paper):\n",
    "* Dot: $e_{ij} = s_{i-1}^Th_j \\in \\mathcal{R}$\n",
    "* Concat: $e_{ij} = v_a tanh( W_a [s_{i-1};h_j;]) \\in \\mathcal{R}$ where $W_a \\in \\mathcal{R}^{h\\times 2h}$ and $v_a \\in \\mathcal{R}^{1\\times h}$\n",
    "\n",
    "Can you find out the third global attention mechanism by going over the paper (especially Section 3.1) and write it down in the same format as above?"
   ]
  },
  {
   "cell_type": "markdown",
   "metadata": {
    "colab_type": "text",
    "id": "JXznLZ2zeYdb"
   },
   "source": [
    "**Your answer goes here:**"
   ]
  },
  {
   "cell_type": "markdown",
   "metadata": {
    "colab": {},
    "colab_type": "code",
    "id": "hJKDAOB4cpCO"
   },
   "source": [
    "* General: $e_{ij} = s_{i-1}^TW_ah_j$ Which is basically just Dot product attention with a learned Weight matrix to modify the importance of relationships between different parts of a sentence. Dot attention is General attention with  $W_a = I$\n"
   ]
  },
  {
   "cell_type": "code",
   "execution_count": null,
   "metadata": {},
   "outputs": [],
   "source": []
  }
 ],
 "metadata": {
  "accelerator": "GPU",
  "colab": {
   "collapsed_sections": [],
   "name": "Lab3_sol.ipynb",
   "provenance": []
  },
  "kernelspec": {
   "display_name": "Python 3",
   "language": "python",
   "name": "python3"
  },
  "language_info": {
   "codemirror_mode": {
    "name": "ipython",
    "version": 3
   },
   "file_extension": ".py",
   "mimetype": "text/x-python",
   "name": "python",
   "nbconvert_exporter": "python",
   "pygments_lexer": "ipython3",
   "version": "3.7.3"
  }
 },
 "nbformat": 4,
 "nbformat_minor": 1
}
