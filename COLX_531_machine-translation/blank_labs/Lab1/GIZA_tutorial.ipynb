{
 "cells": [
  {
   "cell_type": "markdown",
   "metadata": {},
   "source": [
    "## Cross-lingual word embeddings - Machine Translation\n",
    "\n",
    "\n",
    "### Tutorial Topics\n",
    "- Cross-lingual Word Embeddings:\n",
    "    - GIZA++\n",
    "    - MUSE\n",
    "\n",
    "### Software Requirements\n",
    "- Python (>=3.6)\n",
    "- PyTorch (>=1.2.0) \n",
    "- Jupyter (latest)\n",
    "\n",
    "- GIZA++ Needs:\n",
    "    - Perl\n",
    "    - OSX/Linux (recommended) or a Cygwin Terminal\n",
    "    \n",
    "If you are installing GIZA++ on Cygwin, make sure you have Perl, make, and GCC/G++ installed when you install Cygwin (default installation does not include these)\n"
   ]
  },
  {
   "cell_type": "markdown",
   "metadata": {},
   "source": [
    "# GIZA++"
   ]
  },
  {
   "cell_type": "markdown",
   "metadata": {},
   "source": [
    "[`GIZA++`](https://github.com/moses-smt/giza-pp) is an extension of the program `GIZA` (part of the SMT toolkit EGYPT) which was developed by the **Statistical Machine Translation team** during the summer workshop in 1999 at the Center for Language and Speech Processing at Johns-Hopkins University (CLSP/JHU). `Giza++` is an old and trusted resource for sentence alignment.  GIZA++ can be used to train word alignment models. GIZA++ supports [IBM Model](https://en.wikipedia.org/wiki/IBM_alignment_models) 1 to 5 (classic but most widely used unsupervised word alignment models to date). You can find more details [here](https://www.prhlt.upv.es/~evidal/students/master/sht/transp/giza2p.pdf). The extensions of `GIZA++` were designed and written by Franz Josef Och. "
   ]
  },
  {
   "cell_type": "markdown",
   "metadata": {},
   "source": [
    "# 1. Installation"
   ]
  },
  {
   "cell_type": "markdown",
   "metadata": {},
   "source": [
    "**Step 1: Clone Giza++ from GitHub (https://github.com/moses-smt/giza-pp) to Lab1 directory.** "
   ]
  },
  {
   "cell_type": "markdown",
   "metadata": {},
   "source": [
    "```\n",
    "git clone https://github.com/moses-smt/giza-pp.git\n",
    "```"
   ]
  },
  {
   "cell_type": "markdown",
   "metadata": {},
   "source": [
    "**Step 2: Change the Giza++ makefile, found at `giza-pp/GIZA++-v2/makefile`. Edit the `CFLAGS_OPT` line as follows:**\n",
    "\n",
    "- *remove:* \n",
    "    * CFLAGS_OPT = $(CFLAGS) -O3 -funroll-loops -DNDEBUG -DWORDINDEX_WITH_4_BYTE -DBINARY_SEARCH_FOR_TTABLE -DWORDINDEX_WITH_4_BYTE \n",
    "\n",
    "- *add:*\n",
    "    * CFLAGS_OPT = $(CFLAGS) -O3 -funroll-loops -DNDEBUG -DWORDINDEX_WITH_4_BYTE -DBINARY_SEARCH_FOR_TTABLE\n",
    "    \n",
    "(Not sure why `-DWORDINDEX_WITH_4_BYTE` is duplicated in the original code.)"
   ]
  },
  {
   "cell_type": "markdown",
   "metadata": {},
   "source": [
    "**Step 3: Amend `giza-pp/GIZA++-v2/model3.cpp` for a case-insensitive file system. Change line 321 to prevent the `.A3.final` file from being overwritten by the `.a3.final` file. Change as follows:**\n",
    "\n",
    "- *remove*:  \n",
    "    ```alignfile = Prefix + \".A3.\" + number ;```\n",
    "- *add*:  \n",
    "    ```alignfile = Prefix + \".VA3.\" + number ;```"
   ]
  },
  {
   "cell_type": "markdown",
   "metadata": {},
   "source": [
    "**Step 4: Either using your Linux/Mac `terminal` or in your `Cygwin terminal`, navigate to the folder `giza-pp-master`.**"
   ]
  },
  {
   "cell_type": "markdown",
   "metadata": {},
   "source": [
    "**Step 5: Run the command make. Remove references to tr1. Mac does not support tr1, but these modifications will make it compile just fine.**"
   ]
  },
  {
   "cell_type": "markdown",
   "metadata": {},
   "source": [
    "```\n",
    "perl -pi -w -e 's/<tr1\\//</g;' GIZA++-v2/* mkcls-v2/*\n",
    "perl -pi -w -e 's/using namespace std::tr1;//g;' GIZA++-v2/* mkcls-v2/*\n",
    "perl -pi -w -e 's/std::tr1:://g;' GIZA++-v2/* mkcls-v2/*\n",
    "sed '36d' mkcls-v2/mystl.h > mkcls-v2/mystl.h.tmp\n",
    "sed '50d' mkcls-v2/mystl.h.tmp > mkcls-v2/mystl.h\n",
    "rm mkcls-v2/mystl.h.tmp\n",
    "make\n",
    "```"
   ]
  },
  {
   "cell_type": "markdown",
   "metadata": {},
   "source": [
    "This should create the binaries `~/giza-pp/GIZA++-v2/GIZA++`, `~/giza-pp/GIZA++-v2/snt2cooc.out` and `~/giza-pp/mkcls-v2/mkcls`. If you get any error related to `use of undeclared identifier 'h'`, it is safe to be ignored. "
   ]
  },
  {
   "cell_type": "markdown",
   "metadata": {},
   "source": [
    "# 2. Download a Bilingual Corpus"
   ]
  },
  {
   "cell_type": "markdown",
   "metadata": {},
   "source": [
    "To download a translated parallel bilingual corpora from http://www.statmt.org/europarl/.\n",
    "we will use the Spanish-English corpus."
   ]
  },
  {
   "cell_type": "markdown",
   "metadata": {},
   "source": [
    "Once you unzip, you will have two files, one in L1 (in Spanish, file extension “.es”) and one in L2 (English, file extension “.en”). Then, we will put these two files to folder called `./europarl-es-en/`. We get:\n",
    "```\n",
    "./europarl-es-en/\n",
    "   europarl-v7.es-en.en\n",
    "   europarl-v7.es-en.es\n",
    "```\n"
   ]
  },
  {
   "cell_type": "markdown",
   "metadata": {},
   "source": [
    "# 3. Preprocessing the Text"
   ]
  },
  {
   "cell_type": "markdown",
   "metadata": {},
   "source": [
    "Before we use the dataset on Giza++, the parallel corpus must be tokenized. HTML notations needs to be cleaned.\n",
    "We can do this using the **[moses decoder](https://github.com/moses-smt/mosesdecoder)**, part of the moses SMT package."
   ]
  },
  {
   "cell_type": "markdown",
   "metadata": {},
   "source": [
    "**3.1 Download the moses decoder by [cloning from this github repo](https://github.com/moses-smt/mosesdecoder)  to Lab1 directory.**"
   ]
  },
  {
   "cell_type": "markdown",
   "metadata": {},
   "source": [
    "```\n",
    "git clone https://github.com/moses-smt/mosesdecoder.git\n",
    "```"
   ]
  },
  {
   "cell_type": "markdown",
   "metadata": {},
   "source": [
    "**3.2 Tokenize each of the language pairs separately with moses by running:**\n",
    "\n",
    "Note. Please change the directories to your corresponding directories."
   ]
  },
  {
   "cell_type": "markdown",
   "metadata": {},
   "source": [
    "```\n",
    "./mosesdecoder/scripts/tokenizer/tokenizer.perl -l en < ./europarl-es-en/europarl-v7.es-en.en > ./europarl-es-en/europarl-v7.es-en.tok.en\n",
    "\n",
    "\n",
    "./mosesdecoder/scripts/tokenizer/tokenizer.perl -l es < ./europarl-es-en/europarl-v7.es-en.es > ./europarl-es-en/europarl-v7.es-en.tok.es\n",
    "```"
   ]
  },
  {
   "cell_type": "markdown",
   "metadata": {},
   "source": [
    "When the tokenization process was complete, you can find two new files in directory `./europarl-es-en/`:\n",
    "```\n",
    "./europarl-es-en/\n",
    "   europarl-v7.es-en.tok.en\t\n",
    "   europarl-v7.es-en.tok.es\n",
    "\n",
    "```"
   ]
  },
  {
   "cell_type": "markdown",
   "metadata": {},
   "source": [
    "# 4. Creating the Input Files"
   ]
  },
  {
   "cell_type": "markdown",
   "metadata": {},
   "source": [
    "We need three types of files to run Giza: (1) a `.vcb` containing a list of vocabulary words for langauges (2) a `.snt` (sentence) file and (3) a `.cooc`, or concurrence file."
   ]
  },
  {
   "cell_type": "markdown",
   "metadata": {},
   "source": [
    "**We pass the files in the source language followed by the files in the target language.**."
   ]
  },
  {
   "cell_type": "markdown",
   "metadata": {},
   "source": [
    "**4.1  To create the vocabulary file (`.vcb`) and sentence file (`.snt`) run:**\n",
    "\n",
    "\n",
    "Note. Please change the directories to your corresponding directories."
   ]
  },
  {
   "cell_type": "markdown",
   "metadata": {},
   "source": [
    "```\n",
    "./giza-pp/GIZA++-v2/plain2snt.out ./europarl-es-en/europarl-v7.es-en.tok.es ./europarl-es-en/europarl-v7.es-en.tok.en\n",
    "```"
   ]
  },
  {
   "cell_type": "markdown",
   "metadata": {},
   "source": [
    "After running, our `./europarl-es-en/` folder contain four more files:\n",
    "```\n",
    "/europarl-es-en/\n",
    "   europarl-v7.es-en.tok.en_europarl-v7.es-en.tok.es.snt\n",
    "   europarl-v7.es-en.tok.es_europarl-v7.es-en.tok.en.snt\n",
    "   europarl-v7.es-en.tok.en.vcb\n",
    "   europarl-v7.es-en.tok.es.vcb\n",
    "\n",
    "```"
   ]
  },
  {
   "cell_type": "markdown",
   "metadata": {},
   "source": [
    "**4.2 Create the concurrence (`.cooc`) file by running the following command.**\n",
    "\n",
    "Note. Please change the directories to your corresponding directories."
   ]
  },
  {
   "cell_type": "markdown",
   "metadata": {},
   "source": [
    "```\n",
    "./giza-pp/GIZA++-v2/snt2cooc.out ./europarl-es-en/europarl-v7.es-en.tok.es.vcb ./europarl-es-en/europarl-v7.es-en.tok.en.vcb ./europarl-es-en/europarl-v7.es-en.tok.es_europarl-v7.es-en.tok.en.snt > ./europarl-es-en/corp.cooc\n",
    "```"
   ]
  },
  {
   "cell_type": "markdown",
   "metadata": {},
   "source": [
    "After running, our `./europarl-es-en/` folder contain one more file:"
   ]
  },
  {
   "cell_type": "markdown",
   "metadata": {},
   "source": [
    "```\n",
    "./europarl-es-en/\n",
    "   corp.cooc\n",
    "   \n",
    "```"
   ]
  },
  {
   "cell_type": "markdown",
   "metadata": {},
   "source": [
    "**4.3 IBM Model 4 and 5 use word classes to model distortion - a concept to model how word order changes across languages. Then run mkcls which is a program to automatically infer word classes from a corpus using a maximum likelihood criterion:**\n",
    "```\n",
    "    ./giza-pp/mkcls-v2/mkcls -p./europarl-es-en/europarl-v7.es-en.tok.es -V./europarl-es-en/tokenized_es.vcb.classes\n",
    "    ./giza-pp/mkcls-v2/mkcls -p./europarl-es-en-small/europarl-v7.es-en.tok.es -V./europarl-es-en-small/tokenized_es.vcb.classes\n",
    "```\n"
   ]
  },
  {
   "cell_type": "markdown",
   "metadata": {},
   "source": [
    "See the paper by [Franz Och](https://www.aclweb.org/anthology/E99-1010/) for the details of this word clustering."
   ]
  },
  {
   "cell_type": "markdown",
   "metadata": {},
   "source": [
    "After running, our `./europarl-es-en/` folder contain four more files:\n",
    "```\n",
    "./europarl-es-en/\n",
    "    europarl-v7.es-en.tok.es.vcb.classes.cats\n",
    "    europarl-v7.es-en.tok.es.vcb.classes\n",
    "    europarl-v7.es-en.tok.en.vcb.classes.cats\n",
    "    europarl-v7.es-en.tok.en.vcb.classes\n",
    "\n",
    "```"
   ]
  },
  {
   "cell_type": "markdown",
   "metadata": {},
   "source": [
    "# 5. Running Giza++"
   ]
  },
  {
   "cell_type": "markdown",
   "metadata": {},
   "source": [
    "GIZA++ will output files so we recommend creating a new output directory `giza_output/`. Run the following command:"
   ]
  },
  {
   "cell_type": "markdown",
   "metadata": {},
   "source": [
    "```\n",
    " ./GIZA++ -S [source.vcb]-T [target.vcb] -C [(source_target.snt) or (target_source.snt)]  -CoocurrenceFile [file.cooc] -o [prefix] -outputpath [path to output directory]\n",
    "```\n",
    "For our case, the command should be:\n",
    "```\n",
    "./giza-pp/GIZA++-v2/GIZA++ -S ./europarl-es-en/europarl-v7.es-en.tok.es.vcb -T ./europarl-es-en/europarl-v7.es-en.tok.en.vcb -C ./europarl-es-en/europarl-v7.es-en.tok.es_europarl-v7.es-en.tok.en.snt -o en-es -CoocurrenceFile ./europarl-es-en/corp.cooc -outputpath ./europarl-es-en/giza_output/\n",
    "```\n",
    "\n",
    "The .VA3.final will be output in addition to other files. It contains sentence pairs and word alignments from the source language into the target language.\n"
   ]
  },
  {
   "cell_type": "markdown",
   "metadata": {},
   "source": [
    "# Output example:"
   ]
  },
  {
   "cell_type": "markdown",
   "metadata": {},
   "source": [
    "The following are examples I got using Spanish-English dataset. You can find these translated output from `en-es.VA3.final` file.\n",
    "\n",
    "### Sentence pair (1) source length 5 target length 4 alignment score : 5.14289e-05\n",
    "* Sourece: NULL ({ 3 }) Reanudación ({ 1 }) del ({ 2 }) período ({ }) de ({ }) sesiones ({ 4 })\n",
    "* Translated Target: Resumption of the session\n",
    "* Gold Target: Resumption of the session\n",
    "\n",
    "### Sentence pair (4) source length 23 target length 21 alignment score : 8.95008e-31\n",
    "*  Sourece: NULL ({ 7 12 13 }) Sus ({ 1 }) Señorías ({ }) han ({ 2 }) solicitado ({ 3 }) un ({ 4 }) debate ({ 5 }) sobre ({ 6 }) el ({ }) tema ({ 8 }) para ({ }) los ({ }) próximos ({ 14 15 }) días ({ 16 }) , ({ 17 }) en ({ 9 }) el ({ 10 }) curso ({ 11 18 }) de ({ }) este ({ 19 }) período ({ }) de ({ }) sesiones ({ 20 }) . ({ 21 })\n",
    "\n",
    "* Translated Target: You have requested a debate on this subject in the course of the next few days , during this part-session .\n",
    "* Gold Target: You have requested a debate on this subject in the course of the next few days, during this part-session.\n",
    "\n",
    "### Sentence pair (6) source length 16 target length 12 alignment score : 1.45869e-22\n",
    "*  Sourece: NULL ({ 3 5 9 }) Invito ({ 1 2 }) a ({ }) todos ({ }) a ({ }) que ({ }) nos ({ }) pongamos ({ 4 }) de ({ }) pie ({ }) para ({ 6 }) guardar ({ 7 }) un ({ }) minuto ({ 8 }) de ({ }) silencio ({ 10 11 }) . ({ 12 })\n",
    "* Translated Target:  Please rise , then , for this minute &apos; s silence .\n",
    "* Gold Target: Please rise, then, for this minute' s silence.\n"
   ]
  },
  {
   "cell_type": "markdown",
   "metadata": {},
   "source": [
    "Let us take a look at these samples. \n",
    "\n",
    "The source language is Spanish:  `NULL ({ 3 }) Reanudación ({ 1 }) del ({ 2 }) período ({ }) de ({ }) sesiones ({ 4 })`.\n",
    "\n",
    "The target language is Engish: `Resumption of the session`.\n",
    "\n",
    "`NULL ({ 3 })` indicate that third token of target language doesn't align to any token of source language. \n",
    "\n",
    "`Reanudación ({ 1 })` indicate that the first token of target language align to `Reanudación` of source language.\n",
    "\n",
    "`período ({ })` indicate that `período` of source language doesn't have any alignment in English.\n",
    "\n",
    "In sentenece pair (4), `NULL ({ 7 12 13 })` means the `7th (this) , 12th (of) , and 13th (the)` token of target sentence don't have alignment in Spanish. `próximos ({ 14 15 })` indicate that `14th (next) , 15th (few)` token of target sentence align to `próximos` of source language. "
   ]
  },
  {
   "cell_type": "markdown",
   "metadata": {},
   "source": [
    "Let us take a look at other important output files.\n",
    "\n",
    "* File `en-es.trn.src.vcb` is the dictionay of source language on training set. It maps from source words to word IDs. In each row, first item is word ID; second item is token of source language; third item is the token frequency. \n",
    "* File `en-es.trn.trg.vcb` is dictionary of target language on training set. It maps from target words to word IDs. In each row, first item is word ID; second item is token of target language; third item is the token frequency.   "
   ]
  },
  {
   "cell_type": "markdown",
   "metadata": {},
   "source": [
    "* File `en-es.t3.final` is translation table after all iterations that align source language with target language. First column is the ID of source language. Second column is the ID of target language. Third column is the probability of that alignment is given after each set of tokens. "
   ]
  },
  {
   "cell_type": "markdown",
   "metadata": {},
   "source": [
    "For example: In en-es.trn.src.vcb, the 31st row is `31 . 192152` that means the index of `'.'` token is 31, and its frequency is 192152 in source language (i.e., Spanish). \n",
    "\n",
    "Then, you can find the alignment of `'.'` in the translation table (i.e., en-es.t3.final): \n",
    "\n",
    "| src | trg | align       |\n",
    "|-----|-----|-------------|\n",
    "| 31  | 22  | 1.30462e-05 |\n",
    "| 31  | 29  | 1.32761e-05 |\n",
    "| 31  | 30  | 1.27958e-06 |\n",
    "| 31  | 32  | 1.34422e-05 |\n",
    "| 31  | 37  | 0.984368    |\n",
    "| 31  | 39  | 7.68823e-05 |\n",
    "| 31  | 44  | 2.97203e-05 |\n",
    "| 31  | 50  | 4.78602e-06 |\n",
    "| 31  | 63  | 4.65898e-05 |\n",
    "\n",
    "Then, this table converted to:\n",
    "\n",
    "| src | trg | align       |\n",
    "|-----|-----|-------------|\n",
    "| .  | again  | 1.30462e-05 |\n",
    "| .  | year  | 1.32761e-05 |\n",
    "| .  | in  | 1.27958e-06 |\n",
    "| .  | that  | 1.34422e-05 |\n",
    "| .  | .  | 0.984368    |\n",
    "| .  | as  | 7.68823e-05 |\n",
    "| .  | &apos;  | 2.97203e-05 |\n",
    "| .  | people  | 4.78602e-06 |\n",
    "| .  | this  | 4.65898e-05 |\n",
    "\n",
    "You can see that the best alignment of source `'.'` is the target `'.'`. This alignment obtain the hightest probability."
   ]
  },
  {
   "cell_type": "markdown",
   "metadata": {},
   "source": [
    "# [MUSE: Multilingual Unsupervised and Supervised Embeddings](https://research.fb.com/downloads/muse-multilingual-unsupervised-and-supervised-embeddings/)\n",
    "\n",
    "MUSE is a Python library for multilingual word embeddings, whose goal is to provide the community with:\n",
    "\n",
    "* state-of-the-art multilingual word embeddings based on [fastText](https://github.com/facebookresearch/fastText)\n",
    "* large-scale high-quality bilingual dictionaries for training and evaluation\n",
    "\n",
    "MUSE includes two methods, one `supervised` that uses a bilingual dictionary or identical character strings, and one `unsupervised` that does not use any parallel data (see paper [Word Translation without Parallel Data](https://arxiv.org/pdf/1710.04087.pdf) for more details)."
   ]
  },
  {
   "cell_type": "markdown",
   "metadata": {},
   "source": [
    "![](./outline_all.png)"
   ]
  },
  {
   "cell_type": "markdown",
   "metadata": {},
   "source": [
    "You can align any bilingual word embeddings using MUSE package. You can explore the training process [here](https://github.com/facebookresearch/MUSE)."
   ]
  },
  {
   "cell_type": "markdown",
   "metadata": {},
   "source": [
    "MUSE released their fastText embeddings that have been aligned in a common space [here](https://github.com/facebookresearch/MUSE#download). Let us download English and Spanish word embeddings. "
   ]
  },
  {
   "cell_type": "markdown",
   "metadata": {},
   "source": [
    "# Require packages"
   ]
  },
  {
   "cell_type": "code",
   "execution_count": 1,
   "metadata": {},
   "outputs": [],
   "source": [
    "import io\n",
    "import numpy as np\n",
    "from sklearn.decomposition import PCA\n",
    "import matplotlib.pyplot as plt"
   ]
  },
  {
   "cell_type": "markdown",
   "metadata": {},
   "source": [
    "**Create a function that loads a word vector file into memory and returns word embeddings, identifier to word and word to identifier mapping**"
   ]
  },
  {
   "cell_type": "code",
   "execution_count": 2,
   "metadata": {},
   "outputs": [],
   "source": [
    "def load_vec(emb_path, nmax=50000):\n",
    "    vectors = []\n",
    "    word2id = {}\n",
    "    with io.open(emb_path, 'r', encoding='utf-8', newline='\\n', errors='ignore') as f:\n",
    "        next(f)\n",
    "        for i, line in enumerate(f):\n",
    "            word, vect = line.rstrip().split(' ', 1)\n",
    "            vect = np.fromstring(vect, sep=' ')\n",
    "            assert word not in word2id, 'word found twice'\n",
    "            vectors.append(vect)\n",
    "            word2id[word] = len(word2id)\n",
    "            if len(word2id) == nmax:\n",
    "                break\n",
    "    id2word = {v: k for k, v in word2id.items()}\n",
    "    embeddings = np.vstack(vectors)\n",
    "    return embeddings, id2word, word2id"
   ]
  },
  {
   "cell_type": "code",
   "execution_count": 3,
   "metadata": {},
   "outputs": [],
   "source": [
    "src_path = './muse/wiki.multi.en.vec'\n",
    "tgt_path = './muse/wiki.multi.es.vec'\n",
    "nmax = 50000  # maximum number of word embeddings to load\n",
    "\n",
    "src_embeddings, src_id2word, src_word2id = load_vec(src_path, nmax)\n",
    "tgt_embeddings, tgt_id2word, tgt_word2id = load_vec(tgt_path, nmax)"
   ]
  },
  {
   "cell_type": "code",
   "execution_count": 4,
   "metadata": {},
   "outputs": [
    {
     "name": "stdout",
     "output_type": "stream",
     "text": [
      "(50000, 300)\n",
      "(50000, 300)\n"
     ]
    }
   ],
   "source": [
    "print(src_embeddings.shape)\n",
    "print(tgt_embeddings.shape)"
   ]
  },
  {
   "cell_type": "markdown",
   "metadata": {},
   "source": [
    "**We will use [cosine similarity](https://en.wikipedia.org/wiki/Cosine_similarity) to measure the similarity between two word embedding vectors. The formula of cos similarity is:**\n",
    "\n",
    "$similarity = cos(\\theta) = \\frac{A \\cdot B}{||A|| ||B||} = \\frac{\\sum_{i=1}^{d} A_iB_i}{\\sqrt{\\sum_{i=1}^{d} A^2_i}\\sqrt{\\sum_{i=1}^{d} B^2_i}}$"
   ]
  },
  {
   "cell_type": "markdown",
   "metadata": {},
   "source": [
    "**Now, we assume A is the vector of `cat` in English and B is the `dog` in English.**"
   ]
  },
  {
   "cell_type": "code",
   "execution_count": 5,
   "metadata": {},
   "outputs": [
    {
     "name": "stdout",
     "output_type": "stream",
     "text": [
      "(300,) (300,)\n",
      "cosine similarity =  0.638051699007895\n"
     ]
    }
   ],
   "source": [
    "A = src_embeddings[src_word2id['cat']]\n",
    "B = src_embeddings[src_word2id['dog']]\n",
    "print(A.shape, B.shape)\n",
    "cos_sim = np.dot(A, B) / np.linalg.norm(A) * np.linalg.norm(B)\n",
    "print(\"cosine similarity = \",cos_sim)"
   ]
  },
  {
   "cell_type": "markdown",
   "metadata": {},
   "source": [
    "**We can use the `cosine_similarity` function from sklearn.**"
   ]
  },
  {
   "cell_type": "code",
   "execution_count": 6,
   "metadata": {},
   "outputs": [
    {
     "name": "stdout",
     "output_type": "stream",
     "text": [
      "cosine similarity =  [[0.63805158]]\n"
     ]
    }
   ],
   "source": [
    "from sklearn.metrics.pairwise import cosine_similarity\n",
    "#  the shape of A and B must be (n_samples_X, n_features). Hence we reshape the A and B vectors.\n",
    "print(\"cosine similarity = \", cosine_similarity(A.reshape(1, -1),B.reshape(1, -1))) "
   ]
  },
  {
   "cell_type": "markdown",
   "metadata": {},
   "source": [
    "**Let's print the 5 nearest neighbors of `cat`.**"
   ]
  },
  {
   "cell_type": "code",
   "execution_count": 7,
   "metadata": {},
   "outputs": [
    {
     "name": "stdout",
     "output_type": "stream",
     "text": [
      "(50000, 1)\n",
      "(50000,)\n",
      "[ 2570  4939 25570  2344 36108]\n",
      "1.0000 - cat\n",
      "0.7322 - cats\n",
      "0.6453 - kitten\n",
      "0.6381 - dog\n",
      "0.6218 - kittens\n"
     ]
    }
   ],
   "source": [
    "# get all similarity scores between cat and all the tokens in English vocabulary. \n",
    "all_scores = cosine_similarity(src_embeddings, A.reshape(1, -1))\n",
    "print(all_scores.shape)\n",
    "\n",
    "# reshape (num_vocabulary, 1) to (num_vocabulary)\n",
    "all_scores = np.squeeze(all_scores,axis=1)\n",
    "print(all_scores.shape)\n",
    "\n",
    "# get indices of the 5 nearest neighbors\n",
    "top5_ind = all_scores.argsort()[-5:][::-1]\n",
    "print(top5_ind)\n",
    "\n",
    "# convert the indices to actual tokens\n",
    "for i, idx in enumerate(top5_ind):\n",
    "    print('%.4f - %s' % (all_scores[idx], src_id2word[idx]))"
   ]
  },
  {
   "cell_type": "markdown",
   "metadata": {},
   "source": [
    "**Buid a function to get the $n$ nearest neighbors of given word.**"
   ]
  },
  {
   "cell_type": "code",
   "execution_count": 8,
   "metadata": {},
   "outputs": [],
   "source": [
    "def get_nn(word, src_emb, src_id2word, tgt_emb, tgt_id2word, K=5):\n",
    "    print(\"Nearest neighbors of \\\"%s\\\":\" % word)\n",
    "    # create to map word to index\n",
    "    word2id = {v: k for k, v in src_id2word.items()}\n",
    "    # get the word embedding of give word \n",
    "    word_emb = src_emb[word2id[word]]\n",
    "    # get all similarity scores between given word and all the tokens in target vocabulary. \n",
    "    scores = np.squeeze(cosine_similarity(tgt_emb, word_emb.reshape(1, -1)),axis=1)\n",
    "    # get indices of the n nearest neighbors\n",
    "    k_best = scores.argsort()[-K:][::-1]\n",
    "    # convert the indices to actual tokens\n",
    "    for i, idx in enumerate(k_best):\n",
    "        print('%.4f - %s' % (scores[idx], tgt_id2word[idx]))"
   ]
  },
  {
   "cell_type": "code",
   "execution_count": 9,
   "metadata": {},
   "outputs": [
    {
     "name": "stdout",
     "output_type": "stream",
     "text": [
      "Nearest neighbors of \"cat\":\n",
      "1.0000 - cat\n",
      "0.7322 - cats\n",
      "0.6453 - kitten\n",
      "0.6381 - dog\n",
      "0.6218 - kittens\n"
     ]
    }
   ],
   "source": [
    "# printing nearest neighbors in the source space (English)\n",
    "src_word = 'cat'\n",
    "get_nn(src_word, src_embeddings, src_id2word, src_embeddings, src_id2word, K=5)"
   ]
  },
  {
   "cell_type": "code",
   "execution_count": 10,
   "metadata": {},
   "outputs": [
    {
     "name": "stdout",
     "output_type": "stream",
     "text": [
      "Nearest neighbors of \"king\":\n",
      "1.0000 - king\n",
      "0.6762 - kings\n",
      "0.6493 - queen\n",
      "0.6260 - monarch\n",
      "0.5978 - kingship\n"
     ]
    }
   ],
   "source": [
    "# printing nearest neighbors in the source space (English)\n",
    "src_word = 'king'\n",
    "get_nn(src_word, src_embeddings, src_id2word, src_embeddings, src_id2word, K=5)"
   ]
  },
  {
   "cell_type": "code",
   "execution_count": 11,
   "metadata": {},
   "outputs": [
    {
     "name": "stdout",
     "output_type": "stream",
     "text": [
      "Nearest neighbors of \"cat\":\n",
      "0.6165 - gato\n",
      "0.5401 - perro\n",
      "0.4849 - conejo\n",
      "0.4839 - gorila\n",
      "0.4746 - felino\n"
     ]
    }
   ],
   "source": [
    "# printing nearest neighbors in the target space (Spanish)\n",
    "src_word = 'cat'\n",
    "get_nn(src_word, src_embeddings, src_id2word, tgt_embeddings, tgt_id2word, K=5)"
   ]
  },
  {
   "cell_type": "code",
   "execution_count": 12,
   "metadata": {},
   "outputs": [
    {
     "name": "stdout",
     "output_type": "stream",
     "text": [
      "Nearest neighbors of \"king\":\n",
      "0.8047 - rey\n",
      "0.6728 - monarca\n",
      "0.6187 - reina\n",
      "0.5814 - reinar\n",
      "0.5755 - reyes\n"
     ]
    }
   ],
   "source": [
    "# printing nearest neighbors in the target space (Spanish)\n",
    "src_word = 'king'\n",
    "get_nn(src_word, src_embeddings, src_id2word, tgt_embeddings, tgt_id2word, K=5)"
   ]
  },
  {
   "cell_type": "markdown",
   "metadata": {},
   "source": [
    "# Visualize multilingual embeddings\n",
    "\n",
    "In order to visualize the word embeddings in 2 dimensional space, we will use PCA to map word embeddings from 300 dimensions to 2 dimensions."
   ]
  },
  {
   "cell_type": "code",
   "execution_count": 13,
   "metadata": {},
   "outputs": [
    {
     "name": "stdout",
     "output_type": "stream",
     "text": [
      "Variance explained: 0.06\n"
     ]
    }
   ],
   "source": [
    "from sklearn.decomposition import PCA\n",
    "# instantiate a PCA object which includes two components\n",
    "pca = PCA(n_components=2, whiten=True)\n",
    "# use PCA object on src_embeddings and tgt_embeddings\n",
    "pca.fit(np.vstack([src_embeddings, tgt_embeddings]))\n",
    "# how much variance of orignial embeddings (300 dimensions) is explained in PCA components (2 dimensions)?\n",
    "print('Variance explained: %.2f' % pca.explained_variance_ratio_.sum())"
   ]
  },
  {
   "cell_type": "code",
   "execution_count": 14,
   "metadata": {},
   "outputs": [],
   "source": [
    "import matplotlib.pyplot as plt\n",
    "\n",
    "def plot_similar_word(src_words, src_word2id, src_emb, tgt_words, tgt_word2id, tgt_emb, pca):\n",
    "\n",
    "    Y = []\n",
    "    word_labels = []\n",
    "    for sw in src_words:\n",
    "        Y.append(src_emb[src_word2id[sw]])\n",
    "        word_labels.append(sw)\n",
    "    for tw in tgt_words:\n",
    "        Y.append(tgt_emb[tgt_word2id[tw]])\n",
    "        word_labels.append(tw)\n",
    "\n",
    "    # find tsne coords for 2 dimensions\n",
    "    Y = pca.transform(Y)\n",
    "    x_coords = Y[:, 0]\n",
    "    y_coords = Y[:, 1]\n",
    "\n",
    "    # display scatter plot\n",
    "    plt.figure(figsize=(10, 8), dpi=80)\n",
    "    plt.scatter(x_coords, y_coords, marker='x')\n",
    "\n",
    "    for k, (label, x, y) in enumerate(zip(word_labels, x_coords, y_coords)):\n",
    "        color = 'blue' if k < len(src_words) else 'red'  # src words in blue / tgt words in red\n",
    "        plt.annotate(label, xy=(x, y), xytext=(0, 0), textcoords='offset points', fontsize=19,\n",
    "                     color=color, weight='bold')\n",
    "\n",
    "    plt.xlim(x_coords.min() - 0.2, x_coords.max() + 0.2)\n",
    "    plt.ylim(y_coords.min() - 0.2, y_coords.max() + 0.2)\n",
    "    plt.title('Visualization of the multilingual word embedding space')\n",
    "\n",
    "    plt.show()"
   ]
  },
  {
   "cell_type": "code",
   "execution_count": 17,
   "metadata": {},
   "outputs": [
    {
     "data": {
      "image/png": "[encoded data removed]",
      "text/plain": [
       "<Figure size 800x640 with 1 Axes>"
      ]
     },
     "metadata": {
      "needs_background": "light"
     },
     "output_type": "display_data"
    }
   ],
   "source": [
    "# get 5 random input words\n",
    "src_words = ['university', 'love', 'cat', 'tennis', 'research', 'conference']\n",
    "tgt_words = ['universidad', 'amor', 'gato', u'tenis',  u'investigación', 'conferencia']\n",
    "\n",
    "# assert words in dictionaries\n",
    "for sw in src_words:\n",
    "    assert sw in src_word2id, '\"%s\" not in source dictionary' % sw\n",
    "for tw in tgt_words:\n",
    "    assert tw in tgt_word2id, '\"%s\" not in target dictionary' % sw\n",
    "\n",
    "plot_similar_word(src_words, src_word2id, src_embeddings, tgt_words, tgt_word2id, tgt_embeddings, pca)"
   ]
  },
  {
   "cell_type": "markdown",
   "metadata": {},
   "source": [
    "# Reference \n",
    "* https://medium.com/@weGotlieb/using-giza-for-bilingual-sentence-alignment-8b2dc828a04d\n",
    "* http://www.statmt.org/moses/?n=Moses.Baseline\n",
    "* https://www.aclweb.org/anthology/E99-1010/\n",
    "* http://masatohagiwara.net/using-giza-to-obtain-word-alignment-between-bilingual-sentences.html\n",
    "* https://okapiframework.org/wiki/index.php/GIZA%2B%2B_Installation_and_Running_Tutorial\n",
    "* https://www.ijert.org/research/word-alignment-using-giza-and-cygwin-on-windows-IJERTV2IS50775.pdf\n",
    "* https://github.com/facebookresearch/MUSE/blob/master/demo.ipynb"
   ]
  },
  {
   "cell_type": "code",
   "execution_count": null,
   "metadata": {},
   "outputs": [],
   "source": []
  }
 ],
 "metadata": {
  "kernelspec": {
   "display_name": "Python 3",
   "language": "python",
   "name": "python3"
  },
  "language_info": {
   "codemirror_mode": {
    "name": "ipython",
    "version": 3
   },
   "file_extension": ".py",
   "mimetype": "text/x-python",
   "name": "python",
   "nbconvert_exporter": "python",
   "pygments_lexer": "ipython3",
   "version": "3.6.9"
  }
 },
 "nbformat": 4,
 "nbformat_minor": 2
}
