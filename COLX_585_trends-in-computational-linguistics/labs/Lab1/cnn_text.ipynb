{
  "nbformat": 4,
  "nbformat_minor": 0,
  "metadata": {
    "accelerator": "GPU",
    "colab": {
      "name": "cnn_text.ipynb",
      "provenance": [],
      "collapsed_sections": []
    },
    "kernelspec": {
      "display_name": "Python 3",
      "language": "python",
      "name": "python3"
    },
    "language_info": {
      "codemirror_mode": {
        "name": "ipython",
        "version": 3
      },
      "file_extension": ".py",
      "mimetype": "text/x-python",
      "name": "python",
      "nbconvert_exporter": "python",
      "pygments_lexer": "ipython3",
      "version": "3.7.3"
    }
  },
  "cells": [
    {
      "cell_type": "markdown",
      "metadata": {
        "colab_type": "text",
        "id": "BCGOkdDHfLPl"
      },
      "source": [
        "# Convolutional Neural Network for text classification"
      ]
    },
    {
      "cell_type": "markdown",
      "metadata": {
        "colab_type": "text",
        "id": "qfkMti7BfLPl"
      },
      "source": [
        "Convolutional Neural Network (CNNs) was originally for Computer Vision tasks. [Kim](https://arxiv.org/pdf/1408.5882.pdf) applied CNNs to problems in Natural Language Processing and got good results. In this tutorial, we will introduce how to implement CNN for NLP classification task. "
      ]
    },
    {
      "cell_type": "code",
      "metadata": {
        "colab_type": "code",
        "id": "_H05G_RJfvzg",
        "outputId": "9a878a92-060e-46cf-b712-0b246c7f283f",
        "colab": {
          "base_uri": "https://localhost:8080/",
          "height": 122
        }
      },
      "source": [
        "from google.colab import drive\n",
        "drive.mount('/content/drive')"
      ],
      "execution_count": 0,
      "outputs": [
        {
          "output_type": "stream",
          "text": [
            "Go to this URL in a browser: https://accounts.google.com/o/oauth2/auth?client_id=947318989803-6bn6qk8qdgf4n4g3pfee6491hc0brc4i.apps.googleusercontent.com&redirect_uri=urn%3aietf%3awg%3aoauth%3a2.0%3aoob&response_type=code&scope=email%20https%3a%2f%2fwww.googleapis.com%2fauth%2fdocs.test%20https%3a%2f%2fwww.googleapis.com%2fauth%2fdrive%20https%3a%2f%2fwww.googleapis.com%2fauth%2fdrive.photos.readonly%20https%3a%2f%2fwww.googleapis.com%2fauth%2fpeopleapi.readonly\n",
            "\n",
            "Enter your authorization code:\n",
            "··········\n",
            "Mounted at /content/drive\n"
          ],
          "name": "stdout"
        }
      ]
    },
    {
      "cell_type": "code",
      "metadata": {
        "colab_type": "code",
        "id": "TUJcy-wij2QV",
        "outputId": "aef0586b-f45f-4413-e654-3c3749e1c7dc",
        "colab": {
          "base_uri": "https://localhost:8080/",
          "height": 34
        }
      },
      "source": [
        "!pip install -U torch"
      ],
      "execution_count": 0,
      "outputs": [
        {
          "output_type": "stream",
          "text": [
            "Requirement already up-to-date: torch in /usr/local/lib/python3.6/dist-packages (1.4.0)\n"
          ],
          "name": "stdout"
        }
      ]
    },
    {
      "cell_type": "code",
      "metadata": {
        "colab_type": "code",
        "id": "dJ81nsSohHFQ",
        "outputId": "22817333-a965-426a-8cef-1fb602ce20cd",
        "colab": {
          "base_uri": "https://localhost:8080/",
          "height": 428
        }
      },
      "source": [
        "!python -m spacy download en_core_web_sm"
      ],
      "execution_count": 0,
      "outputs": [
        {
          "output_type": "stream",
          "text": [
            "Requirement already satisfied: en_core_web_sm==2.2.5 from https://github.com/explosion/spacy-models/releases/download/en_core_web_sm-2.2.5/en_core_web_sm-2.2.5.tar.gz#egg=en_core_web_sm==2.2.5 in /usr/local/lib/python3.6/dist-packages (2.2.5)\n",
            "Requirement already satisfied: spacy>=2.2.2 in /usr/local/lib/python3.6/dist-packages (from en_core_web_sm==2.2.5) (2.2.4)\n",
            "Requirement already satisfied: murmurhash<1.1.0,>=0.28.0 in /usr/local/lib/python3.6/dist-packages (from spacy>=2.2.2->en_core_web_sm==2.2.5) (1.0.2)\n",
            "Requirement already satisfied: srsly<1.1.0,>=1.0.2 in /usr/local/lib/python3.6/dist-packages (from spacy>=2.2.2->en_core_web_sm==2.2.5) (1.0.2)\n",
            "Requirement already satisfied: requests<3.0.0,>=2.13.0 in /usr/local/lib/python3.6/dist-packages (from spacy>=2.2.2->en_core_web_sm==2.2.5) (2.21.0)\n",
            "Requirement already satisfied: wasabi<1.1.0,>=0.4.0 in /usr/local/lib/python3.6/dist-packages (from spacy>=2.2.2->en_core_web_sm==2.2.5) (0.6.0)\n",
            "Requirement already satisfied: preshed<3.1.0,>=3.0.2 in /usr/local/lib/python3.6/dist-packages (from spacy>=2.2.2->en_core_web_sm==2.2.5) (3.0.2)\n",
            "Requirement already satisfied: plac<1.2.0,>=0.9.6 in /usr/local/lib/python3.6/dist-packages (from spacy>=2.2.2->en_core_web_sm==2.2.5) (1.1.3)\n",
            "Requirement already satisfied: setuptools in /usr/local/lib/python3.6/dist-packages (from spacy>=2.2.2->en_core_web_sm==2.2.5) (46.0.0)\n",
            "Requirement already satisfied: tqdm<5.0.0,>=4.38.0 in /usr/local/lib/python3.6/dist-packages (from spacy>=2.2.2->en_core_web_sm==2.2.5) (4.38.0)\n",
            "Requirement already satisfied: blis<0.5.0,>=0.4.0 in /usr/local/lib/python3.6/dist-packages (from spacy>=2.2.2->en_core_web_sm==2.2.5) (0.4.1)\n",
            "Requirement already satisfied: numpy>=1.15.0 in /usr/local/lib/python3.6/dist-packages (from spacy>=2.2.2->en_core_web_sm==2.2.5) (1.18.2)\n",
            "Requirement already satisfied: cymem<2.1.0,>=2.0.2 in /usr/local/lib/python3.6/dist-packages (from spacy>=2.2.2->en_core_web_sm==2.2.5) (2.0.3)\n",
            "Requirement already satisfied: catalogue<1.1.0,>=0.0.7 in /usr/local/lib/python3.6/dist-packages (from spacy>=2.2.2->en_core_web_sm==2.2.5) (1.0.0)\n",
            "Requirement already satisfied: thinc==7.4.0 in /usr/local/lib/python3.6/dist-packages (from spacy>=2.2.2->en_core_web_sm==2.2.5) (7.4.0)\n",
            "Requirement already satisfied: chardet<3.1.0,>=3.0.2 in /usr/local/lib/python3.6/dist-packages (from requests<3.0.0,>=2.13.0->spacy>=2.2.2->en_core_web_sm==2.2.5) (3.0.4)\n",
            "Requirement already satisfied: urllib3<1.25,>=1.21.1 in /usr/local/lib/python3.6/dist-packages (from requests<3.0.0,>=2.13.0->spacy>=2.2.2->en_core_web_sm==2.2.5) (1.24.3)\n",
            "Requirement already satisfied: idna<2.9,>=2.5 in /usr/local/lib/python3.6/dist-packages (from requests<3.0.0,>=2.13.0->spacy>=2.2.2->en_core_web_sm==2.2.5) (2.8)\n",
            "Requirement already satisfied: certifi>=2017.4.17 in /usr/local/lib/python3.6/dist-packages (from requests<3.0.0,>=2.13.0->spacy>=2.2.2->en_core_web_sm==2.2.5) (2019.11.28)\n",
            "Requirement already satisfied: importlib-metadata>=0.20; python_version < \"3.8\" in /usr/local/lib/python3.6/dist-packages (from catalogue<1.1.0,>=0.0.7->spacy>=2.2.2->en_core_web_sm==2.2.5) (1.5.0)\n",
            "Requirement already satisfied: zipp>=0.5 in /usr/local/lib/python3.6/dist-packages (from importlib-metadata>=0.20; python_version < \"3.8\"->catalogue<1.1.0,>=0.0.7->spacy>=2.2.2->en_core_web_sm==2.2.5) (3.1.0)\n",
            "\u001b[38;5;2m✔ Download and installation successful\u001b[0m\n",
            "You can now load the model via spacy.load('en_core_web_sm')\n"
          ],
          "name": "stdout"
        }
      ]
    },
    {
      "cell_type": "markdown",
      "metadata": {
        "colab_type": "text",
        "id": "owf4tLdIfLPm"
      },
      "source": [
        "## Import require Python libraries"
      ]
    },
    {
      "cell_type": "code",
      "metadata": {
        "colab_type": "code",
        "id": "nt3sgC0BfLPn",
        "colab": {}
      },
      "source": [
        "import torch\n",
        "import torchtext\n",
        "from torchtext.data import Field, LabelField\n",
        "from torchtext.data import TabularDataset\n",
        "from torchtext.data import Iterator, BucketIterator\n",
        "import spacy\n",
        "import en_core_web_sm\n",
        "from torch.utils.data import TensorDataset, DataLoader, RandomSampler, SequentialSampler\n",
        "import torch.nn as nn\n",
        "import torch.nn.functional as F\n",
        "import torch.autograd as autograd\n",
        "from tqdm import tqdm, trange\n",
        "import numpy as np\n",
        "from sklearn.metrics import accuracy_score, f1_score, recall_score, precision_score, classification_report, confusion_matrix"
      ],
      "execution_count": 0,
      "outputs": []
    },
    {
      "cell_type": "code",
      "metadata": {
        "colab_type": "code",
        "id": "p0UdczZpfLPr",
        "outputId": "d69889e7-a682-4d68-c36c-1872f27fac75",
        "colab": {
          "base_uri": "https://localhost:8080/",
          "height": 34
        }
      },
      "source": [
        "## Set seed of randomization and working device\n",
        "manual_seed = 77\n",
        "torch.manual_seed(manual_seed)\n",
        "device = torch.device(\"cuda\" if torch.cuda.is_available() else \"cpu\")\n",
        "print(device)\n",
        "n_gpu = torch.cuda.device_count()\n",
        "if n_gpu > 0:\n",
        "    torch.cuda.manual_seed(manual_seed)"
      ],
      "execution_count": 0,
      "outputs": [
        {
          "output_type": "stream",
          "text": [
            "cuda\n"
          ],
          "name": "stdout"
        }
      ]
    },
    {
      "cell_type": "markdown",
      "metadata": {
        "colab_type": "text",
        "id": "O5CZmExZfLPv"
      },
      "source": [
        "## Load dataset"
      ]
    },
    {
      "cell_type": "markdown",
      "metadata": {
        "colab_type": "text",
        "id": "FbVtgUT6fLPv"
      },
      "source": [
        "In this tutorial, we use the corpus from the [CL-Aff shared task](https://sites.google.com/view/affcon2019/cl-aff-shared-task?authuser=0). HappyDB is a dataset of about 100,000 `happy moments` crowd-sourced via Amazon’s Mechanical Turk where each worker was asked to describe in a complete sentence `what made them happy in the past 24 hours`. Each user was asked to describe three such moments. \n",
        "In this tutorial, we focus on `sociality classification`. Sociality refers to `whether or not other people than the author are involved in the emotion situation`. For example, an emotion experience with a sociality value \"yes\" (i.e., other people are involved) could teach us about social groups (e.g., families) and the range of emotions expressed during specific types of situations (e.g., wedding, death). \n",
        "\n",
        "We only use labelled dataset which include 10,560 labelled samples. \n",
        "\n",
        "We have already preprocessed (tokenization, removing URLs, mentions, hashtags and so on) the tweets and placed it under ``./happy_db`` folder in three files as ``train.tsv``, ``dev.tsv`` and ``test.tsv``. We split the labeled data into 80\\% training set (8,448 moments) and 20\\% development set (2112 moments)."
      ]
    },
    {
      "cell_type": "markdown",
      "metadata": {
        "colab_type": "text",
        "id": "7kS9D4uWfLPv"
      },
      "source": [
        "Tokenizer"
      ]
    },
    {
      "cell_type": "code",
      "metadata": {
        "colab_type": "code",
        "id": "7baIFijufLPw",
        "colab": {}
      },
      "source": [
        "spacy_en = en_core_web_sm.load()\n",
        "def tokenize_en(text):\n",
        "    \"\"\"\n",
        "    Tokenizes English text from a string into a list of strings (tokens)\n",
        "    \"\"\"\n",
        "    return [tok.text for tok in spacy_en.tokenizer(text)]"
      ],
      "execution_count": 0,
      "outputs": []
    },
    {
      "cell_type": "markdown",
      "metadata": {
        "colab_type": "text",
        "id": "_dvUuAsifLPy"
      },
      "source": [
        "`Fileds`"
      ]
    },
    {
      "cell_type": "code",
      "metadata": {
        "colab_type": "code",
        "id": "coBVxDXOfLPz",
        "colab": {}
      },
      "source": [
        "TEXT = Field(sequential=True, tokenize=tokenize_en, lower=True)\n",
        "LABEL = Field(sequential=False, unk_token = None)"
      ],
      "execution_count": 0,
      "outputs": []
    },
    {
      "cell_type": "markdown",
      "metadata": {
        "colab_type": "text",
        "id": "xVPhbsm3fLP1"
      },
      "source": [
        "Load dataset using `TabularDataset`"
      ]
    },
    {
      "cell_type": "code",
      "metadata": {
        "colab_type": "code",
        "id": "5rBq5MozfLP2",
        "colab": {}
      },
      "source": [
        "# your code goes here \n",
        "train, val, test = TabularDataset.splits(\n",
        "               path=\"./drive/My Drive/Colab Notebooks/happy_db/\", # the root directory where the data lies\n",
        "               train='train.tsv', validation=\"dev.tsv\", test=\"test.tsv\", # file names\n",
        "               format='tsv',\n",
        "               skip_header=True, # if your tsv file has a header, make sure to pass this to ensure it doesn't get proceesed as data!\n",
        "               fields=[('tweet', TEXT), ('label', LABEL)])"
      ],
      "execution_count": 0,
      "outputs": []
    },
    {
      "cell_type": "markdown",
      "metadata": {
        "colab_type": "text",
        "id": "1cC0lP-FfLP5"
      },
      "source": [
        "Build your vocabulary to map words and labels to integers. "
      ]
    },
    {
      "cell_type": "code",
      "metadata": {
        "colab_type": "code",
        "id": "eyEa098afLP5",
        "colab": {}
      },
      "source": [
        "TEXT.build_vocab(train, min_freq=2)\n",
        "LABEL.build_vocab(train)"
      ],
      "execution_count": 0,
      "outputs": []
    },
    {
      "cell_type": "code",
      "metadata": {
        "colab_type": "code",
        "id": "0jnYPrC2fLP8",
        "outputId": "c000e528-f7dd-4812-8188-3e99b61bf500",
        "colab": {
          "base_uri": "https://localhost:8080/",
          "height": 51
        }
      },
      "source": [
        "print(\"Vocabulary size of TEXT:\",len(TEXT.vocab.stoi))\n",
        "print(\"Vocabulary size of LABEL:\",len(LABEL.vocab.stoi))"
      ],
      "execution_count": 0,
      "outputs": [
        {
          "output_type": "stream",
          "text": [
            "Vocabulary size of TEXT: 3546\n",
            "Vocabulary size of LABEL: 2\n"
          ],
          "name": "stdout"
        }
      ]
    },
    {
      "cell_type": "markdown",
      "metadata": {
        "colab_type": "text",
        "id": "ZGmOewZCfLP-"
      },
      "source": [
        "Construct the Iterators to get the train, dev, and test splits. Use `BucketIterator` to initialize the Iterators for the train, dev, and test data."
      ]
    },
    {
      "cell_type": "code",
      "metadata": {
        "colab_type": "code",
        "id": "-7ANLHxefLP_",
        "colab": {}
      },
      "source": [
        "train_iter, val_iter, test_iter = BucketIterator.splits(\n",
        " (train, val, test), # we pass in the datasets we want the iterator to draw data from\n",
        " batch_sizes=(64,256,256),\n",
        " sort_key=lambda x: len(x.tweet), \n",
        " sort=True,\n",
        "# A key to use for sorting examples in order to batch together examples with similar lengths and minimize padding. \n",
        " sort_within_batch=True\n",
        ")"
      ],
      "execution_count": 0,
      "outputs": []
    },
    {
      "cell_type": "code",
      "metadata": {
        "colab_type": "code",
        "id": "YaYfMorVfLQB",
        "outputId": "551cc0a8-cf3c-42ba-9d71-edcdc18d22b8",
        "colab": {
          "base_uri": "https://localhost:8080/",
          "height": 51
        }
      },
      "source": [
        "# create a single batch and terminate the loop\n",
        "for batch in train_iter:\n",
        "    tweets = batch.tweet\n",
        "    labels = batch.label\n",
        "    break  #we use first batch as an example.\n",
        "    \n",
        "print('tweets:', tweets.shape)\n",
        "print('labels:', labels.shape)\n",
        "\n",
        "# tweets: [length, batch size]\n",
        "# labels: [batch size]"
      ],
      "execution_count": 0,
      "outputs": [
        {
          "output_type": "stream",
          "text": [
            "tweets: torch.Size([4, 64])\n",
            "labels: torch.Size([64])\n"
          ],
          "name": "stdout"
        }
      ]
    },
    {
      "cell_type": "markdown",
      "metadata": {
        "colab_type": "text",
        "id": "-WMasQ0YfLQG"
      },
      "source": [
        "## CNN model for NLP"
      ]
    },
    {
      "cell_type": "markdown",
      "metadata": {
        "colab_type": "text",
        "id": "JfCiVeVufLQH"
      },
      "source": [
        "Instead of image pixels, the input to most NLP tasks is sentences or documents represented as a matrix. Each row of the matrix corresponds to one token, typically a word, but it could be a character or byte-pair. That is, each row is a vector that represents a word. Usually, these vectors are **word embeddings** such as word2vec or GloVe. You can also train your word embedding layer from scratch. For a 10-word sentence using a 300-dimensional embedding, we would have a `10 × 300` matrix as our input. "
      ]
    },
    {
      "cell_type": "markdown",
      "metadata": {
        "colab_type": "text",
        "id": "9dPcLouofLQI"
      },
      "source": [
        "In the vision, our kernels slide over local patches of an image, but in NLP, we typically use kernels that slide over full rows of the matrix (words). Thus, the \"width\" of our kernels is the same as the width of the input matrix (i.e, word embedding size). The height (or region size) of the kernels may vary, but sliding windows over 2-5 words at a time is typical. "
      ]
    },
    {
      "cell_type": "markdown",
      "metadata": {
        "colab_type": "text",
        "id": "iYje-BUwfLQI"
      },
      "source": [
        "**Here is a simple example of a CNN for NLP.**"
      ]
    },
    {
      "cell_type": "markdown",
      "metadata": {
        "colab_type": "text",
        "id": "zTBKzYpUfLQJ"
      },
      "source": [
        "1. Each input token (words) is represented in a 5-dimension vector. The sentence length is 7. Hence, the input matrix of CNN is a `7 x 5` tensor.\n",
        "2. Here we use three kernel (or filter) region sizes: `2, 3 and 4`, each of which has `2` kernels. Every kernels performs convolution on the sentence matrix and generates (variable-length) feature maps. \n",
        "2. Then `1-max pooling` is performed over each map (i.e., the largest number from each feature map is recorded). Thus a univariate feature vector is generated from all six maps.\n",
        "3. These 6 features are **concatenated** to form a feature vector for the linear layer. \n",
        "4. The final **softmax fully connected layers**, then, receives this feature vector as input and uses it to classify the sentence; here it is a binary classification and hence depict two possible output states. \n",
        "\n",
        "Source: Zhang, Y., & Wallace, B. (2015). A Sensitivity Analysis of (and Practitioners’ Guide to) Convolutional Neural Networks for Sentence Classification."
      ]
    },
    {
      "cell_type": "markdown",
      "metadata": {
        "colab_type": "text",
        "id": "3F3lf-7TfLQK"
      },
      "source": [
        "![](http://www.wildml.com/wp-content/uploads/2015/11/Screen-Shot-2015-11-06-at-12.05.40-PM-1024x937.png)\n",
        "\n",
        "Picture Courtesy: http://www.wildml.com/2015/11/understanding-convolutional-neural-networks-for-nlp/"
      ]
    },
    {
      "cell_type": "markdown",
      "metadata": {
        "colab_type": "text",
        "id": "Y1RqU28VfLQK"
      },
      "source": [
        "**Let's build this model step by step.**"
      ]
    },
    {
      "cell_type": "markdown",
      "metadata": {
        "colab_type": "text",
        "id": "15hsz2mgfLQL"
      },
      "source": [
        "#### First, we need to create a input tensor and the label tensor. "
      ]
    },
    {
      "cell_type": "code",
      "metadata": {
        "colab_type": "code",
        "id": "hzk8z-jxfLQL",
        "colab": {}
      },
      "source": [
        "input_sentence = 'I like this movie very much!'"
      ],
      "execution_count": 0,
      "outputs": []
    },
    {
      "cell_type": "code",
      "metadata": {
        "colab_type": "code",
        "id": "jB0FeDV_fLQN",
        "outputId": "e05c2f73-0b1b-4c56-aef0-fadeab671dba",
        "colab": {
          "base_uri": "https://localhost:8080/",
          "height": 170
        }
      },
      "source": [
        "text_token = TEXT.preprocess(input_sentence)\n",
        "print(\"text_token:\", text_token)\n",
        "input_tensor = TEXT.process([text_token])\n",
        "print(input_tensor)\n",
        "print(\"shape of input_tensor: \", input_tensor.shape)"
      ],
      "execution_count": 0,
      "outputs": [
        {
          "output_type": "stream",
          "text": [
            "text_token: ['i', 'like', 'this', 'movie', 'very', 'much', '!']\n",
            "tensor([[  2],\n",
            "        [147],\n",
            "        [ 45],\n",
            "        [124],\n",
            "        [ 33],\n",
            "        [189],\n",
            "        [ 63]])\n",
            "shape of input_tensor:  torch.Size([7, 1])\n"
          ],
          "name": "stdout"
        }
      ]
    },
    {
      "cell_type": "markdown",
      "metadata": {
        "colab_type": "text",
        "id": "PeUn7e_nfLQR"
      },
      "source": [
        "**Create a label tensor.**"
      ]
    },
    {
      "cell_type": "code",
      "metadata": {
        "colab_type": "code",
        "id": "qIp_mOccfLQR",
        "outputId": "91f1a070-3af2-4c8a-b63f-c9679a0fb06b",
        "colab": {
          "base_uri": "https://localhost:8080/",
          "height": 51
        }
      },
      "source": [
        "label_token = LABEL.preprocess('no')\n",
        "print(\"label_token:\", label_token)\n",
        "label_tensor = LABEL.process([label_token])\n",
        "print(\"shape of label_tensor: \", label_tensor.shape)"
      ],
      "execution_count": 0,
      "outputs": [
        {
          "output_type": "stream",
          "text": [
            "label_token: no\n",
            "shape of label_tensor:  torch.Size([1])\n"
          ],
          "name": "stdout"
        }
      ]
    },
    {
      "cell_type": "markdown",
      "metadata": {
        "colab_type": "text",
        "id": "7zZ9BKEJfLQT"
      },
      "source": [
        "#### First layer is a embedding layer which embeds each token to a 5-D vector. \n",
        "\n",
        " We will use [``torch.nn.Embedding module``](https://pytorch.org/docs/stable/nn.html#embedding) to store word vectors corresponding to words in the vocabulary."
      ]
    },
    {
      "cell_type": "code",
      "metadata": {
        "colab_type": "code",
        "id": "A0fNJz4PfLQU",
        "outputId": "f8d43fba-a6f6-4d48-be95-4a78d8d407ad",
        "colab": {
          "base_uri": "https://localhost:8080/",
          "height": 34
        }
      },
      "source": [
        "VOCAB_SIZE = len(TEXT.vocab.stoi)\n",
        "print(\"VOCAB_SIZE:\",VOCAB_SIZE)\n",
        "# Note, the parameters to Embedding class below are:\n",
        "# num_embeddings (int): size of the dictionary of embeddings\n",
        "# embedding_dim (int): the size of each embedding vector\n",
        "# For more details on Embedding class, see: https://github.com/pytorch/pytorch/blob/master/torch/nn/modules/sparse.py\n",
        "embedding = nn.Embedding(VOCAB_SIZE, 5)"
      ],
      "execution_count": 0,
      "outputs": [
        {
          "output_type": "stream",
          "text": [
            "VOCAB_SIZE: 3552\n"
          ],
          "name": "stdout"
        }
      ]
    },
    {
      "cell_type": "markdown",
      "metadata": {
        "colab_type": "text",
        "id": "mOsXrRJjfLQX"
      },
      "source": [
        "Let us now feed the tensors of our sample batch to the embedding module and extract the sequence of word embeddings for each tweet."
      ]
    },
    {
      "cell_type": "code",
      "metadata": {
        "colab_type": "code",
        "id": "kiEyk8MYfLQY",
        "outputId": "dd9dc170-7c2a-4cf3-a161-80980d3eb5b9",
        "colab": {
          "base_uri": "https://localhost:8080/",
          "height": 51
        }
      },
      "source": [
        "# print tensor containing word ids for our batch\n",
        "print(\"input_tensor: \", input_tensor.shape)\n",
        "\n",
        "# feed the \"input_tensor\" tensor to the embedding module\n",
        "input_embeddings = embedding(input_tensor)\n",
        "\n",
        "# print the dimensions of the tweet_embeddings\n",
        "print(\"tweet input word embeddings size: \", input_embeddings.size()) \n",
        "\n",
        "# first dimension - batch size (1)\n",
        "# second dimension - number of words in that single example (7)\n",
        "# third dimension - number of features for a word (5) (or word embedding size)"
      ],
      "execution_count": 0,
      "outputs": [
        {
          "output_type": "stream",
          "text": [
            "input_tensor:  torch.Size([7, 1])\n",
            "tweet input word embeddings size:  torch.Size([7, 1, 5])\n"
          ],
          "name": "stdout"
        }
      ]
    },
    {
      "cell_type": "markdown",
      "metadata": {
        "colab_type": "text",
        "id": "20g9P-tufLQb"
      },
      "source": [
        "#### Convolutional layers"
      ]
    },
    {
      "cell_type": "markdown",
      "metadata": {
        "colab_type": "text",
        "id": "8Jm399zofLQb"
      },
      "source": [
        "This `input_embeddings` is the input tensor of CNN.\n",
        "\n",
        "Our imput is a tensor which include 1 channel and 2 dimensions. So we will use [`nn.Conv2d()`](https://pytorch.org/docs/stable/nn.html#torch.nn.Conv2d) to convolute the input data. \n",
        "\n",
        "Notice, the input tensor of `nn.Conv2d()` should be size of `[batch size, # of input channel, height, width]`. Here, `height` is the sequence length of our sentence (i.e., 7), and the width is the embedding size (i.e., 5). But the shape of `input_embeddings` is `[sequence length, batch size, embedding size]`. So we need to `permute` the dimensions and `unsqueeze` channel dimension."
      ]
    },
    {
      "cell_type": "code",
      "metadata": {
        "colab_type": "code",
        "id": "Ba4SaNBafLQc",
        "outputId": "29d2658c-165f-486a-c74d-2e247f8081df",
        "colab": {
          "base_uri": "https://localhost:8080/",
          "height": 51
        }
      },
      "source": [
        "input_embeddings = input_embeddings.permute(1,0,2)\n",
        "print(input_embeddings.shape)\n",
        "input_embeddings = input_embeddings.unsqueeze(1)\n",
        "print(input_embeddings.shape)\n",
        "\n",
        "# fisrt dimension - number of examples (1)\n",
        "# second dimension - number of input channel (1)\n",
        "# first dimension - sequence length (7)\n",
        "# third dimension - word embedding size) (5) "
      ],
      "execution_count": 0,
      "outputs": [
        {
          "output_type": "stream",
          "text": [
            "torch.Size([1, 7, 5])\n",
            "torch.Size([1, 1, 7, 5])\n"
          ],
          "name": "stdout"
        }
      ]
    },
    {
      "cell_type": "markdown",
      "metadata": {
        "colab_type": "text",
        "id": "0x_OWc7_fLQd"
      },
      "source": [
        "Similarly, \n",
        "\n",
        "To initialize `nn.Conv2d()`, you need to specify some hyper-parameters. \n",
        "\n",
        "The `in_channels` is the number of channel of input tensor. The `out_channels` is the number of channel of output tensor. You can consider `out_channels` as the number of kernels (or filters) we use. In this case, our `in_channels` equal to 1, and we want our outputs in 32 channels.   \n",
        "\n",
        "The `kernel_size` argument is the size of the convolutional kernel. We want kernels with different sized shapes in the height and width directions, we will use a tuple `(height-size, width-size)` (e.g., (2,5)). \n",
        "\n",
        "The `stride` controls the stride for the cross-correlation. We use stride of 1 here.\n",
        "\n",
        "We will not pad the input matrix. \n",
        "\n",
        "But we have three different kernel region sizes: 2, 3 and 4, each of which has 2 kernels. Every kernels performs convolution on the sentence matrix, seperatly. Namely, we need three convolutional layers."
      ]
    },
    {
      "cell_type": "markdown",
      "metadata": {
        "colab_type": "text",
        "id": "ZO2UR5YofLQe"
      },
      "source": [
        "The first convolutional layer is region size of 2 (i.e, the height is 2) and has 2 kernels. In NLP task, we typically use kernels that slide over full rows of the matrix (words). Thus, the \"width\" of our kernels is the same as the width of the input matrix (i.e, embedding size). "
      ]
    },
    {
      "cell_type": "code",
      "metadata": {
        "colab_type": "code",
        "id": "VhmO8fq9fLQe",
        "outputId": "5f03c675-bf5c-4fe1-bd8b-4cd220324bb2",
        "colab": {
          "base_uri": "https://localhost:8080/",
          "height": 34
        }
      },
      "source": [
        "convolute_region2 = nn.Conv2d(in_channels=1, out_channels=2, kernel_size=(2,5), stride=1)\n",
        "convolute_region2_output = convolute_region2(input_embeddings)\n",
        "print(convolute_region2_output.shape)"
      ],
      "execution_count": 0,
      "outputs": [
        {
          "output_type": "stream",
          "text": [
            "torch.Size([1, 2, 6, 1])\n"
          ],
          "name": "stdout"
        }
      ]
    },
    {
      "cell_type": "markdown",
      "metadata": {
        "colab_type": "text",
        "id": "ihLLIBXffLQg"
      },
      "source": [
        "The fisrt dimension is the batch size, i.e., 1.\n",
        "\n",
        "The second dimension is the number of output channel (number of kernels), i.e., 2.\n",
        "\n",
        "The third dimension is the output size of height, i.e., 6. You can use this formular to calculate:\n",
        "$$W_{out}=\\frac{(W_{in}-K+2P)}{S}+1 = \\frac{(7-2+2\\times0)}{1}+1 = 6$$ \n",
        "\n",
        "The fourth dimension is the output size of width, i.e., 6. You can also use this formular to calculate:\n",
        "$$W_{out}=\\frac{(W_{in}-K+2P)}{S}+1 = \\frac{(5-5+2\\times0)}{1}+1 = 1$$ "
      ]
    },
    {
      "cell_type": "markdown",
      "metadata": {
        "colab_type": "text",
        "id": "Bww_aurefLQg"
      },
      "source": [
        "Then, we will apply the `ReLU` function on the output of convolutional layer. "
      ]
    },
    {
      "cell_type": "code",
      "metadata": {
        "colab_type": "code",
        "id": "N2HPFmqZfLQg",
        "outputId": "d0242130-55f9-422b-9da2-9810b6d57d95",
        "colab": {
          "base_uri": "https://localhost:8080/",
          "height": 34
        }
      },
      "source": [
        "ReLU_fn = nn.ReLU()\n",
        "convolute_region2_output = ReLU_fn(convolute_region2_output)\n",
        "print(\"convolute_region2_output:\", convolute_region2_output.shape)"
      ],
      "execution_count": 0,
      "outputs": [
        {
          "output_type": "stream",
          "text": [
            "convolute_region2_output: torch.Size([1, 2, 6, 1])\n"
          ],
          "name": "stdout"
        }
      ]
    },
    {
      "cell_type": "markdown",
      "metadata": {
        "colab_type": "text",
        "id": "79bWLNs3fLQi"
      },
      "source": [
        "The output size of width always is 1 because the \"width\" of our kernels is the same as embedding size in NLP task.\n",
        "Hence, we can squeeze the last dimension. "
      ]
    },
    {
      "cell_type": "code",
      "metadata": {
        "colab_type": "code",
        "id": "maJOEszqfLQi",
        "outputId": "af3616b5-bb93-462e-8df4-999f9a5c5a54",
        "colab": {
          "base_uri": "https://localhost:8080/",
          "height": 34
        }
      },
      "source": [
        "convolute_region2_output = convolute_region2_output.squeeze(-1)\n",
        "print(\"convolute_region2_output:\", convolute_region2_output.shape)"
      ],
      "execution_count": 0,
      "outputs": [
        {
          "output_type": "stream",
          "text": [
            "convolute_region2_output: torch.Size([1, 2, 6])\n"
          ],
          "name": "stdout"
        }
      ]
    },
    {
      "cell_type": "markdown",
      "metadata": {
        "colab_type": "text",
        "id": "If4ajAR8fLQl"
      },
      "source": [
        "The second convolutional layer is region size of 3 (i.e, the height is 3) and has 2 kernels. Using the same logic, we create a layer `convolute_region3`, apply `ReLU` function, and squeeze last dimension. "
      ]
    },
    {
      "cell_type": "code",
      "metadata": {
        "colab_type": "code",
        "id": "RFmUVxwefLQm",
        "outputId": "3cfe6d19-dc7b-4224-c7fa-1e1de22e75a9",
        "colab": {
          "base_uri": "https://localhost:8080/",
          "height": 34
        }
      },
      "source": [
        "convolute_region3 = nn.Conv2d(in_channels=1, out_channels=2, kernel_size=(3,5), stride=1)\n",
        "convolute_region3_output = convolute_region3(input_embeddings)\n",
        "convolute_region3_output = ReLU_fn(convolute_region3_output)\n",
        "convolute_region3_output = convolute_region3_output.squeeze(-1)\n",
        "print(convolute_region3_output.shape)"
      ],
      "execution_count": 0,
      "outputs": [
        {
          "output_type": "stream",
          "text": [
            "torch.Size([1, 2, 5])\n"
          ],
          "name": "stdout"
        }
      ]
    },
    {
      "cell_type": "markdown",
      "metadata": {
        "colab_type": "text",
        "id": "AXI9qXV7fLQo"
      },
      "source": [
        "The third convolutional layer is region size of 4 (i.e, the height is 4) and has 2 kernels. Using the same logic, we create a layer `convolute_region4`, apply `ReLU` function, and squeeze last dimension."
      ]
    },
    {
      "cell_type": "code",
      "metadata": {
        "colab_type": "code",
        "id": "Y3fdewVIfLQo",
        "outputId": "9346f320-2c37-4176-f7c8-a83c1a460dbf",
        "colab": {
          "base_uri": "https://localhost:8080/",
          "height": 34
        }
      },
      "source": [
        "convolute_region4 = nn.Conv2d(in_channels=1, out_channels=2, kernel_size=(4,5), stride=1)\n",
        "convolute_region4_output = convolute_region4(input_embeddings)\n",
        "convolute_region4_output = ReLU_fn(convolute_region4_output)\n",
        "convolute_region4_output = convolute_region4_output.squeeze(-1)\n",
        "print(convolute_region4_output.shape)"
      ],
      "execution_count": 0,
      "outputs": [
        {
          "output_type": "stream",
          "text": [
            "torch.Size([1, 2, 4])\n"
          ],
          "name": "stdout"
        }
      ]
    },
    {
      "cell_type": "markdown",
      "metadata": {
        "colab_type": "text",
        "id": "msvek8aSfLQq"
      },
      "source": [
        "Note. These three layers operate on input embeddings parallelly instead of sequencially. \n",
        "\n",
        "Hence, instead of creating three convolutional layers separately, we can create a [`torch.nn.ModuleList()`](https://pytorch.org/docs/stable/nn.html#torch.nn.ModuleList) to hold these submodules in a list."
      ]
    },
    {
      "cell_type": "code",
      "metadata": {
        "colab_type": "code",
        "id": "SCp_PvGjfLQq",
        "colab": {}
      },
      "source": [
        "kernel_sizes = [2,3,4] #three region size\n",
        "kernel_num = 2      # number of kernels \n",
        "embedding_dim = 5   # word embedding size\n",
        "Ci = 1              # number of input channel\n",
        "\n",
        "convolution_layers = nn.ModuleList([\n",
        "    nn.Conv2d(in_channels = Ci, out_channels = kernel_num, kernel_size = (K, embedding_dim)) \n",
        "                                    for K in kernel_sizes  ])\n",
        "\n",
        "convolute_outputs = [F.relu(conv(input_embeddings)).squeeze(3) for conv in convolution_layers]  "
      ],
      "execution_count": 0,
      "outputs": []
    },
    {
      "cell_type": "markdown",
      "metadata": {
        "colab_type": "text",
        "id": "VdMkKLT2fLQs"
      },
      "source": [
        "`convolute_outputs` is a list which includes all the outputs from three convolutional layers.\n",
        "Let's see how they look like. "
      ]
    },
    {
      "cell_type": "code",
      "metadata": {
        "colab_type": "code",
        "id": "tEWZeg_NfLQv",
        "outputId": "6f168f4d-db7d-4cf0-c7ac-bc064f098617",
        "colab": {
          "base_uri": "https://localhost:8080/",
          "height": 68
        }
      },
      "source": [
        "for i, item in enumerate(convolute_outputs):\n",
        "    print(i,\" shape: \",item.shape)\n",
        "\n",
        "#They are same as our previous outputs. "
      ],
      "execution_count": 0,
      "outputs": [
        {
          "output_type": "stream",
          "text": [
            "0  shape:  torch.Size([1, 2, 6])\n",
            "1  shape:  torch.Size([1, 2, 5])\n",
            "2  shape:  torch.Size([1, 2, 4])\n"
          ],
          "name": "stdout"
        }
      ]
    },
    {
      "cell_type": "markdown",
      "metadata": {
        "colab_type": "text",
        "id": "BEtjQsIVfLQw"
      },
      "source": [
        "#### Max Pooling layers"
      ]
    },
    {
      "cell_type": "markdown",
      "metadata": {
        "colab_type": "text",
        "id": "JKD6riYQfLQx"
      },
      "source": [
        "Our convolved outputs (maps) are size of `[batch size, number of kernels, size of height]` (e.g., `[1,2,6]`). Hence, each sample is represented in a vector by each kernel. The size of the vector is 6. \n",
        "\n",
        "So `1D-max pooling` is performed over each representation (i.e., the largest number from each representation is recorded). Thus a univariate feature vector is generated from all six maps."
      ]
    },
    {
      "cell_type": "markdown",
      "metadata": {
        "colab_type": "text",
        "id": "z3C1tgoYfLQx"
      },
      "source": [
        "Let's apply the [`F.max_pool1d()`](https://pytorch.org/docs/stable/nn.functional.html#torch.nn.functional.max_pool1d) on `convolute_region2_output` fisrt. "
      ]
    },
    {
      "cell_type": "code",
      "metadata": {
        "colab_type": "code",
        "id": "0OKP7AWGfLQy",
        "outputId": "92c17759-841b-4e38-ae0d-b6c22ed28002",
        "colab": {
          "base_uri": "https://localhost:8080/",
          "height": 119
        }
      },
      "source": [
        "maxpool_region2 = F.max_pool1d(convolute_region2_output, convolute_region2_output.size(2))\n",
        "print(convolute_region2_output)\n",
        "print(maxpool_region2)\n",
        "print(maxpool_region2.shape) # [btach size, number of kernels, 1]"
      ],
      "execution_count": 0,
      "outputs": [
        {
          "output_type": "stream",
          "text": [
            "tensor([[[0.0320, 1.6914, 0.9550, 0.0000, 0.0000, 0.0000],\n",
            "         [0.6686, 0.3477, 0.6762, 0.0000, 0.2090, 0.0000]]],\n",
            "       grad_fn=<SqueezeBackward1>)\n",
            "tensor([[[1.6914],\n",
            "         [0.6762]]], grad_fn=<SqueezeBackward1>)\n",
            "torch.Size([1, 2, 1])\n"
          ],
          "name": "stdout"
        }
      ]
    },
    {
      "cell_type": "code",
      "metadata": {
        "colab_type": "code",
        "id": "8cRCa0Y-fLQ0",
        "outputId": "76bf8180-54f3-4a88-c5bd-476a1c51790b",
        "colab": {
          "base_uri": "https://localhost:8080/",
          "height": 34
        }
      },
      "source": [
        "# We squeeze the last dimension.\n",
        "maxpool_region2 = maxpool_region2.squeeze(-1)\n",
        "print(maxpool_region2.shape)"
      ],
      "execution_count": 0,
      "outputs": [
        {
          "output_type": "stream",
          "text": [
            "torch.Size([1, 2])\n"
          ],
          "name": "stdout"
        }
      ]
    },
    {
      "cell_type": "markdown",
      "metadata": {
        "colab_type": "text",
        "id": "craGR5STfLQ1"
      },
      "source": [
        "Then, same for `convolute_region3_output` and `convolute_region4_output`."
      ]
    },
    {
      "cell_type": "code",
      "metadata": {
        "colab_type": "code",
        "id": "nYAn4GlxfLQ2",
        "outputId": "848310a6-a0a7-4f73-d5d5-9be5c1534b17",
        "colab": {
          "base_uri": "https://localhost:8080/",
          "height": 34
        }
      },
      "source": [
        "maxpool_region3 = F.max_pool1d(convolute_region3_output, convolute_region3_output.size(2))\n",
        "maxpool_region3 = maxpool_region3.squeeze(-1)\n",
        "print(maxpool_region3.shape)"
      ],
      "execution_count": 0,
      "outputs": [
        {
          "output_type": "stream",
          "text": [
            "torch.Size([1, 2])\n"
          ],
          "name": "stdout"
        }
      ]
    },
    {
      "cell_type": "code",
      "metadata": {
        "colab_type": "code",
        "id": "6Jsk9UhlfLQ5",
        "outputId": "f8406778-c5bc-41c9-83b3-7ce5a3923eb8",
        "colab": {
          "base_uri": "https://localhost:8080/",
          "height": 34
        }
      },
      "source": [
        "maxpool_region4 = F.max_pool1d(convolute_region4_output, convolute_region4_output.size(2))\n",
        "maxpool_region4 = maxpool_region4.squeeze(-1)\n",
        "print(maxpool_region4.shape)"
      ],
      "execution_count": 0,
      "outputs": [
        {
          "output_type": "stream",
          "text": [
            "torch.Size([1, 2])\n"
          ],
          "name": "stdout"
        }
      ]
    },
    {
      "cell_type": "markdown",
      "metadata": {
        "colab_type": "text",
        "id": "dF6JRqHFfLQ6"
      },
      "source": [
        "We can also use for-loop to perform max-pooling on `convolute_outputs` that generate above by using `torch.nn.ModuleList()`. "
      ]
    },
    {
      "cell_type": "code",
      "metadata": {
        "colab_type": "code",
        "id": "HWEPanAUfLQ8",
        "colab": {}
      },
      "source": [
        "max_pooling_outputs = [F.max_pool1d(i, i.size(2)).squeeze(2) for i in convolute_outputs]  "
      ],
      "execution_count": 0,
      "outputs": []
    },
    {
      "cell_type": "markdown",
      "metadata": {
        "colab_type": "text",
        "id": "0OGR750FfLQ-"
      },
      "source": [
        "`max_pooling_outputs` is a list which includes all the outputs from three max-pooling layers.\n",
        "Let's see how they look like. "
      ]
    },
    {
      "cell_type": "code",
      "metadata": {
        "colab_type": "code",
        "id": "ATk_ttUJfLQ-",
        "outputId": "66a1e79e-05cc-4a41-9c0f-31095ab9585e",
        "colab": {
          "base_uri": "https://localhost:8080/",
          "height": 68
        }
      },
      "source": [
        "for i, item in enumerate(max_pooling_outputs):\n",
        "    print(i,\" shape: \",item.shape)\n",
        "\n",
        "#They are same as our previous outputs of max-pooling layers.  "
      ],
      "execution_count": 0,
      "outputs": [
        {
          "output_type": "stream",
          "text": [
            "0  shape:  torch.Size([1, 2])\n",
            "1  shape:  torch.Size([1, 2])\n",
            "2  shape:  torch.Size([1, 2])\n"
          ],
          "name": "stdout"
        }
      ]
    },
    {
      "cell_type": "markdown",
      "metadata": {
        "colab_type": "text",
        "id": "6CnJ70aufLRA"
      },
      "source": [
        "#### Concatenate \n",
        "\n",
        "We concatenate the 6 features together to form a feature vector. "
      ]
    },
    {
      "cell_type": "code",
      "metadata": {
        "colab_type": "code",
        "id": "hiqHXQvzfLRA",
        "outputId": "d1e73dc9-3754-41c7-83c5-cb4d32260905",
        "colab": {
          "base_uri": "https://localhost:8080/",
          "height": 34
        }
      },
      "source": [
        "concat = torch.cat((maxpool_region2, maxpool_region3, maxpool_region4), dim = -1)\n",
        "print(concat.shape) # [batch size, feature size]"
      ],
      "execution_count": 0,
      "outputs": [
        {
          "output_type": "stream",
          "text": [
            "torch.Size([1, 6])\n"
          ],
          "name": "stdout"
        }
      ]
    },
    {
      "cell_type": "markdown",
      "metadata": {
        "colab_type": "text",
        "id": "cuOqUfxxfLRC"
      },
      "source": [
        "We can also concatenate the list, `max_pooling_outputs`. "
      ]
    },
    {
      "cell_type": "code",
      "metadata": {
        "colab_type": "code",
        "id": "L1DCVVnZfLRC",
        "outputId": "95232ade-10d3-45fa-e83c-ffb2a80a0f67",
        "colab": {
          "base_uri": "https://localhost:8080/",
          "height": 34
        }
      },
      "source": [
        "concat_list = torch.cat(max_pooling_outputs, 1)\n",
        "print(concat_list.shape) # [batch size, feature size]"
      ],
      "execution_count": 0,
      "outputs": [
        {
          "output_type": "stream",
          "text": [
            "torch.Size([1, 6])\n"
          ],
          "name": "stdout"
        }
      ]
    },
    {
      "cell_type": "markdown",
      "metadata": {
        "colab_type": "text",
        "id": "IhUb9SpLfLRE"
      },
      "source": [
        "#### Dropout"
      ]
    },
    {
      "cell_type": "markdown",
      "metadata": {
        "colab_type": "text",
        "id": "GHvrpGwffLRF"
      },
      "source": [
        "Before the fully connected layers, we specify a [`drop-out layer`](https://pytorch.org/docs/stable/nn.html#dropout-layers) of 0.5 drop-out rate to avoid over-fitting in the model. "
      ]
    },
    {
      "cell_type": "code",
      "metadata": {
        "colab_type": "code",
        "id": "Ll0FYsDOfLRF",
        "colab": {}
      },
      "source": [
        "drop_out = nn.Dropout(p=0.5)"
      ],
      "execution_count": 0,
      "outputs": []
    },
    {
      "cell_type": "code",
      "metadata": {
        "colab_type": "code",
        "id": "PnJKrHeifLRJ",
        "outputId": "efb4cf3c-8f6a-4151-eec9-1f13150cf968",
        "colab": {
          "base_uri": "https://localhost:8080/",
          "height": 34
        }
      },
      "source": [
        "drop_output = drop_out(concat)\n",
        "print(\"drop_output:\", drop_output.shape)"
      ],
      "execution_count": 0,
      "outputs": [
        {
          "output_type": "stream",
          "text": [
            "drop_output: torch.Size([1, 6])\n"
          ],
          "name": "stdout"
        }
      ]
    },
    {
      "cell_type": "markdown",
      "metadata": {
        "colab_type": "text",
        "id": "PkA1_6p5fLRK"
      },
      "source": [
        "#### Softmax fully connected layers"
      ]
    },
    {
      "cell_type": "markdown",
      "metadata": {
        "colab_type": "text",
        "id": "lbOZdrXNfLRL"
      },
      "source": [
        " The final **softmax fully connected layer**, then, receives this feature vector as input and uses it to classify the sentence; here it is a binary classification and hence depict two possible output states.\n",
        " \n",
        "The feature size of input is `# of kernel region size X # of kernel of each region size`. \n",
        "\n",
        "In our case, it is `3 x 2 = 6`.\n",
        "\n",
        "The feature size of input is 2 (binary classification)."
      ]
    },
    {
      "cell_type": "code",
      "metadata": {
        "colab_type": "code",
        "id": "YYZKBuedfLRL",
        "outputId": "a674be3d-21b5-4288-b07e-21686f13a4d8",
        "colab": {
          "base_uri": "https://localhost:8080/",
          "height": 51
        }
      },
      "source": [
        "fc = nn.Linear(3 * 2 , 2)  \n",
        "fc_output = F.softmax(fc(drop_output),dim=1)\n",
        "print(\"fc_output:\", fc_output.shape)\n",
        "print(fc_output)"
      ],
      "execution_count": 0,
      "outputs": [
        {
          "output_type": "stream",
          "text": [
            "fc_output: torch.Size([1, 2])\n",
            "tensor([[0.5207, 0.4793]], grad_fn=<SoftmaxBackward>)\n"
          ],
          "name": "stdout"
        }
      ]
    },
    {
      "cell_type": "markdown",
      "metadata": {
        "colab_type": "text",
        "id": "YvyxHI_3fLRP"
      },
      "source": [
        "The `fc_output` is the prediction of the CNN model. \n",
        "We can give this prediction and true labels to a loss function to calculate the loss and backpropagate with the loss. "
      ]
    },
    {
      "cell_type": "code",
      "metadata": {
        "colab_type": "code",
        "id": "RXEZsN_3fLRQ",
        "outputId": "f6c9e9fe-aacb-49fa-c26e-ddc573b65ca0",
        "colab": {
          "base_uri": "https://localhost:8080/",
          "height": 34
        }
      },
      "source": [
        "# We use nn.CrossEntropyLoss() as our loss function. \n",
        "criterion = nn.CrossEntropyLoss()\n",
        "criterion(fc_output, label_tensor)"
      ],
      "execution_count": 0,
      "outputs": [
        {
          "output_type": "execute_result",
          "data": {
            "text/plain": [
              "tensor(0.7141, grad_fn=<NllLossBackward>)"
            ]
          },
          "metadata": {
            "tags": []
          },
          "execution_count": 155
        }
      ]
    },
    {
      "cell_type": "markdown",
      "metadata": {
        "colab_type": "text",
        "id": "Q_ldrE1AfLRR"
      },
      "source": [
        "Congratulation! We implement the sample CNN successfully. \n",
        "\n",
        "Let's apply this architecture on the real-word task, sociality classification with happyDB. "
      ]
    },
    {
      "cell_type": "markdown",
      "metadata": {
        "colab_type": "text",
        "id": "vyvcH5szfLRS"
      },
      "source": [
        "## Build a `class` for CNN of text classification"
      ]
    },
    {
      "cell_type": "code",
      "metadata": {
        "colab_type": "code",
        "id": "Xkn-7qYCfLRS",
        "colab": {}
      },
      "source": [
        "# To define a CNN class\n",
        "class CNN_Text(nn.Module):\n",
        "    def __init__(self, vocabulary_size, embedding_dim, output_size, kernel_num, region_sizes, dropout):\n",
        "        '''\n",
        "        vocabulary_size: vocabulary size\n",
        "        embedding_dim: word embedding size\n",
        "        output_size: number of classes in prediction\n",
        "        kernel_num: number of kernels (number of output channels of convolutional layers)\n",
        "        region_sizes: height of kernels of convolutional layers\n",
        "        dropout: dropout rate\n",
        "        '''\n",
        "        super(CNN_Text, self).__init__()\n",
        "        # the size of input channel is 1.\n",
        "        Ci = 1\n",
        "        \n",
        "        # word embedding layer\n",
        "        self.embeddings = nn.Embedding(num_embeddings = vocabulary_size, embedding_dim = embedding_dim )\n",
        "        \n",
        "        # convolution with kernels\n",
        "        self.convolution_layers = nn.ModuleList([nn.Conv2d(in_channels = Ci, out_channels = kernel_num, kernel_size = (K, embedding_dim)) for K in region_sizes])\n",
        "        \n",
        "        # a dropout layer\n",
        "        self.dropout = nn.Dropout(dropout) \n",
        "        \n",
        "        # fully connected layer\n",
        "        self.fc = nn.Linear(len(kernel_sizes) * kernel_num, output_size)\n",
        "\n",
        "    def forward(self, x):\n",
        "        # input x  [sequence length, batch size]\n",
        "        \n",
        "        input_embeddings = self.embeddings(x)  \n",
        "        # (batch size, word_sequence, embedding_dim) word embedding\n",
        "\n",
        "        input_embeddings = input_embeddings.permute(1,0,2)\n",
        "        input_embeddings = input_embeddings.unsqueeze(1)\n",
        "        #  [batch size, number of channel is one, sequence length, embeeding size]\n",
        "\n",
        "        # convolutional layers\n",
        "        convolute_outputs = [F.relu(conv(input_embeddings)).squeeze(3) for conv in self.convolution_layers]  \n",
        "        \n",
        "        # to get the maximum value of filtered tensor\n",
        "        max_pooling_outputs = [F.max_pool1d(i, i.size(2)).squeeze(2) for i in convolute_outputs] \n",
        "        \n",
        "        concat_list = torch.cat(max_pooling_outputs, 1) # concatenate representations\n",
        "        \n",
        "        drop_output = self.dropout(concat_list)  # add drop layer\n",
        "        \n",
        "        fc1_output = self.fc(drop_output)  # get the fc1 using a fully connected layer\n",
        "        \n",
        "        final_output = F.softmax(fc1_output,dim=1)\n",
        "        \n",
        "        return final_output\n"
      ],
      "execution_count": 0,
      "outputs": []
    },
    {
      "cell_type": "code",
      "metadata": {
        "colab_type": "code",
        "id": "oN-rDOeZfLRU",
        "colab": {}
      },
      "source": [
        "# Hyper Parameters\n",
        "\n",
        "# the vocabulary size\n",
        "vocabulary_size = len(TEXT.vocab.stoi) \n",
        "\n",
        "# Dimension of word embedding is 300. Namely, each word is expressed by a vector that has 300 dimensions.\n",
        "embedding_dim = 300 \n",
        "\n",
        "# region size as 2, 3, and 4\n",
        "kernel_sizes = [2,3,4] \n",
        "\n",
        "# the number of kernel in each region size\n",
        "kernels_num = 32  \n",
        "\n",
        "# The dropout rate is set to be 0.5.\n",
        "dropout = 0.5\n",
        "\n",
        "# The output size of labels.\n",
        "output_size = 2\n",
        "\n",
        "# learning rate is set to be 0.01.\n",
        "lr = 0.01        \n",
        "\n",
        "# The number of iteration is set to be 5.\n",
        "num_epoch = 5  \n",
        "\n",
        "# employ class CNN_Text and assign to cnn\n",
        "model = CNN_Text(vocabulary_size, embedding_dim, output_size, kernels_num, kernel_sizes, dropout).to(device)\n"
      ],
      "execution_count": 0,
      "outputs": []
    },
    {
      "cell_type": "code",
      "metadata": {
        "colab_type": "code",
        "id": "MOG54Nv3fLRW",
        "outputId": "56226d03-c04d-49e2-cb3f-f08ed09b6fef",
        "colab": {
          "base_uri": "https://localhost:8080/",
          "height": 187
        }
      },
      "source": [
        "def init_weights(m):\n",
        "    for name, param in m.named_parameters():\n",
        "        if 'weight' in name:\n",
        "            nn.init.normal_(param.data, mean=0, std=0.1)\n",
        "        else:\n",
        "            nn.init.constant_(param.data, 0)\n",
        "            \n",
        "model.apply(init_weights)"
      ],
      "execution_count": 0,
      "outputs": [
        {
          "output_type": "execute_result",
          "data": {
            "text/plain": [
              "CNN_Text(\n",
              "  (embeddings): Embedding(7302, 300)\n",
              "  (convolution_layers): ModuleList(\n",
              "    (0): Conv2d(1, 32, kernel_size=(2, 300), stride=(1, 1))\n",
              "    (1): Conv2d(1, 32, kernel_size=(3, 300), stride=(1, 1))\n",
              "    (2): Conv2d(1, 32, kernel_size=(4, 300), stride=(1, 1))\n",
              "  )\n",
              "  (dropout): Dropout(p=0.5, inplace=False)\n",
              "  (fc): Linear(in_features=96, out_features=2, bias=True)\n",
              ")"
            ]
          },
          "metadata": {
            "tags": []
          },
          "execution_count": 210
        }
      ]
    },
    {
      "cell_type": "code",
      "metadata": {
        "colab_type": "code",
        "id": "p1ILVkdjfLRY",
        "outputId": "76bf742c-8e30-441e-ae6c-5299b15dae73",
        "colab": {
          "base_uri": "https://localhost:8080/",
          "height": 34
        }
      },
      "source": [
        "def count_parameters(model):\n",
        "    return sum(p.numel() for p in model.parameters() if p.requires_grad)\n",
        "\n",
        "print(f'The model has {count_parameters(model):,} trainable parameters')"
      ],
      "execution_count": 0,
      "outputs": [
        {
          "output_type": "stream",
          "text": [
            "The model has 2,277,290 trainable parameters\n"
          ],
          "name": "stdout"
        }
      ]
    },
    {
      "cell_type": "code",
      "metadata": {
        "colab_type": "code",
        "id": "uhIQbAAHfLRa",
        "colab": {}
      },
      "source": [
        "# Loss and optimizer\n",
        "optimizer = torch.optim.Adam(model.parameters(), lr=lr)   # define a optimizer for backpropagation\n",
        "loss_func = nn.CrossEntropyLoss()   # define loss funtion"
      ],
      "execution_count": 0,
      "outputs": []
    },
    {
      "cell_type": "markdown",
      "metadata": {
        "colab_type": "text",
        "id": "lxJNpz4AfLRb"
      },
      "source": [
        "`train()` and `evaluate()` functions"
      ]
    },
    {
      "cell_type": "code",
      "metadata": {
        "colab_type": "code",
        "id": "TbvmYNIZfLRb",
        "colab": {}
      },
      "source": [
        "def train(model, iterator, optimizer, criterion):\n",
        "    \n",
        "    model.train()\n",
        "    epoch_loss = 0\n",
        "    \n",
        "    for i, batch in enumerate(iterator):\n",
        "        \n",
        "        batch_input, labels = batch.tweet, batch.label\n",
        "        batch_input = batch_input.to(device)\n",
        "        labels = labels.to(device)\n",
        "\n",
        "        optimizer.zero_grad()\n",
        "        \n",
        "        outputs = model(batch_input)\n",
        "\n",
        "        loss = criterion(outputs, labels)\n",
        "        \n",
        "        loss.backward()\n",
        "        \n",
        "        optimizer.step()\n",
        "        \n",
        "        epoch_loss += loss.cpu().item()\n",
        "\n",
        "    return epoch_loss / len(iterator)"
      ],
      "execution_count": 0,
      "outputs": []
    },
    {
      "cell_type": "code",
      "metadata": {
        "colab_type": "code",
        "id": "_XDsvKHZfLRe",
        "colab": {}
      },
      "source": [
        "def evaluate(model, iterator, criterion):\n",
        "    \n",
        "    model.eval()\n",
        "    \n",
        "    epoch_loss = 0\n",
        "    all_pred=[]\n",
        "    all_label = []\n",
        "    \n",
        "    with torch.no_grad():\n",
        "    \n",
        "        for i, batch in enumerate(iterator):\n",
        "\n",
        "            batch_input, labels = batch.tweet, batch.label\n",
        "            batch_input = batch_input.to(device)\n",
        "            labels = labels.to(device)\n",
        "\n",
        "            optimizer.zero_grad()\n",
        "\n",
        "            outputs = model(batch_input)\n",
        "\n",
        "            loss = criterion(outputs, labels)\n",
        "\n",
        "            epoch_loss += loss.cpu().item()\n",
        "\n",
        "            # identify the predicted class for each example in the batch\n",
        "            probabilities, predicted = torch.max(outputs.cpu().data, 1)\n",
        "            # put all the true labels and predictions to two lists\n",
        "            all_pred.extend(predicted)\n",
        "            all_label.extend(labels.cpu())\n",
        "    \n",
        "    accuracy = accuracy_score(all_label, all_pred)\n",
        "    f1score = f1_score(all_label, all_pred, average='macro') \n",
        "    return epoch_loss / len(iterator), accuracy, f1score"
      ],
      "execution_count": 0,
      "outputs": []
    },
    {
      "cell_type": "code",
      "metadata": {
        "colab_type": "code",
        "id": "LyCTv64wfLRf",
        "outputId": "63c4e080-37a3-437e-8b91-480fa7f4e57b",
        "colab": {
          "base_uri": "https://localhost:8080/",
          "height": 544
        }
      },
      "source": [
        "# Train the model\n",
        "MAX_EPOCH = 15\n",
        "total_step = len(train_iter)\n",
        "loss_list = []\n",
        "acc_list = []\n",
        "\n",
        "for epoch in trange(MAX_EPOCH, desc=\"Epoch\"):\n",
        "    train_loss = train(model, train_iter, optimizer, criterion)  \n",
        "    val_loss, val_acc, val_f1 = evaluate(model, val_iter, criterion)\n",
        "\n",
        "    # Create checkpoint at end of each epoch\n",
        "    state_dict_model = model.state_dict() \n",
        "    state = {\n",
        "        'epoch': epoch,\n",
        "        'state_dict': state_dict_model,\n",
        "        'optimizer': optimizer.state_dict()\n",
        "        }\n",
        "\n",
        "    torch.save(state, \"./drive/My Drive/Colab Notebooks/ckpt_cnn/CNN_TEXT_\"+str(epoch+1)+\".pt\")\n",
        "\n",
        "    print('\\n Epoch [{}/{}], Train Loss: {:.4f}, Validation Loss: {:.4f}, Validation Accuracy: {:.4f}, Validation F1: {:.4f}'.format(epoch+1, MAX_EPOCH, train_loss, val_loss, val_acc, val_f1))\n",
        "    "
      ],
      "execution_count": 0,
      "outputs": [
        {
          "output_type": "stream",
          "text": [
            "Epoch:   7%|▋         | 1/15 [00:00<00:10,  1.38it/s]"
          ],
          "name": "stderr"
        },
        {
          "output_type": "stream",
          "text": [
            "\n",
            " Epoch [1/15], Train Loss: 0.4550, Validation Loss: 0.4054, Validation Accuracy: 0.8949, Validation F1: 0.8945\n"
          ],
          "name": "stdout"
        },
        {
          "output_type": "stream",
          "text": [
            "\rEpoch:  13%|█▎        | 2/15 [00:01<00:09,  1.33it/s]"
          ],
          "name": "stderr"
        },
        {
          "output_type": "stream",
          "text": [
            "\n",
            " Epoch [2/15], Train Loss: 0.4069, Validation Loss: 0.4157, Validation Accuracy: 0.8968, Validation F1: 0.8964\n"
          ],
          "name": "stdout"
        },
        {
          "output_type": "stream",
          "text": [
            "\rEpoch:  20%|██        | 3/15 [00:02<00:09,  1.33it/s]"
          ],
          "name": "stderr"
        },
        {
          "output_type": "stream",
          "text": [
            "\n",
            " Epoch [3/15], Train Loss: 0.4083, Validation Loss: 0.4185, Validation Accuracy: 0.8920, Validation F1: 0.8918\n"
          ],
          "name": "stdout"
        },
        {
          "output_type": "stream",
          "text": [
            "\rEpoch:  27%|██▋       | 4/15 [00:03<00:08,  1.33it/s]"
          ],
          "name": "stderr"
        },
        {
          "output_type": "stream",
          "text": [
            "\n",
            " Epoch [4/15], Train Loss: 0.4115, Validation Loss: 0.4185, Validation Accuracy: 0.8854, Validation F1: 0.8852\n"
          ],
          "name": "stdout"
        },
        {
          "output_type": "stream",
          "text": [
            "\rEpoch:  33%|███▎      | 5/15 [00:03<00:07,  1.35it/s]"
          ],
          "name": "stderr"
        },
        {
          "output_type": "stream",
          "text": [
            "\n",
            " Epoch [5/15], Train Loss: 0.4043, Validation Loss: 0.4207, Validation Accuracy: 0.8816, Validation F1: 0.8815\n"
          ],
          "name": "stdout"
        },
        {
          "output_type": "stream",
          "text": [
            "\rEpoch:  40%|████      | 6/15 [00:04<00:06,  1.35it/s]"
          ],
          "name": "stderr"
        },
        {
          "output_type": "stream",
          "text": [
            "\n",
            " Epoch [6/15], Train Loss: 0.4041, Validation Loss: 0.4130, Validation Accuracy: 0.8920, Validation F1: 0.8915\n"
          ],
          "name": "stdout"
        },
        {
          "output_type": "stream",
          "text": [
            "\rEpoch:  47%|████▋     | 7/15 [00:05<00:05,  1.37it/s]"
          ],
          "name": "stderr"
        },
        {
          "output_type": "stream",
          "text": [
            "\n",
            " Epoch [7/15], Train Loss: 0.4071, Validation Loss: 0.4303, Validation Accuracy: 0.8712, Validation F1: 0.8690\n"
          ],
          "name": "stdout"
        },
        {
          "output_type": "stream",
          "text": [
            "\rEpoch:  53%|█████▎    | 8/15 [00:05<00:05,  1.35it/s]"
          ],
          "name": "stderr"
        },
        {
          "output_type": "stream",
          "text": [
            "\n",
            " Epoch [8/15], Train Loss: 0.4080, Validation Loss: 0.4049, Validation Accuracy: 0.8958, Validation F1: 0.8950\n"
          ],
          "name": "stdout"
        },
        {
          "output_type": "stream",
          "text": [
            "\rEpoch:  60%|██████    | 9/15 [00:06<00:04,  1.36it/s]"
          ],
          "name": "stderr"
        },
        {
          "output_type": "stream",
          "text": [
            "\n",
            " Epoch [9/15], Train Loss: 0.4078, Validation Loss: 0.4203, Validation Accuracy: 0.8902, Validation F1: 0.8898\n"
          ],
          "name": "stdout"
        },
        {
          "output_type": "stream",
          "text": [
            "\rEpoch:  67%|██████▋   | 10/15 [00:07<00:03,  1.32it/s]"
          ],
          "name": "stderr"
        },
        {
          "output_type": "stream",
          "text": [
            "\n",
            " Epoch [10/15], Train Loss: 0.4137, Validation Loss: 0.4321, Validation Accuracy: 0.8826, Validation F1: 0.8822\n"
          ],
          "name": "stdout"
        },
        {
          "output_type": "stream",
          "text": [
            "\rEpoch:  73%|███████▎  | 11/15 [00:08<00:03,  1.31it/s]"
          ],
          "name": "stderr"
        },
        {
          "output_type": "stream",
          "text": [
            "\n",
            " Epoch [11/15], Train Loss: 0.4120, Validation Loss: 0.4476, Validation Accuracy: 0.8703, Validation F1: 0.8700\n"
          ],
          "name": "stdout"
        },
        {
          "output_type": "stream",
          "text": [
            "\rEpoch:  80%|████████  | 12/15 [00:09<00:02,  1.25it/s]"
          ],
          "name": "stderr"
        },
        {
          "output_type": "stream",
          "text": [
            "\n",
            " Epoch [12/15], Train Loss: 0.4584, Validation Loss: 0.5084, Validation Accuracy: 0.8030, Validation F1: 0.8028\n"
          ],
          "name": "stdout"
        },
        {
          "output_type": "stream",
          "text": [
            "\rEpoch:  87%|████████▋ | 13/15 [00:10<00:01,  1.23it/s]"
          ],
          "name": "stderr"
        },
        {
          "output_type": "stream",
          "text": [
            "\n",
            " Epoch [13/15], Train Loss: 0.4660, Validation Loss: 0.4531, Validation Accuracy: 0.8570, Validation F1: 0.8551\n"
          ],
          "name": "stdout"
        },
        {
          "output_type": "stream",
          "text": [
            "\rEpoch:  93%|█████████▎| 14/15 [00:10<00:00,  1.25it/s]"
          ],
          "name": "stderr"
        },
        {
          "output_type": "stream",
          "text": [
            "\n",
            " Epoch [14/15], Train Loss: 0.4578, Validation Loss: 0.4609, Validation Accuracy: 0.8542, Validation F1: 0.8524\n"
          ],
          "name": "stdout"
        },
        {
          "output_type": "stream",
          "text": [
            "Epoch: 100%|██████████| 15/15 [00:11<00:00,  1.29it/s]"
          ],
          "name": "stderr"
        },
        {
          "output_type": "stream",
          "text": [
            "\n",
            " Epoch [15/15], Train Loss: 0.4633, Validation Loss: 0.4529, Validation Accuracy: 0.8570, Validation F1: 0.8548\n"
          ],
          "name": "stdout"
        },
        {
          "output_type": "stream",
          "text": [
            "\n"
          ],
          "name": "stderr"
        }
      ]
    },
    {
      "cell_type": "markdown",
      "metadata": {
        "colab_type": "text",
        "id": "e02BYEB-fLRi"
      },
      "source": [
        "# Exercise "
      ]
    },
    {
      "cell_type": "markdown",
      "metadata": {
        "colab_type": "text",
        "id": "qZh_Y144fLRl"
      },
      "source": [
        "* Can you implement a Convolutional Reccurent Neural Networks with the following architecture?\n",
        "```\n",
        "CLSTM(\n",
        "  (convs1): ModuleList(\n",
        "    (0): Conv2d(1, 100, kernel_size=(3, 300), stride=(1, 1), padding=(1, 0))\n",
        "    (1): Conv2d(1, 100, kernel_size=(5, 300), stride=(1, 1), padding=(2, 0))\n",
        "  )\n",
        "  (lstm): LSTM(200, 200, batch_first=True)\n",
        "  (hidden2label): Linear(in_features=200, out_features=2, bias=True)\n",
        "  (softmax): LogSoftmax()\n",
        "  (dropout_layer): Dropout(p=0.2)\n",
        ")\n",
        "```"
      ]
    },
    {
      "cell_type": "markdown",
      "metadata": {
        "colab_type": "text",
        "id": "lKUXAm3yfLRl"
      },
      "source": [
        "### Reference\n",
        "* http://www.wildml.com/2015/11/understanding-convolutional-neural-networks-for-nlp/\n",
        "* https://medium.com/jatana/report-on-text-classification-using-cnn-rnn-han-f0e887214d5f\n",
        "* http://www.davidsbatista.net/blog/2018/03/31/SentenceClassificationConvNets/"
      ]
    }
  ]
}