{
  "nbformat": 4,
  "nbformat_minor": 0,
  "metadata": {
    "accelerator": "GPU",
    "colab": {
      "name": "mnist_cnn.ipynb",
      "provenance": [],
      "collapsed_sections": []
    },
    "kernelspec": {
      "name": "python3",
      "display_name": "Python 3"
    },
    "language_info": {
      "codemirror_mode": {
        "name": "ipython",
        "version": 3
      },
      "file_extension": ".py",
      "mimetype": "text/x-python",
      "name": "python",
      "nbconvert_exporter": "python",
      "pygments_lexer": "ipython3",
      "version": "3.7.3"
    },
    "widgets": {
      "application/vnd.jupyter.widget-state+json": {
        "7d2dc80b5c7b49f4b546f38edf293d16": {
          "model_module": "@jupyter-widgets/controls",
          "model_name": "HBoxModel",
          "state": {
            "_view_name": "HBoxView",
            "_dom_classes": [],
            "_model_name": "HBoxModel",
            "_view_module": "@jupyter-widgets/controls",
            "_model_module_version": "1.5.0",
            "_view_count": null,
            "_view_module_version": "1.5.0",
            "box_style": "",
            "layout": "IPY_MODEL_3b70cc59b0d14529888b3b92b5935a62",
            "_model_module": "@jupyter-widgets/controls",
            "children": [
              "IPY_MODEL_d94d8bd27ae348acb07914fd90569ab1",
              "IPY_MODEL_f5c382cd277d4c5d8b953c3029355cef"
            ]
          }
        },
        "3b70cc59b0d14529888b3b92b5935a62": {
          "model_module": "@jupyter-widgets/base",
          "model_name": "LayoutModel",
          "state": {
            "_view_name": "LayoutView",
            "grid_template_rows": null,
            "right": null,
            "justify_content": null,
            "_view_module": "@jupyter-widgets/base",
            "overflow": null,
            "_model_module_version": "1.2.0",
            "_view_count": null,
            "flex_flow": null,
            "width": null,
            "min_width": null,
            "border": null,
            "align_items": null,
            "bottom": null,
            "_model_module": "@jupyter-widgets/base",
            "top": null,
            "grid_column": null,
            "overflow_y": null,
            "overflow_x": null,
            "grid_auto_flow": null,
            "grid_area": null,
            "grid_template_columns": null,
            "flex": null,
            "_model_name": "LayoutModel",
            "justify_items": null,
            "grid_row": null,
            "max_height": null,
            "align_content": null,
            "visibility": null,
            "align_self": null,
            "height": null,
            "min_height": null,
            "padding": null,
            "grid_auto_rows": null,
            "grid_gap": null,
            "max_width": null,
            "order": null,
            "_view_module_version": "1.2.0",
            "grid_template_areas": null,
            "object_position": null,
            "object_fit": null,
            "grid_auto_columns": null,
            "margin": null,
            "display": null,
            "left": null
          }
        },
        "d94d8bd27ae348acb07914fd90569ab1": {
          "model_module": "@jupyter-widgets/controls",
          "model_name": "IntProgressModel",
          "state": {
            "_view_name": "ProgressView",
            "style": "IPY_MODEL_974f92240e804993a5d5946d0ff59eb0",
            "_dom_classes": [],
            "description": "",
            "_model_name": "IntProgressModel",
            "bar_style": "success",
            "max": 1,
            "_view_module": "@jupyter-widgets/controls",
            "_model_module_version": "1.5.0",
            "value": 1,
            "_view_count": null,
            "_view_module_version": "1.5.0",
            "orientation": "horizontal",
            "min": 0,
            "description_tooltip": null,
            "_model_module": "@jupyter-widgets/controls",
            "layout": "IPY_MODEL_9caaa5c94eec4d2580f97efe1856e430"
          }
        },
        "f5c382cd277d4c5d8b953c3029355cef": {
          "model_module": "@jupyter-widgets/controls",
          "model_name": "HTMLModel",
          "state": {
            "_view_name": "HTMLView",
            "style": "IPY_MODEL_9b95d641c1b4426996d560e1e64ae81c",
            "_dom_classes": [],
            "description": "",
            "_model_name": "HTMLModel",
            "placeholder": "​",
            "_view_module": "@jupyter-widgets/controls",
            "_model_module_version": "1.5.0",
            "value": " 9920512/? [00:05&lt;00:00, 1738411.89it/s]",
            "_view_count": null,
            "_view_module_version": "1.5.0",
            "description_tooltip": null,
            "_model_module": "@jupyter-widgets/controls",
            "layout": "IPY_MODEL_0cdcbecddd064dc396fb245551fa48b6"
          }
        },
        "974f92240e804993a5d5946d0ff59eb0": {
          "model_module": "@jupyter-widgets/controls",
          "model_name": "ProgressStyleModel",
          "state": {
            "_view_name": "StyleView",
            "_model_name": "ProgressStyleModel",
            "description_width": "initial",
            "_view_module": "@jupyter-widgets/base",
            "_model_module_version": "1.5.0",
            "_view_count": null,
            "_view_module_version": "1.2.0",
            "bar_color": null,
            "_model_module": "@jupyter-widgets/controls"
          }
        },
        "9caaa5c94eec4d2580f97efe1856e430": {
          "model_module": "@jupyter-widgets/base",
          "model_name": "LayoutModel",
          "state": {
            "_view_name": "LayoutView",
            "grid_template_rows": null,
            "right": null,
            "justify_content": null,
            "_view_module": "@jupyter-widgets/base",
            "overflow": null,
            "_model_module_version": "1.2.0",
            "_view_count": null,
            "flex_flow": null,
            "width": null,
            "min_width": null,
            "border": null,
            "align_items": null,
            "bottom": null,
            "_model_module": "@jupyter-widgets/base",
            "top": null,
            "grid_column": null,
            "overflow_y": null,
            "overflow_x": null,
            "grid_auto_flow": null,
            "grid_area": null,
            "grid_template_columns": null,
            "flex": null,
            "_model_name": "LayoutModel",
            "justify_items": null,
            "grid_row": null,
            "max_height": null,
            "align_content": null,
            "visibility": null,
            "align_self": null,
            "height": null,
            "min_height": null,
            "padding": null,
            "grid_auto_rows": null,
            "grid_gap": null,
            "max_width": null,
            "order": null,
            "_view_module_version": "1.2.0",
            "grid_template_areas": null,
            "object_position": null,
            "object_fit": null,
            "grid_auto_columns": null,
            "margin": null,
            "display": null,
            "left": null
          }
        },
        "9b95d641c1b4426996d560e1e64ae81c": {
          "model_module": "@jupyter-widgets/controls",
          "model_name": "DescriptionStyleModel",
          "state": {
            "_view_name": "StyleView",
            "_model_name": "DescriptionStyleModel",
            "description_width": "",
            "_view_module": "@jupyter-widgets/base",
            "_model_module_version": "1.5.0",
            "_view_count": null,
            "_view_module_version": "1.2.0",
            "_model_module": "@jupyter-widgets/controls"
          }
        },
        "0cdcbecddd064dc396fb245551fa48b6": {
          "model_module": "@jupyter-widgets/base",
          "model_name": "LayoutModel",
          "state": {
            "_view_name": "LayoutView",
            "grid_template_rows": null,
            "right": null,
            "justify_content": null,
            "_view_module": "@jupyter-widgets/base",
            "overflow": null,
            "_model_module_version": "1.2.0",
            "_view_count": null,
            "flex_flow": null,
            "width": null,
            "min_width": null,
            "border": null,
            "align_items": null,
            "bottom": null,
            "_model_module": "@jupyter-widgets/base",
            "top": null,
            "grid_column": null,
            "overflow_y": null,
            "overflow_x": null,
            "grid_auto_flow": null,
            "grid_area": null,
            "grid_template_columns": null,
            "flex": null,
            "_model_name": "LayoutModel",
            "justify_items": null,
            "grid_row": null,
            "max_height": null,
            "align_content": null,
            "visibility": null,
            "align_self": null,
            "height": null,
            "min_height": null,
            "padding": null,
            "grid_auto_rows": null,
            "grid_gap": null,
            "max_width": null,
            "order": null,
            "_view_module_version": "1.2.0",
            "grid_template_areas": null,
            "object_position": null,
            "object_fit": null,
            "grid_auto_columns": null,
            "margin": null,
            "display": null,
            "left": null
          }
        },
        "a29b990b93b9406f840bc6b926261fff": {
          "model_module": "@jupyter-widgets/controls",
          "model_name": "HBoxModel",
          "state": {
            "_view_name": "HBoxView",
            "_dom_classes": [],
            "_model_name": "HBoxModel",
            "_view_module": "@jupyter-widgets/controls",
            "_model_module_version": "1.5.0",
            "_view_count": null,
            "_view_module_version": "1.5.0",
            "box_style": "",
            "layout": "IPY_MODEL_f92b420c49ad4cb888e0f240bcd4442b",
            "_model_module": "@jupyter-widgets/controls",
            "children": [
              "IPY_MODEL_e56e0ff70e90421994eb7a912b9d5db1",
              "IPY_MODEL_52f4eb43e57b48c18c4b9a25de4b015e"
            ]
          }
        },
        "f92b420c49ad4cb888e0f240bcd4442b": {
          "model_module": "@jupyter-widgets/base",
          "model_name": "LayoutModel",
          "state": {
            "_view_name": "LayoutView",
            "grid_template_rows": null,
            "right": null,
            "justify_content": null,
            "_view_module": "@jupyter-widgets/base",
            "overflow": null,
            "_model_module_version": "1.2.0",
            "_view_count": null,
            "flex_flow": null,
            "width": null,
            "min_width": null,
            "border": null,
            "align_items": null,
            "bottom": null,
            "_model_module": "@jupyter-widgets/base",
            "top": null,
            "grid_column": null,
            "overflow_y": null,
            "overflow_x": null,
            "grid_auto_flow": null,
            "grid_area": null,
            "grid_template_columns": null,
            "flex": null,
            "_model_name": "LayoutModel",
            "justify_items": null,
            "grid_row": null,
            "max_height": null,
            "align_content": null,
            "visibility": null,
            "align_self": null,
            "height": null,
            "min_height": null,
            "padding": null,
            "grid_auto_rows": null,
            "grid_gap": null,
            "max_width": null,
            "order": null,
            "_view_module_version": "1.2.0",
            "grid_template_areas": null,
            "object_position": null,
            "object_fit": null,
            "grid_auto_columns": null,
            "margin": null,
            "display": null,
            "left": null
          }
        },
        "e56e0ff70e90421994eb7a912b9d5db1": {
          "model_module": "@jupyter-widgets/controls",
          "model_name": "IntProgressModel",
          "state": {
            "_view_name": "ProgressView",
            "style": "IPY_MODEL_eda6ac4f33de4ae893b3211ddf4c7806",
            "_dom_classes": [],
            "description": "",
            "_model_name": "IntProgressModel",
            "bar_style": "success",
            "max": 1,
            "_view_module": "@jupyter-widgets/controls",
            "_model_module_version": "1.5.0",
            "value": 1,
            "_view_count": null,
            "_view_module_version": "1.5.0",
            "orientation": "horizontal",
            "min": 0,
            "description_tooltip": null,
            "_model_module": "@jupyter-widgets/controls",
            "layout": "IPY_MODEL_fd3ade56f2834473a1723d2ab49327ee"
          }
        },
        "52f4eb43e57b48c18c4b9a25de4b015e": {
          "model_module": "@jupyter-widgets/controls",
          "model_name": "HTMLModel",
          "state": {
            "_view_name": "HTMLView",
            "style": "IPY_MODEL_1ff2774da8a34fe9868a5616c638bedb",
            "_dom_classes": [],
            "description": "",
            "_model_name": "HTMLModel",
            "placeholder": "​",
            "_view_module": "@jupyter-widgets/controls",
            "_model_module_version": "1.5.0",
            "value": " 32768/? [00:01&lt;00:00, 29618.36it/s]",
            "_view_count": null,
            "_view_module_version": "1.5.0",
            "description_tooltip": null,
            "_model_module": "@jupyter-widgets/controls",
            "layout": "IPY_MODEL_178420f00b164cd5a52e8b7da71c4c75"
          }
        },
        "eda6ac4f33de4ae893b3211ddf4c7806": {
          "model_module": "@jupyter-widgets/controls",
          "model_name": "ProgressStyleModel",
          "state": {
            "_view_name": "StyleView",
            "_model_name": "ProgressStyleModel",
            "description_width": "initial",
            "_view_module": "@jupyter-widgets/base",
            "_model_module_version": "1.5.0",
            "_view_count": null,
            "_view_module_version": "1.2.0",
            "bar_color": null,
            "_model_module": "@jupyter-widgets/controls"
          }
        },
        "fd3ade56f2834473a1723d2ab49327ee": {
          "model_module": "@jupyter-widgets/base",
          "model_name": "LayoutModel",
          "state": {
            "_view_name": "LayoutView",
            "grid_template_rows": null,
            "right": null,
            "justify_content": null,
            "_view_module": "@jupyter-widgets/base",
            "overflow": null,
            "_model_module_version": "1.2.0",
            "_view_count": null,
            "flex_flow": null,
            "width": null,
            "min_width": null,
            "border": null,
            "align_items": null,
            "bottom": null,
            "_model_module": "@jupyter-widgets/base",
            "top": null,
            "grid_column": null,
            "overflow_y": null,
            "overflow_x": null,
            "grid_auto_flow": null,
            "grid_area": null,
            "grid_template_columns": null,
            "flex": null,
            "_model_name": "LayoutModel",
            "justify_items": null,
            "grid_row": null,
            "max_height": null,
            "align_content": null,
            "visibility": null,
            "align_self": null,
            "height": null,
            "min_height": null,
            "padding": null,
            "grid_auto_rows": null,
            "grid_gap": null,
            "max_width": null,
            "order": null,
            "_view_module_version": "1.2.0",
            "grid_template_areas": null,
            "object_position": null,
            "object_fit": null,
            "grid_auto_columns": null,
            "margin": null,
            "display": null,
            "left": null
          }
        },
        "1ff2774da8a34fe9868a5616c638bedb": {
          "model_module": "@jupyter-widgets/controls",
          "model_name": "DescriptionStyleModel",
          "state": {
            "_view_name": "StyleView",
            "_model_name": "DescriptionStyleModel",
            "description_width": "",
            "_view_module": "@jupyter-widgets/base",
            "_model_module_version": "1.5.0",
            "_view_count": null,
            "_view_module_version": "1.2.0",
            "_model_module": "@jupyter-widgets/controls"
          }
        },
        "178420f00b164cd5a52e8b7da71c4c75": {
          "model_module": "@jupyter-widgets/base",
          "model_name": "LayoutModel",
          "state": {
            "_view_name": "LayoutView",
            "grid_template_rows": null,
            "right": null,
            "justify_content": null,
            "_view_module": "@jupyter-widgets/base",
            "overflow": null,
            "_model_module_version": "1.2.0",
            "_view_count": null,
            "flex_flow": null,
            "width": null,
            "min_width": null,
            "border": null,
            "align_items": null,
            "bottom": null,
            "_model_module": "@jupyter-widgets/base",
            "top": null,
            "grid_column": null,
            "overflow_y": null,
            "overflow_x": null,
            "grid_auto_flow": null,
            "grid_area": null,
            "grid_template_columns": null,
            "flex": null,
            "_model_name": "LayoutModel",
            "justify_items": null,
            "grid_row": null,
            "max_height": null,
            "align_content": null,
            "visibility": null,
            "align_self": null,
            "height": null,
            "min_height": null,
            "padding": null,
            "grid_auto_rows": null,
            "grid_gap": null,
            "max_width": null,
            "order": null,
            "_view_module_version": "1.2.0",
            "grid_template_areas": null,
            "object_position": null,
            "object_fit": null,
            "grid_auto_columns": null,
            "margin": null,
            "display": null,
            "left": null
          }
        },
        "a03b8eeaf91148f0a549221c926abe4d": {
          "model_module": "@jupyter-widgets/controls",
          "model_name": "HBoxModel",
          "state": {
            "_view_name": "HBoxView",
            "_dom_classes": [],
            "_model_name": "HBoxModel",
            "_view_module": "@jupyter-widgets/controls",
            "_model_module_version": "1.5.0",
            "_view_count": null,
            "_view_module_version": "1.5.0",
            "box_style": "",
            "layout": "IPY_MODEL_1e086ff6efaa496ab0d43b2105348a71",
            "_model_module": "@jupyter-widgets/controls",
            "children": [
              "IPY_MODEL_24382eb31e1545ae8df3332399a5837f",
              "IPY_MODEL_688a618e290a445abaa84e24d9da1a34"
            ]
          }
        },
        "1e086ff6efaa496ab0d43b2105348a71": {
          "model_module": "@jupyter-widgets/base",
          "model_name": "LayoutModel",
          "state": {
            "_view_name": "LayoutView",
            "grid_template_rows": null,
            "right": null,
            "justify_content": null,
            "_view_module": "@jupyter-widgets/base",
            "overflow": null,
            "_model_module_version": "1.2.0",
            "_view_count": null,
            "flex_flow": null,
            "width": null,
            "min_width": null,
            "border": null,
            "align_items": null,
            "bottom": null,
            "_model_module": "@jupyter-widgets/base",
            "top": null,
            "grid_column": null,
            "overflow_y": null,
            "overflow_x": null,
            "grid_auto_flow": null,
            "grid_area": null,
            "grid_template_columns": null,
            "flex": null,
            "_model_name": "LayoutModel",
            "justify_items": null,
            "grid_row": null,
            "max_height": null,
            "align_content": null,
            "visibility": null,
            "align_self": null,
            "height": null,
            "min_height": null,
            "padding": null,
            "grid_auto_rows": null,
            "grid_gap": null,
            "max_width": null,
            "order": null,
            "_view_module_version": "1.2.0",
            "grid_template_areas": null,
            "object_position": null,
            "object_fit": null,
            "grid_auto_columns": null,
            "margin": null,
            "display": null,
            "left": null
          }
        },
        "24382eb31e1545ae8df3332399a5837f": {
          "model_module": "@jupyter-widgets/controls",
          "model_name": "IntProgressModel",
          "state": {
            "_view_name": "ProgressView",
            "style": "IPY_MODEL_9d25bfae496b4920b8f5d810498f46d3",
            "_dom_classes": [],
            "description": "",
            "_model_name": "IntProgressModel",
            "bar_style": "success",
            "max": 1,
            "_view_module": "@jupyter-widgets/controls",
            "_model_module_version": "1.5.0",
            "value": 1,
            "_view_count": null,
            "_view_module_version": "1.5.0",
            "orientation": "horizontal",
            "min": 0,
            "description_tooltip": null,
            "_model_module": "@jupyter-widgets/controls",
            "layout": "IPY_MODEL_5466de462d3946e58aae36d134db3918"
          }
        },
        "688a618e290a445abaa84e24d9da1a34": {
          "model_module": "@jupyter-widgets/controls",
          "model_name": "HTMLModel",
          "state": {
            "_view_name": "HTMLView",
            "style": "IPY_MODEL_de9312af16004afe9752ca34c9e2e61b",
            "_dom_classes": [],
            "description": "",
            "_model_name": "HTMLModel",
            "placeholder": "​",
            "_view_module": "@jupyter-widgets/controls",
            "_model_module_version": "1.5.0",
            "value": " 1654784/? [00:00&lt;00:00, 2059241.46it/s]",
            "_view_count": null,
            "_view_module_version": "1.5.0",
            "description_tooltip": null,
            "_model_module": "@jupyter-widgets/controls",
            "layout": "IPY_MODEL_b18a492df5814416989d6766f17f3538"
          }
        },
        "9d25bfae496b4920b8f5d810498f46d3": {
          "model_module": "@jupyter-widgets/controls",
          "model_name": "ProgressStyleModel",
          "state": {
            "_view_name": "StyleView",
            "_model_name": "ProgressStyleModel",
            "description_width": "initial",
            "_view_module": "@jupyter-widgets/base",
            "_model_module_version": "1.5.0",
            "_view_count": null,
            "_view_module_version": "1.2.0",
            "bar_color": null,
            "_model_module": "@jupyter-widgets/controls"
          }
        },
        "5466de462d3946e58aae36d134db3918": {
          "model_module": "@jupyter-widgets/base",
          "model_name": "LayoutModel",
          "state": {
            "_view_name": "LayoutView",
            "grid_template_rows": null,
            "right": null,
            "justify_content": null,
            "_view_module": "@jupyter-widgets/base",
            "overflow": null,
            "_model_module_version": "1.2.0",
            "_view_count": null,
            "flex_flow": null,
            "width": null,
            "min_width": null,
            "border": null,
            "align_items": null,
            "bottom": null,
            "_model_module": "@jupyter-widgets/base",
            "top": null,
            "grid_column": null,
            "overflow_y": null,
            "overflow_x": null,
            "grid_auto_flow": null,
            "grid_area": null,
            "grid_template_columns": null,
            "flex": null,
            "_model_name": "LayoutModel",
            "justify_items": null,
            "grid_row": null,
            "max_height": null,
            "align_content": null,
            "visibility": null,
            "align_self": null,
            "height": null,
            "min_height": null,
            "padding": null,
            "grid_auto_rows": null,
            "grid_gap": null,
            "max_width": null,
            "order": null,
            "_view_module_version": "1.2.0",
            "grid_template_areas": null,
            "object_position": null,
            "object_fit": null,
            "grid_auto_columns": null,
            "margin": null,
            "display": null,
            "left": null
          }
        },
        "de9312af16004afe9752ca34c9e2e61b": {
          "model_module": "@jupyter-widgets/controls",
          "model_name": "DescriptionStyleModel",
          "state": {
            "_view_name": "StyleView",
            "_model_name": "DescriptionStyleModel",
            "description_width": "",
            "_view_module": "@jupyter-widgets/base",
            "_model_module_version": "1.5.0",
            "_view_count": null,
            "_view_module_version": "1.2.0",
            "_model_module": "@jupyter-widgets/controls"
          }
        },
        "b18a492df5814416989d6766f17f3538": {
          "model_module": "@jupyter-widgets/base",
          "model_name": "LayoutModel",
          "state": {
            "_view_name": "LayoutView",
            "grid_template_rows": null,
            "right": null,
            "justify_content": null,
            "_view_module": "@jupyter-widgets/base",
            "overflow": null,
            "_model_module_version": "1.2.0",
            "_view_count": null,
            "flex_flow": null,
            "width": null,
            "min_width": null,
            "border": null,
            "align_items": null,
            "bottom": null,
            "_model_module": "@jupyter-widgets/base",
            "top": null,
            "grid_column": null,
            "overflow_y": null,
            "overflow_x": null,
            "grid_auto_flow": null,
            "grid_area": null,
            "grid_template_columns": null,
            "flex": null,
            "_model_name": "LayoutModel",
            "justify_items": null,
            "grid_row": null,
            "max_height": null,
            "align_content": null,
            "visibility": null,
            "align_self": null,
            "height": null,
            "min_height": null,
            "padding": null,
            "grid_auto_rows": null,
            "grid_gap": null,
            "max_width": null,
            "order": null,
            "_view_module_version": "1.2.0",
            "grid_template_areas": null,
            "object_position": null,
            "object_fit": null,
            "grid_auto_columns": null,
            "margin": null,
            "display": null,
            "left": null
          }
        },
        "32077cebeea34ca88f36e28e3229ec2b": {
          "model_module": "@jupyter-widgets/controls",
          "model_name": "HBoxModel",
          "state": {
            "_view_name": "HBoxView",
            "_dom_classes": [],
            "_model_name": "HBoxModel",
            "_view_module": "@jupyter-widgets/controls",
            "_model_module_version": "1.5.0",
            "_view_count": null,
            "_view_module_version": "1.5.0",
            "box_style": "",
            "layout": "IPY_MODEL_7b98c24b17f14c63a4862bd1693ff461",
            "_model_module": "@jupyter-widgets/controls",
            "children": [
              "IPY_MODEL_c5e7fc6689ca46a0b34e0f47210f82d1",
              "IPY_MODEL_ecf2948c83ce4e5ca76af72c0531b6a5"
            ]
          }
        },
        "7b98c24b17f14c63a4862bd1693ff461": {
          "model_module": "@jupyter-widgets/base",
          "model_name": "LayoutModel",
          "state": {
            "_view_name": "LayoutView",
            "grid_template_rows": null,
            "right": null,
            "justify_content": null,
            "_view_module": "@jupyter-widgets/base",
            "overflow": null,
            "_model_module_version": "1.2.0",
            "_view_count": null,
            "flex_flow": null,
            "width": null,
            "min_width": null,
            "border": null,
            "align_items": null,
            "bottom": null,
            "_model_module": "@jupyter-widgets/base",
            "top": null,
            "grid_column": null,
            "overflow_y": null,
            "overflow_x": null,
            "grid_auto_flow": null,
            "grid_area": null,
            "grid_template_columns": null,
            "flex": null,
            "_model_name": "LayoutModel",
            "justify_items": null,
            "grid_row": null,
            "max_height": null,
            "align_content": null,
            "visibility": null,
            "align_self": null,
            "height": null,
            "min_height": null,
            "padding": null,
            "grid_auto_rows": null,
            "grid_gap": null,
            "max_width": null,
            "order": null,
            "_view_module_version": "1.2.0",
            "grid_template_areas": null,
            "object_position": null,
            "object_fit": null,
            "grid_auto_columns": null,
            "margin": null,
            "display": null,
            "left": null
          }
        },
        "c5e7fc6689ca46a0b34e0f47210f82d1": {
          "model_module": "@jupyter-widgets/controls",
          "model_name": "IntProgressModel",
          "state": {
            "_view_name": "ProgressView",
            "style": "IPY_MODEL_12f65de201774f0fb4891d77420b7e29",
            "_dom_classes": [],
            "description": "",
            "_model_name": "IntProgressModel",
            "bar_style": "success",
            "max": 1,
            "_view_module": "@jupyter-widgets/controls",
            "_model_module_version": "1.5.0",
            "value": 1,
            "_view_count": null,
            "_view_module_version": "1.5.0",
            "orientation": "horizontal",
            "min": 0,
            "description_tooltip": null,
            "_model_module": "@jupyter-widgets/controls",
            "layout": "IPY_MODEL_69c91b9e78a34004aae7a50d85d13ccc"
          }
        },
        "ecf2948c83ce4e5ca76af72c0531b6a5": {
          "model_module": "@jupyter-widgets/controls",
          "model_name": "HTMLModel",
          "state": {
            "_view_name": "HTMLView",
            "style": "IPY_MODEL_418b6012ea654657b031496c5c1c9fd6",
            "_dom_classes": [],
            "description": "",
            "_model_name": "HTMLModel",
            "placeholder": "​",
            "_view_module": "@jupyter-widgets/controls",
            "_model_module_version": "1.5.0",
            "value": " 8192/? [00:00&lt;00:00, 17119.65it/s]",
            "_view_count": null,
            "_view_module_version": "1.5.0",
            "description_tooltip": null,
            "_model_module": "@jupyter-widgets/controls",
            "layout": "IPY_MODEL_6ecf265bc0374293a3ec02d2a0dab02e"
          }
        },
        "12f65de201774f0fb4891d77420b7e29": {
          "model_module": "@jupyter-widgets/controls",
          "model_name": "ProgressStyleModel",
          "state": {
            "_view_name": "StyleView",
            "_model_name": "ProgressStyleModel",
            "description_width": "initial",
            "_view_module": "@jupyter-widgets/base",
            "_model_module_version": "1.5.0",
            "_view_count": null,
            "_view_module_version": "1.2.0",
            "bar_color": null,
            "_model_module": "@jupyter-widgets/controls"
          }
        },
        "69c91b9e78a34004aae7a50d85d13ccc": {
          "model_module": "@jupyter-widgets/base",
          "model_name": "LayoutModel",
          "state": {
            "_view_name": "LayoutView",
            "grid_template_rows": null,
            "right": null,
            "justify_content": null,
            "_view_module": "@jupyter-widgets/base",
            "overflow": null,
            "_model_module_version": "1.2.0",
            "_view_count": null,
            "flex_flow": null,
            "width": null,
            "min_width": null,
            "border": null,
            "align_items": null,
            "bottom": null,
            "_model_module": "@jupyter-widgets/base",
            "top": null,
            "grid_column": null,
            "overflow_y": null,
            "overflow_x": null,
            "grid_auto_flow": null,
            "grid_area": null,
            "grid_template_columns": null,
            "flex": null,
            "_model_name": "LayoutModel",
            "justify_items": null,
            "grid_row": null,
            "max_height": null,
            "align_content": null,
            "visibility": null,
            "align_self": null,
            "height": null,
            "min_height": null,
            "padding": null,
            "grid_auto_rows": null,
            "grid_gap": null,
            "max_width": null,
            "order": null,
            "_view_module_version": "1.2.0",
            "grid_template_areas": null,
            "object_position": null,
            "object_fit": null,
            "grid_auto_columns": null,
            "margin": null,
            "display": null,
            "left": null
          }
        },
        "418b6012ea654657b031496c5c1c9fd6": {
          "model_module": "@jupyter-widgets/controls",
          "model_name": "DescriptionStyleModel",
          "state": {
            "_view_name": "StyleView",
            "_model_name": "DescriptionStyleModel",
            "description_width": "",
            "_view_module": "@jupyter-widgets/base",
            "_model_module_version": "1.5.0",
            "_view_count": null,
            "_view_module_version": "1.2.0",
            "_model_module": "@jupyter-widgets/controls"
          }
        },
        "6ecf265bc0374293a3ec02d2a0dab02e": {
          "model_module": "@jupyter-widgets/base",
          "model_name": "LayoutModel",
          "state": {
            "_view_name": "LayoutView",
            "grid_template_rows": null,
            "right": null,
            "justify_content": null,
            "_view_module": "@jupyter-widgets/base",
            "overflow": null,
            "_model_module_version": "1.2.0",
            "_view_count": null,
            "flex_flow": null,
            "width": null,
            "min_width": null,
            "border": null,
            "align_items": null,
            "bottom": null,
            "_model_module": "@jupyter-widgets/base",
            "top": null,
            "grid_column": null,
            "overflow_y": null,
            "overflow_x": null,
            "grid_auto_flow": null,
            "grid_area": null,
            "grid_template_columns": null,
            "flex": null,
            "_model_name": "LayoutModel",
            "justify_items": null,
            "grid_row": null,
            "max_height": null,
            "align_content": null,
            "visibility": null,
            "align_self": null,
            "height": null,
            "min_height": null,
            "padding": null,
            "grid_auto_rows": null,
            "grid_gap": null,
            "max_width": null,
            "order": null,
            "_view_module_version": "1.2.0",
            "grid_template_areas": null,
            "object_position": null,
            "object_fit": null,
            "grid_auto_columns": null,
            "margin": null,
            "display": null,
            "left": null
          }
        }
      }
    }
  },
  "cells": [
    {
      "cell_type": "markdown",
      "metadata": {
        "colab_type": "text",
        "id": "jPijzS_cymmC"
      },
      "source": [
        "# Handwritten Digit Recognition Using PyTorch — Intro To Convolutional Neural Networks (CNNs)"
      ]
    },
    {
      "cell_type": "markdown",
      "metadata": {
        "colab_type": "text",
        "id": "U4AAxXAXymmE"
      },
      "source": [
        "We will use the most popular task in computational vision, [MNIST database](http://yann.lecun.com/exdb/mnist/). It is a collection of 70,000 handwritten digits split into TRAIN and TEST set of 60,000 and 10,000 images respectively."
      ]
    },
    {
      "cell_type": "markdown",
      "metadata": {
        "colab_type": "text",
        "id": "RS_MbWSgymmF"
      },
      "source": [
        "![](https://camo.githubusercontent.com/d440ac2eee1cb3ea33340a2c5f6f15a0878e9275/687474703a2f2f692e7974696d672e636f6d2f76692f3051493378675875422d512f687164656661756c742e6a7067)\n",
        "\n",
        "Picture Courtesy: https://camo.githubusercontent.com/d440ac2eee1cb3ea33340a2c5f6f15a0878e9275/687474703a2f2f692e7974696d672e636f6d2f76692f3051493378675875422d512f687164656661756c742e6a7067"
      ]
    },
    {
      "cell_type": "markdown",
      "metadata": {
        "colab_type": "text",
        "id": "ybPDDfK0ymmF"
      },
      "source": [
        "## Import required Python libraries"
      ]
    },
    {
      "cell_type": "code",
      "metadata": {
        "colab_type": "code",
        "id": "0s_X3FdbymmG",
        "colab": {}
      },
      "source": [
        "import numpy as np\n",
        "import torch\n",
        "import torchvision\n",
        "import matplotlib.pyplot as plt\n",
        "from time import time\n",
        "from torchvision import datasets, transforms\n",
        "from torch import nn, optim\n",
        "from tqdm import tqdm, trange"
      ],
      "execution_count": 0,
      "outputs": []
    },
    {
      "cell_type": "code",
      "metadata": {
        "colab_type": "code",
        "id": "Enu3dm11z9iw",
        "outputId": "87863c87-bf72-4cf4-c341-793ae7ee0b64",
        "colab": {
          "base_uri": "https://localhost:8080/",
          "height": 34
        }
      },
      "source": [
        "## Set seed of randomization and working device\n",
        "manual_seed = 77\n",
        "torch.manual_seed(manual_seed)\n",
        "device = torch.device(\"cuda\" if torch.cuda.is_available() else \"cpu\")\n",
        "print(device)\n",
        "n_gpu = torch.cuda.device_count()\n",
        "if n_gpu > 0:\n",
        "    torch.cuda.manual_seed(manual_seed)"
      ],
      "execution_count": 0,
      "outputs": [
        {
          "output_type": "stream",
          "text": [
            "cuda\n"
          ],
          "name": "stdout"
        }
      ]
    },
    {
      "cell_type": "markdown",
      "metadata": {
        "colab_type": "text",
        "id": "_t5vZyVOy_lA"
      },
      "source": [
        "We will define a constant to decide whether to use the GPU (with CUDA specifically) or the CPU. \n",
        "\n",
        "If you don't have a GPU, set this is CPU. Later when we create tensors, this variable will be used to decide whether we keep them on CPU or move them to GPU."
      ]
    },
    {
      "cell_type": "code",
      "metadata": {
        "colab_type": "code",
        "id": "hGD0IaURy7a7",
        "outputId": "13d01a0c-9815-4079-b09a-8cf29167f767",
        "colab": {
          "base_uri": "https://localhost:8080/",
          "height": 34
        }
      },
      "source": [
        "device = torch.device('cuda' if torch.cuda.is_available() else 'cpu')\n",
        "print(device)"
      ],
      "execution_count": 0,
      "outputs": [
        {
          "output_type": "stream",
          "text": [
            "cuda\n"
          ],
          "name": "stdout"
        }
      ]
    },
    {
      "cell_type": "markdown",
      "metadata": {
        "colab_type": "text",
        "id": "j7FLJXkUymmJ"
      },
      "source": [
        "`PyTorch` provides an easy implementation to download the cleaned and already prepared `MNIST data`.\n",
        "\n",
        "Before downloading the data, we should define what are the transformations we want to perform on the image data."
      ]
    },
    {
      "cell_type": "code",
      "metadata": {
        "colab_type": "code",
        "id": "QzvoppA6ymmK",
        "colab": {}
      },
      "source": [
        "transform = transforms.Compose([transforms.ToTensor(),\n",
        "                              transforms.Normalize((1,), (1,)),\n",
        "                              ])"
      ],
      "execution_count": 0,
      "outputs": []
    },
    {
      "cell_type": "markdown",
      "metadata": {
        "colab_type": "text",
        "id": "26VT148LymmN"
      },
      "source": [
        "1. **`transforms.Compose`** - Composes several transforms together.\n",
        "2. **`transforms.ToTensor( )`** — Convert a `PIL Image` or `numpy.ndarray` to `tensor`, that are understandable for the computational method.\n",
        "2. **`transforms.Normalize( )`** — Normalize a tensor image with mean and standard deviation. Our MNIST dataser is black-white pictures that only have one channel."
      ]
    },
    {
      "cell_type": "markdown",
      "metadata": {
        "colab_type": "text",
        "id": "gq2xqlhqymmP"
      },
      "source": [
        "Now, we download the data sets, shuffle them and transform each of them to tensor. \n",
        "We load datasets to `DataLoader` to generate batches. We set the batch size as 64. Then, we save the transformed dataset in directory `./image_data/`."
      ]
    },
    {
      "cell_type": "code",
      "metadata": {
        "colab_type": "code",
        "id": "YW0JtIp8ymmR",
        "outputId": "7e95b8e0-9730-4f34-d2fd-19598608722e",
        "colab": {
          "base_uri": "https://localhost:8080/",
          "height": 369,
          "referenced_widgets": [
            "7d2dc80b5c7b49f4b546f38edf293d16",
            "3b70cc59b0d14529888b3b92b5935a62",
            "d94d8bd27ae348acb07914fd90569ab1",
            "f5c382cd277d4c5d8b953c3029355cef",
            "974f92240e804993a5d5946d0ff59eb0",
            "9caaa5c94eec4d2580f97efe1856e430",
            "9b95d641c1b4426996d560e1e64ae81c",
            "0cdcbecddd064dc396fb245551fa48b6",
            "a29b990b93b9406f840bc6b926261fff",
            "f92b420c49ad4cb888e0f240bcd4442b",
            "e56e0ff70e90421994eb7a912b9d5db1",
            "52f4eb43e57b48c18c4b9a25de4b015e",
            "eda6ac4f33de4ae893b3211ddf4c7806",
            "fd3ade56f2834473a1723d2ab49327ee",
            "1ff2774da8a34fe9868a5616c638bedb",
            "178420f00b164cd5a52e8b7da71c4c75",
            "a03b8eeaf91148f0a549221c926abe4d",
            "1e086ff6efaa496ab0d43b2105348a71",
            "24382eb31e1545ae8df3332399a5837f",
            "688a618e290a445abaa84e24d9da1a34",
            "9d25bfae496b4920b8f5d810498f46d3",
            "5466de462d3946e58aae36d134db3918",
            "de9312af16004afe9752ca34c9e2e61b",
            "b18a492df5814416989d6766f17f3538",
            "32077cebeea34ca88f36e28e3229ec2b",
            "7b98c24b17f14c63a4862bd1693ff461",
            "c5e7fc6689ca46a0b34e0f47210f82d1",
            "ecf2948c83ce4e5ca76af72c0531b6a5",
            "12f65de201774f0fb4891d77420b7e29",
            "69c91b9e78a34004aae7a50d85d13ccc",
            "418b6012ea654657b031496c5c1c9fd6",
            "6ecf265bc0374293a3ec02d2a0dab02e"
          ]
        }
      },
      "source": [
        "batch_size = 64\n",
        "trainset = datasets.MNIST('./image_data/', download=True, train=True, transform=transform)\n",
        "valset = datasets.MNIST('./image_data/', download=True, train=False, transform=transform)\n",
        "trainloader = torch.utils.data.DataLoader(trainset, batch_size=batch_size, shuffle=True)\n",
        "valloader = torch.utils.data.DataLoader(valset, batch_size=batch_size, shuffle=True)"
      ],
      "execution_count": 0,
      "outputs": [
        {
          "output_type": "stream",
          "text": [
            "Downloading http://yann.lecun.com/exdb/mnist/train-images-idx3-ubyte.gz to ./image_data/MNIST/raw/train-images-idx3-ubyte.gz\n"
          ],
          "name": "stdout"
        },
        {
          "output_type": "display_data",
          "data": {
            "application/vnd.jupyter.widget-view+json": {
              "model_id": "7d2dc80b5c7b49f4b546f38edf293d16",
              "version_minor": 0,
              "version_major": 2
            },
            "text/plain": [
              "HBox(children=(IntProgress(value=1, bar_style='info', max=1), HTML(value='')))"
            ]
          },
          "metadata": {
            "tags": []
          }
        },
        {
          "output_type": "stream",
          "text": [
            "Extracting ./image_data/MNIST/raw/train-images-idx3-ubyte.gz to ./image_data/MNIST/raw\n",
            "Downloading http://yann.lecun.com/exdb/mnist/train-labels-idx1-ubyte.gz to ./image_data/MNIST/raw/train-labels-idx1-ubyte.gz\n"
          ],
          "name": "stdout"
        },
        {
          "output_type": "display_data",
          "data": {
            "application/vnd.jupyter.widget-view+json": {
              "model_id": "a29b990b93b9406f840bc6b926261fff",
              "version_minor": 0,
              "version_major": 2
            },
            "text/plain": [
              "HBox(children=(IntProgress(value=1, bar_style='info', max=1), HTML(value='')))"
            ]
          },
          "metadata": {
            "tags": []
          }
        },
        {
          "output_type": "stream",
          "text": [
            "Extracting ./image_data/MNIST/raw/train-labels-idx1-ubyte.gz to ./image_data/MNIST/raw\n",
            "Downloading http://yann.lecun.com/exdb/mnist/t10k-images-idx3-ubyte.gz to ./image_data/MNIST/raw/t10k-images-idx3-ubyte.gz\n"
          ],
          "name": "stdout"
        },
        {
          "output_type": "display_data",
          "data": {
            "application/vnd.jupyter.widget-view+json": {
              "model_id": "a03b8eeaf91148f0a549221c926abe4d",
              "version_minor": 0,
              "version_major": 2
            },
            "text/plain": [
              "HBox(children=(IntProgress(value=1, bar_style='info', max=1), HTML(value='')))"
            ]
          },
          "metadata": {
            "tags": []
          }
        },
        {
          "output_type": "stream",
          "text": [
            "Extracting ./image_data/MNIST/raw/t10k-images-idx3-ubyte.gz to ./image_data/MNIST/raw\n",
            "Downloading http://yann.lecun.com/exdb/mnist/t10k-labels-idx1-ubyte.gz to ./image_data/MNIST/raw/t10k-labels-idx1-ubyte.gz\n",
            "\n",
            "\n"
          ],
          "name": "stdout"
        },
        {
          "output_type": "display_data",
          "data": {
            "application/vnd.jupyter.widget-view+json": {
              "model_id": "32077cebeea34ca88f36e28e3229ec2b",
              "version_minor": 0,
              "version_major": 2
            },
            "text/plain": [
              "HBox(children=(IntProgress(value=1, bar_style='info', max=1), HTML(value='')))"
            ]
          },
          "metadata": {
            "tags": []
          }
        },
        {
          "output_type": "stream",
          "text": [
            "Extracting ./image_data/MNIST/raw/t10k-labels-idx1-ubyte.gz to ./image_data/MNIST/raw\n",
            "Processing...\n",
            "Done!\n"
          ],
          "name": "stdout"
        }
      ]
    },
    {
      "cell_type": "markdown",
      "metadata": {
        "colab_type": "text",
        "id": "WEUhLTtAymmV"
      },
      "source": [
        "## Exploring The Dataset\n",
        "We will do some exploratory data analysis on our images and tensors.\n",
        "\n",
        "Let's use the first batch as an example. "
      ]
    },
    {
      "cell_type": "code",
      "metadata": {
        "colab_type": "code",
        "id": "tVtdrgYYymmV",
        "outputId": "1ab08743-d508-493d-c203-7bfe47d1a8a9",
        "colab": {
          "base_uri": "https://localhost:8080/",
          "height": 51
        }
      },
      "source": [
        "dataiter = iter(trainloader)\n",
        "images, labels = dataiter.next()\n",
        "\n",
        "print(images.shape)\n",
        "print(labels.shape)"
      ],
      "execution_count": 0,
      "outputs": [
        {
          "output_type": "stream",
          "text": [
            "torch.Size([64, 1, 28, 28])\n",
            "torch.Size([64])\n"
          ],
          "name": "stdout"
        }
      ]
    },
    {
      "cell_type": "markdown",
      "metadata": {
        "colab_type": "text",
        "id": "MmAIVblxymmf"
      },
      "source": [
        "The shape of images is `torch.Size([64,1,28,28])`, which suggests that there are 64 images in each batch and each image has one channel where includes dimension of `28 x 28 pixels`. The labels have a shape as `torch.Size([64])`, which suggests that there are 64 labels of images ."
      ]
    },
    {
      "cell_type": "markdown",
      "metadata": {
        "colab_type": "text",
        "id": "28S9Dfwbymmg"
      },
      "source": [
        "Let’s display first image from the training set."
      ]
    },
    {
      "cell_type": "code",
      "metadata": {
        "colab_type": "code",
        "id": "Th2_lRgxymmg",
        "outputId": "308b15f8-f37a-4c91-e7aa-f67a33b1d9b1",
        "colab": {
          "base_uri": "https://localhost:8080/",
          "height": 299
        }
      },
      "source": [
        "plt.imshow(images[0].numpy().squeeze(), cmap='gray'); #use gray scale"
      ],
      "execution_count": 0,
      "outputs": [
        {
          "output_type": "stream",
          "text": [
            "\n",
            "\n"
          ],
          "name": "stdout"
        },
        {
          "output_type": "display_data",
          "data": {
            "image/png": "[encoded data removed]",
            "text/plain": [
              "<Figure size 432x288 with 1 Axes>"
            ]
          },
          "metadata": {
            "tags": []
          }
        }
      ]
    },
    {
      "cell_type": "markdown",
      "metadata": {
        "colab_type": "text",
        "id": "CP_njybTymmk"
      },
      "source": [
        "Let’s display some more images."
      ]
    },
    {
      "cell_type": "code",
      "metadata": {
        "colab_type": "code",
        "id": "5iquxGS1ymml",
        "outputId": "c95e6cdb-16ae-40d0-e35f-fa68d997b084",
        "colab": {
          "base_uri": "https://localhost:8080/",
          "height": 246
        }
      },
      "source": [
        "figure = plt.figure()\n",
        "num_of_images = 60\n",
        "for index in range(1, num_of_images + 1):\n",
        "    plt.subplot(6, 10, index)\n",
        "    plt.axis('off')\n",
        "    plt.imshow(images[index].numpy().squeeze(), cmap='gray')"
      ],
      "execution_count": 0,
      "outputs": [
        {
          "output_type": "display_data",
          "data": {
            "image/png": "[encoded data removed]",
            "text/plain": [
              "<Figure size 432x288 with 60 Axes>"
            ]
          },
          "metadata": {
            "tags": []
          }
        }
      ]
    },
    {
      "cell_type": "markdown",
      "metadata": {
        "colab_type": "text",
        "id": "dIoS0w7Fymmo"
      },
      "source": [
        "## Convolutional Neural Network (CNN)"
      ]
    },
    {
      "cell_type": "markdown",
      "metadata": {
        "colab_type": "text",
        "id": "8LHJ5Dmoymmo"
      },
      "source": [
        "![](https://www.frontiersin.org/files/Articles/273835/fpsyg-08-01745-HTML/image_m/fpsyg-08-01745-g001.jpg)\n",
        "\n",
        "Picture Courtesy: https://www.frontiersin.org/articles/10.3389/fpsyg.2017.01745/full"
      ]
    },
    {
      "cell_type": "markdown",
      "metadata": {
        "colab_type": "text",
        "id": "36cRf_JHymmp"
      },
      "source": [
        "1:- **Convolution:**\n",
        "The first thing to understand in a Convolutional Neural Network is the actual convolution part. Convolution is essentially a moving kernel (or filter) across the image being studied."
      ]
    },
    {
      "cell_type": "markdown",
      "metadata": {
        "colab_type": "text",
        "id": "GkqOYOBkymmp"
      },
      "source": [
        "![Moving 2×2 filter ](https://i1.wp.com/adventuresinmachinelearning.com/wp-content/uploads/2017/04/Moving-filter.jpg?w=733&ssl=1)\n",
        "\n",
        "Picture Courtesy: https://adventuresinmachinelearning.com/convolutional-neural-networks-tutorial-in-pytorch/"
      ]
    },
    {
      "cell_type": "markdown",
      "metadata": {
        "colab_type": "text",
        "id": "O-zNeLQNymmp"
      },
      "source": [
        "Input is a `5 x 5` tensor. The two outputs have been shown in the diagram above, where each output node is a map from a 2 x 2 input square with a stride of 1. The weight of the mapping of each input square is matrix $K$. Here, we assume that all the weights of $K$ equal to $0.5$."
      ]
    },
    {
      "cell_type": "markdown",
      "metadata": {
        "colab_type": "text",
        "id": "6W-V-MvFymmq"
      },
      "source": [
        "$$out_1 = 0.5 in_1 + 0.5 in_2 + 0.5 in_6 + 0.5 in_7 $$\n",
        "\n",
        "$$= 0.5 \\times 2.0 + 0.5 \\times 3.0 + 0.5 \\times 2.0 + 0.5 \\times 1.5 $$\n",
        "\n",
        "$$= 4.25 $$\n",
        "\n",
        "\n",
        "$$out_2 = 0.5 in_2 + 0.5 in_3 + 0.5 in_7 + 0.5 in_8 $$\n",
        "\n",
        "$$= 0.5 \\times 3.0 + 0.5 \\times 0.0 + 0.5 \\times 1.5 + 0.5 \\times 0.5 $$\n",
        "\n",
        "$$= 2.5 $$\n"
      ]
    },
    {
      "cell_type": "markdown",
      "metadata": {
        "colab_type": "text",
        "id": "GUDRfV3mymmq"
      },
      "source": [
        "Matrix $K$ is our kernel. We can apply multiple kernels to convolve this input tensor. The weights of individual kernel are held constant as they are applied over the input nodes, they can be trained to select certain features from the input data with backpropagation."
      ]
    },
    {
      "cell_type": "markdown",
      "metadata": {
        "colab_type": "text",
        "id": "F7VLsDanymmr"
      },
      "source": [
        "![](https://i2.wp.com/adventuresinmachinelearning.com/wp-content/uploads/2017/04/Moving-filter-with-multiple-filters.jpg?resize=768%2C311&ssl=1)\n",
        "\n",
        "Picture Courtesy: https://adventuresinmachinelearning.com/convolutional-neural-networks-tutorial-in-pytorch/"
      ]
    },
    {
      "cell_type": "markdown",
      "metadata": {
        "colab_type": "text",
        "id": "9eCPF_bIymmr"
      },
      "source": [
        "2:- **ReLU:** The next step in the CNN structure is to pass the output of the convolution operation through **a non-linear activation function**. **ReLU stands for Rectified Linear Unit,** and it just converts all negative pixel values to 0 while it retains the positive pixel values. The function itself is $output = Max(0, input)$. This provides the standard non-linear behavior that neural networks are known for."
      ]
    },
    {
      "cell_type": "markdown",
      "metadata": {
        "colab_type": "text",
        "id": "372dId5gymmr"
      },
      "source": [
        "![](https://miro.medium.com/max/357/1*oePAhrm74RNnNEolprmTaQ.png)\n",
        "Picture Courtesy: https://miro.medium.com/max/357/1*oePAhrm74RNnNEolprmTaQ.png"
      ]
    },
    {
      "cell_type": "markdown",
      "metadata": {
        "colab_type": "text",
        "id": "uoL47ZTXymms"
      },
      "source": [
        "3:- **Pooling:** The third element in CNN is **Max Pooling**. We pass over sections of our image and pool them into the highest value in the section. Depending on the size of the pool, this can greatly reduce the size of the feature set that we pass into the neural network. Here, we apply a `2 X 2` Max Pooling with a stride of 2. To handle the boundaries, we will pad the matrix. "
      ]
    },
    {
      "cell_type": "markdown",
      "metadata": {
        "colab_type": "text",
        "id": "HUHnBqf3ymms"
      },
      "source": [
        "![max pooling](https://i0.wp.com/adventuresinmachinelearning.com/wp-content/uploads/2017/04/Max-pooling.jpg?resize=768%2C346&ssl=1)"
      ]
    },
    {
      "cell_type": "markdown",
      "metadata": {
        "colab_type": "text",
        "id": "IY7yUAXIymmt"
      },
      "source": [
        "There are other variants such as **mean pooling** (which takes the statistical mean of the contents) and **minimal pooling**."
      ]
    },
    {
      "cell_type": "markdown",
      "metadata": {
        "colab_type": "text",
        "id": "XFuXmb0cymmt"
      },
      "source": [
        "4:- **Fully Connected Layers:** After the above preprocessing steps are applied, the output is passed into the traditional neural network architecture. Finally, the **Sigmoid fully connected layer** will give the prediction probilities across all labels."
      ]
    },
    {
      "cell_type": "markdown",
      "metadata": {
        "colab_type": "text",
        "id": "kK3neHdFymmw"
      },
      "source": [
        "![](fully_ll.png)"
      ]
    },
    {
      "cell_type": "markdown",
      "metadata": {
        "colab_type": "text",
        "id": "Omqz1VuLymmw"
      },
      "source": [
        "5:- **Dropout:** To regularize the model, we can use dropout in convolution layers, pooling layers, or fully connected layers."
      ]
    },
    {
      "cell_type": "markdown",
      "metadata": {
        "colab_type": "text",
        "id": "1Fmy1dDtymmx"
      },
      "source": [
        "## Build The Neural Network"
      ]
    },
    {
      "cell_type": "markdown",
      "metadata": {
        "colab_type": "text",
        "id": "9_yoTRZWymmx"
      },
      "source": [
        "We'll use two `2-D convolutional units`. In each units, we pass the data through **a convolutional layer -> ReLU -> max pooling layer** sequentially. Then, it follows by a Sigmoid (fully-connected) layer and a fully-connected layer."
      ]
    },
    {
      "cell_type": "code",
      "metadata": {
        "colab_type": "code",
        "id": "CoaVFuUyymmy",
        "colab": {}
      },
      "source": [
        "import torch.nn as nn\n",
        "import torch.nn.functional as F\n",
        "import torch.optim as optim"
      ],
      "execution_count": 0,
      "outputs": []
    },
    {
      "cell_type": "markdown",
      "metadata": {
        "colab_type": "text",
        "id": "ZFv3hsD6ymm0"
      },
      "source": [
        "Let's build this model step by step. "
      ]
    },
    {
      "cell_type": "markdown",
      "metadata": {
        "colab_type": "text",
        "id": "bpy4RhL2ymm1"
      },
      "source": [
        "First, our input is image tensor. We use the first batch as an example. "
      ]
    },
    {
      "cell_type": "code",
      "metadata": {
        "colab_type": "code",
        "id": "8l3ZG9wmymm1",
        "outputId": "ce3c2e41-de98-423d-93dd-ba2af6ec2f52",
        "colab": {
          "base_uri": "https://localhost:8080/",
          "height": 51
        }
      },
      "source": [
        "images, labels = dataiter.next()\n",
        "\n",
        "print(\"images input:\", images.shape)\n",
        "print(\"labels:\", labels.shape)"
      ],
      "execution_count": 0,
      "outputs": [
        {
          "output_type": "stream",
          "text": [
            "images input: torch.Size([64, 1, 28, 28])\n",
            "labels: torch.Size([64])\n"
          ],
          "name": "stdout"
        }
      ]
    },
    {
      "cell_type": "markdown",
      "metadata": {
        "colab_type": "text",
        "id": "N6_h0A6Uymm4"
      },
      "source": [
        "Our input is a tensor which include 1 channel and 2 dimensions. So we will use [`nn.Conv2d()`](https://pytorch.org/docs/stable/nn.html#torch.nn.Conv2d) to convolve the input data. \n",
        "\n",
        "To initialize `nn.Conv2d()`, you need to specify some hyper-parameters. \n",
        "\n",
        "The `in_channels` is the number of channel of input tensor. The `out_channels` is the number of channel of output tensor. You can consider `out_channels` as the number of kernels (or filters) in each convolutional layer. In this case, our `in_channels` equal to 1, and we want our outputs in 32 channels.   \n",
        "\n",
        "The `kernel_size` argument is the size of the convolutional kernel – in this case we want `5 x 5` sized convolutional kernels – so the argument is `5`.  If you wanted kernels with different sized shapes in the height and width directions, you’d supply a tuple `(height-size, width-size)`. \n",
        "\n",
        "The `stride` controls the stride for the cross-correlation. We use stride of 1 here.\n",
        "\n",
        "Finally, we want to specify the `padding` argument. The padding will help us handle the boundaries. The output size of any dimension from either a `convolutional kernel` or `pooling operation` can be calculated by the following equation:\n",
        "\n",
        "$$W_{out}=\\frac{(W_{in}-K+2P)}{S}+1$$\n",
        "\n",
        "where $W_{in}$ is the width (or height) of the input, $K$ is the kernel size, $P$ is the padding and $S$ is the stride. The same formula applies to the height calculation, but seeing as our image and kernels are symmetrical the same formula applies to both. If we wish to **keep our input and output dimensions the same**, with a kernel size of `5` and a stride of `1`, it turns out from the above formula that we need a padding of `2`. Therefore, the argument for `padding` in Conv2d is `2`."
      ]
    },
    {
      "cell_type": "code",
      "metadata": {
        "colab_type": "code",
        "id": "OuDIUxjpymm6",
        "colab": {}
      },
      "source": [
        "convolute_1 = nn.Conv2d(in_channels=1, out_channels=32, kernel_size=5, stride=1, padding=2)\n",
        "convolute_output = convolute_1(images)"
      ],
      "execution_count": 0,
      "outputs": []
    },
    {
      "cell_type": "code",
      "metadata": {
        "colab_type": "code",
        "id": "xX6gh4VUymm8",
        "outputId": "b9c1eb6d-3925-4aa6-8762-b7ebb3ff856f",
        "colab": {
          "base_uri": "https://localhost:8080/",
          "height": 34
        }
      },
      "source": [
        "print(\"convolute_output:\", convolute_output.shape)"
      ],
      "execution_count": 0,
      "outputs": [
        {
          "output_type": "stream",
          "text": [
            "convolute_output: torch.Size([64, 32, 28, 28])\n"
          ],
          "name": "stdout"
        }
      ]
    },
    {
      "cell_type": "markdown",
      "metadata": {
        "colab_type": "text",
        "id": "L6-C1O_Dymm_"
      },
      "source": [
        "Then, we pass the output through a non-linearity function of `nn.ReLU()`. As you know, the `nn.ReLU()` function will not change the dimension of inputs."
      ]
    },
    {
      "cell_type": "code",
      "metadata": {
        "colab_type": "code",
        "id": "3-yWMIxZymm_",
        "outputId": "d617003c-1749-44b3-aaf0-6b12d45365ad",
        "colab": {
          "base_uri": "https://localhost:8080/",
          "height": 34
        }
      },
      "source": [
        "relu = nn.ReLU()\n",
        "relu_output = relu(convolute_output)\n",
        "print(\"relu_output:\", relu_output.shape)"
      ],
      "execution_count": 0,
      "outputs": [
        {
          "output_type": "stream",
          "text": [
            "relu_output: torch.Size([64, 32, 28, 28])\n"
          ],
          "name": "stdout"
        }
      ]
    },
    {
      "cell_type": "markdown",
      "metadata": {
        "colab_type": "text",
        "id": "rmaNeKH4ymnB"
      },
      "source": [
        "We feed the output of `ReLU layer` into a 2D max pooling layer. We want that the output dimensions will be half of the input dimensions in order to reduce the dimensions. \n",
        "\n",
        "To initialize [`nn.MaxPool2d`](https://pytorch.org/docs/stable/nn.html#maxpool2d), you need to specify some hyper-parameters. \n",
        "\n",
        "The `kernel_size` argument is the size of the convolutional kernel – in this case we want `2 x 2` sized max pooling kernel – so the argument is `2`. \n",
        "\n",
        "The `stride` is the stride of the kernel. We will use as same as the size of kernel. The output dimensions will be half of the input dimensions. \n",
        "\n",
        "In this case, we don't need pads. "
      ]
    },
    {
      "cell_type": "code",
      "metadata": {
        "colab_type": "code",
        "id": "2k51HoEDymnC",
        "outputId": "288dd16f-3bb0-4c0b-bda6-b0cd7c1f6a25",
        "colab": {
          "base_uri": "https://localhost:8080/",
          "height": 34
        }
      },
      "source": [
        "maxpool_1 = nn.MaxPool2d(kernel_size=2, stride=2,padding=0)\n",
        "maxpool_output = maxpool_1(relu_output)\n",
        "print(\"maxpool_output:\",maxpool_output.shape)"
      ],
      "execution_count": 0,
      "outputs": [
        {
          "output_type": "stream",
          "text": [
            "maxpool_output: torch.Size([64, 32, 14, 14])\n"
          ],
          "name": "stdout"
        }
      ]
    },
    {
      "cell_type": "markdown",
      "metadata": {
        "colab_type": "text",
        "id": "3qRxgOQsymnE"
      },
      "source": [
        "Now, let's move to second 2-D convolutional unit.\n",
        "The input is the output of previous convolutional unit, i.e., maxpool_output. "
      ]
    },
    {
      "cell_type": "markdown",
      "metadata": {
        "colab_type": "text",
        "id": "KxUUwKIGymnF"
      },
      "source": [
        "Similar with first convolutional unit, we will use `5 x 5` sized convolutional kernels – so the argument is `5`, and `stride` of 1 here. \n",
        "\n",
        "Then, our outputs should be in 64 channels.\n",
        "\n",
        "We **keep our input and output dimensions the same**, with a kernel size of `5` and a stride of `1`.\n",
        "\n",
        "$$P=\\frac{(W_{out}-1) \\times S - W_{in}+K}{2}$$\n",
        "\n",
        "$$P=2$$"
      ]
    },
    {
      "cell_type": "code",
      "metadata": {
        "colab_type": "code",
        "id": "NAZHmai0ymnF",
        "outputId": "3cb115ec-844d-42e8-f486-7a7b5cb8cca7",
        "colab": {
          "base_uri": "https://localhost:8080/",
          "height": 34
        }
      },
      "source": [
        "convolute_2 = nn.Conv2d(32, 64, kernel_size=5, stride=1, padding=2)\n",
        "convolute_output = convolute_2(maxpool_output)\n",
        "print(\"convolute_output:\",convolute_output.shape)"
      ],
      "execution_count": 0,
      "outputs": [
        {
          "output_type": "stream",
          "text": [
            "convolute_output: torch.Size([64, 64, 14, 14])\n"
          ],
          "name": "stdout"
        }
      ]
    },
    {
      "cell_type": "markdown",
      "metadata": {
        "colab_type": "text",
        "id": "HsxM2PAYymnI"
      },
      "source": [
        "Same, we pass the output through a non-linearity function of `nn.ReLU()`."
      ]
    },
    {
      "cell_type": "code",
      "metadata": {
        "colab_type": "code",
        "id": "KlN8cbetymnI",
        "outputId": "64d4634c-88ba-45b7-b0e4-d41473f1be05",
        "colab": {
          "base_uri": "https://localhost:8080/",
          "height": 34
        }
      },
      "source": [
        "relu = nn.ReLU()\n",
        "relu_output = relu(convolute_output)\n",
        "print(\"relu_output:\", relu_output.shape)"
      ],
      "execution_count": 0,
      "outputs": [
        {
          "output_type": "stream",
          "text": [
            "relu_output: torch.Size([64, 64, 14, 14])\n"
          ],
          "name": "stdout"
        }
      ]
    },
    {
      "cell_type": "markdown",
      "metadata": {
        "colab_type": "text",
        "id": "8Uqu_tQMymnK"
      },
      "source": [
        "Using the same logic, we feed the output of ReLU layer into a 2D max pooling layer. The output dimensions should be half of the input dimensions in order to reduce the size. \n",
        "\n",
        "The `kernel_size` is want `2 x 2` sized max pooling kernel – so the argument is `2`. \n",
        "\n",
        "The stride is the same as the size of kernel. The output dimensions will be half of the input dimensions. Hence, we don't need pads. "
      ]
    },
    {
      "cell_type": "code",
      "metadata": {
        "colab_type": "code",
        "id": "vCOTw2RDymnK",
        "outputId": "472721e6-118a-4a16-ef8b-a8390dadc2cb",
        "colab": {
          "base_uri": "https://localhost:8080/",
          "height": 34
        }
      },
      "source": [
        "maxpool_2 = nn.MaxPool2d(kernel_size=2, stride=2)\n",
        "maxpool_output = maxpool_2(relu_output)\n",
        "print(\"maxpool_output:\", maxpool_output.shape)"
      ],
      "execution_count": 0,
      "outputs": [
        {
          "output_type": "stream",
          "text": [
            "maxpool_output: torch.Size([64, 64, 7, 7])\n"
          ],
          "name": "stdout"
        }
      ]
    },
    {
      "cell_type": "markdown",
      "metadata": {
        "colab_type": "text",
        "id": "SUkPlfTOymnV"
      },
      "source": [
        "Now, each images are represented in a tensor of `[64, 7, 7]` where 64 is the number of channels, and the information of each channel is represented in a `[7,7]` matrix. "
      ]
    },
    {
      "cell_type": "markdown",
      "metadata": {
        "colab_type": "text",
        "id": "gdi6otLyymna"
      },
      "source": [
        "We need to flatten the `4D tensor` of output of convolutional layers to a `2D tensor` in order to match the input size of [fully connected layers](https://pytorch.org/docs/stable/nn.html#linear-layers) (i.e, `[batch size, feature_size]`. The `feature_size` will be `64 x 7 x 7 ` (i.e., 3136). "
      ]
    },
    {
      "cell_type": "code",
      "metadata": {
        "colab_type": "code",
        "id": "vI_hcgLoymnb",
        "outputId": "3748d9ee-d27c-4dec-865c-148d144b873c",
        "colab": {
          "base_uri": "https://localhost:8080/",
          "height": 34
        }
      },
      "source": [
        "flat_out = maxpool_output.view(maxpool_output.size(0), -1)\n",
        "print(\"flat_out:\", flat_out.shape)"
      ],
      "execution_count": 0,
      "outputs": [
        {
          "output_type": "stream",
          "text": [
            "flat_out: torch.Size([64, 3136])\n"
          ],
          "name": "stdout"
        }
      ]
    },
    {
      "cell_type": "markdown",
      "metadata": {
        "colab_type": "text",
        "id": "-ws4ruzcymnf"
      },
      "source": [
        "Before the fully connected layers, we specify a [`drop-out layer`](https://pytorch.org/docs/stable/nn.html#dropout-layers) of 0.5 drop-out rate to avoid over-fitting in the model. "
      ]
    },
    {
      "cell_type": "code",
      "metadata": {
        "colab_type": "code",
        "id": "7h-B73I4ymng",
        "colab": {}
      },
      "source": [
        "drop_out = nn.Dropout(p=0.5)"
      ],
      "execution_count": 0,
      "outputs": []
    },
    {
      "cell_type": "code",
      "metadata": {
        "colab_type": "code",
        "id": "J8QBqnQ1ymni",
        "outputId": "4a91c79f-b655-4610-d532-968dbd5c4b56",
        "colab": {
          "base_uri": "https://localhost:8080/",
          "height": 34
        }
      },
      "source": [
        "drop_output = drop_out(flat_out)\n",
        "print(\"drop_output:\", drop_output.shape)"
      ],
      "execution_count": 0,
      "outputs": [
        {
          "output_type": "stream",
          "text": [
            "drop_output: torch.Size([64, 3136])\n"
          ],
          "name": "stdout"
        }
      ]
    },
    {
      "cell_type": "markdown",
      "metadata": {
        "colab_type": "text",
        "id": "GIbHDQ-uymnk"
      },
      "source": [
        "Finally,  it follows by a Sigmoid (fully-connected) layer and a fully-connected layer. \n",
        "\n",
        "In the first Sigmoid layer, the feature size of each input sample is 3136, and the feature size of each output sample is 1000.  \n",
        "\n",
        "To create a Sigmoid fully connected layer in PyTorch, we use the `nn.Linear` method and `F.sigmoid()` function. "
      ]
    },
    {
      "cell_type": "code",
      "metadata": {
        "colab_type": "code",
        "id": "tgyu5rWbymnl",
        "outputId": "93dac309-76e7-4650-9f85-b29759cfe1d5",
        "colab": {
          "base_uri": "https://localhost:8080/",
          "height": 34
        }
      },
      "source": [
        "fc1 = nn.Linear(7 * 7 * 64, 1000)\n",
        "fc1_output = F.sigmoid(fc1(drop_output))\n",
        "print(\"fc1_output:\", fc1_output.shape)"
      ],
      "execution_count": 0,
      "outputs": [
        {
          "output_type": "stream",
          "text": [
            "fc1_output: torch.Size([64, 1000])\n"
          ],
          "name": "stdout"
        }
      ]
    },
    {
      "cell_type": "markdown",
      "metadata": {
        "colab_type": "text",
        "id": "TPoYBKYgymnn"
      },
      "source": [
        "In the second layer, the feature size of each input sample is 1000, and the output will give the prediction probilities across all labels (i.e., digital 0-9)."
      ]
    },
    {
      "cell_type": "code",
      "metadata": {
        "colab_type": "code",
        "id": "gRvT052xymnn",
        "outputId": "962963b8-94b3-4fc3-e65b-23df8c9a074a",
        "colab": {
          "base_uri": "https://localhost:8080/",
          "height": 34
        }
      },
      "source": [
        "fc2 = nn.Linear(1000, 10)\n",
        "fc2_output = fc2(fc1_output)\n",
        "print(\"fc2_output:\", fc2_output.shape)"
      ],
      "execution_count": 0,
      "outputs": [
        {
          "output_type": "stream",
          "text": [
            "fc2_output: torch.Size([64, 10])\n"
          ],
          "name": "stdout"
        }
      ]
    },
    {
      "cell_type": "markdown",
      "metadata": {
        "colab_type": "text",
        "id": "5ZqS36w4ymnp"
      },
      "source": [
        "The `fc2_output` is the prediction of the CNN model. \n",
        "We can give this prediction and the true labels to a loss function to calculate the loss and backpropagate with the loss. "
      ]
    },
    {
      "cell_type": "code",
      "metadata": {
        "colab_type": "code",
        "id": "_MeDNP6-ymnp",
        "outputId": "6c0f68f2-3cd3-4de8-826d-b2f3c3eca082",
        "colab": {
          "base_uri": "https://localhost:8080/",
          "height": 34
        }
      },
      "source": [
        "# We use nn.CrossEntropyLoss() as our loss function. \n",
        "criterion = nn.CrossEntropyLoss()\n",
        "criterion(fc2_output, labels)"
      ],
      "execution_count": 0,
      "outputs": [
        {
          "output_type": "execute_result",
          "data": {
            "text/plain": [
              "tensor(2.3015, grad_fn=<NllLossBackward>)"
            ]
          },
          "metadata": {
            "tags": []
          },
          "execution_count": 30
        }
      ]
    },
    {
      "cell_type": "markdown",
      "metadata": {
        "colab_type": "text",
        "id": "xPpYLXcbymnr"
      },
      "source": [
        "### Creating CNN class"
      ]
    },
    {
      "cell_type": "markdown",
      "metadata": {
        "colab_type": "text",
        "id": "bSwAvJPNymnr"
      },
      "source": [
        "Let's put everything to a `class` object. "
      ]
    },
    {
      "cell_type": "markdown",
      "metadata": {
        "colab_type": "text",
        "id": "nrNPRrsRymns"
      },
      "source": [
        "We will create some [sequential layer objects](https://pytorch.org/docs/stable/nn.html#linear-layers) within the class `_init_` function. `sequential layer objects` is a sequential container. Modules will be added to it in the order they are passed in the constructor. \n",
        "\n",
        "First, we create conv_layer1 (`self.conv_layer1`) by creating a `nn.Sequential` object. This method is a handy way of creating a **convolution -> ReLU -> pooling** sequence. We put these module to the `nn.Sequential` object, sequentially.\n",
        "\n",
        "Using the same logic, we create conv_layer2 (`self.conv_layer2`) where also includes **convolution -> ReLU -> pooling** sequence.\n",
        "\n",
        "Then, we add a dropout layer and two fully connected layers. "
      ]
    },
    {
      "cell_type": "code",
      "metadata": {
        "colab_type": "code",
        "id": "jt4ipl79ymns",
        "colab": {}
      },
      "source": [
        "class ConvNet(nn.Module):\n",
        "    def __init__(self):\n",
        "        super(ConvNet, self).__init__()\n",
        "        self.conv_layer1 = nn.Sequential(\n",
        "            nn.Conv2d(in_channels=1, out_channels=32, kernel_size=5, stride=1, padding=2),\n",
        "            nn.ReLU(),\n",
        "            nn.MaxPool2d(kernel_size=2, stride=2))\n",
        "        self.conv_layer2 = nn.Sequential(\n",
        "            nn.Conv2d(32, 64, kernel_size=5, stride=1, padding=2),\n",
        "            nn.ReLU(),\n",
        "            nn.MaxPool2d(kernel_size=2, stride=2))\n",
        "        self.drop_out = nn.Dropout()\n",
        "        self.fc1 = nn.Linear(7 * 7 * 64, 1000)\n",
        "        self.fc2 = nn.Linear(1000, 10)\n",
        "    \n",
        "    def forward(self, x):\n",
        "        out = self.conv_layer1(x)\n",
        "        out = self.conv_layer2(out)\n",
        "        out = out.reshape(out.size(0), -1)\n",
        "        out = self.drop_out(out)\n",
        "        out = F.sigmoid(self.fc1(out))\n",
        "        out = self.fc2(out)\n",
        "        return out"
      ],
      "execution_count": 0,
      "outputs": []
    },
    {
      "cell_type": "markdown",
      "metadata": {
        "colab_type": "text",
        "id": "MwK5BU9mymnu"
      },
      "source": [
        "### Training the model\n",
        "\n",
        "We create an instance of our ConvNet class, and define our loss function and optimizer:"
      ]
    },
    {
      "cell_type": "code",
      "metadata": {
        "colab_type": "code",
        "id": "67mIV7fVymnu",
        "colab": {}
      },
      "source": [
        "model = ConvNet().to(device)\n",
        "learning_rate = 0.001\n",
        "# Loss and optimizer\n",
        "criterion = nn.CrossEntropyLoss()\n",
        "optimizer = torch.optim.Adam(model.parameters(), lr=learning_rate)"
      ],
      "execution_count": 0,
      "outputs": []
    },
    {
      "cell_type": "markdown",
      "metadata": {
        "colab_type": "text",
        "id": "uqxhTl8GzfsK"
      },
      "source": [
        "We use a simplified version of the weight initialization scheme. Here, we will initialize all biases to zero and all weights from $\\mathcal{N}(0, 0.1)$."
      ]
    },
    {
      "cell_type": "code",
      "metadata": {
        "colab_type": "code",
        "id": "CRh5WlKfzcpX",
        "outputId": "8ea6a2a1-7ecc-40b6-b5da-9eb9fa4831dd",
        "colab": {
          "base_uri": "https://localhost:8080/",
          "height": 272
        }
      },
      "source": [
        "def init_weights(m):\n",
        "    for name, param in m.named_parameters():\n",
        "        if 'weight' in name:\n",
        "            nn.init.normal_(param.data, mean=0, std=0.1)\n",
        "        else:\n",
        "            nn.init.constant_(param.data, 0)\n",
        "            \n",
        "model.apply(init_weights)"
      ],
      "execution_count": 0,
      "outputs": [
        {
          "output_type": "execute_result",
          "data": {
            "text/plain": [
              "ConvNet(\n",
              "  (conv_layer1): Sequential(\n",
              "    (0): Conv2d(1, 32, kernel_size=(5, 5), stride=(1, 1), padding=(2, 2))\n",
              "    (1): ReLU()\n",
              "    (2): MaxPool2d(kernel_size=2, stride=2, padding=0, dilation=1, ceil_mode=False)\n",
              "  )\n",
              "  (conv_layer2): Sequential(\n",
              "    (0): Conv2d(32, 64, kernel_size=(5, 5), stride=(1, 1), padding=(2, 2))\n",
              "    (1): ReLU()\n",
              "    (2): MaxPool2d(kernel_size=2, stride=2, padding=0, dilation=1, ceil_mode=False)\n",
              "  )\n",
              "  (drop_out): Dropout(p=0.5, inplace=False)\n",
              "  (fc1): Linear(in_features=3136, out_features=1000, bias=True)\n",
              "  (fc2): Linear(in_features=1000, out_features=10, bias=True)\n",
              ")"
            ]
          },
          "metadata": {
            "tags": []
          },
          "execution_count": 40
        }
      ]
    },
    {
      "cell_type": "markdown",
      "metadata": {
        "colab_type": "text",
        "id": "yGc_RrHtzrIa"
      },
      "source": [
        "**Calculate the number of parameters.**"
      ]
    },
    {
      "cell_type": "code",
      "metadata": {
        "colab_type": "code",
        "id": "rYNbgiqPzqcp",
        "outputId": "e7baff19-aa2e-43ec-a253-25d9f91bf47a",
        "colab": {
          "base_uri": "https://localhost:8080/",
          "height": 34
        }
      },
      "source": [
        "def count_parameters(model):\n",
        "    return sum(p.numel() for p in model.parameters() if p.requires_grad)\n",
        "\n",
        "print(f'The model has {count_parameters(model):,} trainable parameters')"
      ],
      "execution_count": 0,
      "outputs": [
        {
          "output_type": "stream",
          "text": [
            "The model has 3,199,106 trainable parameters\n"
          ],
          "name": "stdout"
        }
      ]
    },
    {
      "cell_type": "markdown",
      "metadata": {
        "colab_type": "text",
        "id": "KwrCNcfj0hIK"
      },
      "source": [
        "`train()` and `evaluate()` functions"
      ]
    },
    {
      "cell_type": "code",
      "metadata": {
        "colab_type": "code",
        "id": "77Ja809s0fZP",
        "colab": {}
      },
      "source": [
        "def train(model, iterator, optimizer, criterion):\n",
        "    \n",
        "    model.train()\n",
        "    epoch_loss = 0\n",
        "    \n",
        "    for i, batch in enumerate(iterator):\n",
        "        \n",
        "        images = batch[0].to(device)\n",
        "        labels = batch[1].to(device)\n",
        "        \n",
        "        optimizer.zero_grad()\n",
        "        \n",
        "        outputs = model(images)\n",
        "\n",
        "        loss = criterion(outputs, labels)\n",
        "        \n",
        "        loss.backward()\n",
        "        \n",
        "        optimizer.step()\n",
        "        \n",
        "        epoch_loss += loss.cpu().item()\n",
        "\n",
        "    return epoch_loss / len(iterator)"
      ],
      "execution_count": 0,
      "outputs": []
    },
    {
      "cell_type": "code",
      "metadata": {
        "colab_type": "code",
        "id": "NLwcUqE417oy",
        "colab": {}
      },
      "source": [
        "from sklearn.metrics import accuracy_score\n",
        "from sklearn.metrics import f1_score\n",
        "def evaluate(model, iterator, criterion):\n",
        "    \n",
        "    model.eval()\n",
        "    \n",
        "    epoch_loss = 0\n",
        "    all_pred=[]\n",
        "    all_label = []\n",
        "    \n",
        "    with torch.no_grad():\n",
        "    \n",
        "        for i, batch in enumerate(iterator):\n",
        "\n",
        "            images = batch[0].to(device)\n",
        "            labels = batch[1].to(device)\n",
        "\n",
        "            optimizer.zero_grad()\n",
        "\n",
        "            outputs = model(images)\n",
        "\n",
        "            loss = criterion(outputs, labels)\n",
        "\n",
        "            epoch_loss += loss.cpu().item()\n",
        "\n",
        "            # identify the predicted class for each example in the batch\n",
        "            probabilities, predicted = torch.max(outputs.cpu().data, 1)\n",
        "            # put all the true labels and predictions to two lists\n",
        "            all_pred.extend(predicted)\n",
        "            all_label.extend(labels.cpu())\n",
        "    \n",
        "    accuracy = accuracy_score(all_label, all_pred)\n",
        "    f1score = f1_score(all_label, all_pred, average='macro') \n",
        "    return epoch_loss / len(iterator), accuracy, f1score"
      ],
      "execution_count": 0,
      "outputs": []
    },
    {
      "cell_type": "code",
      "metadata": {
        "id": "2H1r7PoLSolA",
        "colab_type": "code",
        "colab": {}
      },
      "source": [
        ""
      ],
      "execution_count": 0,
      "outputs": []
    },
    {
      "cell_type": "code",
      "metadata": {
        "colab_type": "code",
        "id": "UF0aDpqgymnx",
        "outputId": "20c19402-fac1-4458-bc18-89ce8b89bd56",
        "colab": {
          "base_uri": "https://localhost:8080/",
          "height": 258
        }
      },
      "source": [
        "# Train the model\n",
        "MAX_EPOCH = 5\n",
        "total_step = len(trainloader)\n",
        "loss_list = []\n",
        "acc_list = []\n",
        "\n",
        "for epoch in trange(MAX_EPOCH, desc=\"Epoch\"):\n",
        "    train_loss = train(model, trainloader, optimizer, criterion)  \n",
        "    val_loss, val_acc, val_f1 = evaluate(model, valloader, criterion)\n",
        "\n",
        "    # Create checkpoint at end of each epoch\n",
        "    state_dict_model = model.state_dict() \n",
        "    state = {\n",
        "        'epoch': epoch,\n",
        "        'state_dict': state_dict_model,\n",
        "        'optimizer': optimizer.state_dict()\n",
        "        }\n",
        "\n",
        "    torch.save(state, \"./ckpt/MNIST_CNN_\"+str(epoch+1)+\".pt\")\n",
        "\n",
        "    print('\\n Epoch [{}/{}], Train Loss: {:.4f}, Validation Loss: {:.4f}, Validation Accuracy: {:.4f}, Validation F1: {:.4f}'.format(epoch+1, MAX_EPOCH, train_loss, val_loss, val_acc, val_f1))\n",
        "    "
      ],
      "execution_count": 0,
      "outputs": [
        {
          "output_type": "stream",
          "text": [
            "\rEpoch:   0%|          | 0/5 [00:00<?, ?it/s]/usr/local/lib/python3.6/dist-packages/torch/nn/functional.py:1351: UserWarning: nn.functional.sigmoid is deprecated. Use torch.sigmoid instead.\n",
            "  warnings.warn(\"nn.functional.sigmoid is deprecated. Use torch.sigmoid instead.\")\n",
            "Epoch:  20%|██        | 1/5 [00:15<01:00, 15.13s/it]"
          ],
          "name": "stderr"
        },
        {
          "output_type": "stream",
          "text": [
            "\n",
            " Epoch [1/5], Train Loss: 0.2123, Validation Loss: 0.0511, Validation Accuracy: 0.9834, Validation F1: 0.9833\n"
          ],
          "name": "stdout"
        },
        {
          "output_type": "stream",
          "text": [
            "\rEpoch:  40%|████      | 2/5 [00:30<00:45, 15.18s/it]"
          ],
          "name": "stderr"
        },
        {
          "output_type": "stream",
          "text": [
            "\n",
            " Epoch [2/5], Train Loss: 0.0740, Validation Loss: 0.0344, Validation Accuracy: 0.9887, Validation F1: 0.9886\n"
          ],
          "name": "stdout"
        },
        {
          "output_type": "stream",
          "text": [
            "\rEpoch:  60%|██████    | 3/5 [00:45<00:30, 15.17s/it]"
          ],
          "name": "stderr"
        },
        {
          "output_type": "stream",
          "text": [
            "\n",
            " Epoch [3/5], Train Loss: 0.0538, Validation Loss: 0.0304, Validation Accuracy: 0.9909, Validation F1: 0.9908\n"
          ],
          "name": "stdout"
        },
        {
          "output_type": "stream",
          "text": [
            "\rEpoch:  80%|████████  | 4/5 [01:00<00:15, 15.14s/it]"
          ],
          "name": "stderr"
        },
        {
          "output_type": "stream",
          "text": [
            "\n",
            " Epoch [4/5], Train Loss: 0.0472, Validation Loss: 0.0271, Validation Accuracy: 0.9908, Validation F1: 0.9907\n"
          ],
          "name": "stdout"
        },
        {
          "output_type": "stream",
          "text": [
            "Epoch: 100%|██████████| 5/5 [01:15<00:00, 15.14s/it]"
          ],
          "name": "stderr"
        },
        {
          "output_type": "stream",
          "text": [
            "\n",
            " Epoch [5/5], Train Loss: 0.0376, Validation Loss: 0.0286, Validation Accuracy: 0.9920, Validation F1: 0.9920\n"
          ],
          "name": "stdout"
        },
        {
          "output_type": "stream",
          "text": [
            "\n"
          ],
          "name": "stderr"
        }
      ]
    },
    {
      "cell_type": "code",
      "metadata": {
        "id": "hqo5s68W1s_K",
        "colab_type": "code",
        "colab": {}
      },
      "source": [
        ""
      ],
      "execution_count": 0,
      "outputs": []
    },
    {
      "cell_type": "markdown",
      "metadata": {
        "colab_type": "text",
        "id": "bBtS2KTN5sfn"
      },
      "source": [
        "### Visualization\n",
        "We also introduce a online tool to visualize the CNN model. "
      ]
    },
    {
      "cell_type": "markdown",
      "metadata": {
        "colab_type": "text",
        "id": "im3noznxymn1"
      },
      "source": [
        "* Visualizing the “activations” of the layers: https://cs.ryerson.ca/~aharley/vis/conv/"
      ]
    },
    {
      "cell_type": "markdown",
      "metadata": {
        "colab_type": "text",
        "id": "1GxHWPWXymn1"
      },
      "source": [
        "![](http://www.programmersought.com/images/544/46bde7423a265a6ba287620bc5c47f68.png)\n",
        "Picture Courtesy: http://www.programmersought.com/article/23607351/"
      ]
    },
    {
      "cell_type": "markdown",
      "metadata": {
        "colab_type": "text",
        "id": "Tpdfo4Nyymn2"
      },
      "source": [
        "**Reference:**\n",
        "* https://pytorch.org/docs/stable/index.html\n",
        "* https://adventuresinmachinelearning.com/convolutional-neural-networks-tutorial-in-pytorch/\n",
        "* https://nextjournal.com/gkoehler/pytorch-mnist\n",
        "* https://towardsdatascience.com/handwritten-digit-mnist-pytorch-977b5338e627\n",
        "* https://algorithmia.com/blog/convolutional-neural-nets-in-pytorch\n",
        "* https://pytorch.org/tutorials/beginner/blitz/cifar10_tutorial.html\n",
        "* http://cs231n.stanford.edu/"
      ]
    },
    {
      "cell_type": "code",
      "metadata": {
        "colab_type": "code",
        "id": "RBWmrmuAymn2",
        "colab": {}
      },
      "source": [
        ""
      ],
      "execution_count": 0,
      "outputs": []
    }
  ]
}