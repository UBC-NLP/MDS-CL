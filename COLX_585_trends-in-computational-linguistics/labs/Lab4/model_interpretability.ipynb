{
 "cells": [
  {
   "cell_type": "markdown",
   "metadata": {},
   "source": [
    "# COLX 585 Trends in Computational Linguistics\n",
    "## Model interpretability using representation erasure\n",
    "\n",
    "### Goal of this tutorial:\n",
    "- Know the technique of interpreting NLP model using representation erasure\n",
    "- Apply the technique on a CNN model trained on sentiment analysis task\n",
    "\n",
    "###  General:\n",
    "- This notebook was last tested on Python 3.6.4, PyTorch 0.4.0, spacy 2.2.3 (along with the NLP modules for English language, that is, `python -m spacy download en`)\n",
    "- We analyze the CNN model checkpoint provided by https://github.com/pytorch/captum/blob/master/tutorials/models/imdb-model-cnn.pt trained using the code https://github.com/bentrevett/pytorch-sentiment-analysis/blob/master/4%20-%20Convolutional%20Sentiment%20Analysis.ipynb\n",
    "- We borrowed the code to load pretrain model and vocab from: https://captum.ai/tutorials/IMDB_TorchText_Interpret\n",
    "\n",
    "### References\n",
    "To know more about the above-mentioned concepts, take a look at the following articles:\n",
    "1. Understanding Neural Networks through Representation Erasure: https://arxiv.org/abs/1612.08220\n",
    "2. Visualizing and Understanding Neural Models in NLP: https://arxiv.org/abs/1506.01066"
   ]
  },
  {
   "cell_type": "markdown",
   "metadata": {},
   "source": [
    "## Background\n",
    "\n",
    "### Model interpretability\n",
    "Neural network models are successful in many NLP tasks such as text classification, machine translation, question answering and so on. Unfortunately, their superior performance comes at the cost of interpretability. Compared to traditional ML models that optimize on human interpretable features, neural models operate like a black box using vectorial representations (as opposed to human understandable features). \n",
    "\n",
    "<img src=\"images/cnn_text.png\" alt=\"CNN\" title=\"CNN\" height=\"250\" width=\"720\" />\n",
    "\n",
    "Picture courtesy: http://www.wildml.com/2015/11/understanding-convolutional-neural-networks-for-nlp/\n",
    "\n",
    "[Mystery exist at many levels in neural models](https://arxiv.org/abs/1612.08220):\n",
    "* At input layers, what does each word vector dimension stand for? \n",
    "* What do hidden units in intermediate levels stand for? \n",
    "* How does the model combine meaning from different parts of the sentence, filtering the informational wheat from the chaff?\n",
    "* How is the final decision made at the output layer?\n",
    "\n",
    "These mysteries make it hard to tell when and why a neural model makes mistakes, namely, to perform error analysis. This difficulty hinders further efforts to correct these mistakes.\n",
    "\n"
   ]
  },
  {
   "cell_type": "markdown",
   "metadata": {},
   "source": [
    "### Representation erasure - Motivation\n",
    "This tutorial will focus on **representation erasure**, a simple yet effective technique to analyze and interpret neural model prediction. The idea is to analyze the effect of erasing pieces of the representation,\n",
    "to see how such changes affect the decision of a neural model. By analyzing the harm this erasure does,\n",
    "we can identify important representations that significantly contribute to a model’s decision. By \n",
    "analyzing the benefit this erasure introduces, namely, the cases in which the removal of a representation actually improves a model’s decision, we can identify representations that a neural model inappropriately focuses\n",
    "its attention on, as a form of error analysis.\n",
    "\n",
    "This erasure can be performed on various levels of representation including:\n",
    "- input word-vector dimensions\n",
    "- input words (focus of this tutorial)\n",
    "- input phrases\n",
    "- intermediate hidden units\n",
    "\n",
    "In this tutorial, we will focus only on analyzing the **important words** in a input sentence according to a CNN sentiment classifier. Note that the technique is simple (as we will see in next section) and can be easily adapted to other levels of representation (hidden units, phrases) as well as a wide variety of NLP models/architectures (RNN, LSTM, Transformer). "
   ]
  },
  {
   "cell_type": "markdown",
   "metadata": {},
   "source": [
    "### Representation erasure - Examples\n",
    "\n",
    "Before looking into the theory, let us look at some results of **word level** importance scores taken from the original paper.\n",
    "\n",
    "First example is a heatmap in sentiment analysis plotting the importance of individual word in positive sentence `one of the greatest family-oriented , fantasy-adventure movies ever .` assigned by three different models (RNN, LSTM, BiLSTM).\n",
    "\n",
    "<img src=\"images/positive_sentence.png\" alt=\"erasure\" title=\"Erasure\" height=\"300\" width=\"250\" />\n",
    "\n",
    "As can be seen, all three models attach more importance to words that are indicative of sentiment (e.g.,\n",
    " `greatest`) and dampen the influence of other tokens. LSTM-based models generally show a clearer focus on sentiment words than standard RNN models\n",
    " \n",
    "Second example is a heatmap in sentiment analysis plotting the importance of individual word in a negative sentence `the story loses its bite in a last-minute happy ending that 's even less plausible than the rest of the picture .` assigned by three different models (RNN, LSTM, BiLSTM).\n",
    "\n",
    "<img src=\"images/negative_sentence.png\" alt=\"erasure\" title=\"Erasure\" height=\"300\" width=\"250\" />"
   ]
  },
  {
   "cell_type": "markdown",
   "metadata": {},
   "source": [
    "### Representation erasure - Theory\n",
    "\n",
    "* Let $M$ denote the trained neural model. (e.g. M=CNN)\n",
    "* Let $E$ denote the set of training examples, with a single example $e \\in E$ (e.g. $e$ = `one of the greatest family-oriented , fantasy-adventure movies ever .` and $E$ is the sentiment training data)\n",
    "* Let $c$ be the gold-standard label of $e$ (e.g. $c = 1$ (Positive))\n",
    "* Let $S(e,c)$ be the probability assigned by model $M$ to the correct label for $e$, which is $c$ and $S(e,c) =  P(L_e = c)$ (e.g. $S(e,c) = 0.95$)\n",
    "* Let $S(e,c,\\neg d)$ be the probability assigned of the correct label for $e$ (which is $c$) by model $M$ if dimension $d$ is erased, that is its value set to 0. (e.g. $S(e,c,\\neg d) = 0.6$)\n",
    "* Importance of dimension $d$ is given by the relative difference between $S(e,c)$ and $S(e,c,\\neg d)$: $I(d)= \\frac{1}{|E|} \\sum_{e \\in E} \\frac{S(e,c) - S(e,c,\\neg d)}{S(e,c)} $\n",
    "\n",
    "If you want to compute the importance of a word (with its corresponding word embedding, $w$) in a given example $e$,\n",
    "\n",
    "$I(w)= \\frac{S(e,c) - S(e,c,\\neg w)}{S(e,c)} $ where $S(e,c,\\neg w)$ denote the probability assigned by model for the correct label if values of the word embedding ($w$) are set to 0.\n",
    "\n",
    "If you want to compute the importance of a word (with its corresponding word embedding, $w$) according to the model in general (no specific example),\n",
    "\n",
    "$I(w)= \\frac{1}{|E|} \\sum_{e \\in E}  \\frac{S(e,c) - S(e,c,\\neg w)}{S(e,c)} $\n",
    "where $E$ denotes the training examples that contains the word corresponding to $w$ "
   ]
  },
  {
   "cell_type": "markdown",
   "metadata": {},
   "source": [
    "# Implementation\n",
    "\n",
    "In this notebook we will do the following:\n",
    "* Load a pretrained CNN model for sentiment analysis on IMDB dataset\n",
    "* Make predictions on test samples and interpret those predictions using representation erasure method\n",
    "* Identify the most important words and least important words according to CNN model\n",
    "\n",
    "Before we start, let us download the following:\n",
    "* `imdb-model-cnn.pt` - trained sentiment analysis model on IMDB dataset that we are going to analyze today https://github.com/pytorch/captum/blob/master/tutorials/models/imdb-model-cnn.pt  This model was trained using an open source sentiment analysis tutorials described in: https://github.com/bentrevett/pytorch-sentiment-analysis/blob/master/4%20-%20Convolutional%20Sentiment%20Analysis.ipynb\n",
    "* `data` - IMDB dataset used to train the original CNN model  https://ai.stanford.edu/~amaas/data/sentiment/ (We will use the training examples to identify the general important words)\n",
    "* `glove.6B.50d.txt` - Pretrained glove word embeddings from http://nlp.stanford.edu/data/glove.6B.zip\n",
    "\n",
    "Let us first import the required libraries."
   ]
  },
  {
   "cell_type": "code",
   "execution_count": 1,
   "metadata": {},
   "outputs": [],
   "source": [
    "# required imports\n",
    "import torch\n",
    "import torchtext\n",
    "import torchtext.data\n",
    "import torch.nn as nn\n",
    "import torch.nn.functional as F\n",
    "import spacy\n",
    "\n",
    "from torchtext.vocab import Vocab\n",
    "\n",
    "# load spacy module\n",
    "nlp = spacy.load('en')\n",
    "\n",
    "# set the device\n",
    "device = torch.device(\"cuda\" if torch.cuda.is_available() else \"cpu\")"
   ]
  },
  {
   "cell_type": "markdown",
   "metadata": {},
   "source": [
    "Let us now redefine the model in order to be able to load it."
   ]
  },
  {
   "cell_type": "code",
   "execution_count": 2,
   "metadata": {},
   "outputs": [],
   "source": [
    "class CNN(nn.Module):\n",
    "    def __init__(self, vocab_size, embedding_dim, n_filters, filter_sizes, output_dim, \n",
    "                 dropout, pad_idx):\n",
    "        super().__init__()\n",
    "        self.embedding = nn.Embedding(vocab_size, embedding_dim, padding_idx = pad_idx)\n",
    "        self.convs = nn.ModuleList([\n",
    "                                    nn.Conv2d(in_channels = 1, \n",
    "                                              out_channels = n_filters, \n",
    "                                              kernel_size = (fs, embedding_dim)) \n",
    "                                    for fs in filter_sizes\n",
    "                                    ])\n",
    "        self.fc = nn.Linear(len(filter_sizes) * n_filters, output_dim)\n",
    "        self.dropout = nn.Dropout(dropout)\n",
    "        \n",
    "    def forward(self, text):\n",
    "        #text = [batch size, sent len]\n",
    "        embedded = self.embedding(text)\n",
    "\n",
    "        #embedded = [batch size, sent len, emb dim]\n",
    "        embedded = embedded.unsqueeze(1)\n",
    "        #embedded = [batch size, 1, sent len, emb dim]\n",
    "        \n",
    "        conved = [F.relu(conv(embedded)).squeeze(3) for conv in self.convs]\n",
    "        #conved_n = [batch size, n_filters, sent len - filter_sizes[n] + 1]\n",
    "                \n",
    "        pooled = [F.max_pool1d(conv, conv.shape[2]).squeeze(2) for conv in conved]\n",
    "        #pooled_n = [batch size, n_filters]\n",
    "        \n",
    "        cat = self.dropout(torch.cat(pooled, dim = 1))\n",
    "        #cat = [batch size, n_filters * len(filter_sizes)]\n",
    "            \n",
    "        return self.fc(cat)\n"
   ]
  },
  {
   "cell_type": "markdown",
   "metadata": {},
   "source": [
    "Let us load trained CNN model and sets the model to `eval` mode."
   ]
  },
  {
   "cell_type": "code",
   "execution_count": 3,
   "metadata": {},
   "outputs": [
    {
     "name": "stdout",
     "output_type": "stream",
     "text": [
      "CNN(\n",
      "  (embedding): Embedding(101982, 50, padding_idx=1)\n",
      "  (convs): ModuleList(\n",
      "    (0): Conv2d(1, 100, kernel_size=(3, 50), stride=(1, 1))\n",
      "    (1): Conv2d(1, 100, kernel_size=(4, 50), stride=(1, 1))\n",
      "    (2): Conv2d(1, 100, kernel_size=(5, 50), stride=(1, 1))\n",
      "  )\n",
      "  (fc): Linear(in_features=300, out_features=1, bias=True)\n",
      "  (relu): ReLU()\n",
      "  (dropout): Dropout(p=0.5, inplace=False)\n",
      ")\n"
     ]
    },
    {
     "name": "stderr",
     "output_type": "stream",
     "text": [
      "/anaconda3/envs/ctrl_transformers/lib/python3.6/site-packages/torch/serialization.py:453: SourceChangeWarning: source code of class 'torch.nn.modules.sparse.Embedding' has changed. you can retrieve the original source code by accessing the object's source attribute or set `torch.nn.Module.dump_patches = True` and use the patch tool to revert the changes.\n",
      "  warnings.warn(msg, SourceChangeWarning)\n",
      "/anaconda3/envs/ctrl_transformers/lib/python3.6/site-packages/torch/serialization.py:453: SourceChangeWarning: source code of class 'torch.nn.modules.conv.Conv2d' has changed. you can retrieve the original source code by accessing the object's source attribute or set `torch.nn.Module.dump_patches = True` and use the patch tool to revert the changes.\n",
      "  warnings.warn(msg, SourceChangeWarning)\n",
      "/anaconda3/envs/ctrl_transformers/lib/python3.6/site-packages/torch/serialization.py:453: SourceChangeWarning: source code of class 'torch.nn.modules.linear.Linear' has changed. you can retrieve the original source code by accessing the object's source attribute or set `torch.nn.Module.dump_patches = True` and use the patch tool to revert the changes.\n",
      "  warnings.warn(msg, SourceChangeWarning)\n",
      "/anaconda3/envs/ctrl_transformers/lib/python3.6/site-packages/torch/serialization.py:453: SourceChangeWarning: source code of class 'torch.nn.modules.activation.ReLU' has changed. you can retrieve the original source code by accessing the object's source attribute or set `torch.nn.Module.dump_patches = True` and use the patch tool to revert the changes.\n",
      "  warnings.warn(msg, SourceChangeWarning)\n",
      "/anaconda3/envs/ctrl_transformers/lib/python3.6/site-packages/torch/serialization.py:453: SourceChangeWarning: source code of class 'torch.nn.modules.dropout.Dropout' has changed. you can retrieve the original source code by accessing the object's source attribute or set `torch.nn.Module.dump_patches = True` and use the patch tool to revert the changes.\n",
      "  warnings.warn(msg, SourceChangeWarning)\n"
     ]
    }
   ],
   "source": [
    "model = torch.load('models/imdb-model-cnn.pt')\n",
    "model.eval()\n",
    "model = model.to(device)\n",
    "print(model)"
   ]
  },
  {
   "cell_type": "markdown",
   "metadata": {},
   "source": [
    "Let us load the IMDB data (We will use later to identify general important words according to CNN model.)"
   ]
  },
  {
   "cell_type": "code",
   "execution_count": 4,
   "metadata": {},
   "outputs": [],
   "source": [
    "# define field to read data\n",
    "TEXT = torchtext.data.Field(lower=True, tokenize='spacy')\n",
    "Label = torchtext.data.LabelField(dtype = torch.float)\n",
    "\n",
    "# read train and test (ignored)\n",
    "train_full, test_full = torchtext.datasets.IMDB.splits(text_field=TEXT,\n",
    "                                      label_field=Label,\n",
    "                                      train='train',\n",
    "                                      test='test',\n",
    "                                      path='data/aclImdb')"
   ]
  },
  {
   "cell_type": "markdown",
   "metadata": {},
   "source": [
    "Let us build the vocabulary (exactly the same way the original author did; id to word mapping (vice-versa) is same) and constraint the words to those that are present in the pretrained glove word embeddings."
   ]
  },
  {
   "cell_type": "code",
   "execution_count": 5,
   "metadata": {},
   "outputs": [],
   "source": [
    "# load the glove word embeddings\n",
    "loaded_vectors = torchtext.vocab.Vectors('data/glove.6B.50d.txt')\n",
    "# build the vocab for both fields\n",
    "TEXT.build_vocab(train_full, vectors=loaded_vectors, max_size=len(loaded_vectors.stoi))  \n",
    "TEXT.vocab.set_vectors(stoi=loaded_vectors.stoi, vectors=loaded_vectors.vectors, dim=loaded_vectors.dim)\n",
    "Label.build_vocab(train_full)"
   ]
  },
  {
   "cell_type": "markdown",
   "metadata": {},
   "source": [
    "We have loaded the pretrained model and vocab successfully.\n",
    "\n",
    "Now, we will move on to analyzing CNN prediction for few sentences.\n",
    "\n",
    "Let us start with a simple sentence, `it was a fantastic performance !` and the gold sentiment label is 1 (positive). "
   ]
  },
  {
   "cell_type": "code",
   "execution_count": 6,
   "metadata": {},
   "outputs": [
    {
     "name": "stdout",
     "output_type": "stream",
     "text": [
      "it was a fantastic performance !\n"
     ]
    }
   ],
   "source": [
    "sample_sentence = 'it was a fantastic performance !'\n",
    "print(sample_sentence)"
   ]
  },
  {
   "cell_type": "markdown",
   "metadata": {},
   "source": [
    "Let us tokenize the sentence to token ids. "
   ]
  },
  {
   "cell_type": "code",
   "execution_count": 7,
   "metadata": {},
   "outputs": [
    {
     "name": "stdout",
     "output_type": "stream",
     "text": [
      "[10, 19, 6, 793, 251, 42]\n"
     ]
    }
   ],
   "source": [
    "token_ids = [TEXT.vocab.stoi[tok.text] for tok in nlp.tokenizer(sample_sentence)]\n",
    "print(token_ids)"
   ]
  },
  {
   "cell_type": "markdown",
   "metadata": {},
   "source": [
    "Let us pad the sentence if the number of tokens is less than minimum number of tokens required in the input (which is 5 - maximum width of the kernel used by the original author)."
   ]
  },
  {
   "cell_type": "code",
   "execution_count": 8,
   "metadata": {},
   "outputs": [
    {
     "name": "stdout",
     "output_type": "stream",
     "text": [
      "[10, 19, 6, 793, 251, 42]\n"
     ]
    }
   ],
   "source": [
    "if len(token_ids) < 5: # where 5 in min_len\n",
    "    token_ids += [TEXT.vocab.stoi['pad']] * (5 - len(token_ids))\n",
    "print(token_ids)"
   ]
  },
  {
   "cell_type": "markdown",
   "metadata": {},
   "source": [
    "Let us convert the token ids to tensor"
   ]
  },
  {
   "cell_type": "code",
   "execution_count": 9,
   "metadata": {},
   "outputs": [
    {
     "name": "stdout",
     "output_type": "stream",
     "text": [
      "tensor([[ 10,  19,   6, 793, 251,  42]])\n",
      "torch.Size([1, 6])\n"
     ]
    }
   ],
   "source": [
    "token_tensor = torch.tensor(token_ids, device=device).unsqueeze(0)\n",
    "print(token_tensor)\n",
    "print(token_tensor.size())"
   ]
  },
  {
   "cell_type": "markdown",
   "metadata": {},
   "source": [
    "Let us make the prediction (probability of the sentence being positive sentiment)"
   ]
  },
  {
   "cell_type": "code",
   "execution_count": 10,
   "metadata": {},
   "outputs": [
    {
     "name": "stdout",
     "output_type": "stream",
     "text": [
      "1\n"
     ]
    }
   ],
   "source": [
    "prediction = round(torch.sigmoid(model(token_tensor)).item())\n",
    "print(prediction) # probability of the sentence being positive sentiment"
   ]
  },
  {
   "cell_type": "markdown",
   "metadata": {},
   "source": [
    "### Now we can define the function that can compute both:\n",
    "* $S(e,c)$ - the probability assigned by model $M$ to the correct label for $e$, which is $c$ and $S(e,c) =  P(L_e = c)$ and\n",
    "* $S(e,c,\\neg d)$ - the probability assigned to the correct label for $e$ (which is $c$) by model $M$ if dimension $d$ is erased, that is its value set to 0.\n",
    "\n",
    "Note that $d$ is the word embedding in our case as we are interested in analyzing the model at **word level**."
   ]
  },
  {
   "cell_type": "code",
   "execution_count": 20,
   "metadata": {},
   "outputs": [],
   "source": [
    "def S(trained_model, token_tensor, erase_tokenid, gold_label_id):\n",
    "    '''\n",
    "    input:\n",
    "    i) trained_model - trained CNN model on IMDB dataset\n",
    "    ii) token_tensor - tensor containing token ids for a test sample 'e'\n",
    "    iii) erase_tokenid - id corresponding to the token to be erased. -1 if no token needs to be erased (useful in computing S(e,c))\n",
    "    iv) gold_label_id - gold sentiment label for the test sample 'e'\n",
    "    \n",
    "    returns:\n",
    "    probability by model to the gold label. S(e,c) if erase_tokenid == -1 else S(e,c,~d)\n",
    "    '''\n",
    "    \n",
    "    #token_tensor = [1, sent len]  note: batch_size is 1\n",
    "    embedded = model.embedding(token_tensor)\n",
    "    #embedded = [batch size, sent len, emb dim]\n",
    "    \n",
    "    # check if word embedings corresponding to a token has to be erased\n",
    "    if erase_tokenid != -1:\n",
    "        embedded[0, erase_tokenid, :].fill_(0.0)\n",
    "    #embedded = [batch size, sent len, emb dim]\n",
    "\n",
    "    #embedded = [batch size, sent len, emb dim]\n",
    "    embedded = embedded.unsqueeze(1)\n",
    "    #embedded = [batch size, 1, sent len, emb dim]\n",
    "\n",
    "    conved = [F.relu(conv(embedded)).squeeze(3) for conv in model.convs]\n",
    "    #conved_n = [batch size, n_filters, sent len - filter_sizes[n] + 1]\n",
    "\n",
    "    pooled = [F.max_pool1d(conv, conv.shape[2]).squeeze(2) for conv in conved]\n",
    "    #pooled_n = [batch size, n_filters]\n",
    "\n",
    "    cat = model.dropout(torch.cat(pooled, dim = 1))\n",
    "    #cat = [batch size, n_filters * len(filter_sizes)]\n",
    "    \n",
    "    # compute the probability of the sentence to be positive sentiment\n",
    "    prob_positive_class =  torch.sigmoid(model.fc(cat)).item()\n",
    "    \n",
    "    # compute the probability of the sentence to be negative sentiment\n",
    "    prob_negative_class = 1.0 - prob_positive_class\n",
    "    \n",
    "    # return the probability by model to the gold label\n",
    "    return prob_positive_class if gold_label_id == 1.0 else prob_negative_class\n"
   ]
  },
  {
   "cell_type": "markdown",
   "metadata": {},
   "source": [
    "We've all the important functions defined and now we can compute the importance of individual word in the sample `it was a fantastic performance !` (e) according to:\n",
    "\n",
    "$I(w)= \\frac{S(e,c) - S(e,c,\\neg w)}{S(e,c)} $\n",
    "\n",
    "For our case, we need to compute 6 importance scores:\n",
    "* $I('it')= \\frac{S(e,1) - S(e,1,\\neg 'it')}{S(e,1)} $\n",
    "* $I('was')= \\frac{S(e,1) - S(e,1,\\neg 'was')}{S(e,1)} $\n",
    "* $I('a')= \\frac{S(e,1) - S(e,1,\\neg 'a')}{S(e,1)} $\n",
    "* $I('fantastic')= \\frac{S(e,1) - S(e,1,\\neg 'fantastic')}{S(e,1)} $\n",
    "* $I('performance')= \\frac{S(e,1) - S(e,1,\\neg 'performance')}{S(e,1)} $\n",
    "* $I('!')= \\frac{S(e,1) - S(e,1,\\neg '!')}{S(e,1)} $\n",
    "\n",
    "Let us compute $S(e,1)$ first"
   ]
  },
  {
   "cell_type": "code",
   "execution_count": 43,
   "metadata": {},
   "outputs": [
    {
     "name": "stdout",
     "output_type": "stream",
     "text": [
      "0.8908191919326782\n"
     ]
    }
   ],
   "source": [
    "s_e1 = S(model, token_tensor, -1, 1.0) # -1 for not erasing any token and 1.0 is gold sentiment label\n",
    "print(s_e1)"
   ]
  },
  {
   "cell_type": "markdown",
   "metadata": {},
   "source": [
    "Now we can compute importance of the word `it` in the sentence according to the CNN model: $I('it')= \\frac{S(e,1) - S(e,1,\\neg 'it')}{S(e,1)} $"
   ]
  },
  {
   "cell_type": "code",
   "execution_count": 44,
   "metadata": {},
   "outputs": [
    {
     "name": "stdout",
     "output_type": "stream",
     "text": [
      "0.8819364905357361\n",
      "0.009971385301736326\n"
     ]
    }
   ],
   "source": [
    "# compute s(e,1,~'it') - probability after erasing the token 'it'\n",
    "s_e_it = S(model, token_tensor, 0, 1.0) # 0 denotes first token ('it') to be erased\n",
    "print(s_e_it)\n",
    "\n",
    "# compute the important I('it')\n",
    "imp_it = (s_e1 - s_e_it)/s_e1\n",
    "print(imp_it)\n"
   ]
  },
  {
   "cell_type": "markdown",
   "metadata": {},
   "source": [
    "Similarly, you can compute the importance score for rest of the words in the sentence.\n",
    "\n",
    "Here goes the full-fledged code which exactly does that and plots the heatmap to visualize the importance scores better."
   ]
  },
  {
   "cell_type": "code",
   "execution_count": 45,
   "metadata": {},
   "outputs": [],
   "source": [
    "import matplotlib\n",
    "import matplotlib.pyplot as plt\n",
    "import numpy as np\n",
    "\n",
    "def interpret_sentence(sentence, min_len = 5, true_label = 1):\n",
    "  '''\n",
    "  input:\n",
    "  i) sentence - the sample sentence to be analyzed\n",
    "  ii) min_len - minimum length of the sentence (alternatively, maximum width of the filter used by the orginal author)\n",
    "  iii) true_label - gold sentiment label for the sample sentence to be analyzed\n",
    "  returns:\n",
    "  None (actually the code plots the heatmap and returns nothing)\n",
    "  '''\n",
    "  # tokenize sentence\n",
    "  token_ids = [TEXT.vocab.stoi[tok.text] for tok in nlp.tokenizer(sentence)]\n",
    "  # pad the sentence if necessary\n",
    "  if len(token_ids) < 5: # where 5 in min_len\n",
    "    token_ids += [TEXT.vocab.stoi['pad']] * (5 - len(token_ids))\n",
    "  \n",
    "  # convert to tensor\n",
    "  token_tensor = torch.tensor(token_ids, device=device).unsqueeze(0)\n",
    "    \n",
    "  # get prediction\n",
    "  prediction = round(torch.sigmoid(model(token_tensor)).item())\n",
    "   \n",
    "  # get word importance\n",
    "  tokens, imp_scores = [None], []\n",
    "  s_ec = S(model, token_tensor, -1, true_label)\n",
    "  for t_i, token_id in enumerate(token_ids):\n",
    "    if token_id != TEXT.vocab.stoi['pad']: # we don't need to calculate importance score for pad tokens (seriously?)\n",
    "      s_e = S(model, token_tensor, t_i, true_label)\n",
    "      tokens.append(TEXT.vocab.itos[token_id])\n",
    "      imp_scores.append([((s_ec-s_e)/s_ec)])\n",
    "  \n",
    "  # plot the heatmap and other values\n",
    "  print('sentence = %s'%sentence)\n",
    "  print('predicted label = %d; gold label = %d'%(prediction, true_label))\n",
    "  fig, ax = plt.subplots()\n",
    "  im = ax.imshow(np.array(imp_scores).transpose(), cmap=plt.cm.Blues)\n",
    "  ax.set_xticklabels(tokens)\n",
    "  ax.set_yticklabels(['importance'])\n",
    "  plt.colorbar(im)\n",
    "  fig.tight_layout()\n",
    "  plt.show()\n"
   ]
  },
  {
   "cell_type": "code",
   "execution_count": 46,
   "metadata": {},
   "outputs": [
    {
     "name": "stdout",
     "output_type": "stream",
     "text": [
      "sentence = i loved the dark knight rises movie .\n",
      "predicted label = 1; gold label = 1\n"
     ]
    },
    {
     "data": {
      "image/png": "[encoded data removed]",
      "text/plain": [
       "<Figure size 432x288 with 2 Axes>"
      ]
     },
     "metadata": {
      "needs_background": "light"
     },
     "output_type": "display_data"
    }
   ],
   "source": [
    "interpret_sentence('i loved the dark knight rises movie .', true_label = 1.0)"
   ]
  },
  {
   "cell_type": "markdown",
   "metadata": {},
   "source": [
    "Let us try few more examples."
   ]
  },
  {
   "cell_type": "code",
   "execution_count": 47,
   "metadata": {},
   "outputs": [
    {
     "name": "stdout",
     "output_type": "stream",
     "text": [
      "sentence = the plot was predictable and boring .\n",
      "predicted label = 0; gold label = 0\n"
     ]
    },
    {
     "data": {
      "image/png": "[encoded data removed]",
      "text/plain": [
       "<Figure size 432x288 with 2 Axes>"
      ]
     },
     "metadata": {
      "needs_background": "light"
     },
     "output_type": "display_data"
    }
   ],
   "source": [
    "interpret_sentence('the plot was predictable and boring .', true_label = 0.0)"
   ]
  },
  {
   "cell_type": "code",
   "execution_count": 48,
   "metadata": {},
   "outputs": [
    {
     "name": "stdout",
     "output_type": "stream",
     "text": [
      "sentence = oh god, my eyes.\n",
      "predicted label = 0; gold label = 0\n"
     ]
    },
    {
     "data": {
      "image/png": "[encoded data removed]",
      "text/plain": [
       "<Figure size 432x288 with 2 Axes>"
      ]
     },
     "metadata": {
      "needs_background": "light"
     },
     "output_type": "display_data"
    }
   ],
   "source": [
    "interpret_sentence('oh god, my eyes.', true_label = 0.0)"
   ]
  },
  {
   "cell_type": "code",
   "execution_count": 49,
   "metadata": {},
   "outputs": [
    {
     "name": "stdout",
     "output_type": "stream",
     "text": [
      "sentence = it is a disgusting movie !\n",
      "predicted label = 1; gold label = 0\n"
     ]
    },
    {
     "data": {
      "image/png": "[encoded data removed]",
      "text/plain": [
       "<Figure size 432x288 with 2 Axes>"
      ]
     },
     "metadata": {
      "needs_background": "light"
     },
     "output_type": "display_data"
    }
   ],
   "source": [
    "interpret_sentence('it is a disgusting movie !', true_label = 0.0)"
   ]
  },
  {
   "cell_type": "markdown",
   "metadata": {},
   "source": [
    "Let us now do the last task. We will identify the most important and less important words according to the CNN model. We saw the formula already.\n",
    "\n",
    "$I(w)= \\frac{1}{|E|} \\sum_{e \\in E}  \\frac{S(e,c) - S(e,c,\\neg w)}{S(e,c)} $\n",
    "where $E$ denotes the training examples that contains the word corresponding to $w$ "
   ]
  },
  {
   "cell_type": "code",
   "execution_count": 40,
   "metadata": {},
   "outputs": [],
   "source": [
    "from tqdm import tqdm\n",
    "\n",
    "def compute_word_importance(data_iter, top_k=20):\n",
    "    '''\n",
    "    input:\n",
    "    i) data_iter - iterator over the training examples \n",
    "    ii) top_k - number of most and less important words to output\n",
    "    return:\n",
    "    i) top_k most important words\n",
    "    ii) top_k least important words\n",
    "    '''\n",
    "    \n",
    "    # bookkeeping\n",
    "    word2Sscore = {} # stores word to sum of probability scores\n",
    "    word2count = {} # stores word to number of examples containing this word\n",
    "    \n",
    "    inst_i =0\n",
    "    # run over training examples\n",
    "    for batch in data_iter:\n",
    "      input, label = batch\n",
    "      s_ec = S(model, input.t(), -1, label) # no erasing\n",
    "      # run over all the words in the input\n",
    "      for t_i, token_id in enumerate(input):\n",
    "        s_e = S(model, input.t(), t_i, label) # erase a token\n",
    "        token_str = TEXT.vocab.itos[token_id]\n",
    "        if token_str not in word2Sscore:\n",
    "          word2Sscore[token_str] = 0\n",
    "          word2count[token_str] = 0\n",
    "        word2Sscore[token_str] += (s_ec - s_e)/s_ec\n",
    "        word2count[token_str] += 1\n",
    "      inst_i += 1\n",
    "      if inst_i > 500:\n",
    "       break\n",
    "    \n",
    "    # compute importance score\n",
    "    word2impscore = {}\n",
    "    for token_str in word2Sscore:\n",
    "      word2impscore[token_str] = word2Sscore[token_str] / word2count[token_str]\n",
    "    \n",
    "    # sort the words based on importance\n",
    "    words_to_be_sorted = []\n",
    "    for word in word2impscore:\n",
    "      words_to_be_sorted.append((word2impscore[word], word))\n",
    "    sorted_words = sorted(words_to_be_sorted) # sorts in ascending order in increasing order of importance\n",
    "    \n",
    "    # pick the top k as least important  - lower the importance score lesser the importance \n",
    "    least_important_words = []\n",
    "    for word in sorted_words:\n",
    "      least_important_words.append((word[1], word[0]))\n",
    "      if len(least_important_words) == top_k:\n",
    "        break\n",
    "    \n",
    "    # sort the words based on decreasing order of importance and pick the top k as most important\n",
    "    sorted_words.reverse()\n",
    "    most_important_words = []\n",
    "    for word in sorted_words:\n",
    "      most_important_words.append((word[1], word[0]))\n",
    "      if len(most_important_words) == top_k:\n",
    "        break\n",
    "    \n",
    "    return most_important_words, least_important_words  \n",
    "\n",
    "# create an iterator over instances (usually done with train instances)\n",
    "test_subset, _ = test_full.split(split_ratio=0.1)\n",
    "train_iter = torchtext.data.BucketIterator(dataset=test_subset, batch_size = 1)\n",
    "\n",
    "# identify the most and least important words\n",
    "most_important_words, least_important_words = compute_word_importance(train_iter)"
   ]
  },
  {
   "cell_type": "markdown",
   "metadata": {},
   "source": [
    "Let us print the top 20 most important words."
   ]
  },
  {
   "cell_type": "code",
   "execution_count": 41,
   "metadata": {},
   "outputs": [
    {
     "name": "stdout",
     "output_type": "stream",
     "text": [
      "most important words\n",
      "no.\tword\tscore\n",
      "1\topponent\t0.69\n",
      "2\tcrawled\t0.59\n",
      "3\trepeats\t0.54\n",
      "4\tcontributed\t0.50\n",
      "5\tform.<br\t0.49\n",
      "6\tchaney\t0.40\n",
      "7\tmarcia\t0.40\n",
      "8\tvandalism\t0.37\n",
      "9\tshabby\t0.35\n",
      "10\t/>10\t0.35\n",
      "11\tdirects\t0.35\n",
      "12\ttierney\t0.34\n",
      "13\tquigley\t0.34\n",
      "14\tstationary\t0.32\n",
      "15\tunforgettable\t0.31\n",
      "16\tlinnea\t0.31\n",
      "17\tgripping\t0.30\n",
      "18\tginger\t0.30\n",
      "19\tlon\t0.29\n",
      "20\t10(dir\t0.29\n"
     ]
    }
   ],
   "source": [
    "print('most important words\\nno.\\tword\\tscore')\n",
    "for i, word_score in enumerate(most_important_words):\n",
    "  print('%d\\t%s\\t%.2f'%(i+1, word_score[0], word_score[1]))"
   ]
  },
  {
   "cell_type": "markdown",
   "metadata": {},
   "source": [
    "Let us print the top 20 least important words."
   ]
  },
  {
   "cell_type": "code",
   "execution_count": 42,
   "metadata": {},
   "outputs": [
    {
     "name": "stdout",
     "output_type": "stream",
     "text": [
      "least important words\n",
      "no.\tword\tscore\n",
      "1\tregis\t-34.31\n",
      "2\terika\t-15.15\n",
      "3\teleniak\t-11.20\n",
      "4\taircraft\t-9.21\n",
      "5\tblake\t-6.20\n",
      "6\ttoomey\t-4.63\n",
      "7\tabc\t-2.77\n",
      "8\tflorida\t-2.44\n",
      "9\tschindler\t-2.29\n",
      "10\tbowers\t-2.14\n",
      "11\tprivate\t-2.01\n",
      "12\ttwin\t-1.99\n",
      "13\tannoyance\t-1.97\n",
      "14\tstanwick\t-1.88\n",
      "15\t9\t-1.85\n",
      "16\t/>myrna\t-1.81\n",
      "17\tspringer\t-1.81\n",
      "18\tupright\t-1.66\n",
      "19\tmiscast\t-1.58\n",
      "20\tunlikeable\t-1.51\n"
     ]
    }
   ],
   "source": [
    "print('least important words\\nno.\\tword\\tscore')\n",
    "for i, word_score in enumerate(least_important_words):\n",
    "  print('%d\\t%s\\t%.2f'%(i+1, word_score[0], word_score[1]))"
   ]
  },
  {
   "cell_type": "markdown",
   "metadata": {},
   "source": [
    "That's it!"
   ]
  },
  {
   "cell_type": "code",
   "execution_count": null,
   "metadata": {},
   "outputs": [],
   "source": []
  }
 ],
 "metadata": {
  "kernelspec": {
   "display_name": "Python (ctrl_transformers)",
   "language": "python",
   "name": "ctrl_transformers"
  },
  "language_info": {
   "codemirror_mode": {
    "name": "ipython",
    "version": 3
   },
   "file_extension": ".py",
   "mimetype": "text/x-python",
   "name": "python",
   "nbconvert_exporter": "python",
   "pygments_lexer": "ipython3",
   "version": "3.6.9"
  }
 },
 "nbformat": 4,
 "nbformat_minor": 2
}
