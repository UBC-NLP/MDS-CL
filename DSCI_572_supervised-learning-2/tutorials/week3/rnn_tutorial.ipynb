{
 "cells": [
  {
   "cell_type": "markdown",
   "metadata": {},
   "source": [
    "## Recurrent Neural Networks - Supervised Learning II - MDS Computational Linguistics\n",
    "\n",
    "### Goal of this tutorial\n",
    "- Learn about embedding layer\n",
    "- Introduce Recurrent Neural Networks (RNNs)\n",
    "- Implement RNN for sentiment analysis\n",
    "- Implement Long-Short Term Memories (LSTMs) for sentiment analysis\n",
    "- Implement Gated Recurrent Units (GRUs) for sentiment analysis\n",
    "\n",
    "### General\n",
    "- This notebook was last tested on Python 3.8, PyTorch 1.7.1 and TorchText 0.8.1 (**Strongly recommended to use the same version for doing this tutorial and lab3**)\n",
    "- This notebook uses torchtext to process datasets\n",
    "\n",
    "We would like to acknowledge the following materials that helped as a reference in preparing this tutorial:\n",
    "- https://github.com/UBC-NLP/dlnlp2019/blob/master/slides/RNN.pdf\n",
    "\n",
    "### Getting Started"
   ]
  },
  {
   "cell_type": "code",
   "execution_count": 1,
   "metadata": {},
   "outputs": [],
   "source": [
    "# required imports\n",
    "import pandas as pd\n",
    "import torchtext\n",
    "from torchtext.data import Field, LabelField\n",
    "from torchtext.data import TabularDataset\n",
    "import torch\n",
    "import torch.nn as nn"
   ]
  },
  {
   "cell_type": "markdown",
   "metadata": {},
   "source": [
    "#### Embedding Layer\n",
    "\n",
    "Embedding layer is the ubiquitous input layer of deep neural networks used in NLP."
   ]
  },
  {
   "cell_type": "markdown",
   "metadata": {},
   "source": [
    "The [``Embedding`` layer](https://pytorch.org/docs/stable/generated/torch.nn.Embedding.html#embedding) in Pytorch (that we used in the last week's tutorial on Word2vec) is a lookup table that is typically (in NLP) used to store word embeddings of a fixed vocabulary and word embedding size. Word embeddings can be retrieved from the lookup table by providing a list of word index as input to the layer. We need to know what the input and the output of this layer look like. Let's first look at a dummy example where we have two sentences ``x_1`` and ``x_2``. Let's assume we have the two sentences as:"
   ]
  },
  {
   "cell_type": "code",
   "execution_count": 2,
   "metadata": {},
   "outputs": [],
   "source": [
    "x_1 = \"He is very nice\" # sentence 1\n",
    "x_2 = \"She is very kind\" # sentence 2"
   ]
  },
  {
   "cell_type": "markdown",
   "metadata": {},
   "source": [
    "Let's convert the two sentences into indexes (each word is replaced with its index in the vocabulary).\n",
    "Let's assume our ``vocabulary size`` is set to 100. Remember, vocabulary size is a hyper-parameter.\n",
    "Let's also store that ``vocabulary size`` in a variable ``VOCAB_SIZE`` now as we will need to pass it to the ``Embedding`` layer later."
   ]
  },
  {
   "cell_type": "code",
   "execution_count": 3,
   "metadata": {},
   "outputs": [],
   "source": [
    "x_1 = [1, 25, 40, 5]\n",
    "x_2 = [4, 25, 40, 99]\n",
    "VOCAB_SIZE = 100"
   ]
  },
  {
   "cell_type": "markdown",
   "metadata": {},
   "source": [
    "#### Max sequence length"
   ]
  },
  {
   "cell_type": "markdown",
   "metadata": {},
   "source": [
    "One last thing we need to think about is the ``length of each sequence``. The two examples above are nicely set to equal length = 4. This does not need to be the case, as we can have sequences of varying lengths. We will be passing a batch of sentences to Pytorch and the max sequence length will be set to the length of the longest sentence (after tokenization) in that batch. The rest of sentences (shorter ones) will be padded with zeros. Now, do we need to explicitly provide the max sequence length to Pytorch? And how do we know the max seq length for each batch, if different batches have sequences of varying lengths and each batch is set to the max sent in that batch? Well, rest assured, we don't really need to worry about that. Pytorch will assign a max seq length for each batch. We will be able to inspect the max seq length for a given batch using output of the ``Embedding`` layer. (We will see that soon)."
   ]
  },
  {
   "cell_type": "markdown",
   "metadata": {},
   "source": [
    "#### Size of word vector"
   ]
  },
  {
   "cell_type": "markdown",
   "metadata": {},
   "source": [
    "The ``Embedding`` layer will give us a vector for each word in the vocabulary.\n",
    "Now, we will need to tell it what size we want for that vector. Popular values for a vector size are usually between 100-300 for many tasks (e.g., sentiment analysis). Let's set it to 200 dimensions. (You are encouraged to play with this value as practice). All words in the vocabulary will have the same embedding size. Let's put that hyper-parameter in a variable ``WORD_VEC_SIZE``:"
   ]
  },
  {
   "cell_type": "code",
   "execution_count": 4,
   "metadata": {},
   "outputs": [],
   "source": [
    "WORD_VEC_SIZE= 300 # size of word embedding"
   ]
  },
  {
   "cell_type": "markdown",
   "metadata": {},
   "source": [
    "We are now ready to call the ``Embedding`` class to construct an embeddings tensor:"
   ]
  },
  {
   "cell_type": "code",
   "execution_count": 5,
   "metadata": {},
   "outputs": [
    {
     "name": "stdout",
     "output_type": "stream",
     "text": [
      "size of the embedding lookup table =  torch.Size([100, 300])\n",
      "input (word indices) tensor = \n",
      " tensor([[ 1, 25, 40,  5],\n",
      "        [ 4, 25, 40, 99]])\n",
      "input (word indices) shape =  torch.Size([2, 4])\n"
     ]
    }
   ],
   "source": [
    "# Constructing an embedding Layer:\n",
    "embedding = nn.Embedding(VOCAB_SIZE, WORD_VEC_SIZE)\n",
    "print(\"size of the embedding lookup table = \", embedding.weight.data.size())\n",
    "\n",
    "# let's create a sample input (word indices) to the embedding layer \n",
    "sample_input = torch.LongTensor([ x_1, x_2 ])\n",
    "print(\"input (word indices) tensor = \\n\", sample_input)\n",
    "print(\"input (word indices) shape = \", sample_input.size())"
   ]
  },
  {
   "cell_type": "markdown",
   "metadata": {},
   "source": [
    "Let's pass the input to the embedding layer and print the word embeddings:"
   ]
  },
  {
   "cell_type": "code",
   "execution_count": 6,
   "metadata": {},
   "outputs": [
    {
     "name": "stdout",
     "output_type": "stream",
     "text": [
      "word embeddings tensor = \n",
      " tensor([[[ 0.9798, -1.1870, -0.6102,  ..., -0.6211,  1.7830, -0.9271],\n",
      "         [-0.7827,  0.9486,  0.2277,  ...,  0.5441,  0.3347,  0.5759],\n",
      "         [ 0.6719, -0.4324,  0.2741,  ...,  0.2009, -0.4020, -0.0463],\n",
      "         [-1.2636, -1.8215,  0.4899,  ...,  0.9269, -1.2691, -0.3428]],\n",
      "\n",
      "        [[-1.4824, -0.4423,  0.1434,  ..., -0.4140, -2.7924, -1.7520],\n",
      "         [-0.7827,  0.9486,  0.2277,  ...,  0.5441,  0.3347,  0.5759],\n",
      "         [ 0.6719, -0.4324,  0.2741,  ...,  0.2009, -0.4020, -0.0463],\n",
      "         [ 0.1956, -0.6984,  2.5623,  ...,  0.4133,  0.7928,  0.1284]]],\n",
      "       grad_fn=<EmbeddingBackward>)\n"
     ]
    }
   ],
   "source": [
    "# let's pass the input to the embedding layer\n",
    "word_embeddings = embedding(sample_input)\n",
    "print(\"word embeddings tensor = \\n\", word_embeddings)"
   ]
  },
  {
   "cell_type": "markdown",
   "metadata": {},
   "source": [
    "Let's print the shape of this tensor:"
   ]
  },
  {
   "cell_type": "code",
   "execution_count": 7,
   "metadata": {},
   "outputs": [
    {
     "name": "stdout",
     "output_type": "stream",
     "text": [
      "word embeddings shape =  torch.Size([2, 4, 300])\n"
     ]
    }
   ],
   "source": [
    "print(\"word embeddings shape = \", word_embeddings.size())"
   ]
  },
  {
   "cell_type": "markdown",
   "metadata": {},
   "source": [
    "Each dimension can be interpreted as:\n",
    "- **First dimension:** (**2**,4,300): We have ``2 examples`` (that is, our ``x_1`` and ``x_2``). (Note: We will be passing a whole batch to the ``Embedding`` class and so this first dimension will be equal to the ``batch size``.\n",
    "- **Second dimension:** (2,**4**,300): For each of the two examples, we have a ``max sequence length`` = 4 (x_1 and x_2 each had 4 indexes).\n",
    "- **Third dimension:** (2,4,**300**): The ``word vector dimension`` is set to 300."
   ]
  },
  {
   "cell_type": "markdown",
   "metadata": {},
   "source": [
    "### Max sequence length: Another note"
   ]
  },
  {
   "cell_type": "markdown",
   "metadata": {},
   "source": [
    "Recall from above we mentioned Pytorch automatically infers the max sequence length for each batch. \n",
    "For the example above (as you can see from the second dimension returned by ``word_embeddings.size()``, Pytorch \n",
    "inferred the max seq length for this batch of two sentences is 4.\n",
    "\n",
    "Let's just adjust the second example, **adding two more words** (the string \"and kind\"). Note, both our ``VOCAB_SIZE`` and ``WORD_VEC_SIZE`` stay the same as before. We assign the word \"and\" an index of \"7\" and the word \"considerate\" an index of \"60\". Note that we have to pad the first example ``x_1`` with zeros (we will explicitly set the padding index to zero later when we define the embedding layer) in the end. (Try removing the zero padding. What do you observe when you run your code with the ``Embedding`` class? Hint: You will get an error.):"
   ]
  },
  {
   "cell_type": "code",
   "execution_count": 8,
   "metadata": {},
   "outputs": [],
   "source": [
    "x_1 = \"He is very nice\"\n",
    "x_2 = \"She is very kind and considerate\"\n",
    "x_1 = [1, 25, 40, 5, 0, 0]\n",
    "x_2 = [4, 25, 40, 99, 7, 60]"
   ]
  },
  {
   "cell_type": "markdown",
   "metadata": {},
   "source": [
    "Now, let's create a new ``embedding`` layer by creating a new instance of the ``Embedding`` class:"
   ]
  },
  {
   "cell_type": "code",
   "execution_count": 9,
   "metadata": {},
   "outputs": [
    {
     "name": "stdout",
     "output_type": "stream",
     "text": [
      "size of the embedding lookup table =  torch.Size([100, 300])\n"
     ]
    }
   ],
   "source": [
    "# constructing an embedding layer:\n",
    "padded_embedding = nn.Embedding(VOCAB_SIZE, WORD_VEC_SIZE, padding_idx=0)\n",
    "print(\"size of the embedding lookup table = \", padded_embedding.weight.data.size())"
   ]
  },
  {
   "cell_type": "markdown",
   "metadata": {},
   "source": [
    "Note that **padded_embedding** embedding layer specifies the padding index (corresponds to an embedding initialized to all zeros). In this example, the zeroth index is dedicated for storing padding embedding (vector initialized to all zeros).\n",
    "\n",
    "Let's create sample input and pass it to the embedding layer."
   ]
  },
  {
   "cell_type": "code",
   "execution_count": 10,
   "metadata": {},
   "outputs": [
    {
     "name": "stdout",
     "output_type": "stream",
     "text": [
      "input (word indices) tensor = \n",
      " tensor([[ 1, 25, 40,  5,  0,  0],\n",
      "        [ 4, 25, 40, 99,  7, 60]])\n",
      "input (word indices) shape =  torch.Size([2, 6])\n",
      "tensor([[[-0.0582,  1.1280,  0.0884,  ..., -0.6426, -0.9552,  1.6909],\n",
      "         [ 1.6845,  0.8643,  0.2674,  ..., -0.1617, -0.0915, -0.1291],\n",
      "         [-0.6820, -1.4999, -0.1746,  ..., -0.6563,  2.1366,  0.1573],\n",
      "         [ 0.1073, -1.8373, -0.9552,  ..., -1.4102, -0.2065,  1.0237],\n",
      "         [ 0.0000,  0.0000,  0.0000,  ...,  0.0000,  0.0000,  0.0000],\n",
      "         [ 0.0000,  0.0000,  0.0000,  ...,  0.0000,  0.0000,  0.0000]],\n",
      "\n",
      "        [[ 1.6686, -0.0532,  0.5033,  ..., -0.0621,  0.0885, -0.4420],\n",
      "         [ 1.6845,  0.8643,  0.2674,  ..., -0.1617, -0.0915, -0.1291],\n",
      "         [-0.6820, -1.4999, -0.1746,  ..., -0.6563,  2.1366,  0.1573],\n",
      "         [-0.6999, -0.1217,  1.1299,  ...,  0.1976, -1.0592, -1.5562],\n",
      "         [-0.8967, -0.3685, -0.9641,  ...,  0.0572,  1.1357, -0.7211],\n",
      "         [-0.2081, -1.8562,  0.4156,  ...,  0.5736,  0.5827,  0.8854]]],\n",
      "       grad_fn=<EmbeddingBackward>)\n"
     ]
    }
   ],
   "source": [
    "# let's create a sample input\n",
    "sample_input = torch.LongTensor([ x_1, x_2 ])\n",
    "print(\"input (word indices) tensor = \\n\", sample_input)\n",
    "print(\"input (word indices) shape = \", sample_input.size())\n",
    "\n",
    "# let's retrieve the word embeddings by passing the sample input to the layer\n",
    "word_embeddings = padded_embedding(sample_input)\n",
    "print(word_embeddings)"
   ]
  },
  {
   "cell_type": "markdown",
   "metadata": {},
   "source": [
    "If we inspect the shape of the new tensor ``word_embeddings``, we will see the second dimension now changed to 6, to match the max sequence length:"
   ]
  },
  {
   "cell_type": "code",
   "execution_count": 11,
   "metadata": {},
   "outputs": [
    {
     "name": "stdout",
     "output_type": "stream",
     "text": [
      "torch.Size([2, 6, 300])\n"
     ]
    }
   ],
   "source": [
    "print(word_embeddings.size())"
   ]
  },
  {
   "cell_type": "markdown",
   "metadata": {},
   "source": [
    "### How does Pytorch initialize word vector dimensions/weights?"
   ]
  },
  {
   "cell_type": "markdown",
   "metadata": {},
   "source": [
    "Note that Pytorch initializes the word vectors from a **normal distribution** $ \\mathcal{N}(0, 1) $. The word embedding weights are by default learnable parameters in Pytorch and so they will be adjusted during training. (Note: These weights can be initialized from an external word embedding tool such as [Word2vec](https://code.google.com/archive/p/word2vec/), [Fasttext](https://fasttext.cc/), or [Glove](https://nlp.stanford.edu/projects/glove/). Also, the weights can be frozen (by setting ``embedding.weigh.required_grad`` flag to False), which is a reasonable option when initialized from an external tool. You can choose to keep learning them within the model with your training data). Below we show the ones initialized from a normal distribution by Pytorch."
   ]
  },
  {
   "cell_type": "code",
   "execution_count": 12,
   "metadata": {},
   "outputs": [
    {
     "data": {
      "text/plain": [
       "Parameter containing:\n",
       "tensor([[-1.0032,  1.1493, -0.6488,  ..., -0.9187, -0.6707, -0.0932],\n",
       "        [ 0.9798, -1.1870, -0.6102,  ..., -0.6211,  1.7830, -0.9271],\n",
       "        [ 1.5862,  1.0643,  1.0893,  ...,  0.3026,  0.0307, -2.3768],\n",
       "        ...,\n",
       "        [ 0.0657,  0.4122, -0.5181,  ...,  0.4328,  0.3826,  1.4511],\n",
       "        [ 1.1297, -0.8527, -1.2060,  ..., -1.3148,  0.2078, -1.2655],\n",
       "        [ 0.1956, -0.6984,  2.5623,  ...,  0.4133,  0.7928,  0.1284]],\n",
       "       requires_grad=True)"
      ]
     },
     "execution_count": 12,
     "metadata": {},
     "output_type": "execute_result"
    }
   ],
   "source": [
    "embedding.weight"
   ]
  },
  {
   "cell_type": "markdown",
   "metadata": {},
   "source": [
    "More information about the ``Embedding`` class can be found [here](https://pytorch.org/docs/stable/generated/torch.nn.Embedding.html) ([source code](https://pytorch.org/docs/stable/_modules/torch/nn/modules/sparse.html#Embedding))."
   ]
  },
  {
   "cell_type": "markdown",
   "metadata": {},
   "source": [
    "## Recurrent Neural Networks\n",
    "Recurrent Neural Networks (RNNs) are used to model sequences of arbitrary length (e.g., sequence of words in a sentence, sequence of sentences in a document, sequence of frames in a video). RNNs typically use their internal state (memory) to process sequence of inputs. At each time-step, RNNs output a prediction and hidden state, feeding its previous hidden state into each next step. RNNs are applied in a wide range of NLP applications:\n",
    "- language modeling, where RNN can condition on **all** previous words in the corpus unlike n-gram language model\n",
    "- text classification, where the states act as features (we will see sentiment analysis in this tutorial)\n",
    "- machine translation, where a RNN is used to process a sentence in source language and another RNN is used to decode the sentence in target language (we will see this in the \"Machine Translation\" course)\n",
    "- sequence labeling, where the states in RNN are used to predict a category for each item in the sequence \n",
    "\n",
    "Recommended reading for understanding the theory of RNNs: https://github.com/UBC-NLP/dlnlp2019/blob/master/slides/RNN.pdf \n"
   ]
  },
  {
   "cell_type": "markdown",
   "metadata": {},
   "source": [
    "### Grabbing few tweets using torchtext"
   ]
  },
  {
   "cell_type": "markdown",
   "metadata": {},
   "source": [
    "Let us follow **torchtext** tutorial (seen in Week1) to read few tweets from the [sentiment analysis dataset](http://alt.qcri.org/semeval2016/task4/) used in the previous tutorial on feedforward neural networks. The preprocessed (tokenization, removing URLs, mentions, hashtags and so on) tweets are placed under ``data/sentiment-twitter-2016-task4`` folder in three files as ``train.tsv``, ``dev.tsv`` and ``test.tsv``.  \n",
    "\n",
    "Let us view few tweets from ``train.tsv`` using pandas."
   ]
  },
  {
   "cell_type": "code",
   "execution_count": 13,
   "metadata": {},
   "outputs": [
    {
     "data": {
      "text/html": [
       "<div>\n",
       "<style scoped>\n",
       "    .dataframe tbody tr th:only-of-type {\n",
       "        vertical-align: middle;\n",
       "    }\n",
       "\n",
       "    .dataframe tbody tr th {\n",
       "        vertical-align: top;\n",
       "    }\n",
       "\n",
       "    .dataframe thead th {\n",
       "        text-align: right;\n",
       "    }\n",
       "</style>\n",
       "<table border=\"1\" class=\"dataframe\">\n",
       "  <thead>\n",
       "    <tr style=\"text-align: right;\">\n",
       "      <th></th>\n",
       "      <th>tweet</th>\n",
       "      <th>label</th>\n",
       "    </tr>\n",
       "  </thead>\n",
       "  <tbody>\n",
       "    <tr>\n",
       "      <th>0</th>\n",
       "      <td>dear &lt;&lt;&lt;MENTION&gt;&gt;&gt; the newooffice for mac is g...</td>\n",
       "      <td>2</td>\n",
       "    </tr>\n",
       "    <tr>\n",
       "      <th>1</th>\n",
       "      <td>&lt;&lt;&lt;MENTION&gt;&gt;&gt; how about you make a system that...</td>\n",
       "      <td>2</td>\n",
       "    </tr>\n",
       "    <tr>\n",
       "      <th>2</th>\n",
       "      <td>i may be ignorant on this issue but should we ...</td>\n",
       "      <td>2</td>\n",
       "    </tr>\n",
       "    <tr>\n",
       "      <th>3</th>\n",
       "      <td>thanks to &lt;&lt;&lt;MENTION&gt;&gt;&gt; i just may be switchin...</td>\n",
       "      <td>2</td>\n",
       "    </tr>\n",
       "    <tr>\n",
       "      <th>4</th>\n",
       "      <td>if i make a game as a &lt;&lt;&lt;HASHTAG&gt;&gt;&gt; universal ...</td>\n",
       "      <td>0</td>\n",
       "    </tr>\n",
       "  </tbody>\n",
       "</table>\n",
       "</div>"
      ],
      "text/plain": [
       "                                               tweet  label\n",
       "0  dear <<<MENTION>>> the newooffice for mac is g...      2\n",
       "1  <<<MENTION>>> how about you make a system that...      2\n",
       "2  i may be ignorant on this issue but should we ...      2\n",
       "3  thanks to <<<MENTION>>> i just may be switchin...      2\n",
       "4  if i make a game as a <<<HASHTAG>>> universal ...      0"
      ]
     },
     "execution_count": 13,
     "metadata": {},
     "output_type": "execute_result"
    }
   ],
   "source": [
    "import pandas as pd\n",
    "df = pd.read_csv(\"./data/sentiment-twitter-2016-task4/train.tsv\", sep = '\\t', header=None, names=['tweet','label']) # the separator of tsv file is `\\t`\n",
    "df.head()"
   ]
  },
  {
   "cell_type": "markdown",
   "metadata": {},
   "source": [
    "**We import the relevant packages, define the tokenizer and TorchText's fields.**"
   ]
  },
  {
   "cell_type": "code",
   "execution_count": 14,
   "metadata": {},
   "outputs": [
    {
     "name": "stderr",
     "output_type": "stream",
     "text": [
      "/anaconda3/envs/tony/lib/python3.8/site-packages/torchtext/data/field.py:150: UserWarning: Field class will be retired soon and moved to torchtext.legacy. Please see the most recent release notes for further information.\n",
      "  warnings.warn('{} class will be retired soon and moved to torchtext.legacy. Please see the most recent release notes for further information.'.format(self.__class__.__name__), UserWarning)\n"
     ]
    }
   ],
   "source": [
    "# import related packages\n",
    "import torchtext\n",
    "from torchtext.data import Field, LabelField\n",
    "from torchtext.data import TabularDataset\n",
    "\n",
    "# define the white space tokenizer to get tokens\n",
    "def tokenize_en(tweet):\n",
    "    \"\"\"\n",
    "    Tokenizes English tweet from a string into a list of strings (tokens)\n",
    "    \"\"\"\n",
    "    return tweet.strip().split()\n",
    "\n",
    "# define the TorchText's fields\n",
    "TEXT = Field(sequential=True, tokenize=tokenize_en, lower=True)\n",
    "LABEL = Field(sequential=False, unk_token = None)"
   ]
  },
  {
   "cell_type": "markdown",
   "metadata": {},
   "source": [
    "**To use the different splits (training, development and testing), we use `TabularDataset` class to load datasets.**"
   ]
  },
  {
   "cell_type": "code",
   "execution_count": 15,
   "metadata": {},
   "outputs": [
    {
     "name": "stderr",
     "output_type": "stream",
     "text": [
      "/anaconda3/envs/tony/lib/python3.8/site-packages/torchtext/data/example.py:68: UserWarning: Example class will be retired soon and moved to torchtext.legacy. Please see the most recent release notes for further information.\n",
      "  warnings.warn('Example class will be retired soon and moved to torchtext.legacy. Please see the most recent release notes for further information.', UserWarning)\n",
      "/anaconda3/envs/tony/lib/python3.8/site-packages/torchtext/data/example.py:78: UserWarning: Example class will be retired soon and moved to torchtext.legacy. Please see the most recent release notes for further information.\n",
      "  warnings.warn('Example class will be retired soon and moved to torchtext.legacy. Please see the most recent release notes for further information.', UserWarning)\n"
     ]
    }
   ],
   "source": [
    "train, val, test = TabularDataset.splits(\n",
    "    path=\"./data/sentiment-twitter-2016-task4/\", # the root directory where the data lies\n",
    "    train='train.tsv', validation=\"dev.tsv\", test=\"test.tsv\", # file names\n",
    "    format='tsv',\n",
    "    skip_header=False, # if your tsv file has a header, make sure to pass this to ensure it doesn't get proceesed as data!\n",
    "    fields=[('tweet', TEXT), ('label', LABEL)])"
   ]
  },
  {
   "cell_type": "markdown",
   "metadata": {},
   "source": [
    "**Build our vocabulary to map words to integers.**"
   ]
  },
  {
   "cell_type": "code",
   "execution_count": 16,
   "metadata": {},
   "outputs": [],
   "source": [
    "TEXT.build_vocab(train, min_freq=3) # builds vocabulary based on all the words that occur at least twice in the training set\n",
    "LABEL.build_vocab(train)"
   ]
  },
  {
   "cell_type": "markdown",
   "metadata": {},
   "source": [
    "**Initialize the iterators for the train, validation, and test data. Note that we set ``sort`` as `False` so as to not sort examples based on similar lengths which minimizes padding.**"
   ]
  },
  {
   "cell_type": "code",
   "execution_count": 17,
   "metadata": {},
   "outputs": [
    {
     "name": "stderr",
     "output_type": "stream",
     "text": [
      "/anaconda3/envs/tony/lib/python3.8/site-packages/torchtext/data/iterator.py:48: UserWarning: BucketIterator class will be retired soon and moved to torchtext.legacy. Please see the most recent release notes for further information.\n",
      "  warnings.warn('{} class will be retired soon and moved to torchtext.legacy. Please see the most recent release notes for further information.'.format(self.__class__.__name__), UserWarning)\n"
     ]
    }
   ],
   "source": [
    "from torchtext.data import Iterator, BucketIterator\n",
    "\n",
    "train_iter, val_iter, test_iter = BucketIterator.splits(\n",
    " (train, val, test), # we pass in the datasets we want the iterator to draw data from\n",
    " batch_sizes=(4,64,64),\n",
    " sort_key=lambda x: len(x.tweet), \n",
    " sort=False,\n",
    "# A key to use for sorting examples in order to batch together examples with similar lengths and minimize padding. \n",
    " sort_within_batch=False\n",
    ")"
   ]
  },
  {
   "cell_type": "markdown",
   "metadata": {},
   "source": [
    "**Create a batch of four examples and print them**"
   ]
  },
  {
   "cell_type": "code",
   "execution_count": 18,
   "metadata": {},
   "outputs": [
    {
     "name": "stdout",
     "output_type": "stream",
     "text": [
      "processed tweets: \n",
      "0  sample: ['granted', \"i'm\", '<unk>', 'it', 'to', 'giving', 'birth', 'to', 'our', 'kid', 'but', \"i'll\", 'add', 'my', 'well', 'that', 'was', '<unk>', 'to', 'the', '<unk>', 're', 'amazon', 'prime', 'day']  label: 2\n",
      "1  sample: ['<<<mention>>>', 'when', 'you', 'talk', 'about', 'ben', 'carson', 'please', 'show', 'him', 'not', 'jeb', 'bush', 'like', 'you', 'did', 'on', 'your', 'thurs', 'show', '<pad>', '<pad>', '<pad>', '<pad>', '<pad>']  label: 2\n",
      "2  sample: ['in', 'the', 'ufc', 'game', 'conor', 'mcgregor', 'is', 'the', '<unk>', 'in', 'his', 'weight', 'class', 'but', 'guess', 'who', 'is', 'champion', 'now', '<<<url>>>', '<pad>', '<pad>', '<pad>', '<pad>', '<pad>']  label: 1\n",
      "3  sample: [\"harper's\", 'worst', '<unk>', 'against', 'refugees', 'may', 'be', 'climate', 'record', 'as', 'rising', '<unk>', 'add', 'to', '<unk>', 'in', 'the', 'middle', 'east', '<<<url>>>', '<pad>', '<pad>', '<pad>', '<pad>', '<pad>']  label: 1\n"
     ]
    },
    {
     "name": "stderr",
     "output_type": "stream",
     "text": [
      "/anaconda3/envs/tony/lib/python3.8/site-packages/torchtext/data/batch.py:23: UserWarning: Batch class will be retired soon and moved to torchtext.legacy. Please see the most recent release notes for further information.\n",
      "  warnings.warn('{} class will be retired soon and moved to torchtext.legacy. Please see the most recent release notes for further information.'.format(self.__class__.__name__), UserWarning)\n"
     ]
    }
   ],
   "source": [
    "# create a single batch and terminate the loop\n",
    "for batch in train_iter:\n",
    "    tweets = batch.tweet\n",
    "    labels = batch.label\n",
    "    break  #we use first batch as an example.\n",
    "\n",
    "# print the four examples with padding and corresponding label\n",
    "print(\"processed tweets: \")\n",
    "for j in range(tweets.shape[1]): # sample loop\n",
    "    tokens = []\n",
    "    for i in range(tweets.shape[0]): # token loop\n",
    "        tokens.append(TEXT.vocab.itos[tweets[i,j]])\n",
    "    print(j,\" sample:\",tokens,\" label:\", labels[j].item())"
   ]
  },
  {
   "cell_type": "markdown",
   "metadata": {},
   "source": [
    "**Now we set ``sort`` as `True` so as to sort examples based on similar lengths which minimizes padding.**\n",
    "\n",
    "**Let us initialize the new iterators for the train, validation, and test data.**"
   ]
  },
  {
   "cell_type": "code",
   "execution_count": 19,
   "metadata": {},
   "outputs": [],
   "source": [
    "train_iter, val_iter, test_iter = BucketIterator.splits(\n",
    " (train, val, test), # we pass in the datasets we want the iterator to draw data from\n",
    " batch_sizes=(4,64,64),\n",
    " sort_key=lambda x: len(x.tweet), \n",
    " sort=True,\n",
    "# A key to use for sorting examples in order to batch together examples with similar lengths and minimize padding. \n",
    " sort_within_batch=True\n",
    ")"
   ]
  },
  {
   "cell_type": "markdown",
   "metadata": {},
   "source": [
    "**Let us pick up 4 tweets from the training set and convert them to tensors.**\n",
    "\n",
    "**Create a batch of four examples and print them**"
   ]
  },
  {
   "cell_type": "code",
   "execution_count": 20,
   "metadata": {},
   "outputs": [
    {
     "name": "stdout",
     "output_type": "stream",
     "text": [
      "processed tweets: \n",
      "0  sample: ['ihop', 'is', 'the', 'move', 'tomorrow']  label: 0\n",
      "1  sample: ['<<<mention>>>', 'make', 'david', 'beckham', 'tomorrow']  label: 1\n",
      "2  sample: ['bringing', 'the', 'bentley', 'out', 'tomorrow']  label: 0\n",
      "3  sample: ['new', '<unk>', 'with', 'bentley', 'tomorrow']  label: 0\n"
     ]
    }
   ],
   "source": [
    "# create a single batch and terminate the loop\n",
    "for batch in train_iter:\n",
    "    tweets = batch.tweet\n",
    "    labels = batch.label\n",
    "    break  #we use first batch as an example.\n",
    "\n",
    "# print the four examples with padding and corresponding label\n",
    "print(\"processed tweets: \")\n",
    "for j in range(tweets.shape[1]): # sample loop\n",
    "    tokens = []\n",
    "    for i in range(tweets.shape[0]): # token loop\n",
    "        tokens.append(TEXT.vocab.itos[tweets[i,j]])\n",
    "    print(j,\" sample:\",tokens,\" label:\", labels[j].item())"
   ]
  },
  {
   "cell_type": "code",
   "execution_count": null,
   "metadata": {},
   "outputs": [],
   "source": []
  },
  {
   "cell_type": "markdown",
   "metadata": {},
   "source": [
    "### Creating a single hidden layer RNN\n",
    "\n",
    "PyTorch has ``torch.nn.RNN`` module that implements the vanilla (Elman) RNN with *tanh* or *ReLU* non-linearity. The documentation for this module is [here](https://pytorch.org/docs/stable/generated/torch.nn.RNN.html?highlight=nn%20rnn#torch.nn.RNN). Let us use the sample batch of five examples created before to understand this module.\n",
    "\n",
    "In this tutorial, we will represent the input tweet using a sequence of word embeddings (for each word present in the tweet). We will use ``torch.nn.Embedding`` layer to store word vectors corresponding to words in the vocabulary.\n",
    "\n",
    "Before implementing the embedding module for our usecase, let us compute the size of the word vocabulary."
   ]
  },
  {
   "cell_type": "code",
   "execution_count": 21,
   "metadata": {},
   "outputs": [
    {
     "name": "stdout",
     "output_type": "stream",
     "text": [
      "3338\n"
     ]
    }
   ],
   "source": [
    "# print the size of the word vocabulary\n",
    "VOCAB_SIZE = len(TEXT.vocab.stoi)\n",
    "print(VOCAB_SIZE)"
   ]
  },
  {
   "cell_type": "markdown",
   "metadata": {},
   "source": [
    "We have 3338 unique words in the vocabulary."
   ]
  },
  {
   "cell_type": "markdown",
   "metadata": {},
   "source": [
    "Let us implement the embedding module (whose underlying weight matrix shape is (``vocabulary size`` $\\times$ ``word embedding size``) for our usecase:"
   ]
  },
  {
   "cell_type": "code",
   "execution_count": 22,
   "metadata": {},
   "outputs": [
    {
     "name": "stdout",
     "output_type": "stream",
     "text": [
      "lookup table shape =  torch.Size([3338, 300])\n"
     ]
    }
   ],
   "source": [
    "# set the word embedding size\n",
    "WORD_VEC_SIZE = 300\n",
    "\n",
    "# an Embedding module containing 300 dimensional tensor for each word in the vocabulary\n",
    "# Note, the parameters to Embedding class below are:\n",
    "# num_embeddings (int): size of the dictionary of embeddings\n",
    "# embedding_dim (int): the size of each embedding vector\n",
    "# For more details on Embedding class, see: https://github.com/pytorch/pytorch/blob/master/torch/nn/modules/sparse.py\n",
    "embedding = nn.Embedding(VOCAB_SIZE, WORD_VEC_SIZE, sparse=True)\n",
    "print(\"lookup table shape = \", embedding.weight.size())"
   ]
  },
  {
   "cell_type": "markdown",
   "metadata": {},
   "source": [
    "Let us now feed the tensors of our sample batch to the embedding module and extract the sequence of word embeddings for each tweet."
   ]
  },
  {
   "cell_type": "code",
   "execution_count": 23,
   "metadata": {},
   "outputs": [
    {
     "name": "stdout",
     "output_type": "stream",
     "text": [
      "************************************************** \n",
      " Word ids for the first batch (recall, it has 4 sentences, each column representing a sentence): \n",
      " tensor([[ 191,    4, 1273,   49],\n",
      "        [  14,   82,    2,    0],\n",
      "        [   2,   73,  215,   18],\n",
      "        [ 598,  145,   48,  215],\n",
      "        [  21,   21,   21,   21]]) \n",
      " **************************************************\n",
      "************************************************** \n",
      " Tweet input word embeddings size:  torch.Size([5, 4, 300]) \n",
      " **************************************************\n"
     ]
    }
   ],
   "source": [
    "# print tensor containing word ids for our batch\n",
    "print(\"*\"*50, \"\\n Word ids for the first batch (recall, it has 4 sentences, each column representing a sentence): \\n\", tweets.data, \"\\n\",\"*\"*50,)\n",
    "\n",
    "# feed the \"word ids\" tensor to the embedding module\n",
    "tweet_input_embeddings = embedding(tweets)\n",
    "\n",
    "# print the dimensions of the tweet_embeddings\n",
    "print(\"*\"*50, \"\\n Tweet input word embeddings size: \", tweet_input_embeddings.size(), \"\\n\",\"*\"*50,) \n",
    "# first dimension - sequence length: number of words per example (same across the whole batch, after padding) --> max_seq = 22\n",
    "# second dimension -  batch size / number of examples in the batch --> 4\n",
    "# third dimension - number of dimensions in the word vector"
   ]
  },
  {
   "cell_type": "markdown",
   "metadata": {},
   "source": [
    "  "
   ]
  },
  {
   "cell_type": "markdown",
   "metadata": {},
   "source": [
    "Let's actually view the actual word embeddings tensor for this batch:"
   ]
  },
  {
   "cell_type": "code",
   "execution_count": 24,
   "metadata": {},
   "outputs": [
    {
     "name": "stdout",
     "output_type": "stream",
     "text": [
      "************************************************** \n",
      " Embeddings for the first batch: \n",
      " tensor([[[-0.3152, -1.0347,  2.4082,  ...,  0.2543, -0.8464,  0.7146],\n",
      "         [-0.5987,  1.0007,  0.3721,  ...,  0.8515,  0.0784,  0.6186],\n",
      "         [-0.2582, -2.1945, -0.0172,  ..., -0.6653, -1.2621,  0.6183],\n",
      "         [ 0.3153,  0.5245, -0.2765,  ..., -1.8035,  1.1769,  1.6999]],\n",
      "\n",
      "        [[ 0.8911,  0.1990, -1.3665,  ..., -0.9696,  0.2140,  1.0128],\n",
      "         [-0.7123,  0.0674,  0.8630,  ..., -0.1489,  1.5371, -0.3056],\n",
      "         [ 1.4509, -0.9218,  2.5389,  ..., -1.4941,  0.2399,  0.7264],\n",
      "         [-2.0550,  0.6465, -0.7391,  ...,  0.8182,  0.9721, -0.3993]],\n",
      "\n",
      "        [[ 1.4509, -0.9218,  2.5389,  ..., -1.4941,  0.2399,  0.7264],\n",
      "         [ 0.0084,  0.9770, -0.0948,  ..., -0.5597,  1.5041,  1.1349],\n",
      "         [ 0.2611, -1.3939, -1.3628,  ..., -1.3538, -0.3191,  1.3667],\n",
      "         [ 0.3166,  0.3445, -0.8028,  ..., -1.0034, -0.2659, -0.4560]],\n",
      "\n",
      "        [[-0.6088, -0.2902, -0.2125,  ...,  0.3276, -0.2722, -1.1722],\n",
      "         [-0.6464, -1.1903,  1.7031,  ...,  0.1771,  1.1368, -1.1696],\n",
      "         [-0.0087, -0.5768, -0.2235,  ..., -2.5678,  1.5967, -0.5681],\n",
      "         [ 0.2611, -1.3939, -1.3628,  ..., -1.3538, -0.3191,  1.3667]],\n",
      "\n",
      "        [[ 1.1251, -0.7530,  0.7025,  ..., -0.3592, -0.1625,  0.0032],\n",
      "         [ 1.1251, -0.7530,  0.7025,  ..., -0.3592, -0.1625,  0.0032],\n",
      "         [ 1.1251, -0.7530,  0.7025,  ..., -0.3592, -0.1625,  0.0032],\n",
      "         [ 1.1251, -0.7530,  0.7025,  ..., -0.3592, -0.1625,  0.0032]]],\n",
      "       grad_fn=<EmbeddingBackward>) \n",
      " **************************************************\n"
     ]
    }
   ],
   "source": [
    "print(\"*\"*50, \"\\n Embeddings for the first batch: \\n\", tweet_input_embeddings, \"\\n\",\"*\"*50,) "
   ]
  },
  {
   "cell_type": "markdown",
   "metadata": {},
   "source": [
    "What we are seeing is the actual word vectors representing each of the 4 sentences (i.e., whole batch).\n",
    "This is dimension 2 in ``tweet_input_embeddings``. "
   ]
  },
  {
   "cell_type": "code",
   "execution_count": 25,
   "metadata": {},
   "outputs": [
    {
     "data": {
      "text/plain": [
       "4"
      ]
     },
     "execution_count": 25,
     "metadata": {},
     "output_type": "execute_result"
    }
   ],
   "source": [
    "tweet_input_embeddings.size()[1]"
   ]
  },
  {
   "cell_type": "markdown",
   "metadata": {},
   "source": [
    "As mentioned, ``max_seq length`` for this batch is ``5``, which is dimension 1 (indexed as 0 in Pytorch, similar to Python) \n",
    "in ``tweet_input_embeddings``: "
   ]
  },
  {
   "cell_type": "code",
   "execution_count": 26,
   "metadata": {},
   "outputs": [
    {
     "data": {
      "text/plain": [
       "5"
      ]
     },
     "execution_count": 26,
     "metadata": {},
     "output_type": "execute_result"
    }
   ],
   "source": [
    "tweet_input_embeddings.size()[0]"
   ]
  },
  {
   "cell_type": "markdown",
   "metadata": {},
   "source": [
    "Now, dimension 3 in ``tweet_input_embeddings`` (indexed as 2) is the size of the word vectors:"
   ]
  },
  {
   "cell_type": "code",
   "execution_count": 27,
   "metadata": {},
   "outputs": [
    {
     "data": {
      "text/plain": [
       "300"
      ]
     },
     "execution_count": 27,
     "metadata": {},
     "output_type": "execute_result"
    }
   ],
   "source": [
    "tweet_input_embeddings.size()[2]"
   ]
  },
  {
   "cell_type": "markdown",
   "metadata": {},
   "source": [
    "Let's look at the vector for the ``first word`` in the ``first sentence`` in the batch:"
   ]
  },
  {
   "cell_type": "code",
   "execution_count": 28,
   "metadata": {},
   "outputs": [
    {
     "data": {
      "text/plain": [
       "torch.Size([1, 1, 300])"
      ]
     },
     "execution_count": 28,
     "metadata": {},
     "output_type": "execute_result"
    }
   ],
   "source": [
    "tweet_input_embeddings[:1, :1, :].shape"
   ]
  },
  {
   "cell_type": "code",
   "execution_count": 29,
   "metadata": {},
   "outputs": [
    {
     "data": {
      "text/plain": [
       "tensor([[[-3.1517e-01, -1.0347e+00,  2.4082e+00, -1.0549e+00, -1.1876e+00,\n",
       "           5.8067e-01,  1.4999e-01,  1.7858e-01, -1.4571e-01,  1.3772e-02,\n",
       "          -2.2149e-01, -2.6993e-01, -1.9553e-01,  1.4110e+00,  1.7070e+00,\n",
       "          -1.0162e+00, -1.3707e-01, -5.1514e-01,  1.7628e+00, -7.4432e-02,\n",
       "          -1.0379e+00,  1.4239e+00,  9.3586e-01,  2.3170e-01,  4.1945e-01,\n",
       "           5.9157e-01, -2.8613e-01, -1.9314e+00, -1.4645e+00, -7.0700e-01,\n",
       "          -4.0687e-03,  9.3376e-01, -4.4677e-02, -1.3625e+00,  4.9781e-01,\n",
       "           5.5226e-01,  1.4603e+00, -2.7101e-01, -1.3471e+00,  4.8935e-01,\n",
       "           2.8223e-01,  9.9673e-02, -6.0737e-01,  1.5748e-01,  5.2830e-01,\n",
       "           1.0143e+00, -1.4411e-01,  9.4106e-01,  1.1552e+00, -1.3455e+00,\n",
       "           2.1770e+00,  2.8645e-01,  3.4648e-01,  8.3725e-01,  4.9333e-01,\n",
       "           1.4122e+00,  1.4048e+00,  4.7007e-01,  1.5953e+00, -1.0767e+00,\n",
       "          -1.5796e+00,  8.7937e-01, -9.1238e-01,  7.3900e-01,  1.7272e+00,\n",
       "          -7.7277e-01, -7.2780e-01, -5.3348e-01,  2.4948e-01,  9.6366e-02,\n",
       "          -7.8687e-02, -1.8156e+00,  4.5529e-01, -7.8590e-01, -6.2050e-01,\n",
       "          -8.6730e-01, -1.4688e-01, -3.2305e-01,  2.5183e+00, -6.4901e-01,\n",
       "           5.2066e-03,  6.4857e-01,  1.1811e+00,  5.4074e-01,  9.0586e-01,\n",
       "           7.2592e-01, -7.6111e-01, -1.9983e-01,  1.3206e+00, -5.1554e-01,\n",
       "          -2.9611e-01, -1.1936e+00, -4.5934e-01,  1.8646e+00, -1.0283e+00,\n",
       "           8.5483e-01,  1.0567e+00, -1.8970e+00,  1.1310e+00, -4.1973e-01,\n",
       "          -4.7571e-01, -2.3298e+00,  1.5351e+00,  9.2943e-01,  8.6388e-01,\n",
       "          -1.1697e+00, -6.9301e-01, -2.8515e-01, -2.7440e-01,  2.8123e-02,\n",
       "           1.1727e+00, -3.2471e-01,  1.0223e+00, -1.6896e-01, -1.1690e+00,\n",
       "          -1.6306e-01,  6.3048e-01, -7.0847e-01, -1.1163e+00, -2.4142e+00,\n",
       "          -9.7499e-02, -2.2324e-01, -9.3962e-01,  1.1797e+00, -1.3174e+00,\n",
       "           1.3008e+00, -1.5213e+00,  4.9717e-01,  2.3313e+00, -8.1248e-01,\n",
       "           2.4404e-01,  1.0198e+00, -1.0151e+00,  2.4335e+00, -8.3003e-01,\n",
       "          -2.6014e-01, -1.1656e+00, -2.9269e-01,  8.2528e-01,  3.4288e-01,\n",
       "           1.8832e+00, -3.4224e-01, -1.1520e+00,  2.5162e-01,  1.1994e+00,\n",
       "           1.3019e+00, -1.4764e+00,  6.4187e-01,  9.7075e-01, -4.8143e-01,\n",
       "          -1.2876e+00,  1.5571e+00,  4.5972e-01, -1.6142e+00, -1.2367e+00,\n",
       "           7.0062e-01,  4.8661e-01,  3.1115e-03, -6.5735e-01,  3.6994e-02,\n",
       "          -3.9353e-01, -1.1007e+00,  2.5430e-01, -2.3210e+00, -2.0659e+00,\n",
       "          -2.5760e-01,  3.2217e-04,  6.0920e-01,  1.4918e+00,  1.0410e-01,\n",
       "           2.8443e-01, -3.8864e-02,  8.7715e-01,  1.2328e+00, -2.7392e+00,\n",
       "          -1.7938e-01, -5.5646e-01,  5.9797e-01,  3.6562e-01, -1.5995e+00,\n",
       "           8.4579e-01, -6.9068e-01, -1.0867e+00,  1.2004e+00,  9.0911e-01,\n",
       "           4.5530e-01,  9.2718e-01, -2.8093e-02, -9.9211e-01,  9.3809e-01,\n",
       "          -1.8205e-01, -4.6495e-01, -7.4781e-01, -3.3980e-01,  2.6744e-01,\n",
       "          -2.1205e+00,  1.0108e-01,  5.0001e-01, -9.1905e-01,  1.2816e-01,\n",
       "           1.6341e+00, -7.0619e-01,  7.3657e-01,  7.3727e-01, -3.2240e-01,\n",
       "           1.1816e+00, -6.6067e-01, -4.5692e-01, -3.2902e-01, -1.1063e+00,\n",
       "          -2.3581e-01,  7.5152e-02,  1.6989e-01,  1.2755e+00, -6.3886e-01,\n",
       "           6.4421e-02,  1.8340e+00,  2.5513e+00, -1.7484e+00, -1.1464e+00,\n",
       "           9.7635e-01, -8.3178e-01,  7.5205e-01, -2.4198e-01, -2.5112e+00,\n",
       "           7.0671e-01,  1.1391e-01, -1.7209e+00,  4.1459e-01,  3.8818e-02,\n",
       "          -7.1997e-01,  1.1151e+00, -6.4321e-03,  2.4564e-01,  2.6948e-01,\n",
       "          -1.1857e+00, -7.0877e-01,  2.2226e-01,  8.2652e-01, -3.7844e-01,\n",
       "          -7.9270e-01,  1.0445e-01, -1.8254e+00,  8.7224e-01,  9.3039e-01,\n",
       "          -1.1799e-01,  5.0554e-01,  4.0394e-01, -3.3006e-01, -1.7551e+00,\n",
       "          -9.3945e-02, -1.0300e-01,  9.9554e-01, -1.9387e+00, -6.8752e-01,\n",
       "           2.6742e-01, -6.4476e-01, -1.3997e-01, -1.3155e+00, -3.0028e-01,\n",
       "          -9.2262e-01, -8.3909e-01, -9.4555e-01, -2.1594e+00,  8.1240e-01,\n",
       "           4.9674e-01, -6.3924e-01,  2.1746e-01,  8.2824e-02, -1.0344e-02,\n",
       "           1.0582e+00,  1.1919e+00,  1.6897e+00,  1.3090e+00, -9.6698e-01,\n",
       "           2.0585e+00,  6.3733e-01, -1.2509e+00, -9.7105e-01,  1.1735e+00,\n",
       "           1.3508e+00,  3.0786e-01,  2.4758e-01, -1.7978e+00,  1.4510e+00,\n",
       "          -1.4428e+00,  8.3320e-01,  5.0928e-01, -7.6856e-01, -6.3263e-01,\n",
       "           1.1569e+00, -6.5720e-01, -3.4346e-01,  5.0611e-01, -1.3388e+00,\n",
       "           9.8654e-01, -9.7375e-02,  2.5432e-01, -8.4641e-01,  7.1459e-01]]],\n",
       "       grad_fn=<SliceBackward>)"
      ]
     },
     "execution_count": 29,
     "metadata": {},
     "output_type": "execute_result"
    }
   ],
   "source": [
    "tweet_input_embeddings[:1, :1, :]"
   ]
  },
  {
   "cell_type": "markdown",
   "metadata": {},
   "source": [
    "Let's look at the ``first 5 dimensions`` of that same ``first word`` of the ``first sentence``:"
   ]
  },
  {
   "cell_type": "code",
   "execution_count": 30,
   "metadata": {},
   "outputs": [
    {
     "data": {
      "text/plain": [
       "tensor([[[-0.3152, -1.0347,  2.4082, -1.0549, -1.1876]]],\n",
       "       grad_fn=<SliceBackward>)"
      ]
     },
     "execution_count": 30,
     "metadata": {},
     "output_type": "execute_result"
    }
   ],
   "source": [
    "tweet_input_embeddings[:1, :1, :5]"
   ]
  },
  {
   "cell_type": "markdown",
   "metadata": {},
   "source": [
    "The following shows you the ``first 5 dimensions`` of the ``first word`` from ``each of the 4 sentences``"
   ]
  },
  {
   "cell_type": "code",
   "execution_count": 31,
   "metadata": {},
   "outputs": [
    {
     "data": {
      "text/plain": [
       "tensor([[[-0.3152, -1.0347,  2.4082, -1.0549, -1.1876],\n",
       "         [-0.5987,  1.0007,  0.3721, -0.9764, -0.1339],\n",
       "         [-0.2582, -2.1945, -0.0172, -1.1707,  0.1426],\n",
       "         [ 0.3153,  0.5245, -0.2765, -0.4259, -0.1367]]],\n",
       "       grad_fn=<SliceBackward>)"
      ]
     },
     "execution_count": 31,
     "metadata": {},
     "output_type": "execute_result"
    }
   ],
   "source": [
    "tweet_input_embeddings[:1, :, :5]"
   ]
  },
  {
   "cell_type": "markdown",
   "metadata": {},
   "source": [
    "The following shows you the ``last 7 dimensions`` of the ``last word`` from ``the last sentence``. Enjoy!"
   ]
  },
  {
   "cell_type": "code",
   "execution_count": 32,
   "metadata": {},
   "outputs": [
    {
     "data": {
      "text/plain": [
       "tensor([[[-0.3914,  1.2455, -0.7605,  0.9315, -0.3592, -0.1625,  0.0032]]],\n",
       "       grad_fn=<SliceBackward>)"
      ]
     },
     "execution_count": 32,
     "metadata": {},
     "output_type": "execute_result"
    }
   ],
   "source": [
    "tweet_input_embeddings[-1:, -1:, -7:]"
   ]
  },
  {
   "cell_type": "code",
   "execution_count": null,
   "metadata": {},
   "outputs": [],
   "source": []
  },
  {
   "cell_type": "markdown",
   "metadata": {},
   "source": [
    "We will be passing the sequence of word embeddings for each sentence in the batch as input to the RNN. But let's now define an RNN module first:"
   ]
  },
  {
   "cell_type": "code",
   "execution_count": 33,
   "metadata": {},
   "outputs": [
    {
     "name": "stdout",
     "output_type": "stream",
     "text": [
      "RNN(300, 50)\n"
     ]
    }
   ],
   "source": [
    "\"\"\"\n",
    "define the RNN module\n",
    "\"\"\"\n",
    "# first input - number of dimensions for word vectors for a vector x (300, size of the word embedding)\n",
    "# second input - number of nodes in hidden state h_t (50, size of the hidden layer)\n",
    "# third input - number of recurrent layers (we set it to 1)\n",
    "rnn = nn.RNN(input_size=300, hidden_size=50, num_layers=1) # input_size, hidden_size, num_layers\n",
    "print(rnn)"
   ]
  },
  {
   "cell_type": "code",
   "execution_count": null,
   "metadata": {},
   "outputs": [],
   "source": []
  },
  {
   "cell_type": "markdown",
   "metadata": {},
   "source": [
    "We will now pass the ``tweet_input_embeddings`` (representations of words in our batch) to RNN. Before we do, we need to know RNN also *optionally* takes a parameter for the ``initial hidden state h0`` (that is, the hidden state we will input to the model before the forward propagation starts. If this vector is not explicitly specified, Pytorch will just initialize h0 to a tensor of zeros.)\n",
    "\n",
    "Let's construct an ``initial hidden state h0``. Note the shape of its tensor, and what each of the 3 parameters it takes mean."
   ]
  },
  {
   "cell_type": "code",
   "execution_count": 34,
   "metadata": {},
   "outputs": [
    {
     "name": "stdout",
     "output_type": "stream",
     "text": [
      "The shape as as expected:  torch.Size([1, 4, 50])\n"
     ]
    }
   ],
   "source": [
    "\"\"\"\n",
    "hidden layer at time-step 0 (h_0)\n",
    "\"\"\"\n",
    "# first dimension - number of RNN layers (1)\n",
    "# second dimension - number of examples/sentences in a batch\n",
    "# third dimension - number of nodes in hidden layer (50, size of the hidden layer, that we specified as hidden_size in RNN construction)\n",
    "h0 = torch.randn(1, 4, 50)\n",
    "print(\"The shape as as expected: \", h0.shape)"
   ]
  },
  {
   "cell_type": "code",
   "execution_count": null,
   "metadata": {},
   "outputs": [],
   "source": []
  },
  {
   "cell_type": "markdown",
   "metadata": {},
   "source": [
    "Let us feed both the hidden representation constructed above and tweet embeddings to our RNN model.\n",
    "We will get back two objects ``output`` and ``hn`` that we will need to understand."
   ]
  },
  {
   "cell_type": "code",
   "execution_count": 35,
   "metadata": {},
   "outputs": [],
   "source": [
    "\"\"\"\n",
    "forward propagation over the RNN model\n",
    "\"\"\"\n",
    "output, hn = rnn(tweet_input_embeddings, h0) # h0 is optional input, defaults to tensor of 0's of apprpriate size (num_layers, batch, hidden_size) when not provided"
   ]
  },
  {
   "cell_type": "code",
   "execution_count": null,
   "metadata": {},
   "outputs": [],
   "source": []
  },
  {
   "cell_type": "markdown",
   "metadata": {},
   "source": [
    "But what is ``output``? Well, let's inspect its shape first:"
   ]
  },
  {
   "cell_type": "code",
   "execution_count": 36,
   "metadata": {},
   "outputs": [
    {
     "name": "stdout",
     "output_type": "stream",
     "text": [
      "output size:  torch.Size([5, 4, 50])\n"
     ]
    }
   ],
   "source": [
    "# output = seq_len, batch, hidden_size (output features from last layer of RNN)\n",
    "print(\"output size: \", output.size())"
   ]
  },
  {
   "cell_type": "markdown",
   "metadata": {},
   "source": [
    "Here's what we need to know about ``output``:\n",
    "- The first dimension in the ``output`` tensor is the ``max_seq length`` (5). \n",
    "- The second dimension is ``batch_size`` (the number of examples/sentences in our batch = 4).\n",
    "- The third dimension is the ``size of nodes/units`` in our hidden layer (=50). \n",
    "\n",
    "What is the shape of hn (tensor containing the hidden state for t=max_seq_length) ?"
   ]
  },
  {
   "cell_type": "code",
   "execution_count": 37,
   "metadata": {},
   "outputs": [
    {
     "name": "stdout",
     "output_type": "stream",
     "text": [
      "last hidden state size:  torch.Size([1, 4, 50])\n"
     ]
    }
   ],
   "source": [
    "# h_n = num_layers, batch, hidden_size (hidden state for t=seq_len or hidden state at last timestep)\n",
    "print(\"last hidden state size: \", hn.size())"
   ]
  },
  {
   "cell_type": "markdown",
   "metadata": {},
   "source": [
    "Here's what we need to know about ``hn``:\n",
    "- ``hn`` is a tensor of shape (num_layers, batch_size, hidden_size / number of hidden layer nodes) containing the hidden state for the last ``time step`` \n",
    "(``t = max_seq_length``)."
   ]
  },
  {
   "cell_type": "markdown",
   "metadata": {},
   "source": [
    "You can take the output representation for a tweet after processing the last token (t=seq_len or last timestep) and call the resulting representation as the tweet representation that **\"summarizes\" the information present** in the tweet. This tweet representation can further be used for a useful task like tweet classification (we will try out sentiment analysis later in this tutorial) by adding a classification module on top of the tweet representation.\n",
    "\n",
    "Let us compute the final tweet representation:"
   ]
  },
  {
   "cell_type": "code",
   "execution_count": 38,
   "metadata": {},
   "outputs": [
    {
     "name": "stdout",
     "output_type": "stream",
     "text": [
      "tweet output embeddings size:  torch.Size([4, 50])\n"
     ]
    }
   ],
   "source": [
    "tweet_output_embeddings = output[-1,:,:] # -1 fetches the embeddings from the last timestep\n",
    "print(\"tweet output embeddings size: \", tweet_output_embeddings.size())\n",
    "# first dimension - number of tweets in the batch (4)\n",
    "# second dimension - number of features in hidden state h_t (50, size of the hidden layer)"
   ]
  },
  {
   "cell_type": "code",
   "execution_count": null,
   "metadata": {},
   "outputs": [],
   "source": []
  },
  {
   "cell_type": "markdown",
   "metadata": {},
   "source": [
    "## Multilayered RNN\n",
    "\n",
    "For some applications, we may need more than one hidden layer for RNN to model the information flow. Adding more layers requires fews changes.\n",
    "\n",
    "Firstly, we change the ``num_layers`` argument to reflect the number of layers we want during the RNN module definition (we will define two hidden layers)."
   ]
  },
  {
   "cell_type": "code",
   "execution_count": 39,
   "metadata": {},
   "outputs": [],
   "source": [
    "\"\"\"\n",
    "define the RNN module\n",
    "\"\"\"\n",
    "# first input - number of dimesnions for word vectors for a vector x (300, size of the word embedding)\n",
    "# second input - number of nodes in hidden layer (50, size of the hidden layer)\n",
    "# third input - number of recurrent layers (we set it to 2)\n",
    "rnn = nn.RNN(input_size=300, hidden_size=50, num_layers=2) # input_size, hidden_size, num_layers"
   ]
  },
  {
   "cell_type": "markdown",
   "metadata": {},
   "source": [
    "Similar to single layered RNN, Multilayered RNN module takes two inputs: the ``initial hidden state h0`` for each element in the batch (at ``time step t=0``) and the ``input features`` (``tweet_input_embeddings`` in our case).\n",
    "\n",
    "Let us construct the new initial hidden state for a 2 layered RNN."
   ]
  },
  {
   "cell_type": "code",
   "execution_count": 40,
   "metadata": {},
   "outputs": [
    {
     "name": "stdout",
     "output_type": "stream",
     "text": [
      "The shape as as expected:  torch.Size([2, 4, 50])\n"
     ]
    }
   ],
   "source": [
    "\"\"\"\n",
    "hidden layer at time-step 0 (h_0)\n",
    "\"\"\"\n",
    "# first dimension - number of RNN layers (2)\n",
    "# second dimension - number of examples/sentences in a batch (4)\n",
    "# third dimension - number of nodes in hidden layer (50, size of the hidden layer)\n",
    "h0 = torch.randn(2, 4, 50)\n",
    "print(\"The shape as as expected: \", h0.shape)"
   ]
  },
  {
   "cell_type": "markdown",
   "metadata": {},
   "source": [
    "Let us feed both the hidden representation constructed above and tweet embeddings to our RNN model."
   ]
  },
  {
   "cell_type": "code",
   "execution_count": 41,
   "metadata": {},
   "outputs": [
    {
     "name": "stdout",
     "output_type": "stream",
     "text": [
      "torch.Size([5, 4, 300])\n"
     ]
    }
   ],
   "source": [
    "\"\"\"\n",
    "forward propagation over the RNN model\n",
    "\"\"\"\n",
    "print(tweet_input_embeddings.shape)\n",
    "output, hn = rnn(tweet_input_embeddings, h0) # h0 is optional input, defaults to tensor of 0's when not provided"
   ]
  },
  {
   "cell_type": "markdown",
   "metadata": {},
   "source": [
    "``output`` tensor contains the output features $h_t$ from the last layer of the RNN"
   ]
  },
  {
   "cell_type": "code",
   "execution_count": 42,
   "metadata": {},
   "outputs": [
    {
     "name": "stdout",
     "output_type": "stream",
     "text": [
      "output size:  torch.Size([5, 4, 50])\n"
     ]
    }
   ],
   "source": [
    "# output = seq_len, batch, hidden_size (output features from last layer of RNN)\n",
    "print(\"output size: \", output.size())"
   ]
  },
  {
   "cell_type": "markdown",
   "metadata": {},
   "source": [
    "``hn`` is a tensor of shape (num_layers, batch_size, hidden_size / number of nodes in a hidden layer) containing the hidden state for last time step ``t = max_seq_len`` for the ``2 layered RNN``."
   ]
  },
  {
   "cell_type": "code",
   "execution_count": 43,
   "metadata": {},
   "outputs": [
    {
     "name": "stdout",
     "output_type": "stream",
     "text": [
      "last hidden state size:  torch.Size([2, 4, 50])\n"
     ]
    }
   ],
   "source": [
    "# h_n = num_layers, batch, hidden_size (hidden state for t=seq_len or hidden state at last timestep)\n",
    "print(\"last hidden state size: \", hn.size())"
   ]
  },
  {
   "cell_type": "markdown",
   "metadata": {},
   "source": [
    "#### Building tweet representation\n",
    "\n",
    "Actually, `output` is tensor containing the output features (h_t) from the last layer of the RNN, for each t. Namely, `output` returns all the hidden states of all time steps from the last layer of the RNN. Hence, the last element of `output` is `h_n`. \n",
    "Let us print them out:"
   ]
  },
  {
   "cell_type": "code",
   "execution_count": 44,
   "metadata": {},
   "outputs": [
    {
     "name": "stdout",
     "output_type": "stream",
     "text": [
      "last element of output:\n",
      " tensor([[ 2.1954e-02, -4.5405e-01,  1.7242e-01, -2.1612e-01,  8.5858e-01,\n",
      "         -5.0062e-02,  4.6210e-01,  2.3468e-01, -2.3579e-01, -7.0481e-01,\n",
      "         -4.2845e-01, -3.2530e-01,  1.5369e-01, -1.4745e-03, -2.4446e-01,\n",
      "         -7.9483e-01,  5.5982e-01, -2.3135e-01,  3.0479e-01, -5.2203e-01,\n",
      "         -4.0454e-01,  4.7099e-01, -6.7573e-01, -8.0995e-01,  2.7188e-01,\n",
      "          6.6281e-01, -4.8907e-01, -7.8016e-01, -1.4256e-01, -2.8643e-01,\n",
      "          3.8399e-01,  9.2092e-02,  7.7104e-01,  8.5698e-03,  4.1950e-01,\n",
      "          3.8412e-01, -1.7274e-02,  1.5807e-01,  2.8053e-01, -4.5239e-01,\n",
      "          6.2239e-01,  1.4339e-01, -6.6002e-01, -6.4669e-01,  5.6979e-01,\n",
      "          9.2288e-02,  4.3814e-01, -3.7532e-01, -2.6342e-01, -7.0075e-01],\n",
      "        [-1.5976e-01, -3.8695e-01,  3.6826e-01, -2.2092e-01,  6.9086e-01,\n",
      "         -5.4064e-01,  6.1590e-01,  7.6471e-02,  4.4412e-01, -6.2336e-01,\n",
      "         -2.4065e-01, -4.9375e-02,  8.9721e-02,  4.5547e-01,  2.6374e-01,\n",
      "         -8.4492e-01,  6.4244e-01, -4.7366e-01,  2.8996e-01, -7.5599e-01,\n",
      "         -2.5185e-01,  1.8731e-01, -8.6081e-01, -8.2791e-01,  2.8285e-01,\n",
      "          5.8875e-01, -2.9332e-01, -3.8661e-01, -2.2755e-01,  8.7901e-02,\n",
      "          6.7197e-01, -3.6593e-01,  5.1867e-01, -3.8136e-02,  6.2803e-01,\n",
      "         -5.5705e-02,  3.1475e-01,  7.5090e-01, -3.3007e-01, -4.8066e-01,\n",
      "          5.1788e-01, -4.1316e-01, -4.7798e-01, -2.1452e-01,  4.7284e-02,\n",
      "          2.2577e-01,  1.3690e-01, -6.5125e-02, -1.4889e-01, -7.4364e-01],\n",
      "        [ 7.4640e-02, -5.7651e-02, -2.4359e-01,  1.1406e-01,  7.0609e-01,\n",
      "          3.2799e-01,  7.2342e-01,  1.9879e-01,  9.0417e-02, -5.8025e-01,\n",
      "         -1.2228e-01, -1.1517e-01, -4.6790e-04,  3.0815e-01,  4.3789e-01,\n",
      "         -7.4710e-01,  5.7993e-01, -2.0874e-01,  5.0603e-02, -5.2117e-01,\n",
      "          4.5773e-02,  2.3757e-01, -8.6587e-01, -7.0961e-01,  1.5777e-01,\n",
      "          5.5138e-01, -3.5986e-02, -1.7073e-01, -6.6097e-03,  7.1462e-02,\n",
      "          1.6608e-01,  4.7154e-02,  6.0910e-01,  4.9621e-02,  2.9631e-01,\n",
      "          3.8049e-01,  6.0880e-01,  6.8330e-01, -3.5911e-01, -3.8710e-01,\n",
      "          6.0450e-01, -1.2445e-01, -5.4484e-01, -5.2983e-01,  1.8858e-01,\n",
      "          2.2929e-01,  8.6744e-02, -6.5748e-01,  1.0744e-01, -5.0662e-01],\n",
      "        [-3.4981e-01,  1.4250e-01,  3.8217e-01, -3.7396e-01,  8.5383e-01,\n",
      "         -9.0103e-04,  5.9185e-01,  5.7469e-02,  7.2989e-01, -3.1226e-01,\n",
      "          6.7472e-02,  1.4180e-01,  2.5643e-01,  3.0319e-01,  3.2816e-01,\n",
      "         -5.0401e-01,  6.3847e-01, -3.8251e-01,  5.6093e-01, -1.6000e-01,\n",
      "         -5.2682e-02,  3.6410e-01, -6.3830e-01, -6.1488e-01, -1.2588e-01,\n",
      "          7.5694e-02,  7.0204e-02, -4.2834e-01, -6.8193e-01, -3.8466e-01,\n",
      "          4.2086e-01,  3.8710e-02,  4.3745e-01,  3.3179e-02,  2.3964e-01,\n",
      "          4.9138e-01,  1.3279e-01,  3.8898e-02, -4.6820e-01, -2.1726e-01,\n",
      "          3.3333e-01,  2.8707e-01, -7.6349e-01, -8.5038e-04, -3.1680e-01,\n",
      "         -1.9679e-01, -3.3900e-01, -5.7602e-01, -1.9505e-01, -3.6571e-01]],\n",
      "       grad_fn=<SelectBackward>)\n"
     ]
    }
   ],
   "source": [
    "print(\"last element of output:\\n\", output[-1])"
   ]
  },
  {
   "cell_type": "markdown",
   "metadata": {},
   "source": [
    "Then let us print out the last hidden state of last layer. \n",
    "Notice, we have two RNN layer, we only want to use the hidden state of last layer. \n",
    "You can find the these value are same as `output[-1]`."
   ]
  },
  {
   "cell_type": "code",
   "execution_count": 45,
   "metadata": {},
   "outputs": [
    {
     "name": "stdout",
     "output_type": "stream",
     "text": [
      "last hidden state h_n:\n",
      " tensor([[ 2.1954e-02, -4.5405e-01,  1.7242e-01, -2.1612e-01,  8.5858e-01,\n",
      "         -5.0062e-02,  4.6210e-01,  2.3468e-01, -2.3579e-01, -7.0481e-01,\n",
      "         -4.2845e-01, -3.2530e-01,  1.5369e-01, -1.4745e-03, -2.4446e-01,\n",
      "         -7.9483e-01,  5.5982e-01, -2.3135e-01,  3.0479e-01, -5.2203e-01,\n",
      "         -4.0454e-01,  4.7099e-01, -6.7573e-01, -8.0995e-01,  2.7188e-01,\n",
      "          6.6281e-01, -4.8907e-01, -7.8016e-01, -1.4256e-01, -2.8643e-01,\n",
      "          3.8399e-01,  9.2092e-02,  7.7104e-01,  8.5698e-03,  4.1950e-01,\n",
      "          3.8412e-01, -1.7274e-02,  1.5807e-01,  2.8053e-01, -4.5239e-01,\n",
      "          6.2239e-01,  1.4339e-01, -6.6002e-01, -6.4669e-01,  5.6979e-01,\n",
      "          9.2288e-02,  4.3814e-01, -3.7532e-01, -2.6342e-01, -7.0075e-01],\n",
      "        [-1.5976e-01, -3.8695e-01,  3.6826e-01, -2.2092e-01,  6.9086e-01,\n",
      "         -5.4064e-01,  6.1590e-01,  7.6471e-02,  4.4412e-01, -6.2336e-01,\n",
      "         -2.4065e-01, -4.9375e-02,  8.9721e-02,  4.5547e-01,  2.6374e-01,\n",
      "         -8.4492e-01,  6.4244e-01, -4.7366e-01,  2.8996e-01, -7.5599e-01,\n",
      "         -2.5185e-01,  1.8731e-01, -8.6081e-01, -8.2791e-01,  2.8285e-01,\n",
      "          5.8875e-01, -2.9332e-01, -3.8661e-01, -2.2755e-01,  8.7901e-02,\n",
      "          6.7197e-01, -3.6593e-01,  5.1867e-01, -3.8136e-02,  6.2803e-01,\n",
      "         -5.5705e-02,  3.1475e-01,  7.5090e-01, -3.3007e-01, -4.8066e-01,\n",
      "          5.1788e-01, -4.1316e-01, -4.7798e-01, -2.1452e-01,  4.7284e-02,\n",
      "          2.2577e-01,  1.3690e-01, -6.5125e-02, -1.4889e-01, -7.4364e-01],\n",
      "        [ 7.4640e-02, -5.7651e-02, -2.4359e-01,  1.1406e-01,  7.0609e-01,\n",
      "          3.2799e-01,  7.2342e-01,  1.9879e-01,  9.0417e-02, -5.8025e-01,\n",
      "         -1.2228e-01, -1.1517e-01, -4.6790e-04,  3.0815e-01,  4.3789e-01,\n",
      "         -7.4710e-01,  5.7993e-01, -2.0874e-01,  5.0603e-02, -5.2117e-01,\n",
      "          4.5773e-02,  2.3757e-01, -8.6587e-01, -7.0961e-01,  1.5777e-01,\n",
      "          5.5138e-01, -3.5986e-02, -1.7073e-01, -6.6097e-03,  7.1462e-02,\n",
      "          1.6608e-01,  4.7154e-02,  6.0910e-01,  4.9621e-02,  2.9631e-01,\n",
      "          3.8049e-01,  6.0880e-01,  6.8330e-01, -3.5911e-01, -3.8710e-01,\n",
      "          6.0450e-01, -1.2445e-01, -5.4484e-01, -5.2983e-01,  1.8858e-01,\n",
      "          2.2929e-01,  8.6744e-02, -6.5748e-01,  1.0744e-01, -5.0662e-01],\n",
      "        [-3.4981e-01,  1.4250e-01,  3.8217e-01, -3.7396e-01,  8.5383e-01,\n",
      "         -9.0103e-04,  5.9185e-01,  5.7469e-02,  7.2989e-01, -3.1226e-01,\n",
      "          6.7472e-02,  1.4180e-01,  2.5643e-01,  3.0319e-01,  3.2816e-01,\n",
      "         -5.0401e-01,  6.3847e-01, -3.8251e-01,  5.6093e-01, -1.6000e-01,\n",
      "         -5.2682e-02,  3.6410e-01, -6.3830e-01, -6.1488e-01, -1.2588e-01,\n",
      "          7.5694e-02,  7.0204e-02, -4.2834e-01, -6.8193e-01, -3.8466e-01,\n",
      "          4.2086e-01,  3.8710e-02,  4.3745e-01,  3.3179e-02,  2.3964e-01,\n",
      "          4.9138e-01,  1.3279e-01,  3.8898e-02, -4.6820e-01, -2.1726e-01,\n",
      "          3.3333e-01,  2.8707e-01, -7.6349e-01, -8.5038e-04, -3.1680e-01,\n",
      "         -1.9679e-01, -3.3900e-01, -5.7602e-01, -1.9505e-01, -3.6571e-01]],\n",
      "       grad_fn=<SelectBackward>)\n"
     ]
    }
   ],
   "source": [
    "print(\"last hidden state h_n:\\n\", hn[-1])"
   ]
  },
  {
   "cell_type": "markdown",
   "metadata": {},
   "source": [
    "Let us compute the final tweet representation:"
   ]
  },
  {
   "cell_type": "code",
   "execution_count": 46,
   "metadata": {},
   "outputs": [
    {
     "name": "stdout",
     "output_type": "stream",
     "text": [
      "tweet output embeddings size:  torch.Size([4, 50])\n"
     ]
    }
   ],
   "source": [
    "tweet_output_embeddings = output[-1,:,:] # -1 fetches the embeddings from the last timestep\n",
    "print(\"tweet output embeddings size: \", tweet_output_embeddings.size())\n",
    "# first dimension - number of tweets in the batch (4)\n",
    "# second dimension - number of features in hidden state h_t (50, size of the hidden layer)"
   ]
  },
  {
   "cell_type": "code",
   "execution_count": 47,
   "metadata": {},
   "outputs": [
    {
     "data": {
      "text/plain": [
       "tensor([[ 2.1954e-02, -4.5405e-01,  1.7242e-01, -2.1612e-01,  8.5858e-01,\n",
       "         -5.0062e-02,  4.6210e-01,  2.3468e-01, -2.3579e-01, -7.0481e-01,\n",
       "         -4.2845e-01, -3.2530e-01,  1.5369e-01, -1.4745e-03, -2.4446e-01,\n",
       "         -7.9483e-01,  5.5982e-01, -2.3135e-01,  3.0479e-01, -5.2203e-01,\n",
       "         -4.0454e-01,  4.7099e-01, -6.7573e-01, -8.0995e-01,  2.7188e-01,\n",
       "          6.6281e-01, -4.8907e-01, -7.8016e-01, -1.4256e-01, -2.8643e-01,\n",
       "          3.8399e-01,  9.2092e-02,  7.7104e-01,  8.5698e-03,  4.1950e-01,\n",
       "          3.8412e-01, -1.7274e-02,  1.5807e-01,  2.8053e-01, -4.5239e-01,\n",
       "          6.2239e-01,  1.4339e-01, -6.6002e-01, -6.4669e-01,  5.6979e-01,\n",
       "          9.2288e-02,  4.3814e-01, -3.7532e-01, -2.6342e-01, -7.0075e-01],\n",
       "        [-1.5976e-01, -3.8695e-01,  3.6826e-01, -2.2092e-01,  6.9086e-01,\n",
       "         -5.4064e-01,  6.1590e-01,  7.6471e-02,  4.4412e-01, -6.2336e-01,\n",
       "         -2.4065e-01, -4.9375e-02,  8.9721e-02,  4.5547e-01,  2.6374e-01,\n",
       "         -8.4492e-01,  6.4244e-01, -4.7366e-01,  2.8996e-01, -7.5599e-01,\n",
       "         -2.5185e-01,  1.8731e-01, -8.6081e-01, -8.2791e-01,  2.8285e-01,\n",
       "          5.8875e-01, -2.9332e-01, -3.8661e-01, -2.2755e-01,  8.7901e-02,\n",
       "          6.7197e-01, -3.6593e-01,  5.1867e-01, -3.8136e-02,  6.2803e-01,\n",
       "         -5.5705e-02,  3.1475e-01,  7.5090e-01, -3.3007e-01, -4.8066e-01,\n",
       "          5.1788e-01, -4.1316e-01, -4.7798e-01, -2.1452e-01,  4.7284e-02,\n",
       "          2.2577e-01,  1.3690e-01, -6.5125e-02, -1.4889e-01, -7.4364e-01],\n",
       "        [ 7.4640e-02, -5.7651e-02, -2.4359e-01,  1.1406e-01,  7.0609e-01,\n",
       "          3.2799e-01,  7.2342e-01,  1.9879e-01,  9.0417e-02, -5.8025e-01,\n",
       "         -1.2228e-01, -1.1517e-01, -4.6790e-04,  3.0815e-01,  4.3789e-01,\n",
       "         -7.4710e-01,  5.7993e-01, -2.0874e-01,  5.0603e-02, -5.2117e-01,\n",
       "          4.5773e-02,  2.3757e-01, -8.6587e-01, -7.0961e-01,  1.5777e-01,\n",
       "          5.5138e-01, -3.5986e-02, -1.7073e-01, -6.6097e-03,  7.1462e-02,\n",
       "          1.6608e-01,  4.7154e-02,  6.0910e-01,  4.9621e-02,  2.9631e-01,\n",
       "          3.8049e-01,  6.0880e-01,  6.8330e-01, -3.5911e-01, -3.8710e-01,\n",
       "          6.0450e-01, -1.2445e-01, -5.4484e-01, -5.2983e-01,  1.8858e-01,\n",
       "          2.2929e-01,  8.6744e-02, -6.5748e-01,  1.0744e-01, -5.0662e-01],\n",
       "        [-3.4981e-01,  1.4250e-01,  3.8217e-01, -3.7396e-01,  8.5383e-01,\n",
       "         -9.0103e-04,  5.9185e-01,  5.7469e-02,  7.2989e-01, -3.1226e-01,\n",
       "          6.7472e-02,  1.4180e-01,  2.5643e-01,  3.0319e-01,  3.2816e-01,\n",
       "         -5.0401e-01,  6.3847e-01, -3.8251e-01,  5.6093e-01, -1.6000e-01,\n",
       "         -5.2682e-02,  3.6410e-01, -6.3830e-01, -6.1488e-01, -1.2588e-01,\n",
       "          7.5694e-02,  7.0204e-02, -4.2834e-01, -6.8193e-01, -3.8466e-01,\n",
       "          4.2086e-01,  3.8710e-02,  4.3745e-01,  3.3179e-02,  2.3964e-01,\n",
       "          4.9138e-01,  1.3279e-01,  3.8898e-02, -4.6820e-01, -2.1726e-01,\n",
       "          3.3333e-01,  2.8707e-01, -7.6349e-01, -8.5038e-04, -3.1680e-01,\n",
       "         -1.9679e-01, -3.3900e-01, -5.7602e-01, -1.9505e-01, -3.6571e-01]],\n",
       "       grad_fn=<SliceBackward>)"
      ]
     },
     "execution_count": 47,
     "metadata": {},
     "output_type": "execute_result"
    }
   ],
   "source": [
    "tweet_output_embeddings"
   ]
  },
  {
   "cell_type": "markdown",
   "metadata": {},
   "source": [
    "## RNN for Sentiment Analysis\n",
    "\n",
    "In this section we will implement RNN for classifying the sentiment of the tweet (same task used in our previous feedforward neural networks tutorial).\n",
    "\n",
    "We will pick up most of the functions from our feedforward neural networks code:"
   ]
  },
  {
   "cell_type": "code",
   "execution_count": 48,
   "metadata": {},
   "outputs": [],
   "source": [
    "# all the necessary imports\n",
    "import torch\n",
    "from torch.utils.data import Dataset, DataLoader\n",
    "import torch.nn as nn\n",
    "from torch import optim\n",
    "\n",
    "# set the seed (for reproducibility)\n",
    "manual_seed = 123\n",
    "torch.manual_seed(manual_seed)\n",
    "device = torch.device(\"cuda\" if torch.cuda.is_available() else \"cpu\")\n",
    "n_gpu = torch.cuda.device_count()\n",
    "if n_gpu > 0:\n",
    "  torch.cuda.manual_seed(manual_seed)\n",
    "\n",
    "# hyperparameters\n",
    "MAX_EPOCHS = 5 # number of passes over the training data\n",
    "LEARNING_RATE = 0.3 # learning rate for the weight update rule\n",
    "NUM_CLASSES = 3 # number of classes for the problem\n",
    "EMBEDDING_SIZE = 300 # size of the word embedding"
   ]
  },
  {
   "cell_type": "code",
   "execution_count": null,
   "metadata": {},
   "outputs": [],
   "source": []
  },
  {
   "cell_type": "markdown",
   "metadata": {},
   "source": [
    "Now we can define the full RNN model:"
   ]
  },
  {
   "cell_type": "code",
   "execution_count": 49,
   "metadata": {},
   "outputs": [],
   "source": [
    "\"\"\"\n",
    "create a model for RNN\n",
    "\"\"\"\n",
    "class RNNmodel(nn.Module):\n",
    "  \n",
    "  def __init__(self, embedding_size, vocab_size, output_size, hidden_size, num_layers):\n",
    "    # In the constructor we define the layers for our model\n",
    "    super(RNNmodel, self).__init__()\n",
    "    # word embedding lookup table\n",
    "    self.embedding = nn.Embedding(num_embeddings=vocab_size, embedding_dim=embedding_size, sparse=True)\n",
    "    # core RNN module\n",
    "    self.rnn_layer = nn.RNN(input_size=embedding_size, hidden_size=hidden_size, num_layers=num_layers) \n",
    "    # activation function\n",
    "    self.activation_fn = nn.ReLU()\n",
    "    # classification related modules\n",
    "    self.linear_layer = nn.Linear(hidden_size, output_size) \n",
    "    self.softmax_layer = nn.LogSoftmax(dim=0)\n",
    "    self.debug = False\n",
    "  \n",
    "  def forward(self, x):\n",
    "    # In the forward function we define the forward propagation logic\n",
    "    if self.debug:\n",
    "        print(\"input word indices shape = \", x.size())\n",
    "    out = self.embedding(x)\n",
    "    if self.debug:\n",
    "        print(\"word embeddings shape = \", out.size())\n",
    "    out, _ = self.rnn_layer(out) # since we are not feeding h_0 explicitly, h_0 will be initialized to zeros by default\n",
    "    if self.debug:\n",
    "        print(\"RNN output (features from last layer of RNN for all timesteps) shape = \", out.size())\n",
    "    # classify based on the hidden representation after RNN processes the last token\n",
    "    out = out[-1]\n",
    "    if self.debug:\n",
    "        print(\"Tweet embeddings or RNN output (features from last layer of RNN for the last timestep only) shape = \", out.size())\n",
    "    out = self.activation_fn(out)\n",
    "    if self.debug:\n",
    "        print(\"ReLU output shape = \", out.size())\n",
    "    out = self.linear_layer(out)\n",
    "    if self.debug:\n",
    "        print(\"linear layer output shape = \", out.size())\n",
    "    out = self.softmax_layer(out) # accepts 2D or more dimensional inputs\n",
    "    if self.debug:\n",
    "        print(\"softmax layer output shape = \", out.size())\n",
    "    return out"
   ]
  },
  {
   "cell_type": "code",
   "execution_count": null,
   "metadata": {},
   "outputs": [],
   "source": []
  },
  {
   "cell_type": "markdown",
   "metadata": {},
   "source": [
    "Some additional hyperparameters for RNN"
   ]
  },
  {
   "cell_type": "code",
   "execution_count": 50,
   "metadata": {},
   "outputs": [],
   "source": [
    "# hyperparameters of RNN\n",
    "HIDDEN_SIZE = 50 # no. of units in the hidden layer\n",
    "NUM_LAYERS = 2 # no. of hidden layers"
   ]
  },
  {
   "cell_type": "code",
   "execution_count": null,
   "metadata": {},
   "outputs": [],
   "source": []
  },
  {
   "cell_type": "markdown",
   "metadata": {},
   "source": [
    "Rest of the pipeline looks similar to our feedforward neural networks code (except that we are using **torchtext** instead of **DataLoader**):"
   ]
  },
  {
   "cell_type": "code",
   "execution_count": 51,
   "metadata": {},
   "outputs": [],
   "source": [
    "from sklearn.metrics import accuracy_score\n",
    "\n",
    "def train(loader):\n",
    "    total_loss = 0.0\n",
    "    # iterate throught the data loader\n",
    "    num_sample = 0\n",
    "    for batch in loader:\n",
    "        # load the current batch\n",
    "        batch_input = batch.tweet\n",
    "        batch_output = batch.label\n",
    "        \n",
    "        batch_input = batch_input.to(device)\n",
    "        batch_output = batch_output.to(device)\n",
    "        # forward propagation\n",
    "        # pass the data through the model\n",
    "        model_outputs = model(batch_input)\n",
    "        # compute the loss\n",
    "        cur_loss = criterion(model_outputs, batch_output)\n",
    "        total_loss += cur_loss.item()\n",
    "\n",
    "        # backward propagation (compute the gradients and update the model)\n",
    "        # clear the buffer\n",
    "        optimizer.zero_grad()\n",
    "        # compute the gradients\n",
    "        cur_loss.backward()\n",
    "        # update the weights\n",
    "        optimizer.step()\n",
    "\n",
    "        num_sample += batch_output.shape[0]\n",
    "    return total_loss/num_sample\n",
    "\n",
    "# evaluation logic based on classification accuracy\n",
    "def evaluate(loader):\n",
    "    all_pred=[]\n",
    "    all_label = []\n",
    "    with torch.no_grad(): # impacts the autograd engine and deactivate it. reduces memory usage and speeds up computation\n",
    "        for batch in loader:\n",
    "             # load the current batch\n",
    "            batch_input = batch.tweet\n",
    "            batch_output = batch.label\n",
    "\n",
    "            batch_input = batch_input.to(device)\n",
    "            # forward propagation\n",
    "            # pass the data through the model\n",
    "            model_outputs = model(batch_input)\n",
    "            # identify the predicted class for each example in the batch\n",
    "            probabilities, predicted = torch.max(model_outputs.cpu().data, 1)\n",
    "            # put all the true labels and predictions to two lists\n",
    "            all_pred.extend(predicted)\n",
    "            all_label.extend(batch_output)\n",
    "            \n",
    "    accuracy = accuracy_score(all_label, all_pred)\n",
    "    return accuracy"
   ]
  },
  {
   "cell_type": "code",
   "execution_count": null,
   "metadata": {},
   "outputs": [],
   "source": []
  },
  {
   "cell_type": "markdown",
   "metadata": {},
   "source": [
    "Let us define the RNN model."
   ]
  },
  {
   "cell_type": "code",
   "execution_count": 52,
   "metadata": {},
   "outputs": [],
   "source": [
    "# define the model\n",
    "model = RNNmodel(EMBEDDING_SIZE, VOCAB_SIZE, NUM_CLASSES, HIDDEN_SIZE, NUM_LAYERS) \n",
    "model.to(device) # ship it to the right device\n",
    "\n",
    "# define the loss function (last node of the graph)\n",
    "criterion = nn.NLLLoss()"
   ]
  },
  {
   "cell_type": "markdown",
   "metadata": {},
   "source": [
    "Let us make a full forward propagation pass over a sample input batch to the RNN model. Closely pay attention to the shapes of intermediate layers (by turning on debug mode of the model)"
   ]
  },
  {
   "cell_type": "code",
   "execution_count": 53,
   "metadata": {},
   "outputs": [
    {
     "name": "stdout",
     "output_type": "stream",
     "text": [
      "sample input =  tensor([[ 191,    4, 1273,   49],\n",
      "        [  14,   82,    2,    0],\n",
      "        [   2,   73,  215,   18],\n",
      "        [ 598,  145,   48,  215],\n",
      "        [  21,   21,   21,   21]])\n",
      "sample output =  tensor([0, 1, 0, 0])\n",
      "input word indices shape =  torch.Size([5, 4])\n",
      "word embeddings shape =  torch.Size([5, 4, 300])\n",
      "RNN output (features from last layer of RNN for all timesteps) shape =  torch.Size([5, 4, 50])\n",
      "Tweet embeddings or RNN output (features from last layer of RNN for the last timestep only) shape =  torch.Size([4, 50])\n",
      "ReLU output shape =  torch.Size([4, 50])\n",
      "linear layer output shape =  torch.Size([4, 3])\n",
      "softmax layer output shape =  torch.Size([4, 3])\n",
      "model prediction shape =  torch.Size([4, 3])\n",
      "loss =  1.3757504224777222\n"
     ]
    }
   ],
   "source": [
    "# turn on the debug mode\n",
    "model.debug = True\n",
    "\n",
    "# print the sample input batch and labels\n",
    "print(\"sample input = \", tweets)\n",
    "print(\"sample output = \", labels)\n",
    "\n",
    "# feed the batch as input to the RNN model\n",
    "model_prediction = model(tweets)\n",
    "print('model prediction shape = ', model_prediction.size())\n",
    "\n",
    "# feed the model prediction and labels to the loss function\n",
    "loss = criterion(model_prediction, labels)\n",
    "print(\"loss = \", loss.item())\n",
    "\n",
    "# turn off the debug mode (as we go for training from now)\n",
    "model.debug = False"
   ]
  },
  {
   "cell_type": "markdown",
   "metadata": {},
   "source": [
    "**We need to create a new directory 'ckpt/' to store our model checkpoint.**"
   ]
  },
  {
   "cell_type": "code",
   "execution_count": 54,
   "metadata": {},
   "outputs": [],
   "source": [
    "import os\n",
    "if not os.path.exists(\"./ckpt\"): # check if the directory doesn't exist already\n",
    "    os.mkdir(\"./ckpt\")"
   ]
  },
  {
   "cell_type": "markdown",
   "metadata": {},
   "source": [
    "**Let us perform the training. We will save our model and optimizer at end of each epoch.**\n",
    "\n",
    "\n",
    "You can find more information of saving and loading model [here](https://pytorch.org/tutorials/beginner/saving_loading_models.html)."
   ]
  },
  {
   "cell_type": "code",
   "execution_count": 55,
   "metadata": {},
   "outputs": [
    {
     "name": "stderr",
     "output_type": "stream",
     "text": [
      "/anaconda3/envs/tony/lib/python3.8/site-packages/torchtext/data/batch.py:23: UserWarning: Batch class will be retired soon and moved to torchtext.legacy. Please see the most recent release notes for further information.\n",
      "  warnings.warn('{} class will be retired soon and moved to torchtext.legacy. Please see the most recent release notes for further information.'.format(self.__class__.__name__), UserWarning)\n",
      "/anaconda3/envs/tony/lib/python3.8/site-packages/torchtext/data/batch.py:23: UserWarning: Batch class will be retired soon and moved to torchtext.legacy. Please see the most recent release notes for further information.\n",
      "  warnings.warn('{} class will be retired soon and moved to torchtext.legacy. Please see the most recent release notes for further information.'.format(self.__class__.__name__), UserWarning)\n"
     ]
    },
    {
     "name": "stdout",
     "output_type": "stream",
     "text": [
      "Epoch [1/5], Loss: 0.3480, Training Accuracy: 0.3655, Validation Accuracy: 0.3417\n"
     ]
    },
    {
     "name": "stderr",
     "output_type": "stream",
     "text": [
      "/anaconda3/envs/tony/lib/python3.8/site-packages/torchtext/data/batch.py:23: UserWarning: Batch class will be retired soon and moved to torchtext.legacy. Please see the most recent release notes for further information.\n",
      "  warnings.warn('{} class will be retired soon and moved to torchtext.legacy. Please see the most recent release notes for further information.'.format(self.__class__.__name__), UserWarning)\n",
      "/anaconda3/envs/tony/lib/python3.8/site-packages/torchtext/data/batch.py:23: UserWarning: Batch class will be retired soon and moved to torchtext.legacy. Please see the most recent release notes for further information.\n",
      "  warnings.warn('{} class will be retired soon and moved to torchtext.legacy. Please see the most recent release notes for further information.'.format(self.__class__.__name__), UserWarning)\n"
     ]
    },
    {
     "name": "stdout",
     "output_type": "stream",
     "text": [
      "Epoch [2/5], Loss: 0.3464, Training Accuracy: 0.4268, Validation Accuracy: 0.3922\n"
     ]
    },
    {
     "name": "stderr",
     "output_type": "stream",
     "text": [
      "/anaconda3/envs/tony/lib/python3.8/site-packages/torchtext/data/batch.py:23: UserWarning: Batch class will be retired soon and moved to torchtext.legacy. Please see the most recent release notes for further information.\n",
      "  warnings.warn('{} class will be retired soon and moved to torchtext.legacy. Please see the most recent release notes for further information.'.format(self.__class__.__name__), UserWarning)\n",
      "/anaconda3/envs/tony/lib/python3.8/site-packages/torchtext/data/batch.py:23: UserWarning: Batch class will be retired soon and moved to torchtext.legacy. Please see the most recent release notes for further information.\n",
      "  warnings.warn('{} class will be retired soon and moved to torchtext.legacy. Please see the most recent release notes for further information.'.format(self.__class__.__name__), UserWarning)\n"
     ]
    },
    {
     "name": "stdout",
     "output_type": "stream",
     "text": [
      "Epoch [3/5], Loss: 0.3450, Training Accuracy: 0.3728, Validation Accuracy: 0.3472\n"
     ]
    },
    {
     "name": "stderr",
     "output_type": "stream",
     "text": [
      "/anaconda3/envs/tony/lib/python3.8/site-packages/torchtext/data/batch.py:23: UserWarning: Batch class will be retired soon and moved to torchtext.legacy. Please see the most recent release notes for further information.\n",
      "  warnings.warn('{} class will be retired soon and moved to torchtext.legacy. Please see the most recent release notes for further information.'.format(self.__class__.__name__), UserWarning)\n",
      "/anaconda3/envs/tony/lib/python3.8/site-packages/torchtext/data/batch.py:23: UserWarning: Batch class will be retired soon and moved to torchtext.legacy. Please see the most recent release notes for further information.\n",
      "  warnings.warn('{} class will be retired soon and moved to torchtext.legacy. Please see the most recent release notes for further information.'.format(self.__class__.__name__), UserWarning)\n"
     ]
    },
    {
     "name": "stdout",
     "output_type": "stream",
     "text": [
      "Epoch [4/5], Loss: 0.3437, Training Accuracy: 0.4113, Validation Accuracy: 0.3742\n"
     ]
    },
    {
     "name": "stderr",
     "output_type": "stream",
     "text": [
      "/anaconda3/envs/tony/lib/python3.8/site-packages/torchtext/data/batch.py:23: UserWarning: Batch class will be retired soon and moved to torchtext.legacy. Please see the most recent release notes for further information.\n",
      "  warnings.warn('{} class will be retired soon and moved to torchtext.legacy. Please see the most recent release notes for further information.'.format(self.__class__.__name__), UserWarning)\n",
      "/anaconda3/envs/tony/lib/python3.8/site-packages/torchtext/data/batch.py:23: UserWarning: Batch class will be retired soon and moved to torchtext.legacy. Please see the most recent release notes for further information.\n",
      "  warnings.warn('{} class will be retired soon and moved to torchtext.legacy. Please see the most recent release notes for further information.'.format(self.__class__.__name__), UserWarning)\n"
     ]
    },
    {
     "name": "stdout",
     "output_type": "stream",
     "text": [
      "Epoch [5/5], Loss: 0.3471, Training Accuracy: 0.3773, Validation Accuracy: 0.3607\n"
     ]
    }
   ],
   "source": [
    "# create an instance of SGD with required hyperparameters\n",
    "optimizer = torch.optim.SGD(model.parameters(), lr=LEARNING_RATE)\n",
    "\n",
    "# start the training\n",
    "for epoch in range(MAX_EPOCHS):\n",
    "    # train the model for one pass over the data\n",
    "    train_loss = train(train_iter)  \n",
    "    # compute the training accuracy\n",
    "    train_acc = evaluate(train_iter)\n",
    "    # compute the validation accuracy\n",
    "    val_acc = evaluate(val_iter)\n",
    "    \n",
    "    # print the loss for every epoch\n",
    "    print('Epoch [{}/{}], Loss: {:.4f}, Training Accuracy: {:.4f}, Validation Accuracy: {:.4f}'.format(epoch+1, MAX_EPOCHS, train_loss, train_acc, val_acc))\n",
    "    \n",
    "    # save model, optimizer, and number of epoch to a dictionary\n",
    "    model_save = {\n",
    "            'epoch': epoch,  # number of epoch\n",
    "            'model_state_dict': model.state_dict(), # model parameters \n",
    "            'optimizer_state_dict': optimizer.state_dict(), # save optimizer \n",
    "            'loss': train_loss # training loss\n",
    "            }\n",
    "    \n",
    "    # use torch.save to store \n",
    "    torch.save(model_save, \"./ckpt/model_{}.pt\".format(epoch))"
   ]
  },
  {
   "cell_type": "markdown",
   "metadata": {},
   "source": [
    "We trained the network only for 5 epochs, but it already overfits on validation set after epoch 2. \n",
    "In the coming sessions, we will look at methods to ``regularize`` the network (this will help us deal with overfitting)."
   ]
  },
  {
   "cell_type": "markdown",
   "metadata": {},
   "source": [
    "**Load model checkpoint** \n",
    "\n",
    "When we have a trained model checkpint, we can load it using `torch.load()`"
   ]
  },
  {
   "cell_type": "code",
   "execution_count": 56,
   "metadata": {},
   "outputs": [
    {
     "name": "stdout",
     "output_type": "stream",
     "text": [
      "RNNmodel(\n",
      "  (embedding): Embedding(3338, 300, sparse=True)\n",
      "  (rnn_layer): RNN(300, 50, num_layers=2)\n",
      "  (activation_fn): ReLU()\n",
      "  (linear_layer): Linear(in_features=50, out_features=3, bias=True)\n",
      "  (softmax_layer): LogSoftmax(dim=0)\n",
      ")\n"
     ]
    }
   ],
   "source": [
    "# define a new model\n",
    "model2 = RNNmodel(EMBEDDING_SIZE, VOCAB_SIZE, NUM_CLASSES, HIDDEN_SIZE, NUM_LAYERS) \n",
    "\n",
    "# load checkpoint \n",
    "checkpoint = torch.load(\"./ckpt/model_1.pt\") # loading the model obatined after 2nd epoch\n",
    "\n",
    "# assign the parameters of checkpoint to this new model\n",
    "model2.load_state_dict(checkpoint['model_state_dict'])\n",
    "model2.to(device)\n",
    "\n",
    "print(model2) # can be used for inference or for further training"
   ]
  },
  {
   "cell_type": "markdown",
   "metadata": {},
   "source": [
    "## GRUs\n",
    "\n",
    "Gated Recurrent Units (GRUs) are a variant of RNNs that use more complex units for activation. They are created to have more persistent memory thereby making them easier for RNNs to capture long-term dependencies. To learn the theory behind GRUs, we recommend: https://github.com/UBC-NLP/dlnlp2019/blob/master/slides/RNN.pdf \n",
    "\n",
    "GRU is defined by ``torch.nn.GRU`` module and its documentation can be fetched [here](https://pytorch.org/docs/stable/generated/torch.nn.GRU.html#gru). Now let us define the GRU module."
   ]
  },
  {
   "cell_type": "code",
   "execution_count": 57,
   "metadata": {},
   "outputs": [],
   "source": [
    "\"\"\"\n",
    "define the GRU module\n",
    "\"\"\"\n",
    "# first input - number of word vector dimensions/embeddings\n",
    "# second input - number of nodes in hidden layer (50, size of the hidden layer)\n",
    "# third input - number of recurrent layers (2)\n",
    "gru_rnn = nn.GRU(input_size=300, hidden_size=50, num_layers=2) # input_size, hidden_size, num_layers"
   ]
  },
  {
   "cell_type": "markdown",
   "metadata": {},
   "source": [
    "Similar to RNN, GRU module takes two inputs: *the initial hidden state for each element in the batch* (t=0) and the *input features* (``tweet_input_embeddings`` in our case).\n",
    "\n",
    "Let us feed both the initial hidden state and tweet embeddings to our GRU model."
   ]
  },
  {
   "cell_type": "code",
   "execution_count": 58,
   "metadata": {},
   "outputs": [],
   "source": [
    "\"\"\"\n",
    "forward propagation over the GRU model\n",
    "\"\"\"\n",
    "output, hn = gru_rnn(tweet_input_embeddings, h0) # h0 is optional input, defaults to tensor of 0's when not provided"
   ]
  },
  {
   "cell_type": "code",
   "execution_count": null,
   "metadata": {},
   "outputs": [],
   "source": []
  },
  {
   "cell_type": "markdown",
   "metadata": {},
   "source": [
    "``output`` tensor contains the output features $h_t$ from the last layer of the GRU"
   ]
  },
  {
   "cell_type": "code",
   "execution_count": 59,
   "metadata": {},
   "outputs": [
    {
     "name": "stdout",
     "output_type": "stream",
     "text": [
      "output size:  torch.Size([5, 4, 50])\n"
     ]
    }
   ],
   "source": [
    "# output = seq_len, batch, hidden_size (output features from last layer of GRU)\n",
    "print(\"output size: \", output.size())"
   ]
  },
  {
   "cell_type": "markdown",
   "metadata": {},
   "source": [
    "``hn`` is a tensor of shape (num_layers, batch_size, hidden_size / number of nodes in a hidden layer) containing the hidden state for last time step ``t = max_seq_len`` for the ``2 layered RNN``."
   ]
  },
  {
   "cell_type": "code",
   "execution_count": 60,
   "metadata": {},
   "outputs": [
    {
     "name": "stdout",
     "output_type": "stream",
     "text": [
      "last hidden state size:  torch.Size([2, 4, 50])\n"
     ]
    }
   ],
   "source": [
    "# h_n = num_layers, batch, hidden_size (hidden state for t=seq_len or hidden state at last timestep)\n",
    "print(\"last hidden state size: \", hn.size())"
   ]
  },
  {
   "cell_type": "markdown",
   "metadata": {},
   "source": [
    "Similar to RNN, you can compute the final tweet representation (representation from last hidden state for each tweet) as follows."
   ]
  },
  {
   "cell_type": "code",
   "execution_count": 61,
   "metadata": {},
   "outputs": [
    {
     "name": "stdout",
     "output_type": "stream",
     "text": [
      "tweet output embeddings size:  torch.Size([4, 50])\n"
     ]
    }
   ],
   "source": [
    "tweet_output_embeddings = output[-1,:,:] # -1 fetches the embeddings from the last timestep\n",
    "print(\"tweet output embeddings size: \", tweet_output_embeddings.size())\n",
    "# first dimension - number of tweets in the batch (5)\n",
    "# second dimension - number of features in hidden state h_t (20, size of the hidden layer)"
   ]
  },
  {
   "cell_type": "markdown",
   "metadata": {},
   "source": [
    "## LSTMs\n",
    "\n",
    "Long short-term memory (LSTMs) are a variant of RNNs that use more complex units for activation. Similar to the spirit of GRU, they are created to have more persistent memory thereby making them easier for RNNs to capture long-term dependencies. To learn the theory behind GRUs, we recommend: https://github.com/UBC-NLP/dlnlp2019/blob/master/slides/RNN.pdf \n",
    "\n",
    "LSTM is defined by ``torch.nn.LSTM`` module and its documentation can be fetched [here](https://pytorch.org/docs/stable/generated/torch.nn.LSTM.html#lstm). Now let us define the LSTM module."
   ]
  },
  {
   "cell_type": "code",
   "execution_count": 62,
   "metadata": {},
   "outputs": [],
   "source": [
    "\"\"\"\n",
    "define the LSTM module\n",
    "\"\"\"\n",
    "# first input - number of features in x (300, size of the word embedding)\n",
    "# second input - number of number of nodes in a hidden layer (50)\n",
    "# third input - number of recurrent layers (2)\n",
    "lstm_rnn = nn.LSTM(input_size=300, hidden_size=50, num_layers=2) # input_size, hidden_size, num_layers"
   ]
  },
  {
   "cell_type": "markdown",
   "metadata": {},
   "source": [
    "Unlike RNN and GRU, LSTM module takes **three inputs**: the **initial hidden state** for each element in the batch (t=0), the **input features** (tweet_input_embeddings in our case) and the **initial cell state** for each element in the batch.\n",
    "\n",
    "Let us construct the initial cell state (this construction is similar to that of initial hidden state)"
   ]
  },
  {
   "cell_type": "code",
   "execution_count": 63,
   "metadata": {},
   "outputs": [],
   "source": [
    "\"\"\"\n",
    "cell state at time-step 0 (h_0)\n",
    "\"\"\"\n",
    "# first dimension - number of LSTM layers (2)\n",
    "# second dimension - batch_size (# of tweets/examples/sentences)\n",
    "# third dimension - hidden_size / number of nodes in a hidden layer (50)\n",
    "c0 = torch.randn(2, 4, 50)"
   ]
  },
  {
   "cell_type": "markdown",
   "metadata": {},
   "source": [
    "Let us feed the initial hidden state, initial cell state and tweet embeddings to our LSTM model."
   ]
  },
  {
   "cell_type": "code",
   "execution_count": 64,
   "metadata": {},
   "outputs": [],
   "source": [
    "\"\"\"\n",
    "forward propagation over the LSTM model\n",
    "\"\"\"\n",
    "output, (hn, cn) = lstm_rnn(tweet_input_embeddings, (h0, c0)) # h0 and c0 is optional input, defaults to tensor of 0's when not provided"
   ]
  },
  {
   "cell_type": "code",
   "execution_count": null,
   "metadata": {},
   "outputs": [],
   "source": []
  },
  {
   "cell_type": "markdown",
   "metadata": {},
   "source": [
    "``output`` tensor contains the output features $h_t$ from the last layer of the LSTM"
   ]
  },
  {
   "cell_type": "code",
   "execution_count": 65,
   "metadata": {},
   "outputs": [
    {
     "name": "stdout",
     "output_type": "stream",
     "text": [
      "output size:  torch.Size([5, 4, 50])\n"
     ]
    }
   ],
   "source": [
    "# output = seq_len, batch_size, hidden_size (output features from last layer of LSTM)\n",
    "print(\"output size: \", output.size())"
   ]
  },
  {
   "cell_type": "markdown",
   "metadata": {},
   "source": [
    "``hn`` is a tensor of shape (num_layers, batch, hidden_size) containing the hidden state for t = seq_len"
   ]
  },
  {
   "cell_type": "code",
   "execution_count": 66,
   "metadata": {},
   "outputs": [
    {
     "name": "stdout",
     "output_type": "stream",
     "text": [
      "last hidden state size:  torch.Size([2, 4, 50])\n"
     ]
    }
   ],
   "source": [
    "# h_n = num_layers, batch, hidden_size (hidden state for t=seq_len or hidden state at last timestep)\n",
    "print(\"last hidden state size: \", hn.size())"
   ]
  },
  {
   "cell_type": "markdown",
   "metadata": {},
   "source": [
    "``cn`` is a tensor of shape (num_layers, batch, hidden_size) containing the cell state for t = seq_len."
   ]
  },
  {
   "cell_type": "code",
   "execution_count": 67,
   "metadata": {},
   "outputs": [
    {
     "name": "stdout",
     "output_type": "stream",
     "text": [
      "last cell state size:  torch.Size([2, 4, 50])\n"
     ]
    }
   ],
   "source": [
    "# c_n = num_layers, batch_size, hidden_size (cell state for t=seq_len or cell state at last timestep)\n",
    "print(\"last cell state size: \", hn.size())"
   ]
  },
  {
   "cell_type": "markdown",
   "metadata": {},
   "source": [
    "Similar to RNN and GRU, you can compute the final tweet representation (representation from last hidden state for each tweet) as follows."
   ]
  },
  {
   "cell_type": "code",
   "execution_count": 68,
   "metadata": {},
   "outputs": [
    {
     "name": "stdout",
     "output_type": "stream",
     "text": [
      "tweet output embeddings size:  torch.Size([4, 50])\n"
     ]
    }
   ],
   "source": [
    "tweet_output_embeddings = output[-1,:,:] # -1 fetches the embeddings from the last timestep\n",
    "print(\"tweet output embeddings size: \", tweet_output_embeddings.size())\n",
    "# first dimension - number of tweets in the batch (4)\n",
    "# second dimension - number of features in hidden state h_t (50, size of the hidden layer)"
   ]
  },
  {
   "cell_type": "markdown",
   "metadata": {},
   "source": [
    "That's it!"
   ]
  },
  {
   "cell_type": "code",
   "execution_count": null,
   "metadata": {},
   "outputs": [],
   "source": []
  }
 ],
 "metadata": {
  "kernelspec": {
   "display_name": "Python (myenv)",
   "language": "python",
   "name": "tony"
  },
  "language_info": {
   "codemirror_mode": {
    "name": "ipython",
    "version": 3
   },
   "file_extension": ".py",
   "mimetype": "text/x-python",
   "name": "python",
   "nbconvert_exporter": "python",
   "pygments_lexer": "ipython3",
   "version": "3.8.5"
  }
 },
 "nbformat": 4,
 "nbformat_minor": 4
}
