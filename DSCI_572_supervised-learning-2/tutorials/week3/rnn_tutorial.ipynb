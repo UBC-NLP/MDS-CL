{
 "cells": [
  {
   "cell_type": "markdown",
   "metadata": {},
   "source": [
    "## Recurrent Neural Networks - Supervised Learning II - MDS Computational Linguistics\n",
    "\n",
    "### Goal of this tutorial\n",
    "- Learn about embedding layer\n",
    "- Introduce Recurrent Neural Networks (RNNs)\n",
    "- Implement RNN for sentiment analysis\n",
    "- Implement Long-Short Term Memories (LSTMs) for sentiment analysis\n",
    "- Implement Gated Recurrent Units (GRUs) for sentiment analysis\n",
    "\n",
    "### General\n",
    "- This notebook was last tested on Python 3.8, PyTorch 1.7.1 and TorchText 0.8.1 (**Strongly recommended to use the same version for doing this tutorial and lab3**)\n",
    "- This notebook uses torchtext to process datasets\n",
    "\n",
    "We would like to acknowledge the following materials that helped as a reference in preparing this tutorial:\n",
    "- https://github.com/UBC-NLP/dlnlp2019/blob/master/slides/RNN.pdf\n",
    "\n",
    "### Getting Started"
   ]
  },
  {
   "cell_type": "code",
   "execution_count": 1,
   "metadata": {},
   "outputs": [],
   "source": [
    "# required imports\n",
    "import pandas as pd\n",
    "import torchtext\n",
    "from torchtext.data import Field, LabelField\n",
    "from torchtext.data import TabularDataset\n",
    "import torch\n",
    "import torch.nn as nn"
   ]
  },
  {
   "cell_type": "markdown",
   "metadata": {},
   "source": [
    "#### Embedding Layer\n",
    "\n",
    "Embedding layer is the ubiquitous input layer of deep neural networks used in NLP."
   ]
  },
  {
   "cell_type": "markdown",
   "metadata": {},
   "source": [
    "The [``Embedding`` layer](https://pytorch.org/docs/stable/generated/torch.nn.Embedding.html#embedding) in Pytorch (that we used in the last week's tutorial on Word2vec) is a lookup table that is typically (in NLP) used to store word embeddings of a fixed vocabulary and word embedding size. Word embeddings can be retrieved from the lookup table by providing a list of word index as input to the layer. We need to know what the input and the output of this layer look like. Let's first look at a dummy example where we have two sentences ``x_1`` and ``x_2``. Let's assume we have the two sentences as:"
   ]
  },
  {
   "cell_type": "code",
   "execution_count": 2,
   "metadata": {},
   "outputs": [],
   "source": [
    "x_1 = \"He is very nice\" # sentence 1\n",
    "x_2 = \"She is very kind\" # sentence 2"
   ]
  },
  {
   "cell_type": "markdown",
   "metadata": {},
   "source": [
    "Let's convert the two sentences into indexes (each word is replaced with its index in the vocabulary).\n",
    "Let's assume our ``vocabulary size`` is set to 100. Remember, vocabulary size is a hyper-parameter.\n",
    "Let's also store that ``vocabulary size`` in a variable ``VOCAB_SIZE`` now as we will need to pass it to the ``Embedding`` layer later."
   ]
  },
  {
   "cell_type": "code",
   "execution_count": 3,
   "metadata": {},
   "outputs": [],
   "source": [
    "x_1 = [1, 25, 40, 5]\n",
    "x_2 = [4, 25, 40, 99]\n",
    "VOCAB_SIZE = 100"
   ]
  },
  {
   "cell_type": "markdown",
   "metadata": {},
   "source": [
    "#### Max sequence length"
   ]
  },
  {
   "cell_type": "markdown",
   "metadata": {},
   "source": [
    "One last thing we need to think about is the ``length of each sequence``. The two examples above are nicely set to equal length = 4. This does not need to be the case, as we can have sequences of varying lengths. We will be passing a batch of sentences to Pytorch and the max sequence length will be set to the length of the longest sentence (after tokenization) in that batch. The rest of sentences (shorter ones) will be padded with zeros. Now, do we need to explicitly provide the max sequence length to Pytorch? And how do we know the max seq length for each batch, if different batches have sequences of varying lengths and each batch is set to the max sent in that batch? Well, rest assured, we don't really need to worry about that. Pytorch will assign a max seq length for each batch. We will be able to inspect the max seq length for a given batch using output of the ``Embedding`` layer. (We will see that soon)."
   ]
  },
  {
   "cell_type": "markdown",
   "metadata": {},
   "source": [
    "#### Size of word vector"
   ]
  },
  {
   "cell_type": "markdown",
   "metadata": {},
   "source": [
    "The ``Embedding`` layer will give us a vector for each word in the vocabulary.\n",
    "Now, we will need to tell it what size we want for that vector. Popular values for a vector size are usually between 100-300 for many tasks (e.g., sentiment analysis). Let's set it to 200 dimensions. (You are encouraged to play with this value as practice). All words in the vocabulary will have the same embedding size. Let's put that hyper-parameter in a variable ``WORD_VEC_SIZE``:"
   ]
  },
  {
   "cell_type": "code",
   "execution_count": 4,
   "metadata": {},
   "outputs": [],
   "source": [
    "WORD_VEC_SIZE= 300 # size of word embedding"
   ]
  },
  {
   "cell_type": "markdown",
   "metadata": {},
   "source": [
    "We are now ready to call the ``Embedding`` class to construct an embeddings tensor:"
   ]
  },
  {
   "cell_type": "code",
   "execution_count": 5,
   "metadata": {},
   "outputs": [
    {
     "name": "stdout",
     "output_type": "stream",
     "text": [
      "size of the embedding lookup table =  torch.Size([100, 300])\n",
      "input (word indices) tensor = \n",
      " tensor([[ 1, 25, 40,  5],\n",
      "        [ 4, 25, 40, 99]])\n",
      "input (word indices) shape =  torch.Size([2, 4])\n"
     ]
    }
   ],
   "source": [
    "# Constructing an embedding Layer:\n",
    "embedding = nn.Embedding(VOCAB_SIZE, WORD_VEC_SIZE)\n",
    "print(\"size of the embedding lookup table = \", embedding.weight.data.size())\n",
    "\n",
    "# let's create a sample input (word indices) to the embedding layer \n",
    "sample_input = torch.LongTensor([ x_1, x_2 ])\n",
    "print(\"input (word indices) tensor = \\n\", sample_input)\n",
    "print(\"input (word indices) shape = \", sample_input.size())"
   ]
  },
  {
   "cell_type": "markdown",
   "metadata": {},
   "source": [
    "Let's pass the input to the embedding layer and print the word embeddings:"
   ]
  },
  {
   "cell_type": "code",
   "execution_count": 6,
   "metadata": {},
   "outputs": [
    {
     "name": "stdout",
     "output_type": "stream",
     "text": [
      "word embeddings tensor = \n",
      " tensor([[[ 0.1735,  0.9062, -1.1974,  ...,  0.2587,  0.1264,  0.3292],\n",
      "         [-1.8372, -0.9611,  0.0746,  ..., -0.5158, -0.4170, -0.4485],\n",
      "         [-1.1188, -0.9452, -0.4784,  ...,  1.9610,  1.0706,  1.6100],\n",
      "         [ 1.5748, -0.2421,  0.0821,  ...,  0.6329,  0.0823, -1.4435]],\n",
      "\n",
      "        [[-0.0577, -1.9587,  2.3152,  ..., -0.3709,  0.4218,  0.5863],\n",
      "         [-1.8372, -0.9611,  0.0746,  ..., -0.5158, -0.4170, -0.4485],\n",
      "         [-1.1188, -0.9452, -0.4784,  ...,  1.9610,  1.0706,  1.6100],\n",
      "         [-0.4029, -1.2275, -0.6437,  ...,  0.9037, -0.4956, -0.6704]]],\n",
      "       grad_fn=<EmbeddingBackward>)\n"
     ]
    }
   ],
   "source": [
    "# let's pass the input to the embedding layer\n",
    "word_embeddings = embedding(sample_input)\n",
    "print(\"word embeddings tensor = \\n\", word_embeddings)"
   ]
  },
  {
   "cell_type": "markdown",
   "metadata": {},
   "source": [
    "Let's print the shape of this tensor:"
   ]
  },
  {
   "cell_type": "code",
   "execution_count": 7,
   "metadata": {},
   "outputs": [
    {
     "name": "stdout",
     "output_type": "stream",
     "text": [
      "word embeddings shape =  torch.Size([2, 4, 300])\n"
     ]
    }
   ],
   "source": [
    "print(\"word embeddings shape = \", word_embeddings.size())"
   ]
  },
  {
   "cell_type": "markdown",
   "metadata": {},
   "source": [
    "Each dimension can be interpreted as:\n",
    "- **First dimension:** (**2**,4,300): We have ``2 examples`` (that is, our ``x_1`` and ``x_2``). (Note: We will be passing a whole batch to the ``Embedding`` class and so this first dimension will be equal to the ``batch size``.\n",
    "- **Second dimension:** (2,**4**,300): For each of the two examples, we have a ``max sequence length`` = 4 (x_1 and x_2 each had 4 indexes).\n",
    "- **Third dimension:** (2,4,**300**): The ``word vector dimension`` is set to 300."
   ]
  },
  {
   "cell_type": "markdown",
   "metadata": {},
   "source": [
    "### Max sequence length: Another note"
   ]
  },
  {
   "cell_type": "markdown",
   "metadata": {},
   "source": [
    "Recall from above we mentioned Pytorch automatically infers the max sequence length for each batch. \n",
    "For the example above (as you can see from the second dimension returned by ``word_embeddings.size()``, Pytorch \n",
    "inferred the max seq length for this batch of two sentences is 4.\n",
    "\n",
    "Let's just adjust the second example, **adding two more words** (the string \"and kind\"). Note, both our ``VOCAB_SIZE`` and ``WORD_VEC_SIZE`` stay the same as before. We assign the word \"and\" an index of \"7\" and the word \"considerate\" an index of \"60\". Note that we have to pad the first example ``x_1`` with zeros (we will explicitly set the padding index to zero later when we define the embedding layer) in the end. (Try removing the zero padding. What do you observe when you run your code with the ``Embedding`` class? Hint: You will get an error.):"
   ]
  },
  {
   "cell_type": "code",
   "execution_count": 8,
   "metadata": {},
   "outputs": [],
   "source": [
    "x_1 = \"He is very nice\"\n",
    "x_2 = \"She is very kind and considerate\"\n",
    "x_1 = [1, 25, 40, 5, 0, 0]\n",
    "x_2 = [4, 25, 40, 99, 7, 60]"
   ]
  },
  {
   "cell_type": "markdown",
   "metadata": {},
   "source": [
    "Now, let's create a new ``embedding`` layer by creating a new instance of the ``Embedding`` class:"
   ]
  },
  {
   "cell_type": "code",
   "execution_count": 9,
   "metadata": {},
   "outputs": [
    {
     "name": "stdout",
     "output_type": "stream",
     "text": [
      "size of the embedding lookup table =  torch.Size([100, 300])\n"
     ]
    }
   ],
   "source": [
    "# constructing an embedding layer:\n",
    "padded_embedding = nn.Embedding(VOCAB_SIZE, WORD_VEC_SIZE, padding_idx=0)\n",
    "print(\"size of the embedding lookup table = \", padded_embedding.weight.data.size())"
   ]
  },
  {
   "cell_type": "markdown",
   "metadata": {},
   "source": [
    "Note that **padded_embedding** embedding layer specifies the padding index (corresponds to an embedding initialized to all zeros). In this example, the zeroth index is dedicated for storing padding embedding (vector initialized to all zeros).\n",
    "\n",
    "Let's create sample input and pass it to the embedding layer."
   ]
  },
  {
   "cell_type": "code",
   "execution_count": 10,
   "metadata": {},
   "outputs": [
    {
     "name": "stdout",
     "output_type": "stream",
     "text": [
      "input (word indices) tensor = \n",
      " tensor([[ 1, 25, 40,  5,  0,  0],\n",
      "        [ 4, 25, 40, 99,  7, 60]])\n",
      "input (word indices) shape =  torch.Size([2, 6])\n",
      "tensor([[[ 0.3328, -1.9511,  1.9435,  ..., -0.0797, -2.1281, -1.0742],\n",
      "         [-0.0419,  0.4024,  1.8311,  ..., -0.5551,  1.3323, -0.7337],\n",
      "         [ 1.5966, -0.6609,  1.7836,  ..., -0.4662,  0.3666,  0.0767],\n",
      "         [-0.5020, -0.9246,  0.7353,  ..., -0.1328, -0.6344,  2.2672],\n",
      "         [ 0.0000,  0.0000,  0.0000,  ...,  0.0000,  0.0000,  0.0000],\n",
      "         [ 0.0000,  0.0000,  0.0000,  ...,  0.0000,  0.0000,  0.0000]],\n",
      "\n",
      "        [[ 0.3660,  0.0461,  0.7097,  ..., -1.2516,  2.2076,  1.2269],\n",
      "         [-0.0419,  0.4024,  1.8311,  ..., -0.5551,  1.3323, -0.7337],\n",
      "         [ 1.5966, -0.6609,  1.7836,  ..., -0.4662,  0.3666,  0.0767],\n",
      "         [ 0.1743, -0.5488,  0.1968,  ..., -1.3207,  1.6321,  1.5077],\n",
      "         [ 0.1651,  0.2680,  0.8526,  ..., -0.4464, -0.7751,  0.5167],\n",
      "         [-0.9244, -1.1175, -0.0471,  ..., -0.6851,  0.3440,  0.6815]]],\n",
      "       grad_fn=<EmbeddingBackward>)\n"
     ]
    }
   ],
   "source": [
    "# let's create a sample input\n",
    "sample_input = torch.LongTensor([ x_1, x_2 ])\n",
    "print(\"input (word indices) tensor = \\n\", sample_input)\n",
    "print(\"input (word indices) shape = \", sample_input.size())\n",
    "\n",
    "# let's retrieve the word embeddings by passing the sample input to the layer\n",
    "word_embeddings = padded_embedding(sample_input)\n",
    "print(word_embeddings)"
   ]
  },
  {
   "cell_type": "markdown",
   "metadata": {},
   "source": [
    "If we inspect the shape of the new tensor ``word_embeddings``, we will see the second dimension now changed to 6, to match the max sequence length:"
   ]
  },
  {
   "cell_type": "code",
   "execution_count": 11,
   "metadata": {},
   "outputs": [
    {
     "name": "stdout",
     "output_type": "stream",
     "text": [
      "torch.Size([2, 6, 300])\n"
     ]
    }
   ],
   "source": [
    "print(word_embeddings.size())"
   ]
  },
  {
   "cell_type": "markdown",
   "metadata": {},
   "source": [
    "### How does Pytorch initialize word vector dimensions/weights?"
   ]
  },
  {
   "cell_type": "markdown",
   "metadata": {},
   "source": [
    "Note that Pytorch initializes the word vectors from a **normal distribution** $ \\mathcal{N}(0, 1) $. The word embedding weights are by default learnable parameters in Pytorch and so they will be adjusted during training. (Note: These weights can be initialized from an external word embedding tool such as [Word2vec](https://code.google.com/archive/p/word2vec/), [Fasttext](https://fasttext.cc/), or [Glove](https://nlp.stanford.edu/projects/glove/). Also, the weights can be frozen (by setting ``embedding.weigh.required_grad`` flag to False), which is a reasonable option when initialized from an external tool. You can choose to keep learning them within the model with your training data). Below we show the ones initialized from a normal distribution by Pytorch."
   ]
  },
  {
   "cell_type": "code",
   "execution_count": 12,
   "metadata": {},
   "outputs": [
    {
     "data": {
      "text/plain": [
       "Parameter containing:\n",
       "tensor([[-0.2814, -1.5045, -0.2696,  ...,  0.1359, -1.9497, -0.4946],\n",
       "        [ 0.1735,  0.9062, -1.1974,  ...,  0.2587,  0.1264,  0.3292],\n",
       "        [-0.0720, -0.9617, -0.6726,  ...,  0.9214,  0.2406,  1.8236],\n",
       "        ...,\n",
       "        [-0.6765, -0.4557,  2.0624,  ..., -2.2011,  1.1406,  0.5827],\n",
       "        [ 0.3328, -3.2588, -0.4608,  ...,  0.7687,  0.7279,  1.5842],\n",
       "        [-0.4029, -1.2275, -0.6437,  ...,  0.9037, -0.4956, -0.6704]],\n",
       "       requires_grad=True)"
      ]
     },
     "execution_count": 12,
     "metadata": {},
     "output_type": "execute_result"
    }
   ],
   "source": [
    "embedding.weight"
   ]
  },
  {
   "cell_type": "markdown",
   "metadata": {},
   "source": [
    "More information about the ``Embedding`` class can be found [here](https://pytorch.org/docs/stable/generated/torch.nn.Embedding.html) ([source code](https://pytorch.org/docs/stable/_modules/torch/nn/modules/sparse.html#Embedding))."
   ]
  },
  {
   "cell_type": "markdown",
   "metadata": {},
   "source": [
    "## Recurrent Neural Networks\n",
    "Recurrent Neural Networks (RNNs) are used to model sequences of arbitrary length (e.g., sequence of words in a sentence, sequence of sentences in a document, sequence of frames in a video). RNNs typically use their internal state (memory) to process sequence of inputs. At each time-step, RNNs output a prediction and hidden state, feeding its previous hidden state into each next step. RNNs are applied in a wide range of NLP applications:\n",
    "- language modeling, where RNN can condition on **all** previous words in the corpus unlike n-gram language model\n",
    "- text classification, where the states act as features (we will see sentiment analysis in this tutorial)\n",
    "- machine translation, where a RNN is used to process a sentence in source language and another RNN is used to decode the sentence in target language (we will see this in the \"Machine Translation\" course)\n",
    "- sequence labeling, where the states in RNN are used to predict a category for each item in the sequence \n",
    "\n",
    "Recommended reading for understanding the theory of RNNs: https://github.com/UBC-NLP/dlnlp2019/blob/master/slides/RNN.pdf \n"
   ]
  },
  {
   "cell_type": "markdown",
   "metadata": {},
   "source": [
    "### Grabbing few tweets using torchtext"
   ]
  },
  {
   "cell_type": "markdown",
   "metadata": {},
   "source": [
    "Let us follow **torchtext** tutorial (seen in Week1) to read few tweets from the [sentiment analysis dataset](http://alt.qcri.org/semeval2016/task4/) used in the previous tutorial on feedforward neural networks. The preprocessed (tokenization, removing URLs, mentions, hashtags and so on) tweets are placed under ``data/sentiment-twitter-2016-task4`` folder in three files as ``train.tsv``, ``dev.tsv`` and ``test.tsv``.  \n",
    "\n",
    "Let us view few tweets from ``train.tsv`` using pandas."
   ]
  },
  {
   "cell_type": "code",
   "execution_count": 13,
   "metadata": {},
   "outputs": [
    {
     "data": {
      "text/html": [
       "<div>\n",
       "<style scoped>\n",
       "    .dataframe tbody tr th:only-of-type {\n",
       "        vertical-align: middle;\n",
       "    }\n",
       "\n",
       "    .dataframe tbody tr th {\n",
       "        vertical-align: top;\n",
       "    }\n",
       "\n",
       "    .dataframe thead th {\n",
       "        text-align: right;\n",
       "    }\n",
       "</style>\n",
       "<table border=\"1\" class=\"dataframe\">\n",
       "  <thead>\n",
       "    <tr style=\"text-align: right;\">\n",
       "      <th></th>\n",
       "      <th>tweet</th>\n",
       "      <th>label</th>\n",
       "    </tr>\n",
       "  </thead>\n",
       "  <tbody>\n",
       "    <tr>\n",
       "      <th>0</th>\n",
       "      <td>dear &lt;&lt;&lt;MENTION&gt;&gt;&gt; the newooffice for mac is g...</td>\n",
       "      <td>2</td>\n",
       "    </tr>\n",
       "    <tr>\n",
       "      <th>1</th>\n",
       "      <td>&lt;&lt;&lt;MENTION&gt;&gt;&gt; how about you make a system that...</td>\n",
       "      <td>2</td>\n",
       "    </tr>\n",
       "    <tr>\n",
       "      <th>2</th>\n",
       "      <td>i may be ignorant on this issue but should we ...</td>\n",
       "      <td>2</td>\n",
       "    </tr>\n",
       "    <tr>\n",
       "      <th>3</th>\n",
       "      <td>thanks to &lt;&lt;&lt;MENTION&gt;&gt;&gt; i just may be switchin...</td>\n",
       "      <td>2</td>\n",
       "    </tr>\n",
       "    <tr>\n",
       "      <th>4</th>\n",
       "      <td>if i make a game as a &lt;&lt;&lt;HASHTAG&gt;&gt;&gt; universal ...</td>\n",
       "      <td>0</td>\n",
       "    </tr>\n",
       "  </tbody>\n",
       "</table>\n",
       "</div>"
      ],
      "text/plain": [
       "                                               tweet  label\n",
       "0  dear <<<MENTION>>> the newooffice for mac is g...      2\n",
       "1  <<<MENTION>>> how about you make a system that...      2\n",
       "2  i may be ignorant on this issue but should we ...      2\n",
       "3  thanks to <<<MENTION>>> i just may be switchin...      2\n",
       "4  if i make a game as a <<<HASHTAG>>> universal ...      0"
      ]
     },
     "execution_count": 13,
     "metadata": {},
     "output_type": "execute_result"
    }
   ],
   "source": [
    "import pandas as pd\n",
    "df = pd.read_csv(\"./data/sentiment-twitter-2016-task4/train.tsv\", sep = '\\t', header=None, names=['tweet','label']) # the separator of tsv file is `\\t`\n",
    "df.head()"
   ]
  },
  {
   "cell_type": "markdown",
   "metadata": {},
   "source": [
    "**We import the relevant packages, define the tokenizer and TorchText's fields.**"
   ]
  },
  {
   "cell_type": "code",
   "execution_count": 14,
   "metadata": {},
   "outputs": [
    {
     "name": "stderr",
     "output_type": "stream",
     "text": [
      "/anaconda3/envs/tony/lib/python3.8/site-packages/torchtext/data/field.py:150: UserWarning: Field class will be retired soon and moved to torchtext.legacy. Please see the most recent release notes for further information.\n",
      "  warnings.warn('{} class will be retired soon and moved to torchtext.legacy. Please see the most recent release notes for further information.'.format(self.__class__.__name__), UserWarning)\n"
     ]
    }
   ],
   "source": [
    "# import related packages\n",
    "import torchtext\n",
    "from torchtext.data import Field, LabelField\n",
    "from torchtext.data import TabularDataset\n",
    "\n",
    "# define the white space tokenizer to get tokens\n",
    "def tokenize_en(tweet):\n",
    "    \"\"\"\n",
    "    Tokenizes English tweet from a string into a list of strings (tokens)\n",
    "    \"\"\"\n",
    "    return tweet.strip().split()\n",
    "\n",
    "# define the TorchText's fields\n",
    "TEXT = Field(sequential=True, tokenize=tokenize_en, lower=True)\n",
    "LABEL = Field(sequential=False, unk_token = None)"
   ]
  },
  {
   "cell_type": "markdown",
   "metadata": {},
   "source": [
    "**To use the different splits (training, development and testing), we use `TabularDataset` class to load datasets.**"
   ]
  },
  {
   "cell_type": "code",
   "execution_count": 15,
   "metadata": {},
   "outputs": [
    {
     "name": "stderr",
     "output_type": "stream",
     "text": [
      "/anaconda3/envs/tony/lib/python3.8/site-packages/torchtext/data/example.py:68: UserWarning: Example class will be retired soon and moved to torchtext.legacy. Please see the most recent release notes for further information.\n",
      "  warnings.warn('Example class will be retired soon and moved to torchtext.legacy. Please see the most recent release notes for further information.', UserWarning)\n",
      "/anaconda3/envs/tony/lib/python3.8/site-packages/torchtext/data/example.py:78: UserWarning: Example class will be retired soon and moved to torchtext.legacy. Please see the most recent release notes for further information.\n",
      "  warnings.warn('Example class will be retired soon and moved to torchtext.legacy. Please see the most recent release notes for further information.', UserWarning)\n"
     ]
    }
   ],
   "source": [
    "train, val, test = TabularDataset.splits(\n",
    "    path=\"./data/sentiment-twitter-2016-task4/\", # the root directory where the data lies\n",
    "    train='train.tsv', validation=\"dev.tsv\", test=\"test.tsv\", # file names\n",
    "    format='tsv',\n",
    "    skip_header=False, # if your tsv file has a header, make sure to pass this to ensure it doesn't get proceesed as data!\n",
    "    fields=[('tweet', TEXT), ('label', LABEL)])"
   ]
  },
  {
   "cell_type": "markdown",
   "metadata": {},
   "source": [
    "**Build our vocabulary to map words to integers.**"
   ]
  },
  {
   "cell_type": "code",
   "execution_count": 16,
   "metadata": {},
   "outputs": [],
   "source": [
    "TEXT.build_vocab(train, min_freq=3) # builds vocabulary based on all the words that occur at least twice in the training set\n",
    "LABEL.build_vocab(train)"
   ]
  },
  {
   "cell_type": "markdown",
   "metadata": {},
   "source": [
    "**Initialize the iterators for the train, validation, and test data. Note that we set ``sort`` as `False` so as to not sort examples based on similar lengths which minimizes padding.**"
   ]
  },
  {
   "cell_type": "code",
   "execution_count": 17,
   "metadata": {},
   "outputs": [
    {
     "name": "stderr",
     "output_type": "stream",
     "text": [
      "/anaconda3/envs/tony/lib/python3.8/site-packages/torchtext/data/iterator.py:48: UserWarning: BucketIterator class will be retired soon and moved to torchtext.legacy. Please see the most recent release notes for further information.\n",
      "  warnings.warn('{} class will be retired soon and moved to torchtext.legacy. Please see the most recent release notes for further information.'.format(self.__class__.__name__), UserWarning)\n"
     ]
    }
   ],
   "source": [
    "from torchtext.data import Iterator, BucketIterator\n",
    "\n",
    "train_iter, val_iter, test_iter = BucketIterator.splits(\n",
    " (train, val, test), # we pass in the datasets we want the iterator to draw data from\n",
    " batch_sizes=(4,64,64),\n",
    " sort_key=lambda x: len(x.tweet), \n",
    " sort=False,\n",
    "# A key to use for sorting examples in order to batch together examples with similar lengths and minimize padding. \n",
    " sort_within_batch=False\n",
    ")"
   ]
  },
  {
   "cell_type": "markdown",
   "metadata": {},
   "source": [
    "**Create a batch of four examples and print them**"
   ]
  },
  {
   "cell_type": "code",
   "execution_count": 18,
   "metadata": {},
   "outputs": [
    {
     "name": "stdout",
     "output_type": "stream",
     "text": [
      "processed tweets: \n",
      "0  sample: ['as', 'he', '<unk>', 'at', 'his', '<unk>', 'the', 'decision', 'to', '<unk>', 'amazon', 'prime', 'was', 'suddenly', 'an', 'easy', 'one', 'for', 'steve', '<unk>', '<<<url>>>', '<pad>', '<pad>', '<pad>']  label: 0\n",
      "1  sample: ['jeb', 'bush', '<unk>', \"he's\", 'a', 'co', 'front', 'runner', 'but', \"he's\", 'in', 'place', 'and', 'carly', '<unk>', '<unk>', 'how', \"she's\", 'in', 'place', 'in', '<<<digit>>>', 'states', '<unk>']  label: 2\n",
      "2  sample: [\"can't\", 'wait', 'to', 'see', 'you', 'beautiful', 'people', '<<<mention>>>', 'at', 'the', 'extra', 'show', 'of', 'jurassic', 'park', 'thurs', '<<<hashtag>>>', 'xx', '<pad>', '<pad>', '<pad>', '<pad>', '<pad>', '<pad>']  label: 0\n",
      "3  sample: ['i', 'think', \"i'm\", 'starting', 'to', 'get', 'sick', \"it's\", 'not', 'okay', 'because', \"i'm\", 'going', 'to', 'disneyland', 'tomorrow', '<pad>', '<pad>', '<pad>', '<pad>', '<pad>', '<pad>', '<pad>', '<pad>']  label: 1\n"
     ]
    },
    {
     "name": "stderr",
     "output_type": "stream",
     "text": [
      "/anaconda3/envs/tony/lib/python3.8/site-packages/torchtext/data/batch.py:23: UserWarning: Batch class will be retired soon and moved to torchtext.legacy. Please see the most recent release notes for further information.\n",
      "  warnings.warn('{} class will be retired soon and moved to torchtext.legacy. Please see the most recent release notes for further information.'.format(self.__class__.__name__), UserWarning)\n"
     ]
    }
   ],
   "source": [
    "# create a single batch and terminate the loop\n",
    "for batch in train_iter:\n",
    "    tweets = batch.tweet\n",
    "    labels = batch.label\n",
    "    break  #we use first batch as an example.\n",
    "\n",
    "# print the four examples with padding and corresponding label\n",
    "print(\"processed tweets: \")\n",
    "for j in range(tweets.shape[1]): # sample loop\n",
    "    tokens = []\n",
    "    for i in range(tweets.shape[0]): # token loop\n",
    "        tokens.append(TEXT.vocab.itos[tweets[i,j]])\n",
    "    print(j,\" sample:\",tokens,\" label:\", labels[j].item())"
   ]
  },
  {
   "cell_type": "markdown",
   "metadata": {},
   "source": [
    "**Now we set ``sort`` as `True` so as to sort examples based on similar lengths which minimizes padding.**\n",
    "\n",
    "**Let us initialize the new iterators for the train, validation, and test data.**"
   ]
  },
  {
   "cell_type": "code",
   "execution_count": 19,
   "metadata": {},
   "outputs": [],
   "source": [
    "train_iter, val_iter, test_iter = BucketIterator.splits(\n",
    " (train, val, test), # we pass in the datasets we want the iterator to draw data from\n",
    " batch_sizes=(4,64,64),\n",
    " sort_key=lambda x: len(x.tweet), \n",
    " sort=True,\n",
    "# A key to use for sorting examples in order to batch together examples with similar lengths and minimize padding. \n",
    " sort_within_batch=True\n",
    ")"
   ]
  },
  {
   "cell_type": "markdown",
   "metadata": {},
   "source": [
    "**Let us pick up 4 tweets from the training set and convert them to tensors.**\n",
    "\n",
    "**Create a batch of four examples and print them**"
   ]
  },
  {
   "cell_type": "code",
   "execution_count": 20,
   "metadata": {},
   "outputs": [
    {
     "name": "stdout",
     "output_type": "stream",
     "text": [
      "tensor([[ 191,    4, 1273,   49],\n",
      "        [  14,   82,    2,    0],\n",
      "        [   2,   73,  215,   18],\n",
      "        [ 598,  145,   48,  215],\n",
      "        [  21,   21,   21,   21]])\n",
      "processed tweets: \n",
      "0  sample: ['ihop', 'is', 'the', 'move', 'tomorrow']  label: 0\n",
      "1  sample: ['<<<mention>>>', 'make', 'david', 'beckham', 'tomorrow']  label: 1\n",
      "2  sample: ['bringing', 'the', 'bentley', 'out', 'tomorrow']  label: 0\n",
      "3  sample: ['new', '<unk>', 'with', 'bentley', 'tomorrow']  label: 0\n"
     ]
    }
   ],
   "source": [
    "# create a single batch and terminate the loop\n",
    "for batch in train_iter:\n",
    "    tweets = batch.tweet\n",
    "    labels = batch.label\n",
    "    break  #we use first batch as an example.\n",
    "\n",
    "print(tweets)\n",
    "    \n",
    "# print the four examples with padding and corresponding label\n",
    "print(\"processed tweets: \")\n",
    "for j in range(tweets.shape[1]): # sample loop\n",
    "    tokens = []\n",
    "    for i in range(tweets.shape[0]): # token loop\n",
    "        tokens.append(TEXT.vocab.itos[tweets[i,j]])\n",
    "    print(j,\" sample:\",tokens,\" label:\", labels[j].item())"
   ]
  },
  {
   "cell_type": "code",
   "execution_count": null,
   "metadata": {},
   "outputs": [],
   "source": []
  },
  {
   "cell_type": "markdown",
   "metadata": {},
   "source": [
    "### Creating a single hidden layer RNN\n",
    "\n",
    "PyTorch has ``torch.nn.RNN`` module that implements the vanilla (Elman) RNN with *tanh* or *ReLU* non-linearity. The documentation for this module is [here](https://pytorch.org/docs/stable/generated/torch.nn.RNN.html?highlight=nn%20rnn#torch.nn.RNN). Let us use the sample batch of five examples created before to understand this module.\n",
    "\n",
    "In this tutorial, we will represent the input tweet using a sequence of word embeddings (for each word present in the tweet). We will use ``torch.nn.Embedding`` layer to store word vectors corresponding to words in the vocabulary.\n",
    "\n",
    "Before implementing the embedding module for our usecase, let us compute the size of the word vocabulary."
   ]
  },
  {
   "cell_type": "code",
   "execution_count": 21,
   "metadata": {},
   "outputs": [
    {
     "name": "stdout",
     "output_type": "stream",
     "text": [
      "3339\n"
     ]
    }
   ],
   "source": [
    "# print the size of the word vocabulary\n",
    "VOCAB_SIZE = len(TEXT.vocab.stoi)\n",
    "print(VOCAB_SIZE)"
   ]
  },
  {
   "cell_type": "markdown",
   "metadata": {},
   "source": [
    "We have 3338 unique words in the vocabulary."
   ]
  },
  {
   "cell_type": "markdown",
   "metadata": {},
   "source": [
    "Let us implement the embedding module (whose underlying weight matrix shape is (``vocabulary size`` $\\times$ ``word embedding size``) for our usecase:"
   ]
  },
  {
   "cell_type": "code",
   "execution_count": 22,
   "metadata": {},
   "outputs": [
    {
     "name": "stdout",
     "output_type": "stream",
     "text": [
      "lookup table shape =  torch.Size([3339, 300])\n"
     ]
    }
   ],
   "source": [
    "# set the word embedding size\n",
    "WORD_VEC_SIZE = 300\n",
    "\n",
    "# an Embedding module containing 300 dimensional tensor for each word in the vocabulary\n",
    "# Note, the parameters to Embedding class below are:\n",
    "# num_embeddings (int): size of the dictionary of embeddings\n",
    "# embedding_dim (int): the size of each embedding vector\n",
    "# For more details on Embedding class, see: https://github.com/pytorch/pytorch/blob/master/torch/nn/modules/sparse.py\n",
    "embedding = nn.Embedding(VOCAB_SIZE, WORD_VEC_SIZE, sparse=True)\n",
    "print(\"lookup table shape = \", embedding.weight.size())"
   ]
  },
  {
   "cell_type": "markdown",
   "metadata": {},
   "source": [
    "Let us now feed the tensors of our sample batch to the embedding module and extract the sequence of word embeddings for each tweet."
   ]
  },
  {
   "cell_type": "code",
   "execution_count": 23,
   "metadata": {},
   "outputs": [
    {
     "name": "stdout",
     "output_type": "stream",
     "text": [
      "************************************************** \n",
      " Word ids for the first batch (recall, it has 4 sentences, each column representing a sentence): \n",
      " tensor([[ 191,    4, 1273,   49],\n",
      "        [  14,   82,    2,    0],\n",
      "        [   2,   73,  215,   18],\n",
      "        [ 598,  145,   48,  215],\n",
      "        [  21,   21,   21,   21]]) \n",
      " **************************************************\n",
      "tensor([[ 191,    4, 1273,   49],\n",
      "        [  14,   82,    2,    0],\n",
      "        [   2,   73,  215,   18],\n",
      "        [ 598,  145,   48,  215],\n",
      "        [  21,   21,   21,   21]])\n",
      "************************************************** \n",
      " Tweet input word embeddings size:  torch.Size([5, 4, 300]) \n",
      " **************************************************\n"
     ]
    }
   ],
   "source": [
    "# print tensor containing word ids for our batch\n",
    "print(\"*\"*50, \"\\n Word ids for the first batch (recall, it has 4 sentences, each column representing a sentence): \\n\", tweets.data, \"\\n\",\"*\"*50,)\n",
    "\n",
    "print(tweets)\n",
    "\n",
    "# feed the \"word ids\" tensor to the embedding module\n",
    "tweet_input_embeddings = embedding(tweets)\n",
    "\n",
    "# print the dimensions of the tweet_embeddings\n",
    "print(\"*\"*50, \"\\n Tweet input word embeddings size: \", tweet_input_embeddings.size(), \"\\n\",\"*\"*50,) \n",
    "# first dimension - sequence length: number of words per example (same across the whole batch, after padding) --> max_seq = 22\n",
    "# second dimension -  batch size / number of examples in the batch --> 4\n",
    "# third dimension - number of dimensions in the word vector"
   ]
  },
  {
   "cell_type": "markdown",
   "metadata": {},
   "source": [
    "  "
   ]
  },
  {
   "cell_type": "markdown",
   "metadata": {},
   "source": [
    "Let's actually view the actual word embeddings tensor for this batch:"
   ]
  },
  {
   "cell_type": "code",
   "execution_count": 24,
   "metadata": {},
   "outputs": [
    {
     "name": "stdout",
     "output_type": "stream",
     "text": [
      "************************************************** \n",
      " Embeddings for the first batch: \n",
      " tensor([[[-0.5135,  0.3267,  0.7905,  ..., -0.3774,  1.1380, -0.8392],\n",
      "         [-0.4529, -1.5387, -0.6762,  ..., -0.3834, -0.1766, -0.5717],\n",
      "         [ 0.4249,  0.2937, -0.5128,  ...,  0.4150,  0.4642, -1.4421],\n",
      "         [-0.5248, -1.2459,  0.2603,  ...,  0.0426,  0.3619, -0.3864]],\n",
      "\n",
      "        [[ 1.1614,  0.8855, -0.1623,  ...,  0.0225,  0.8859,  1.3901],\n",
      "         [-0.6050,  0.3579, -0.0839,  ...,  1.4539,  0.2887, -0.7095],\n",
      "         [-1.1319,  0.7413, -0.2055,  ..., -0.5551,  0.6244,  0.0872],\n",
      "         [ 0.2628, -0.3556,  0.2418,  ...,  0.8110,  0.4185, -0.3375]],\n",
      "\n",
      "        [[-1.1319,  0.7413, -0.2055,  ..., -0.5551,  0.6244,  0.0872],\n",
      "         [ 0.5205,  0.2404,  0.7021,  ...,  0.1368, -0.1608,  0.8304],\n",
      "         [-0.1522, -0.5229, -1.0922,  ...,  1.9138, -0.1064,  0.3576],\n",
      "         [ 0.8332, -1.4166, -0.1694,  ..., -0.0402, -1.2936,  0.1942]],\n",
      "\n",
      "        [[-0.7913,  1.7154, -0.5089,  ..., -1.0351,  1.0897, -0.9329],\n",
      "         [-0.4850, -1.2372,  1.1459,  ..., -0.3431,  0.6142,  0.6581],\n",
      "         [ 0.4407, -0.4096,  0.0822,  ...,  0.0356,  0.5244, -0.0495],\n",
      "         [-0.1522, -0.5229, -1.0922,  ...,  1.9138, -0.1064,  0.3576]],\n",
      "\n",
      "        [[ 0.4147,  0.6275,  0.3406,  ..., -1.8453,  0.7008, -0.3693],\n",
      "         [ 0.4147,  0.6275,  0.3406,  ..., -1.8453,  0.7008, -0.3693],\n",
      "         [ 0.4147,  0.6275,  0.3406,  ..., -1.8453,  0.7008, -0.3693],\n",
      "         [ 0.4147,  0.6275,  0.3406,  ..., -1.8453,  0.7008, -0.3693]]],\n",
      "       grad_fn=<EmbeddingBackward>) \n",
      " **************************************************\n"
     ]
    }
   ],
   "source": [
    "print(\"*\"*50, \"\\n Embeddings for the first batch: \\n\", tweet_input_embeddings, \"\\n\",\"*\"*50,) "
   ]
  },
  {
   "cell_type": "markdown",
   "metadata": {},
   "source": [
    "What we are seeing is the actual word vectors representing each of the 4 sentences (i.e., whole batch).\n",
    "This is dimension 2 in ``tweet_input_embeddings``. "
   ]
  },
  {
   "cell_type": "code",
   "execution_count": 25,
   "metadata": {},
   "outputs": [
    {
     "data": {
      "text/plain": [
       "4"
      ]
     },
     "execution_count": 25,
     "metadata": {},
     "output_type": "execute_result"
    }
   ],
   "source": [
    "tweet_input_embeddings.size()[1]"
   ]
  },
  {
   "cell_type": "markdown",
   "metadata": {},
   "source": [
    "As mentioned, ``max_seq length`` for this batch is ``5``, which is dimension 1 (indexed as 0 in Pytorch, similar to Python) \n",
    "in ``tweet_input_embeddings``: "
   ]
  },
  {
   "cell_type": "code",
   "execution_count": 26,
   "metadata": {},
   "outputs": [
    {
     "data": {
      "text/plain": [
       "5"
      ]
     },
     "execution_count": 26,
     "metadata": {},
     "output_type": "execute_result"
    }
   ],
   "source": [
    "tweet_input_embeddings.size()[0]"
   ]
  },
  {
   "cell_type": "markdown",
   "metadata": {},
   "source": [
    "Now, dimension 3 in ``tweet_input_embeddings`` (indexed as 2) is the size of the word vectors:"
   ]
  },
  {
   "cell_type": "code",
   "execution_count": 27,
   "metadata": {},
   "outputs": [
    {
     "data": {
      "text/plain": [
       "300"
      ]
     },
     "execution_count": 27,
     "metadata": {},
     "output_type": "execute_result"
    }
   ],
   "source": [
    "tweet_input_embeddings.size()[2]"
   ]
  },
  {
   "cell_type": "markdown",
   "metadata": {},
   "source": [
    "Let's look at the vector for the ``first word`` in the ``first sentence`` in the batch:"
   ]
  },
  {
   "cell_type": "code",
   "execution_count": 28,
   "metadata": {},
   "outputs": [
    {
     "data": {
      "text/plain": [
       "torch.Size([1, 1, 300])"
      ]
     },
     "execution_count": 28,
     "metadata": {},
     "output_type": "execute_result"
    }
   ],
   "source": [
    "tweet_input_embeddings[:1, :1, :].shape"
   ]
  },
  {
   "cell_type": "code",
   "execution_count": 29,
   "metadata": {},
   "outputs": [
    {
     "data": {
      "text/plain": [
       "tensor([[[-5.1354e-01,  3.2672e-01,  7.9047e-01, -4.8380e-01, -1.5563e+00,\n",
       "          -9.3622e-02,  1.4013e+00, -1.9408e+00, -3.4246e-01, -1.4627e+00,\n",
       "           8.3897e-01,  6.2497e-01, -7.3296e-01, -7.2924e-01, -1.6984e+00,\n",
       "           7.4111e-01, -1.1630e+00, -2.4389e+00, -3.3898e-02, -1.3094e-01,\n",
       "           6.3933e-01,  7.8350e-01, -8.5894e-01,  1.4393e-01,  5.5443e-01,\n",
       "          -1.3347e+00,  8.1855e-01,  6.2711e-01, -1.2319e+00,  5.3928e-01,\n",
       "           1.1330e+00, -1.0674e+00, -1.1975e-01,  5.6230e-01, -2.0047e-01,\n",
       "          -6.1814e-01, -1.2823e+00,  4.9733e-01, -2.8619e+00, -3.9306e-01,\n",
       "           4.1676e-01,  5.9148e-01,  2.9094e-01, -8.4077e-01,  3.7670e-01,\n",
       "           2.0211e+00,  1.1223e-01,  4.9478e-01,  8.6455e-01, -1.6632e+00,\n",
       "           1.6736e-01,  3.5056e-01, -1.9392e-02,  1.3238e+00,  1.0172e+00,\n",
       "          -1.1504e+00, -6.9779e-04,  8.7020e-01,  1.2851e+00,  1.6320e+00,\n",
       "          -3.0942e-01,  1.9891e-01,  1.5140e-01,  1.6645e-01,  6.7706e-01,\n",
       "          -2.4102e-01, -3.6028e-01,  9.3713e-01, -9.5782e-02,  2.3204e+00,\n",
       "           3.1011e+00,  1.0752e+00, -1.6465e+00, -1.2707e+00, -8.0707e-01,\n",
       "          -3.3365e-01,  1.4101e-01, -1.8461e+00,  1.2438e+00, -1.1737e+00,\n",
       "           2.1860e-01,  2.7588e-01, -6.9968e-01,  8.2606e-01,  4.1634e-01,\n",
       "          -2.2078e-01,  2.7549e+00, -4.0233e-01, -1.2357e+00,  7.5938e-01,\n",
       "          -1.6060e+00, -7.5166e-01,  2.9140e-01, -1.6500e+00,  6.0724e-01,\n",
       "           4.2253e-01,  2.0172e+00, -4.2780e-02,  2.1517e-01,  2.0137e-01,\n",
       "           1.4838e+00,  7.9160e-02, -5.8982e-01,  8.6753e-01, -2.2361e-01,\n",
       "           1.4133e-01, -1.4225e-01,  1.4525e-01,  8.2226e-01,  2.3352e-01,\n",
       "          -9.6421e-01, -1.2393e+00,  1.5947e-01, -6.3376e-01, -1.3709e+00,\n",
       "           8.4182e-02,  1.1034e+00,  3.3645e-01, -1.4614e+00,  1.7553e-01,\n",
       "          -1.6235e+00, -1.3184e+00, -3.9261e-01, -6.2732e-01,  1.2375e+00,\n",
       "          -1.4965e+00, -1.9197e-01, -6.4488e-01, -1.6871e+00, -3.0751e-01,\n",
       "           1.3225e-01, -1.2084e+00,  6.5262e-01, -1.5576e+00,  1.0224e+00,\n",
       "          -3.2145e-01,  1.3239e+00, -1.1737e+00,  1.0774e+00, -1.2983e-01,\n",
       "          -1.4231e-02, -7.5524e-01,  1.8672e+00, -5.3390e-01,  2.1870e+00,\n",
       "           7.0776e-01,  1.2956e+00,  3.4538e-01,  8.5550e-01,  1.0079e+00,\n",
       "          -4.3801e-01, -2.4235e-02, -2.4081e+00,  6.1136e-01,  1.1394e+00,\n",
       "          -1.6401e+00,  7.1631e-01, -1.1824e+00,  8.2954e-01, -2.2143e-01,\n",
       "           8.8119e-01, -3.9769e-01,  4.7461e-01,  4.6060e-01, -9.6696e-01,\n",
       "           1.2382e-02, -3.0983e-02,  3.1893e-01, -4.6591e-01,  1.2718e+00,\n",
       "          -7.7365e-01, -1.3230e+00, -1.2611e+00, -1.2023e+00, -7.7081e-01,\n",
       "           1.1471e-01,  6.0020e-01,  5.2040e-01,  7.4954e-01,  7.6166e-01,\n",
       "          -7.9554e-02,  2.9672e+00,  2.3043e+00,  1.1491e+00, -1.3413e+00,\n",
       "          -1.9824e-01, -3.2772e-01,  3.6138e-01, -3.2647e+00,  1.2147e+00,\n",
       "          -1.6794e+00, -2.8874e-01, -2.1096e+00, -1.6988e+00, -1.2507e+00,\n",
       "          -9.5405e-01,  1.4004e-01,  8.4184e-01, -3.0147e-01,  4.0223e-01,\n",
       "           5.6309e-02, -5.0151e-01, -3.1380e-02,  3.4299e-01,  5.9055e-01,\n",
       "          -3.3052e-01, -8.2231e-01,  2.8492e-01,  9.1920e-01, -1.5458e+00,\n",
       "          -6.7535e-01, -1.6765e-01,  7.2320e-01,  4.0070e-01,  2.8282e-01,\n",
       "           6.8890e-01, -7.9939e-02, -1.2246e+00, -1.4564e+00,  7.2383e-01,\n",
       "           9.4251e-01,  8.1628e-01, -4.5291e-01,  7.3579e-01, -1.7335e+00,\n",
       "          -1.5343e-01, -2.5330e-01,  3.3048e-01, -7.8754e-01, -1.0742e+00,\n",
       "          -1.3567e-01, -5.7876e-01, -4.0256e-01, -7.3640e-01,  5.4779e-01,\n",
       "           1.0138e+00, -1.2637e+00,  2.9598e-01, -1.1004e+00, -2.2119e+00,\n",
       "          -2.6469e-01, -1.9723e-01,  2.0248e+00, -1.0189e+00, -5.7009e-01,\n",
       "          -8.8438e-03, -2.8563e-01, -6.3275e-01, -1.1664e+00, -4.2292e-02,\n",
       "          -9.7345e-01,  7.5720e-01, -4.5825e-01, -1.4250e-02,  1.3106e+00,\n",
       "           5.5432e-01, -7.7991e-04,  2.3336e-01,  2.8068e-01,  4.0302e-01,\n",
       "           3.5642e-01, -5.7473e-01, -1.6004e+00, -5.2483e-01,  4.4660e-01,\n",
       "           3.8196e-01, -1.4103e+00, -1.8826e+00, -8.3743e-02, -6.5764e-01,\n",
       "           1.0946e+00, -3.9905e-01, -4.4875e-02, -4.2338e-01, -5.9336e-01,\n",
       "           1.5737e+00,  1.0711e+00, -1.0110e+00, -2.2414e-01,  1.7720e+00,\n",
       "           3.8304e-01,  1.9161e+00, -4.3420e-01,  5.5613e-01, -1.9392e+00,\n",
       "          -9.4092e-01, -1.5460e+00,  1.5970e-01, -1.2006e+00, -3.1589e-01,\n",
       "          -1.5072e+00, -1.7860e+00, -4.8478e-01, -2.3998e+00, -7.4097e-01,\n",
       "           8.8634e-01,  3.8150e-01, -3.7737e-01,  1.1380e+00, -8.3923e-01]]],\n",
       "       grad_fn=<SliceBackward>)"
      ]
     },
     "execution_count": 29,
     "metadata": {},
     "output_type": "execute_result"
    }
   ],
   "source": [
    "tweet_input_embeddings[:1, :1, :]"
   ]
  },
  {
   "cell_type": "markdown",
   "metadata": {},
   "source": [
    "Let's look at the ``first 5 dimensions`` of that same ``first word`` of the ``first sentence``:"
   ]
  },
  {
   "cell_type": "code",
   "execution_count": 30,
   "metadata": {},
   "outputs": [
    {
     "data": {
      "text/plain": [
       "tensor([[[-0.5135,  0.3267,  0.7905, -0.4838, -1.5563]]],\n",
       "       grad_fn=<SliceBackward>)"
      ]
     },
     "execution_count": 30,
     "metadata": {},
     "output_type": "execute_result"
    }
   ],
   "source": [
    "tweet_input_embeddings[:1, :1, :5]"
   ]
  },
  {
   "cell_type": "markdown",
   "metadata": {},
   "source": [
    "The following shows you the ``first 5 dimensions`` of the ``first word`` from ``each of the 4 sentences``"
   ]
  },
  {
   "cell_type": "code",
   "execution_count": 31,
   "metadata": {},
   "outputs": [
    {
     "data": {
      "text/plain": [
       "tensor([[[-0.5135,  0.3267,  0.7905, -0.4838, -1.5563],\n",
       "         [-0.4529, -1.5387, -0.6762, -0.6066,  0.8520],\n",
       "         [ 0.4249,  0.2937, -0.5128,  0.6426,  0.1397],\n",
       "         [-0.5248, -1.2459,  0.2603,  0.7958, -0.8358]]],\n",
       "       grad_fn=<SliceBackward>)"
      ]
     },
     "execution_count": 31,
     "metadata": {},
     "output_type": "execute_result"
    }
   ],
   "source": [
    "tweet_input_embeddings[:1, :, :5]"
   ]
  },
  {
   "cell_type": "markdown",
   "metadata": {},
   "source": [
    "The following shows you the ``last 7 dimensions`` of the ``last word`` from ``the last sentence``. Enjoy!"
   ]
  },
  {
   "cell_type": "code",
   "execution_count": 32,
   "metadata": {},
   "outputs": [
    {
     "data": {
      "text/plain": [
       "tensor([[[-0.4951, -0.8644,  2.9127,  0.1288, -1.8453,  0.7008, -0.3693]]],\n",
       "       grad_fn=<SliceBackward>)"
      ]
     },
     "execution_count": 32,
     "metadata": {},
     "output_type": "execute_result"
    }
   ],
   "source": [
    "tweet_input_embeddings[-1:, -1:, -7:]"
   ]
  },
  {
   "cell_type": "code",
   "execution_count": null,
   "metadata": {},
   "outputs": [],
   "source": []
  },
  {
   "cell_type": "markdown",
   "metadata": {},
   "source": [
    "We will be passing the sequence of word embeddings for each sentence in the batch as input to the RNN. But let's now define an RNN module first:"
   ]
  },
  {
   "cell_type": "code",
   "execution_count": 33,
   "metadata": {},
   "outputs": [
    {
     "name": "stdout",
     "output_type": "stream",
     "text": [
      "RNN(300, 50)\n"
     ]
    }
   ],
   "source": [
    "\"\"\"\n",
    "define the RNN module\n",
    "\"\"\"\n",
    "# first input - number of dimensions for word vectors for a vector x (300, size of the word embedding)\n",
    "# second input - number of nodes in hidden state h_t (50, size of the hidden layer)\n",
    "# third input - number of recurrent layers (we set it to 1)\n",
    "rnn = nn.RNN(input_size=300, hidden_size=50, num_layers=1) # input_size, hidden_size, num_layers\n",
    "print(rnn)"
   ]
  },
  {
   "cell_type": "code",
   "execution_count": null,
   "metadata": {},
   "outputs": [],
   "source": []
  },
  {
   "cell_type": "markdown",
   "metadata": {},
   "source": [
    "We will now pass the ``tweet_input_embeddings`` (representations of words in our batch) to RNN. Before we do, we need to know RNN also *optionally* takes a parameter for the ``initial hidden state h0`` (that is, the hidden state we will input to the model before the forward propagation starts. If this vector is not explicitly specified, Pytorch will just initialize h0 to a tensor of zeros.)\n",
    "\n",
    "Let's construct an ``initial hidden state h0``. Note the shape of its tensor, and what each of the 3 parameters it takes mean."
   ]
  },
  {
   "cell_type": "code",
   "execution_count": 34,
   "metadata": {},
   "outputs": [
    {
     "name": "stdout",
     "output_type": "stream",
     "text": [
      "The shape as as expected:  torch.Size([1, 4, 50])\n"
     ]
    }
   ],
   "source": [
    "\"\"\"\n",
    "hidden layer at time-step 0 (h_0)\n",
    "\"\"\"\n",
    "# first dimension - number of RNN layers (1)\n",
    "# second dimension - number of examples/sentences in a batch\n",
    "# third dimension - number of nodes in hidden layer (50, size of the hidden layer, that we specified as hidden_size in RNN construction)\n",
    "h0 = torch.randn(1, 4, 50)\n",
    "print(\"The shape as as expected: \", h0.shape)"
   ]
  },
  {
   "cell_type": "code",
   "execution_count": null,
   "metadata": {},
   "outputs": [],
   "source": []
  },
  {
   "cell_type": "markdown",
   "metadata": {},
   "source": [
    "Let us feed both the hidden representation constructed above and tweet embeddings to our RNN model.\n",
    "We will get back two objects ``output`` and ``hn`` that we will need to understand."
   ]
  },
  {
   "cell_type": "code",
   "execution_count": 35,
   "metadata": {},
   "outputs": [],
   "source": [
    "\"\"\"\n",
    "forward propagation over the RNN model\n",
    "\"\"\"\n",
    "output, hn = rnn(tweet_input_embeddings, h0) # h0 is optional input, defaults to tensor of 0's of apprpriate size (num_layers, batch, hidden_size) when not provided"
   ]
  },
  {
   "cell_type": "code",
   "execution_count": null,
   "metadata": {},
   "outputs": [],
   "source": []
  },
  {
   "cell_type": "markdown",
   "metadata": {},
   "source": [
    "But what is ``output``? Well, let's inspect its shape first:"
   ]
  },
  {
   "cell_type": "code",
   "execution_count": 36,
   "metadata": {},
   "outputs": [
    {
     "name": "stdout",
     "output_type": "stream",
     "text": [
      "output size:  torch.Size([5, 4, 50])\n"
     ]
    }
   ],
   "source": [
    "# output = seq_len, batch, hidden_size (output features from last layer of RNN)\n",
    "print(\"output size: \", output.size())"
   ]
  },
  {
   "cell_type": "markdown",
   "metadata": {},
   "source": [
    "Here's what we need to know about ``output``:\n",
    "- The first dimension in the ``output`` tensor is the ``max_seq length`` (5). \n",
    "- The second dimension is ``batch_size`` (the number of examples/sentences in our batch = 4).\n",
    "- The third dimension is the ``size of nodes/units`` in our hidden layer (=50). \n",
    "\n",
    "What is the shape of hn (tensor containing the hidden state for t=max_seq_length) ?"
   ]
  },
  {
   "cell_type": "code",
   "execution_count": 37,
   "metadata": {},
   "outputs": [
    {
     "name": "stdout",
     "output_type": "stream",
     "text": [
      "last hidden state size:  torch.Size([1, 4, 50])\n"
     ]
    }
   ],
   "source": [
    "# h_n = num_layers, batch, hidden_size (hidden state for t=seq_len or hidden state at last timestep)\n",
    "print(\"last hidden state size: \", hn.size())"
   ]
  },
  {
   "cell_type": "markdown",
   "metadata": {},
   "source": [
    "Here's what we need to know about ``hn``:\n",
    "- ``hn`` is a tensor of shape (num_layers, batch_size, hidden_size / number of hidden layer nodes) containing the hidden state for the last ``time step`` \n",
    "(``t = max_seq_length``)."
   ]
  },
  {
   "cell_type": "markdown",
   "metadata": {},
   "source": [
    "You can take the output representation for a tweet after processing the last token (t=seq_len or last timestep) and call the resulting representation as the tweet representation that **\"summarizes\" the information present** in the tweet. This tweet representation can further be used for a useful task like tweet classification (we will try out sentiment analysis later in this tutorial) by adding a classification module on top of the tweet representation.\n",
    "\n",
    "Let us compute the final tweet representation:"
   ]
  },
  {
   "cell_type": "code",
   "execution_count": 38,
   "metadata": {},
   "outputs": [
    {
     "name": "stdout",
     "output_type": "stream",
     "text": [
      "tweet output embeddings size:  torch.Size([4, 50])\n"
     ]
    }
   ],
   "source": [
    "tweet_output_embeddings = output[-1,:,:] # -1 fetches the embeddings from the last timestep\n",
    "print(\"tweet output embeddings size: \", tweet_output_embeddings.size())\n",
    "# first dimension - number of tweets in the batch (4)\n",
    "# second dimension - number of features in hidden state h_t (50, size of the hidden layer)"
   ]
  },
  {
   "cell_type": "code",
   "execution_count": null,
   "metadata": {},
   "outputs": [],
   "source": []
  },
  {
   "cell_type": "markdown",
   "metadata": {},
   "source": [
    "## Multilayered RNN\n",
    "\n",
    "For some applications, we may need more than one hidden layer for RNN to model the information flow. Adding more layers requires fews changes.\n",
    "\n",
    "Firstly, we change the ``num_layers`` argument to reflect the number of layers we want during the RNN module definition (we will define two hidden layers)."
   ]
  },
  {
   "cell_type": "code",
   "execution_count": 39,
   "metadata": {},
   "outputs": [],
   "source": [
    "\"\"\"\n",
    "define the RNN module\n",
    "\"\"\"\n",
    "# first input - number of dimesnions for word vectors for a vector x (300, size of the word embedding)\n",
    "# second input - number of nodes in hidden layer (50, size of the hidden layer)\n",
    "# third input - number of recurrent layers (we set it to 2)\n",
    "rnn = nn.RNN(input_size=300, hidden_size=50, num_layers=2) # input_size, hidden_size, num_layers"
   ]
  },
  {
   "cell_type": "markdown",
   "metadata": {},
   "source": [
    "Similar to single layered RNN, Multilayered RNN module takes two inputs: the ``initial hidden state h0`` for each element in the batch (at ``time step t=0``) and the ``input features`` (``tweet_input_embeddings`` in our case).\n",
    "\n",
    "Let us construct the new initial hidden state for a 2 layered RNN."
   ]
  },
  {
   "cell_type": "code",
   "execution_count": 40,
   "metadata": {},
   "outputs": [
    {
     "name": "stdout",
     "output_type": "stream",
     "text": [
      "The shape as as expected:  torch.Size([2, 4, 50])\n"
     ]
    }
   ],
   "source": [
    "\"\"\"\n",
    "hidden layer at time-step 0 (h_0)\n",
    "\"\"\"\n",
    "# first dimension - number of RNN layers (2)\n",
    "# second dimension - number of examples/sentences in a batch (4)\n",
    "# third dimension - number of nodes in hidden layer (50, size of the hidden layer)\n",
    "h0 = torch.randn(2, 4, 50)\n",
    "print(\"The shape as as expected: \", h0.shape)"
   ]
  },
  {
   "cell_type": "markdown",
   "metadata": {},
   "source": [
    "Let us feed both the hidden representation constructed above and tweet embeddings to our RNN model."
   ]
  },
  {
   "cell_type": "code",
   "execution_count": 41,
   "metadata": {},
   "outputs": [
    {
     "name": "stdout",
     "output_type": "stream",
     "text": [
      "torch.Size([5, 4, 300])\n"
     ]
    }
   ],
   "source": [
    "\"\"\"\n",
    "forward propagation over the RNN model\n",
    "\"\"\"\n",
    "print(tweet_input_embeddings.shape)\n",
    "output, hn = rnn(tweet_input_embeddings, h0) # h0 is optional input, defaults to tensor of 0's when not provided"
   ]
  },
  {
   "cell_type": "markdown",
   "metadata": {},
   "source": [
    "``output`` tensor contains the output features $h_t$ from the last layer of the RNN"
   ]
  },
  {
   "cell_type": "code",
   "execution_count": 42,
   "metadata": {},
   "outputs": [
    {
     "name": "stdout",
     "output_type": "stream",
     "text": [
      "output size:  torch.Size([5, 4, 50])\n"
     ]
    }
   ],
   "source": [
    "# output = seq_len, batch, hidden_size (output features from last layer of RNN)\n",
    "print(\"output size: \", output.size())"
   ]
  },
  {
   "cell_type": "markdown",
   "metadata": {},
   "source": [
    "``hn`` is a tensor of shape (num_layers, batch_size, hidden_size / number of nodes in a hidden layer) containing the hidden state for last time step ``t = max_seq_len`` for the ``2 layered RNN``."
   ]
  },
  {
   "cell_type": "code",
   "execution_count": 43,
   "metadata": {},
   "outputs": [
    {
     "name": "stdout",
     "output_type": "stream",
     "text": [
      "last hidden state size:  torch.Size([2, 4, 50])\n"
     ]
    }
   ],
   "source": [
    "# h_n = num_layers, batch, hidden_size (hidden state for t=seq_len or hidden state at last timestep)\n",
    "print(\"last hidden state size: \", hn.size())"
   ]
  },
  {
   "cell_type": "markdown",
   "metadata": {},
   "source": [
    "#### Building tweet representation\n",
    "\n",
    "Actually, `output` is tensor containing the output features (h_t) from the last layer of the RNN, for each t. Namely, `output` returns all the hidden states of all time steps from the last layer of the RNN. Hence, the last element of `output` is `h_n`. \n",
    "Let us print them out:"
   ]
  },
  {
   "cell_type": "code",
   "execution_count": 44,
   "metadata": {},
   "outputs": [
    {
     "name": "stdout",
     "output_type": "stream",
     "text": [
      "last element of output:\n",
      " tensor([[-0.0709,  0.4668,  0.3579, -0.5099, -0.4300, -0.2248, -0.7673, -0.4773,\n",
      "          0.3812, -0.1983, -0.3215, -0.4493,  0.1724, -0.3832,  0.2248,  0.0570,\n",
      "          0.0376,  0.2300,  0.0052, -0.4303,  0.0523, -0.0791, -0.1246,  0.6084,\n",
      "          0.1359,  0.2397, -0.8246, -0.0453,  0.0957, -0.3199,  0.1871,  0.3386,\n",
      "         -0.3751, -0.6280,  0.6543,  0.1593,  0.6741,  0.8425,  0.2623,  0.0097,\n",
      "          0.5763, -0.1368,  0.6867, -0.2793,  0.5338,  0.1364,  0.4469, -0.5048,\n",
      "         -0.8317,  0.4157],\n",
      "        [-0.5474,  0.4983,  0.6039, -0.2205, -0.2888, -0.4945, -0.4990, -0.7080,\n",
      "         -0.5349, -0.3173, -0.8232, -0.3902,  0.2626, -0.5336, -0.0063, -0.0890,\n",
      "          0.4909,  0.1390,  0.3368, -0.4387,  0.1513,  0.2913, -0.2947, -0.1831,\n",
      "          0.1963,  0.6134, -0.4305, -0.0950,  0.3135, -0.4176, -0.2259, -0.2533,\n",
      "         -0.3188, -0.4990,  0.7461, -0.0712,  0.4278,  0.6318, -0.1936,  0.0487,\n",
      "          0.4095,  0.3505,  0.3548,  0.0355,  0.6912, -0.1482,  0.2049, -0.1906,\n",
      "         -0.8870,  0.7082],\n",
      "        [-0.3053,  0.2676,  0.6149, -0.3502, -0.1341, -0.5779, -0.7077, -0.0522,\n",
      "          0.0371, -0.7853, -0.5308, -0.4268,  0.1939, -0.1747, -0.1841,  0.2409,\n",
      "          0.1681,  0.2170,  0.0754, -0.5621, -0.5094, -0.3267,  0.5074,  0.4584,\n",
      "          0.4099,  0.4058, -0.4914,  0.1583, -0.0168, -0.0307,  0.2059, -0.2566,\n",
      "         -0.2740, -0.5220,  0.6952,  0.3781,  0.6187,  0.8131, -0.0689, -0.5657,\n",
      "          0.3410,  0.0476,  0.1116, -0.3346,  0.7338,  0.1486,  0.6013, -0.3271,\n",
      "         -0.8548,  0.7421],\n",
      "        [-0.4006,  0.1571,  0.4304, -0.2330, -0.1073,  0.1831, -0.7709, -0.3912,\n",
      "          0.1066, -0.5067, -0.1298, -0.3618, -0.0018, -0.4727,  0.7040,  0.0190,\n",
      "          0.4346,  0.3488,  0.2750, -0.3537, -0.3144, -0.3270,  0.5792,  0.0865,\n",
      "          0.2965,  0.3700, -0.1001, -0.0884,  0.1205,  0.0966, -0.3183, -0.3482,\n",
      "         -0.0078, -0.3842,  0.5943,  0.7235,  0.4166,  0.7200,  0.6639, -0.2922,\n",
      "          0.3883,  0.0437,  0.3037, -0.4834,  0.5113, -0.4534,  0.3680,  0.0017,\n",
      "         -0.8164,  0.3738]], grad_fn=<SelectBackward>)\n"
     ]
    }
   ],
   "source": [
    "print(\"last element of output:\\n\", output[-1])"
   ]
  },
  {
   "cell_type": "markdown",
   "metadata": {},
   "source": [
    "Then let us print out the last hidden state of last layer. \n",
    "Notice, we have two RNN layer, we only want to use the hidden state of last layer. \n",
    "You can find the these value are same as `output[-1]`."
   ]
  },
  {
   "cell_type": "code",
   "execution_count": 45,
   "metadata": {},
   "outputs": [
    {
     "name": "stdout",
     "output_type": "stream",
     "text": [
      "last hidden state h_n:\n",
      " tensor([[-0.0709,  0.4668,  0.3579, -0.5099, -0.4300, -0.2248, -0.7673, -0.4773,\n",
      "          0.3812, -0.1983, -0.3215, -0.4493,  0.1724, -0.3832,  0.2248,  0.0570,\n",
      "          0.0376,  0.2300,  0.0052, -0.4303,  0.0523, -0.0791, -0.1246,  0.6084,\n",
      "          0.1359,  0.2397, -0.8246, -0.0453,  0.0957, -0.3199,  0.1871,  0.3386,\n",
      "         -0.3751, -0.6280,  0.6543,  0.1593,  0.6741,  0.8425,  0.2623,  0.0097,\n",
      "          0.5763, -0.1368,  0.6867, -0.2793,  0.5338,  0.1364,  0.4469, -0.5048,\n",
      "         -0.8317,  0.4157],\n",
      "        [-0.5474,  0.4983,  0.6039, -0.2205, -0.2888, -0.4945, -0.4990, -0.7080,\n",
      "         -0.5349, -0.3173, -0.8232, -0.3902,  0.2626, -0.5336, -0.0063, -0.0890,\n",
      "          0.4909,  0.1390,  0.3368, -0.4387,  0.1513,  0.2913, -0.2947, -0.1831,\n",
      "          0.1963,  0.6134, -0.4305, -0.0950,  0.3135, -0.4176, -0.2259, -0.2533,\n",
      "         -0.3188, -0.4990,  0.7461, -0.0712,  0.4278,  0.6318, -0.1936,  0.0487,\n",
      "          0.4095,  0.3505,  0.3548,  0.0355,  0.6912, -0.1482,  0.2049, -0.1906,\n",
      "         -0.8870,  0.7082],\n",
      "        [-0.3053,  0.2676,  0.6149, -0.3502, -0.1341, -0.5779, -0.7077, -0.0522,\n",
      "          0.0371, -0.7853, -0.5308, -0.4268,  0.1939, -0.1747, -0.1841,  0.2409,\n",
      "          0.1681,  0.2170,  0.0754, -0.5621, -0.5094, -0.3267,  0.5074,  0.4584,\n",
      "          0.4099,  0.4058, -0.4914,  0.1583, -0.0168, -0.0307,  0.2059, -0.2566,\n",
      "         -0.2740, -0.5220,  0.6952,  0.3781,  0.6187,  0.8131, -0.0689, -0.5657,\n",
      "          0.3410,  0.0476,  0.1116, -0.3346,  0.7338,  0.1486,  0.6013, -0.3271,\n",
      "         -0.8548,  0.7421],\n",
      "        [-0.4006,  0.1571,  0.4304, -0.2330, -0.1073,  0.1831, -0.7709, -0.3912,\n",
      "          0.1066, -0.5067, -0.1298, -0.3618, -0.0018, -0.4727,  0.7040,  0.0190,\n",
      "          0.4346,  0.3488,  0.2750, -0.3537, -0.3144, -0.3270,  0.5792,  0.0865,\n",
      "          0.2965,  0.3700, -0.1001, -0.0884,  0.1205,  0.0966, -0.3183, -0.3482,\n",
      "         -0.0078, -0.3842,  0.5943,  0.7235,  0.4166,  0.7200,  0.6639, -0.2922,\n",
      "          0.3883,  0.0437,  0.3037, -0.4834,  0.5113, -0.4534,  0.3680,  0.0017,\n",
      "         -0.8164,  0.3738]], grad_fn=<SelectBackward>)\n"
     ]
    }
   ],
   "source": [
    "print(\"last hidden state h_n:\\n\", hn[-1])"
   ]
  },
  {
   "cell_type": "markdown",
   "metadata": {},
   "source": [
    "Let us compute the final tweet representation:"
   ]
  },
  {
   "cell_type": "code",
   "execution_count": 46,
   "metadata": {},
   "outputs": [
    {
     "name": "stdout",
     "output_type": "stream",
     "text": [
      "tweet output embeddings size:  torch.Size([4, 50])\n"
     ]
    }
   ],
   "source": [
    "tweet_output_embeddings = output[-1,:,:] # -1 fetches the embeddings from the last timestep\n",
    "print(\"tweet output embeddings size: \", tweet_output_embeddings.size())\n",
    "# first dimension - number of tweets in the batch (4)\n",
    "# second dimension - number of features in hidden state h_t (50, size of the hidden layer)"
   ]
  },
  {
   "cell_type": "code",
   "execution_count": 47,
   "metadata": {},
   "outputs": [
    {
     "data": {
      "text/plain": [
       "tensor([[-0.0709,  0.4668,  0.3579, -0.5099, -0.4300, -0.2248, -0.7673, -0.4773,\n",
       "          0.3812, -0.1983, -0.3215, -0.4493,  0.1724, -0.3832,  0.2248,  0.0570,\n",
       "          0.0376,  0.2300,  0.0052, -0.4303,  0.0523, -0.0791, -0.1246,  0.6084,\n",
       "          0.1359,  0.2397, -0.8246, -0.0453,  0.0957, -0.3199,  0.1871,  0.3386,\n",
       "         -0.3751, -0.6280,  0.6543,  0.1593,  0.6741,  0.8425,  0.2623,  0.0097,\n",
       "          0.5763, -0.1368,  0.6867, -0.2793,  0.5338,  0.1364,  0.4469, -0.5048,\n",
       "         -0.8317,  0.4157],\n",
       "        [-0.5474,  0.4983,  0.6039, -0.2205, -0.2888, -0.4945, -0.4990, -0.7080,\n",
       "         -0.5349, -0.3173, -0.8232, -0.3902,  0.2626, -0.5336, -0.0063, -0.0890,\n",
       "          0.4909,  0.1390,  0.3368, -0.4387,  0.1513,  0.2913, -0.2947, -0.1831,\n",
       "          0.1963,  0.6134, -0.4305, -0.0950,  0.3135, -0.4176, -0.2259, -0.2533,\n",
       "         -0.3188, -0.4990,  0.7461, -0.0712,  0.4278,  0.6318, -0.1936,  0.0487,\n",
       "          0.4095,  0.3505,  0.3548,  0.0355,  0.6912, -0.1482,  0.2049, -0.1906,\n",
       "         -0.8870,  0.7082],\n",
       "        [-0.3053,  0.2676,  0.6149, -0.3502, -0.1341, -0.5779, -0.7077, -0.0522,\n",
       "          0.0371, -0.7853, -0.5308, -0.4268,  0.1939, -0.1747, -0.1841,  0.2409,\n",
       "          0.1681,  0.2170,  0.0754, -0.5621, -0.5094, -0.3267,  0.5074,  0.4584,\n",
       "          0.4099,  0.4058, -0.4914,  0.1583, -0.0168, -0.0307,  0.2059, -0.2566,\n",
       "         -0.2740, -0.5220,  0.6952,  0.3781,  0.6187,  0.8131, -0.0689, -0.5657,\n",
       "          0.3410,  0.0476,  0.1116, -0.3346,  0.7338,  0.1486,  0.6013, -0.3271,\n",
       "         -0.8548,  0.7421],\n",
       "        [-0.4006,  0.1571,  0.4304, -0.2330, -0.1073,  0.1831, -0.7709, -0.3912,\n",
       "          0.1066, -0.5067, -0.1298, -0.3618, -0.0018, -0.4727,  0.7040,  0.0190,\n",
       "          0.4346,  0.3488,  0.2750, -0.3537, -0.3144, -0.3270,  0.5792,  0.0865,\n",
       "          0.2965,  0.3700, -0.1001, -0.0884,  0.1205,  0.0966, -0.3183, -0.3482,\n",
       "         -0.0078, -0.3842,  0.5943,  0.7235,  0.4166,  0.7200,  0.6639, -0.2922,\n",
       "          0.3883,  0.0437,  0.3037, -0.4834,  0.5113, -0.4534,  0.3680,  0.0017,\n",
       "         -0.8164,  0.3738]], grad_fn=<SliceBackward>)"
      ]
     },
     "execution_count": 47,
     "metadata": {},
     "output_type": "execute_result"
    }
   ],
   "source": [
    "tweet_output_embeddings"
   ]
  },
  {
   "cell_type": "markdown",
   "metadata": {},
   "source": [
    "## RNN for Sentiment Analysis\n",
    "\n",
    "In this section we will implement RNN for classifying the sentiment of the tweet (same task used in our previous feedforward neural networks tutorial).\n",
    "\n",
    "We will pick up most of the functions from our feedforward neural networks code:"
   ]
  },
  {
   "cell_type": "code",
   "execution_count": 70,
   "metadata": {},
   "outputs": [],
   "source": [
    "# all the necessary imports\n",
    "import torch\n",
    "from torch.utils.data import Dataset, DataLoader\n",
    "import torch.nn as nn\n",
    "from torch import optim\n",
    "\n",
    "# set the seed (for reproducibility)\n",
    "manual_seed = 123\n",
    "torch.manual_seed(manual_seed)\n",
    "device = torch.device(\"cuda\" if torch.cuda.is_available() else \"cpu\")\n",
    "n_gpu = torch.cuda.device_count()\n",
    "if n_gpu > 0:\n",
    "  torch.cuda.manual_seed(manual_seed)\n",
    "\n",
    "# hyperparameters\n",
    "MAX_EPOCHS = 5 # number of passes over the training data\n",
    "LEARNING_RATE = 0.1 # learning rate for the weight update rule\n",
    "NUM_CLASSES = 3 # number of classes for the problem\n",
    "EMBEDDING_SIZE = 300 # size of the word embedding"
   ]
  },
  {
   "cell_type": "code",
   "execution_count": null,
   "metadata": {},
   "outputs": [],
   "source": []
  },
  {
   "cell_type": "markdown",
   "metadata": {},
   "source": [
    "Now we can define the full RNN model:"
   ]
  },
  {
   "cell_type": "code",
   "execution_count": 71,
   "metadata": {},
   "outputs": [],
   "source": [
    "\"\"\"\n",
    "create a model for RNN\n",
    "\"\"\"\n",
    "class RNNmodel(nn.Module):\n",
    "  \n",
    "  def __init__(self, embedding_size, vocab_size, output_size, hidden_size, num_layers):\n",
    "    # In the constructor we define the layers for our model\n",
    "    super(RNNmodel, self).__init__()\n",
    "    # word embedding lookup table\n",
    "    self.embedding = nn.Embedding(num_embeddings=vocab_size, embedding_dim=embedding_size, sparse=True)\n",
    "    # core RNN module\n",
    "    self.rnn_layer = nn.RNN(input_size=embedding_size, hidden_size=hidden_size, num_layers=num_layers) \n",
    "    # activation function\n",
    "    self.activation_fn = nn.ReLU()\n",
    "    # classification related modules\n",
    "    self.linear_layer = nn.Linear(hidden_size, output_size) \n",
    "    self.softmax_layer = nn.LogSoftmax(dim=1)\n",
    "    self.debug = False\n",
    "  \n",
    "  def forward(self, x):\n",
    "    # In the forward function we define the forward propagation logic\n",
    "    if self.debug:\n",
    "        print(\"input word indices shape = \", x.size())\n",
    "    out = self.embedding(x)\n",
    "    if self.debug:\n",
    "        print(\"word embeddings shape = \", out.size())\n",
    "    out, _ = self.rnn_layer(out) # since we are not feeding h_0 explicitly, h_0 will be initialized to zeros by default\n",
    "    if self.debug:\n",
    "        print(\"RNN output (features from last layer of RNN for all timesteps) shape = \", out.size())\n",
    "    # classify based on the hidden representation after RNN processes the last token\n",
    "    out = out[-1]\n",
    "    if self.debug:\n",
    "        print(\"Tweet embeddings or RNN output (features from last layer of RNN for the last timestep only) shape = \", out.size())\n",
    "    out = self.activation_fn(out)\n",
    "    if self.debug:\n",
    "        print(\"ReLU output shape = \", out.size())\n",
    "    out = self.linear_layer(out)\n",
    "    if self.debug:\n",
    "        print(\"linear layer output shape = \", out.size())\n",
    "    out = self.softmax_layer(out) # accepts 2D or more dimensional inputs\n",
    "    if self.debug:\n",
    "        print(\"softmax layer output shape = \", out.size())\n",
    "    return out"
   ]
  },
  {
   "cell_type": "code",
   "execution_count": null,
   "metadata": {},
   "outputs": [],
   "source": []
  },
  {
   "cell_type": "markdown",
   "metadata": {},
   "source": [
    "Some additional hyperparameters for RNN"
   ]
  },
  {
   "cell_type": "code",
   "execution_count": 72,
   "metadata": {},
   "outputs": [],
   "source": [
    "# hyperparameters of RNN\n",
    "HIDDEN_SIZE = 50 # no. of units in the hidden layer\n",
    "NUM_LAYERS = 2 # no. of hidden layers"
   ]
  },
  {
   "cell_type": "code",
   "execution_count": null,
   "metadata": {},
   "outputs": [],
   "source": []
  },
  {
   "cell_type": "markdown",
   "metadata": {},
   "source": [
    "Rest of the pipeline looks similar to our feedforward neural networks code (except that we are using **torchtext** instead of **DataLoader**):"
   ]
  },
  {
   "cell_type": "code",
   "execution_count": 73,
   "metadata": {},
   "outputs": [],
   "source": [
    "from sklearn.metrics import accuracy_score\n",
    "\n",
    "def train(loader):\n",
    "    total_loss = 0.0\n",
    "    # iterate throught the data loader\n",
    "    num_sample = 0\n",
    "    for batch in loader:\n",
    "        # load the current batch\n",
    "        batch_input = batch.tweet\n",
    "        batch_output = batch.label\n",
    "        \n",
    "        batch_input = batch_input.to(device)\n",
    "        batch_output = batch_output.to(device)\n",
    "        # forward propagation\n",
    "        # pass the data through the model\n",
    "        model_outputs = model(batch_input)\n",
    "        # compute the loss\n",
    "        cur_loss = criterion(model_outputs, batch_output)\n",
    "        total_loss += cur_loss.item()\n",
    "\n",
    "        # backward propagation (compute the gradients and update the model)\n",
    "        # clear the buffer\n",
    "        optimizer.zero_grad()\n",
    "        # compute the gradients\n",
    "        cur_loss.backward()\n",
    "        # update the weights\n",
    "        optimizer.step()\n",
    "\n",
    "        num_sample += batch_output.shape[0]\n",
    "    return total_loss/num_sample\n",
    "\n",
    "# evaluation logic based on classification accuracy\n",
    "def evaluate(loader):\n",
    "    all_pred=[]\n",
    "    all_label = []\n",
    "    with torch.no_grad(): # impacts the autograd engine and deactivate it. reduces memory usage and speeds up computation\n",
    "        for batch in loader:\n",
    "             # load the current batch\n",
    "            batch_input = batch.tweet\n",
    "            batch_output = batch.label\n",
    "\n",
    "            batch_input = batch_input.to(device)\n",
    "            # forward propagation\n",
    "            # pass the data through the model\n",
    "            model_outputs = model(batch_input)\n",
    "            # identify the predicted class for each example in the batch\n",
    "            probabilities, predicted = torch.max(model_outputs.cpu().data, 1)\n",
    "            # put all the true labels and predictions to two lists\n",
    "            all_pred.extend(predicted)\n",
    "            all_label.extend(batch_output)\n",
    "            \n",
    "    accuracy = accuracy_score(all_label, all_pred)\n",
    "    return accuracy"
   ]
  },
  {
   "cell_type": "code",
   "execution_count": null,
   "metadata": {},
   "outputs": [],
   "source": []
  },
  {
   "cell_type": "markdown",
   "metadata": {},
   "source": [
    "Let us define the RNN model."
   ]
  },
  {
   "cell_type": "code",
   "execution_count": 74,
   "metadata": {},
   "outputs": [],
   "source": [
    "# define the model\n",
    "model = RNNmodel(EMBEDDING_SIZE, VOCAB_SIZE, NUM_CLASSES, HIDDEN_SIZE, NUM_LAYERS) \n",
    "model.to(device) # ship it to the right device\n",
    "\n",
    "# define the loss function (last node of the graph)\n",
    "criterion = nn.NLLLoss()"
   ]
  },
  {
   "cell_type": "markdown",
   "metadata": {},
   "source": [
    "Let us make a full forward propagation pass over a sample input batch to the RNN model. Closely pay attention to the shapes of intermediate layers (by turning on debug mode of the model)"
   ]
  },
  {
   "cell_type": "code",
   "execution_count": 75,
   "metadata": {},
   "outputs": [
    {
     "name": "stdout",
     "output_type": "stream",
     "text": [
      "sample input =  tensor([[ 191,    4, 1273,   49],\n",
      "        [  14,   82,    2,    0],\n",
      "        [   2,   73,  215,   18],\n",
      "        [ 598,  145,   48,  215],\n",
      "        [  21,   21,   21,   21]])\n",
      "sample output =  tensor([0, 1, 0, 0])\n",
      "input word indices shape =  torch.Size([5, 4])\n",
      "word embeddings shape =  torch.Size([5, 4, 300])\n",
      "RNN output (features from last layer of RNN for all timesteps) shape =  torch.Size([5, 4, 50])\n",
      "Tweet embeddings or RNN output (features from last layer of RNN for the last timestep only) shape =  torch.Size([4, 50])\n",
      "ReLU output shape =  torch.Size([4, 50])\n",
      "linear layer output shape =  torch.Size([4, 3])\n",
      "softmax layer output shape =  torch.Size([4, 3])\n",
      "model prediction shape =  torch.Size([4, 3])\n",
      "loss =  1.1206411123275757\n"
     ]
    }
   ],
   "source": [
    "# turn on the debug mode\n",
    "model.debug = True\n",
    "\n",
    "# print the sample input batch and labels\n",
    "print(\"sample input = \", tweets)\n",
    "print(\"sample output = \", labels)\n",
    "\n",
    "# feed the batch as input to the RNN model\n",
    "model_prediction = model(tweets)\n",
    "print('model prediction shape = ', model_prediction.size())\n",
    "\n",
    "# feed the model prediction and labels to the loss function\n",
    "loss = criterion(model_prediction, labels)\n",
    "print(\"loss = \", loss.item())\n",
    "\n",
    "# turn off the debug mode (as we go for training from now)\n",
    "model.debug = False"
   ]
  },
  {
   "cell_type": "markdown",
   "metadata": {},
   "source": [
    "**We need to create a new directory 'ckpt/' to store our model checkpoint.**"
   ]
  },
  {
   "cell_type": "code",
   "execution_count": 76,
   "metadata": {},
   "outputs": [],
   "source": [
    "import os\n",
    "if not os.path.exists(\"./ckpt\"): # check if the directory doesn't exist already\n",
    "    os.mkdir(\"./ckpt\")"
   ]
  },
  {
   "cell_type": "markdown",
   "metadata": {},
   "source": [
    "**Let us perform the training. We will save our model and optimizer at end of each epoch.**\n",
    "\n",
    "\n",
    "You can find more information of saving and loading model [here](https://pytorch.org/tutorials/beginner/saving_loading_models.html)."
   ]
  },
  {
   "cell_type": "code",
   "execution_count": 77,
   "metadata": {},
   "outputs": [
    {
     "name": "stdout",
     "output_type": "stream",
     "text": [
      "Epoch [1/5], Loss: 0.2480, Training Accuracy: 0.5162, Validation Accuracy: 0.4222\n",
      "Epoch [2/5], Loss: 0.2396, Training Accuracy: 0.5292, Validation Accuracy: 0.4242\n",
      "Epoch [3/5], Loss: 0.2492, Training Accuracy: 0.5033, Validation Accuracy: 0.4167\n",
      "Epoch [4/5], Loss: 0.2883, Training Accuracy: 0.4613, Validation Accuracy: 0.4087\n",
      "Epoch [5/5], Loss: 0.2877, Training Accuracy: 0.2855, Validation Accuracy: 0.2571\n"
     ]
    }
   ],
   "source": [
    "import warnings\n",
    "warnings.filterwarnings('ignore')\n",
    "\n",
    "# create an instance of SGD with required hyperparameters\n",
    "optimizer = torch.optim.SGD(model.parameters(), lr=LEARNING_RATE)\n",
    "\n",
    "# start the training\n",
    "for epoch in range(MAX_EPOCHS):\n",
    "    # train the model for one pass over the data\n",
    "    train_loss = train(train_iter)  \n",
    "    # compute the training accuracy\n",
    "    train_acc = evaluate(train_iter)\n",
    "    # compute the validation accuracy\n",
    "    val_acc = evaluate(val_iter)\n",
    "    \n",
    "    # print the loss for every epoch\n",
    "    print('Epoch [{}/{}], Loss: {:.4f}, Training Accuracy: {:.4f}, Validation Accuracy: {:.4f}'.format(epoch+1, MAX_EPOCHS, train_loss, train_acc, val_acc))\n",
    "    \n",
    "    # save model, optimizer, and number of epoch to a dictionary\n",
    "    model_save = {\n",
    "            'epoch': epoch,  # number of epoch\n",
    "            'model_state_dict': model.state_dict(), # model parameters \n",
    "            'optimizer_state_dict': optimizer.state_dict(), # save optimizer \n",
    "            'loss': train_loss # training loss\n",
    "            }\n",
    "    \n",
    "    # use torch.save to store \n",
    "    torch.save(model_save, \"./ckpt/model_{}.pt\".format(epoch))"
   ]
  },
  {
   "cell_type": "markdown",
   "metadata": {},
   "source": [
    "We trained the network only for 5 epochs, but it already overfits on validation set after epoch 2. \n",
    "In the coming sessions, we will look at methods to ``regularize`` the network (this will help us deal with overfitting)."
   ]
  },
  {
   "cell_type": "markdown",
   "metadata": {},
   "source": [
    "**Load model checkpoint** \n",
    "\n",
    "When we have a trained model checkpint, we can load it using `torch.load()`"
   ]
  },
  {
   "cell_type": "code",
   "execution_count": 78,
   "metadata": {},
   "outputs": [
    {
     "name": "stdout",
     "output_type": "stream",
     "text": [
      "RNNmodel(\n",
      "  (embedding): Embedding(3339, 300, sparse=True)\n",
      "  (rnn_layer): RNN(300, 50, num_layers=2)\n",
      "  (activation_fn): ReLU()\n",
      "  (linear_layer): Linear(in_features=50, out_features=3, bias=True)\n",
      "  (softmax_layer): LogSoftmax(dim=1)\n",
      ")\n"
     ]
    }
   ],
   "source": [
    "# define a new model\n",
    "model2 = RNNmodel(EMBEDDING_SIZE, VOCAB_SIZE, NUM_CLASSES, HIDDEN_SIZE, NUM_LAYERS) \n",
    "\n",
    "# load checkpoint \n",
    "checkpoint = torch.load(\"./ckpt/model_1.pt\") # loading the model obatined after 2nd epoch\n",
    "\n",
    "# assign the parameters of checkpoint to this new model\n",
    "model2.load_state_dict(checkpoint['model_state_dict'])\n",
    "model2.to(device)\n",
    "\n",
    "print(model2) # can be used for inference or for further training"
   ]
  },
  {
   "cell_type": "markdown",
   "metadata": {},
   "source": [
    "## GRUs\n",
    "\n",
    "Gated Recurrent Units (GRUs) are a variant of RNNs that use more complex units for activation. They are created to have more persistent memory thereby making them easier for RNNs to capture long-term dependencies. To learn the theory behind GRUs, we recommend: https://github.com/UBC-NLP/dlnlp2019/blob/master/slides/RNN.pdf \n",
    "\n",
    "GRU is defined by ``torch.nn.GRU`` module and its documentation can be fetched [here](https://pytorch.org/docs/stable/generated/torch.nn.GRU.html#gru). Now let us define the GRU module."
   ]
  },
  {
   "cell_type": "code",
   "execution_count": 79,
   "metadata": {},
   "outputs": [],
   "source": [
    "\"\"\"\n",
    "define the GRU module\n",
    "\"\"\"\n",
    "# first input - number of word vector dimensions/embeddings\n",
    "# second input - number of nodes in hidden layer (50, size of the hidden layer)\n",
    "# third input - number of recurrent layers (2)\n",
    "gru_rnn = nn.GRU(input_size=300, hidden_size=50, num_layers=2) # input_size, hidden_size, num_layers"
   ]
  },
  {
   "cell_type": "markdown",
   "metadata": {},
   "source": [
    "Similar to RNN, GRU module takes two inputs: *the initial hidden state for each element in the batch* (t=0) and the *input features* (``tweet_input_embeddings`` in our case).\n",
    "\n",
    "Let us feed both the initial hidden state and tweet embeddings to our GRU model."
   ]
  },
  {
   "cell_type": "code",
   "execution_count": 80,
   "metadata": {},
   "outputs": [],
   "source": [
    "\"\"\"\n",
    "forward propagation over the GRU model\n",
    "\"\"\"\n",
    "output, hn = gru_rnn(tweet_input_embeddings, h0) # h0 is optional input, defaults to tensor of 0's when not provided"
   ]
  },
  {
   "cell_type": "code",
   "execution_count": null,
   "metadata": {},
   "outputs": [],
   "source": []
  },
  {
   "cell_type": "markdown",
   "metadata": {},
   "source": [
    "``output`` tensor contains the output features $h_t$ from the last layer of the GRU"
   ]
  },
  {
   "cell_type": "code",
   "execution_count": 81,
   "metadata": {},
   "outputs": [
    {
     "name": "stdout",
     "output_type": "stream",
     "text": [
      "output size:  torch.Size([5, 4, 50])\n"
     ]
    }
   ],
   "source": [
    "# output = seq_len, batch, hidden_size (output features from last layer of GRU)\n",
    "print(\"output size: \", output.size())"
   ]
  },
  {
   "cell_type": "markdown",
   "metadata": {},
   "source": [
    "``hn`` is a tensor of shape (num_layers, batch_size, hidden_size / number of nodes in a hidden layer) containing the hidden state for last time step ``t = max_seq_len`` for the ``2 layered RNN``."
   ]
  },
  {
   "cell_type": "code",
   "execution_count": 82,
   "metadata": {},
   "outputs": [
    {
     "name": "stdout",
     "output_type": "stream",
     "text": [
      "last hidden state size:  torch.Size([2, 4, 50])\n"
     ]
    }
   ],
   "source": [
    "# h_n = num_layers, batch, hidden_size (hidden state for t=seq_len or hidden state at last timestep)\n",
    "print(\"last hidden state size: \", hn.size())"
   ]
  },
  {
   "cell_type": "markdown",
   "metadata": {},
   "source": [
    "Similar to RNN, you can compute the final tweet representation (representation from last hidden state for each tweet) as follows."
   ]
  },
  {
   "cell_type": "code",
   "execution_count": 83,
   "metadata": {},
   "outputs": [
    {
     "name": "stdout",
     "output_type": "stream",
     "text": [
      "tweet output embeddings size:  torch.Size([4, 50])\n"
     ]
    }
   ],
   "source": [
    "tweet_output_embeddings = output[-1,:,:] # -1 fetches the embeddings from the last timestep\n",
    "print(\"tweet output embeddings size: \", tweet_output_embeddings.size())\n",
    "# first dimension - number of tweets in the batch (5)\n",
    "# second dimension - number of features in hidden state h_t (20, size of the hidden layer)"
   ]
  },
  {
   "cell_type": "markdown",
   "metadata": {},
   "source": [
    "## LSTMs\n",
    "\n",
    "Long short-term memory (LSTMs) are a variant of RNNs that use more complex units for activation. Similar to the spirit of GRU, they are created to have more persistent memory thereby making them easier for RNNs to capture long-term dependencies. To learn the theory behind GRUs, we recommend: https://github.com/UBC-NLP/dlnlp2019/blob/master/slides/RNN.pdf \n",
    "\n",
    "LSTM is defined by ``torch.nn.LSTM`` module and its documentation can be fetched [here](https://pytorch.org/docs/stable/generated/torch.nn.LSTM.html#lstm). Now let us define the LSTM module."
   ]
  },
  {
   "cell_type": "code",
   "execution_count": 84,
   "metadata": {},
   "outputs": [],
   "source": [
    "\"\"\"\n",
    "define the LSTM module\n",
    "\"\"\"\n",
    "# first input - number of features in x (300, size of the word embedding)\n",
    "# second input - number of number of nodes in a hidden layer (50)\n",
    "# third input - number of recurrent layers (2)\n",
    "lstm_rnn = nn.LSTM(input_size=300, hidden_size=50, num_layers=2) # input_size, hidden_size, num_layers"
   ]
  },
  {
   "cell_type": "markdown",
   "metadata": {},
   "source": [
    "Unlike RNN and GRU, LSTM module takes **three inputs**: the **initial hidden state** for each element in the batch (t=0), the **input features** (tweet_input_embeddings in our case) and the **initial cell state** for each element in the batch.\n",
    "\n",
    "Let us construct the initial cell state (this construction is similar to that of initial hidden state)"
   ]
  },
  {
   "cell_type": "code",
   "execution_count": 85,
   "metadata": {},
   "outputs": [],
   "source": [
    "\"\"\"\n",
    "cell state at time-step 0 (h_0)\n",
    "\"\"\"\n",
    "# first dimension - number of LSTM layers (2)\n",
    "# second dimension - batch_size (# of tweets/examples/sentences)\n",
    "# third dimension - hidden_size / number of nodes in a hidden layer (50)\n",
    "c0 = torch.randn(2, 4, 50)"
   ]
  },
  {
   "cell_type": "markdown",
   "metadata": {},
   "source": [
    "Let us feed the initial hidden state, initial cell state and tweet embeddings to our LSTM model."
   ]
  },
  {
   "cell_type": "code",
   "execution_count": 86,
   "metadata": {},
   "outputs": [],
   "source": [
    "\"\"\"\n",
    "forward propagation over the LSTM model\n",
    "\"\"\"\n",
    "output, (hn, cn) = lstm_rnn(tweet_input_embeddings, (h0, c0)) # h0 and c0 is optional input, defaults to tensor of 0's when not provided"
   ]
  },
  {
   "cell_type": "code",
   "execution_count": null,
   "metadata": {},
   "outputs": [],
   "source": []
  },
  {
   "cell_type": "markdown",
   "metadata": {},
   "source": [
    "``output`` tensor contains the output features $h_t$ from the last layer of the LSTM"
   ]
  },
  {
   "cell_type": "code",
   "execution_count": 87,
   "metadata": {},
   "outputs": [
    {
     "name": "stdout",
     "output_type": "stream",
     "text": [
      "output size:  torch.Size([5, 4, 50])\n"
     ]
    }
   ],
   "source": [
    "# output = seq_len, batch_size, hidden_size (output features from last layer of LSTM)\n",
    "print(\"output size: \", output.size())"
   ]
  },
  {
   "cell_type": "markdown",
   "metadata": {},
   "source": [
    "``hn`` is a tensor of shape (num_layers, batch, hidden_size) containing the hidden state for t = seq_len"
   ]
  },
  {
   "cell_type": "code",
   "execution_count": 88,
   "metadata": {},
   "outputs": [
    {
     "name": "stdout",
     "output_type": "stream",
     "text": [
      "last hidden state size:  torch.Size([2, 4, 50])\n"
     ]
    }
   ],
   "source": [
    "# h_n = num_layers, batch, hidden_size (hidden state for t=seq_len or hidden state at last timestep)\n",
    "print(\"last hidden state size: \", hn.size())"
   ]
  },
  {
   "cell_type": "markdown",
   "metadata": {},
   "source": [
    "``cn`` is a tensor of shape (num_layers, batch, hidden_size) containing the cell state for t = seq_len."
   ]
  },
  {
   "cell_type": "code",
   "execution_count": 89,
   "metadata": {},
   "outputs": [
    {
     "name": "stdout",
     "output_type": "stream",
     "text": [
      "last cell state size:  torch.Size([2, 4, 50])\n"
     ]
    }
   ],
   "source": [
    "# c_n = num_layers, batch_size, hidden_size (cell state for t=seq_len or cell state at last timestep)\n",
    "print(\"last cell state size: \", hn.size())"
   ]
  },
  {
   "cell_type": "markdown",
   "metadata": {},
   "source": [
    "Similar to RNN and GRU, you can compute the final tweet representation (representation from last hidden state for each tweet) as follows."
   ]
  },
  {
   "cell_type": "code",
   "execution_count": 90,
   "metadata": {},
   "outputs": [
    {
     "name": "stdout",
     "output_type": "stream",
     "text": [
      "tweet output embeddings size:  torch.Size([4, 50])\n"
     ]
    }
   ],
   "source": [
    "tweet_output_embeddings = output[-1,:,:] # -1 fetches the embeddings from the last timestep\n",
    "print(\"tweet output embeddings size: \", tweet_output_embeddings.size())\n",
    "# first dimension - number of tweets in the batch (4)\n",
    "# second dimension - number of features in hidden state h_t (50, size of the hidden layer)"
   ]
  },
  {
   "cell_type": "markdown",
   "metadata": {},
   "source": [
    "That's it!"
   ]
  },
  {
   "cell_type": "code",
   "execution_count": null,
   "metadata": {},
   "outputs": [],
   "source": []
  }
 ],
 "metadata": {
  "kernelspec": {
   "display_name": "Python (myenv)",
   "language": "python",
   "name": "tony"
  },
  "language_info": {
   "codemirror_mode": {
    "name": "ipython",
    "version": 3
   },
   "file_extension": ".py",
   "mimetype": "text/x-python",
   "name": "python",
   "nbconvert_exporter": "python",
   "pygments_lexer": "ipython3",
   "version": "3.8.5"
  }
 },
 "nbformat": 4,
 "nbformat_minor": 4
}
